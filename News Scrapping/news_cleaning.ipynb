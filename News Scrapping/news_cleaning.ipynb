{
 "cells": [
  {
   "cell_type": "code",
   "execution_count": 1,
   "metadata": {},
   "outputs": [],
   "source": [
    "import pandas as pd"
   ]
  },
  {
   "cell_type": "code",
   "execution_count": 94,
   "metadata": {},
   "outputs": [
    {
     "data": {
      "text/html": [
       "<div>\n",
       "<style scoped>\n",
       "    .dataframe tbody tr th:only-of-type {\n",
       "        vertical-align: middle;\n",
       "    }\n",
       "\n",
       "    .dataframe tbody tr th {\n",
       "        vertical-align: top;\n",
       "    }\n",
       "\n",
       "    .dataframe thead th {\n",
       "        text-align: right;\n",
       "    }\n",
       "</style>\n",
       "<table border=\"1\" class=\"dataframe\">\n",
       "  <thead>\n",
       "    <tr style=\"text-align: right;\">\n",
       "      <th></th>\n",
       "      <th>Links</th>\n",
       "      <th>Title</th>\n",
       "      <th>Description</th>\n",
       "      <th>Date</th>\n",
       "      <th>Status</th>\n",
       "      <th>CleanedTweet</th>\n",
       "    </tr>\n",
       "  </thead>\n",
       "  <tbody>\n",
       "    <tr>\n",
       "      <th>0</th>\n",
       "      <td>https://www.nation.com.pk/14-Mar-2024/delegati...</td>\n",
       "      <td>Delegation from Lahore University Media Studie...</td>\n",
       "      <td>Share on Facebook         Share on Twitter    ...</td>\n",
       "      <td>2024-03-14 00:00:00</td>\n",
       "      <td>True</td>\n",
       "      <td>Share on Facebook         Share on Twitter    ...</td>\n",
       "    </tr>\n",
       "    <tr>\n",
       "      <th>1</th>\n",
       "      <td>https://www.nation.com.pk/14-Mar-2024/kh-salma...</td>\n",
       "      <td>Kh Salman vows comprehensive health sector imp...</td>\n",
       "      <td>Share on Facebook         Share on Twitter    ...</td>\n",
       "      <td>2024-03-14 00:00:00</td>\n",
       "      <td>True</td>\n",
       "      <td>Share on Facebook         Share on Twitter    ...</td>\n",
       "    </tr>\n",
       "    <tr>\n",
       "      <th>2</th>\n",
       "      <td>https://www.nation.com.pk/14-Mar-2024/give-zak...</td>\n",
       "      <td>Give Zakat, donations for welfare of deservin...</td>\n",
       "      <td>Share on Facebook         Share on Twitter    ...</td>\n",
       "      <td>2024-03-14 00:00:00</td>\n",
       "      <td>True</td>\n",
       "      <td>Share on Facebook         Share on Twitter    ...</td>\n",
       "    </tr>\n",
       "    <tr>\n",
       "      <th>3</th>\n",
       "      <td>https://www.nation.com.pk/14-Mar-2024/minister...</td>\n",
       "      <td>Minister reviews mining issue</td>\n",
       "      <td>Share on Facebook         Share on Twitter    ...</td>\n",
       "      <td>2024-03-14 00:00:00</td>\n",
       "      <td>True</td>\n",
       "      <td>Share on Facebook         Share on Twitter    ...</td>\n",
       "    </tr>\n",
       "    <tr>\n",
       "      <th>4</th>\n",
       "      <td>https://www.nation.com.pk/14-Mar-2024/drizzle-...</td>\n",
       "      <td>Drizzle in city, more rain with few heavy fal...</td>\n",
       "      <td>Share on Facebook         Share on Twitter    ...</td>\n",
       "      <td>2024-03-14 00:00:00</td>\n",
       "      <td>True</td>\n",
       "      <td>Share on Facebook         Share on Twitter    ...</td>\n",
       "    </tr>\n",
       "  </tbody>\n",
       "</table>\n",
       "</div>"
      ],
      "text/plain": [
       "                                               Links  \\\n",
       "0  https://www.nation.com.pk/14-Mar-2024/delegati...   \n",
       "1  https://www.nation.com.pk/14-Mar-2024/kh-salma...   \n",
       "2  https://www.nation.com.pk/14-Mar-2024/give-zak...   \n",
       "3  https://www.nation.com.pk/14-Mar-2024/minister...   \n",
       "4  https://www.nation.com.pk/14-Mar-2024/drizzle-...   \n",
       "\n",
       "                                               Title  \\\n",
       "0  Delegation from Lahore University Media Studie...   \n",
       "1  Kh Salman vows comprehensive health sector imp...   \n",
       "2   Give Zakat, donations for welfare of deservin...   \n",
       "3                      Minister reviews mining issue   \n",
       "4   Drizzle in city, more rain with few heavy fal...   \n",
       "\n",
       "                                         Description                 Date  \\\n",
       "0  Share on Facebook         Share on Twitter    ...  2024-03-14 00:00:00   \n",
       "1  Share on Facebook         Share on Twitter    ...  2024-03-14 00:00:00   \n",
       "2  Share on Facebook         Share on Twitter    ...  2024-03-14 00:00:00   \n",
       "3  Share on Facebook         Share on Twitter    ...  2024-03-14 00:00:00   \n",
       "4  Share on Facebook         Share on Twitter    ...  2024-03-14 00:00:00   \n",
       "\n",
       "   Status                                       CleanedTweet  \n",
       "0    True  Share on Facebook         Share on Twitter    ...  \n",
       "1    True  Share on Facebook         Share on Twitter    ...  \n",
       "2    True  Share on Facebook         Share on Twitter    ...  \n",
       "3    True  Share on Facebook         Share on Twitter    ...  \n",
       "4    True  Share on Facebook         Share on Twitter    ...  "
      ]
     },
     "execution_count": 94,
     "metadata": {},
     "output_type": "execute_result"
    }
   ],
   "source": [
    "df_org = pd.read_excel(\"clean_news_data.xlsx\")\n",
    "df_org.drop(columns=['Unnamed: 0'], inplace=True)\n",
    "df_org.head()"
   ]
  },
  {
   "cell_type": "code",
   "execution_count": 109,
   "metadata": {},
   "outputs": [],
   "source": [
    "df = df_org.copy()"
   ]
  },
  {
   "cell_type": "code",
   "execution_count": 111,
   "metadata": {},
   "outputs": [
    {
     "data": {
      "text/plain": [
       "Links           0\n",
       "Title           0\n",
       "Description     1\n",
       "Date            0\n",
       "Status          0\n",
       "CleanedTweet    1\n",
       "dtype: int64"
      ]
     },
     "execution_count": 111,
     "metadata": {},
     "output_type": "execute_result"
    }
   ],
   "source": [
    "df.isnull().sum()"
   ]
  },
  {
   "cell_type": "code",
   "execution_count": 112,
   "metadata": {},
   "outputs": [
    {
     "data": {
      "text/plain": [
       "Links           0\n",
       "Title           0\n",
       "Description     0\n",
       "Date            0\n",
       "Status          0\n",
       "CleanedTweet    0\n",
       "dtype: int64"
      ]
     },
     "execution_count": 112,
     "metadata": {},
     "output_type": "execute_result"
    }
   ],
   "source": [
    "df.dropna(subset=[\"CleanedTweet\"], inplace=True)\n",
    "df.isnull().sum()"
   ]
  },
  {
   "cell_type": "code",
   "execution_count": 125,
   "metadata": {},
   "outputs": [
    {
     "name": "stdout",
     "output_type": "stream",
     "text": [
      "0\n"
     ]
    }
   ],
   "source": [
    "import unicodedata\n",
    "import re\n",
    "\n",
    "# word_to_remove = ' - ', \n",
    "# word_to_remove = ' LAHORE   -   '\n",
    "# word_to_remove = ' -'\n",
    "# word_to_remove = '\\xa0\\xa0 -\\xa0 '\n",
    "\n",
    "words_to_remove = [' - '] \n",
    "# words_to_remove = [' PESHAWAR - ', ' LAHORE - ', ' ATTOCK - ', ' Peshawar - ', ' ISLAMANAD - ', ' HYDERABAD - ', ' SUKKUR - ', ' KARACHI - ',  'RAWALPINDI - ',  'ISLAMABAD - ',\\\n",
    "                #    ' FAISALABAD - ', ' KASHMORE - ', 'QUETTA - ', 'LARKANA - ', 'GAZA/TEL AVIV - ']\n",
    "word_to_remove2 = ' Tags:'\n",
    "\n",
    "\n",
    "count = 0\n",
    "word = []\n",
    "\n",
    "def remove_code(text):\n",
    "    global count  # Declare count as global\n",
    "\n",
    "    clean_text = re.sub(r'\\s+', ' ', text)  # Remove extra spaces\n",
    "    clean_text = re.sub(r'\\xa0\\xa0 -\\xa0', '', clean_text)  # remove text: \\xa0\\xa0 -\\xa0\n",
    "    clean_text = re.sub(r'\\xad', '', clean_text)  \n",
    "    # clean_text = re.sub(r'Share on Facebook Share on Twitter ', '', clean_text) \n",
    "\n",
    "    if \"Share on Facebook Share on Twitter \" in clean_text:\n",
    "    # if \" Tags: \" in clean_text:\n",
    "        try:\n",
    "            # count += 1\n",
    "            # clean_text = clean_text.split(word_to_remove2, 1)[0]\n",
    "            # word.append(clean_text.strip())\n",
    "            \n",
    "            words = clean_text.split()\n",
    "            # Count the number of words\n",
    "            if words[11] == \"-\":\n",
    "                count += 1\n",
    "                clean_text = clean_text.split(\"-\", 1)[1]\n",
    "                clean_text = clean_text.split(word_to_remove2, 1)[0]\n",
    "                word.append(clean_text.strip())\n",
    "                return clean_text \n",
    "        except:\n",
    "            pass\n",
    "        \n",
    "    return text\n",
    "    \n",
    "\n",
    "    # for word_to_remove in words_to_remove:\n",
    "\n",
    "    #     if word_to_remove in clean_text:\n",
    "    #         count += 1\n",
    "    #         # clean_text = clean_text.split(word_to_remove, 1)[1]  # Split text using word_to_remove1 as delimiter and take the second part onwards\n",
    "    #         # clean_text = clean_text.split(word_to_remove2, 1)[0]  # Split text using word_to_remove2 as delimiter and take the first part only\n",
    "    #         word.append(clean_text.strip())  # Append cleaned text to the list after removing leading/trailing whitespace\n",
    "\n",
    "    #         # return clean_text.strip()\n",
    "    #         return text\n",
    "    # else:\n",
    "    #     return text\n",
    "\n",
    "# Apply the function to the 'text' column\n",
    "df['CleanedTweet'] = df['CleanedTweet'].apply(remove_code)\n",
    "\n",
    "print(count)\n",
    "for i in word[:20]:\n",
    "    print(i)"
   ]
  },
  {
   "cell_type": "code",
   "execution_count": 126,
   "metadata": {},
   "outputs": [
    {
     "data": {
      "text/plain": [
       "0     A delegation from Lahore University Media Stu...\n",
       "1     Punjab Minister for Specialised Healthcare an...\n",
       "2     Founder and General Secretary of Dr. AQ Khan ...\n",
       "3     Punjab Minister for Mines and Minerals Depart...\n",
       "4     Various parts of the provincial capital recei...\n",
       "Name: CleanedTweet, dtype: object"
      ]
     },
     "execution_count": 126,
     "metadata": {},
     "output_type": "execute_result"
    }
   ],
   "source": [
    "df['CleanedTweet'].head()"
   ]
  },
  {
   "cell_type": "code",
   "execution_count": 145,
   "metadata": {},
   "outputs": [
    {
     "name": "stdout",
     "output_type": "stream",
     "text": [
      "0\n"
     ]
    }
   ],
   "source": [
    "word_to_search = 'window.unibots = window.unibots || { cmd: [] }; unibots.cmd.push(function() { unibotsPlayer(\"pakobserver.net_1705663781000\") });'\n",
    "count = 0\n",
    "word = []\n",
    "\n",
    "def search_text(text):\n",
    "    global count\n",
    "    if word_to_search in text:\n",
    "        count += 1\n",
    "        escaped_word = re.escape(word_to_search)  # Escape special characters\n",
    "        clean_text = re.sub(fr'{escaped_word}', '', text)\n",
    "        clean_text = re.sub(r'\\s+', ' ', clean_text)  # Remove extra spaces\n",
    "        word.append(clean_text.strip())\n",
    "        return clean_text\n",
    "            \n",
    "    return text\n",
    "\n",
    "df['CleanedTweet'] = df['CleanedTweet'].apply(search_text)\n",
    "\n",
    "print(count)"
   ]
  },
  {
   "cell_type": "code",
   "execution_count": 144,
   "metadata": {},
   "outputs": [
    {
     "name": "stdout",
     "output_type": "stream",
     "text": [
      "The Pakistan National Council of the Arts (PNCA) on Thursday unveiled a captivating Art Exhibition at the National Art Gallery in Islamabad. The exhibition features an array of exquisite calligraphic artworks from PNCA’s Permanent Collection, Director PR Bilal Karim said while talking to APP. The art enthusiasts can immerse themselves in the mesmerizing world of calligraphy as they explore works by renowned Masters such as Sadequain, Ahmed Khan, Hanif Ramay, Rana Riaz, Aslam Kamal, and Amin Gulgee. The exhibition boasts a rich tapestry of traditional calligraphy by artists like Elahi Buksh Matee, Nasir Khan Seemab, Azeem Iqbal, Shabbir Zia, and Humayun Bangash, among others. The visitors are treated to a diverse range of mediums and techniques, showcasing the versatility and creativity inherent in calligraphic artistry from classical styles to contemporary interpretations, the exhibition offers something for every discerning viewer. The exhibition is not just a fleeting experience, it is a journey that extends throughout the month of Ramazan. Patrons can relish the beauty of calligraphy daily from 9:00 am to 3:00 pm, with Fridays and Saturdays marked as days of rest. He said that beyond its aesthetic appeal, the exhibition is serving as a platform for cultural appreciation and understanding through the timeless art of calligraphy, visitors can delve into the rich heritage and traditions of Pakistan. The PNCA extended a warm invitation to all art enthusiasts, locals, and tourists alike, to immerse themselves in the captivating world of calligraphy, whether you’re a seasoned aficionado or a curious newcomer, there’s something to enchant and inspire at this remarkable exhibition, he added. The art enthusiasts were urged to avail this great opportunity to observe the spirit of Ramazan Karim through the lens of art and culture in Gallery No-3 at the National Art Gallery in Islamabad and embark on a journey of beauty, tradition and creativity.\n"
     ]
    }
   ],
   "source": [
    "print(word[0])"
   ]
  },
  {
   "cell_type": "code",
   "execution_count": 149,
   "metadata": {},
   "outputs": [
    {
     "name": "stdout",
     "output_type": "stream",
     "text": [
      "(11995, 6)\n"
     ]
    },
    {
     "data": {
      "text/html": [
       "<div>\n",
       "<style scoped>\n",
       "    .dataframe tbody tr th:only-of-type {\n",
       "        vertical-align: middle;\n",
       "    }\n",
       "\n",
       "    .dataframe tbody tr th {\n",
       "        vertical-align: top;\n",
       "    }\n",
       "\n",
       "    .dataframe thead th {\n",
       "        text-align: right;\n",
       "    }\n",
       "</style>\n",
       "<table border=\"1\" class=\"dataframe\">\n",
       "  <thead>\n",
       "    <tr style=\"text-align: right;\">\n",
       "      <th></th>\n",
       "      <th>Links</th>\n",
       "      <th>Title</th>\n",
       "      <th>Description</th>\n",
       "      <th>Date</th>\n",
       "      <th>Status</th>\n",
       "      <th>CleanedTweet</th>\n",
       "    </tr>\n",
       "  </thead>\n",
       "  <tbody>\n",
       "    <tr>\n",
       "      <th>0</th>\n",
       "      <td>https://www.nation.com.pk/14-Mar-2024/delegati...</td>\n",
       "      <td>Delegation from Lahore University Media Studie...</td>\n",
       "      <td>Share on Facebook         Share on Twitter    ...</td>\n",
       "      <td>2024-03-14 00:00:00</td>\n",
       "      <td>True</td>\n",
       "      <td>A delegation from Lahore University Media Stu...</td>\n",
       "    </tr>\n",
       "    <tr>\n",
       "      <th>1</th>\n",
       "      <td>https://www.nation.com.pk/14-Mar-2024/kh-salma...</td>\n",
       "      <td>Kh Salman vows comprehensive health sector imp...</td>\n",
       "      <td>Share on Facebook         Share on Twitter    ...</td>\n",
       "      <td>2024-03-14 00:00:00</td>\n",
       "      <td>True</td>\n",
       "      <td>Punjab Minister for Specialised Healthcare an...</td>\n",
       "    </tr>\n",
       "    <tr>\n",
       "      <th>2</th>\n",
       "      <td>https://www.nation.com.pk/14-Mar-2024/give-zak...</td>\n",
       "      <td>Give Zakat, donations for welfare of deservin...</td>\n",
       "      <td>Share on Facebook         Share on Twitter    ...</td>\n",
       "      <td>2024-03-14 00:00:00</td>\n",
       "      <td>True</td>\n",
       "      <td>Founder and General Secretary of Dr. AQ Khan ...</td>\n",
       "    </tr>\n",
       "    <tr>\n",
       "      <th>3</th>\n",
       "      <td>https://www.nation.com.pk/14-Mar-2024/minister...</td>\n",
       "      <td>Minister reviews mining issue</td>\n",
       "      <td>Share on Facebook         Share on Twitter    ...</td>\n",
       "      <td>2024-03-14 00:00:00</td>\n",
       "      <td>True</td>\n",
       "      <td>Punjab Minister for Mines and Minerals Depart...</td>\n",
       "    </tr>\n",
       "    <tr>\n",
       "      <th>4</th>\n",
       "      <td>https://www.nation.com.pk/14-Mar-2024/drizzle-...</td>\n",
       "      <td>Drizzle in city, more rain with few heavy fal...</td>\n",
       "      <td>Share on Facebook         Share on Twitter    ...</td>\n",
       "      <td>2024-03-14 00:00:00</td>\n",
       "      <td>True</td>\n",
       "      <td>Various parts of the provincial capital recei...</td>\n",
       "    </tr>\n",
       "  </tbody>\n",
       "</table>\n",
       "</div>"
      ],
      "text/plain": [
       "                                               Links  \\\n",
       "0  https://www.nation.com.pk/14-Mar-2024/delegati...   \n",
       "1  https://www.nation.com.pk/14-Mar-2024/kh-salma...   \n",
       "2  https://www.nation.com.pk/14-Mar-2024/give-zak...   \n",
       "3  https://www.nation.com.pk/14-Mar-2024/minister...   \n",
       "4  https://www.nation.com.pk/14-Mar-2024/drizzle-...   \n",
       "\n",
       "                                               Title  \\\n",
       "0  Delegation from Lahore University Media Studie...   \n",
       "1  Kh Salman vows comprehensive health sector imp...   \n",
       "2   Give Zakat, donations for welfare of deservin...   \n",
       "3                      Minister reviews mining issue   \n",
       "4   Drizzle in city, more rain with few heavy fal...   \n",
       "\n",
       "                                         Description                 Date  \\\n",
       "0  Share on Facebook         Share on Twitter    ...  2024-03-14 00:00:00   \n",
       "1  Share on Facebook         Share on Twitter    ...  2024-03-14 00:00:00   \n",
       "2  Share on Facebook         Share on Twitter    ...  2024-03-14 00:00:00   \n",
       "3  Share on Facebook         Share on Twitter    ...  2024-03-14 00:00:00   \n",
       "4  Share on Facebook         Share on Twitter    ...  2024-03-14 00:00:00   \n",
       "\n",
       "   Status                                       CleanedTweet  \n",
       "0    True   A delegation from Lahore University Media Stu...  \n",
       "1    True   Punjab Minister for Specialised Healthcare an...  \n",
       "2    True   Founder and General Secretary of Dr. AQ Khan ...  \n",
       "3    True   Punjab Minister for Mines and Minerals Depart...  \n",
       "4    True   Various parts of the provincial capital recei...  "
      ]
     },
     "execution_count": 149,
     "metadata": {},
     "output_type": "execute_result"
    }
   ],
   "source": [
    "print(df.shape)\n",
    "df.head()"
   ]
  },
  {
   "cell_type": "code",
   "execution_count": 152,
   "metadata": {},
   "outputs": [],
   "source": [
    "df_new = df.copy()\n",
    "df_new1 = df.copy()"
   ]
  },
  {
   "cell_type": "code",
   "execution_count": 147,
   "metadata": {},
   "outputs": [
    {
     "name": "stdout",
     "output_type": "stream",
     "text": [
      "Collecting langdetect\n",
      "  Downloading langdetect-1.0.9.tar.gz (981 kB)\n",
      "     -------------------------------------- 981.5/981.5 kB 2.2 MB/s eta 0:00:00\n",
      "  Preparing metadata (setup.py): started\n",
      "  Preparing metadata (setup.py): finished with status 'done'\n",
      "Requirement already satisfied: six in c:\\users\\hammad\\documents\\python_envs\\bert_trans_env\\lib\\site-packages (from langdetect) (1.16.0)\n",
      "Building wheels for collected packages: langdetect\n",
      "  Building wheel for langdetect (setup.py): started\n",
      "  Building wheel for langdetect (setup.py): finished with status 'done'\n",
      "  Created wheel for langdetect: filename=langdetect-1.0.9-py3-none-any.whl size=993253 sha256=3477ab4e3806ca2408aec97a1156136554bc34fe537d00f5debde868d683c8a1\n",
      "  Stored in directory: c:\\users\\hammad\\appdata\\local\\pip\\cache\\wheels\\c4\\16\\af\\1889804d8b7c0c041cadee8e29673a938a332acbf2865c70a1\n",
      "Successfully built langdetect\n",
      "Installing collected packages: langdetect\n",
      "Successfully installed langdetect-1.0.9\n"
     ]
    },
    {
     "name": "stderr",
     "output_type": "stream",
     "text": [
      "\n",
      "[notice] A new release of pip available: 22.3.1 -> 24.0\n",
      "[notice] To update, run: python.exe -m pip install --upgrade pip\n"
     ]
    }
   ],
   "source": [
    "! pip install langdetect"
   ]
  },
  {
   "cell_type": "code",
   "execution_count": 150,
   "metadata": {},
   "outputs": [
    {
     "data": {
      "text/plain": [
       "(10830, 6)"
      ]
     },
     "execution_count": 150,
     "metadata": {},
     "output_type": "execute_result"
    }
   ],
   "source": [
    "from langdetect import detect\n",
    "\n",
    "# Function to detect language\n",
    "def detect_language(text):\n",
    "    try:\n",
    "        lang = detect(text)\n",
    "        return lang == 'en'\n",
    "    except:\n",
    "        return False  # Handle cases where language detection fails\n",
    "\n",
    "# Apply language detection function to filter English records\n",
    "df_new = df_new[df_new['CleanedTweet'].apply(detect_language)]\n",
    "df_new.shape"
   ]
  },
  {
   "cell_type": "code",
   "execution_count": 153,
   "metadata": {},
   "outputs": [
    {
     "data": {
      "text/plain": [
       "(11995, 6)"
      ]
     },
     "execution_count": 153,
     "metadata": {},
     "output_type": "execute_result"
    }
   ],
   "source": [
    "# Function to remove non-English characters\n",
    "def remove_non_english(text):\n",
    "    # Use regex to filter out non-English characters, excluding digits\n",
    "    english_text = re.sub(r'[^\\x00-\\x7F\\d]+', ' ', text)\n",
    "    return english_text\n",
    "\n",
    "# Apply the function to the 'text' column\n",
    "df_new1['CleanedTweet'] = df_new1['CleanedTweet'].apply(remove_non_english)\n",
    "df_new1.shape"
   ]
  },
  {
   "cell_type": "code",
   "execution_count": 154,
   "metadata": {},
   "outputs": [
    {
     "data": {
      "text/plain": [
       "Links           0\n",
       "Title           0\n",
       "Description     0\n",
       "Date            0\n",
       "Status          0\n",
       "CleanedTweet    0\n",
       "dtype: int64"
      ]
     },
     "execution_count": 154,
     "metadata": {},
     "output_type": "execute_result"
    }
   ],
   "source": [
    "df_new1.isnull().sum()"
   ]
  },
  {
   "cell_type": "code",
   "execution_count": 161,
   "metadata": {},
   "outputs": [],
   "source": [
    "# Function to decode text\n",
    "def decode_text(text):\n",
    "    # Decode the text using UTF-8 encoding\n",
    "    decoded_text = text.encode().decode('utf-8')\n",
    "    return decoded_text\n",
    "\n",
    "# Apply the function to the 'text' column\n",
    "df_new['CleanedTweet'] = df_new['CleanedTweet'].apply(decode_text)"
   ]
  },
  {
   "cell_type": "code",
   "execution_count": 163,
   "metadata": {},
   "outputs": [
    {
     "data": {
      "text/plain": [
       "(11995, 6)"
      ]
     },
     "execution_count": 163,
     "metadata": {},
     "output_type": "execute_result"
    }
   ],
   "source": [
    "df_new.shape"
   ]
  },
  {
   "cell_type": "code",
   "execution_count": 151,
   "metadata": {},
   "outputs": [],
   "source": [
    "df_new.to_csv(\"cleaned_news_data.csv\", index=False)"
   ]
  },
  {
   "cell_type": "code",
   "execution_count": 164,
   "metadata": {},
   "outputs": [
    {
     "data": {
      "text/plain": [
       "(10830, 6)"
      ]
     },
     "execution_count": 164,
     "metadata": {},
     "output_type": "execute_result"
    }
   ],
   "source": [
    "df1 = pd.read_csv(\"cleaned_news_data.csv\")\n",
    "df1.shape"
   ]
  },
  {
   "cell_type": "code",
   "execution_count": 166,
   "metadata": {},
   "outputs": [
    {
     "data": {
      "text/plain": [
       "(10830, 6)"
      ]
     },
     "execution_count": 166,
     "metadata": {},
     "output_type": "execute_result"
    }
   ],
   "source": [
    "df1['CleanedTweet'] = df1['CleanedTweet'].apply(decode_text)\n",
    "df1.shape"
   ]
  },
  {
   "cell_type": "code",
   "execution_count": 176,
   "metadata": {},
   "outputs": [
    {
     "data": {
      "text/plain": [
       "'LONDON: Britain’s Labour dealt a crushing blow to Prime Minister Rishi Sunak’s Conservatives on Friday, winning contests for two new lawmakers in votes that suggested the opposition party was on track to win a national election later this year. The double defeat underlined the flagging fortunes of the governing party and will do little to silence Sunak’s critics, who fear the Conservatives could face an all-but wipe-out at the national election and want him to change course. The 43-year-old former investment banker has struggled to restore his party’s fortunes despite recasting himself at various points over the past year as a bold reformer, a stable technocrat and now as someone who needs more time “to stick to the plan” because, he says, that plan is working. But with the Labour Party ahead in the polls, Sunak might well need to bend to the demands of some in his party to offer an increasingly disaffected electorate a more right-wing conservative agenda before the election. “By winning in these Tory strongholds, we can confidently say that Labour is back in the service of working people and we will work tirelessly to deliver for them,” Labour leader Keir Starmer said in a statement. “The Tories (Conservatives) have failed. Rishi’s recession proves that. That’s why we’ve seen so many former Conservative voters switching directly to this changed Labour Party.” Labour overturned a hefty Conservative majority in the central English town of Wellingborough to win the parliamentary seat with 13,844 votes against 7,408 in what polling expert John Curtice described as the governing party’s “worst ever by-election reverse.” In another threat to Sunak’s party, the candidate for the right-wing Reform Party won 3,919 votes, a sign, Curtice said, it had “now entered the electoral battle in a serious way … that potentially adds to the Conservatives’ difficulties”. In Kingswood, southwestern England, Labour won with 11,176 votes against 8,675 for the Conservative candidate. The Conservatives have only won four out of 21 by-elections since the last national election in 2019. While so-called by-elections are often lost by the governing party, the scale of the defeat in two parliamentary seats the Conservatives have held for years piles pressure on Sunak, who became prime minister just over a year ago. The challenge from the Reform Party could also worry some in the governing party. Senior Conservative lawmaker Jacob Rees-Mogg said at least in Kingswood, if Reform supporters had voted for the governing party as part of the “Conservative family”, the Conservatives would have held the parliamentary seat. It appeared that the Conservatives had all but written off the two by-elections.'"
      ]
     },
     "execution_count": 176,
     "metadata": {},
     "output_type": "execute_result"
    }
   ],
   "source": [
    "df1['CleanedTweet'][6290]"
   ]
  },
  {
   "cell_type": "code",
   "execution_count": 177,
   "metadata": {},
   "outputs": [
    {
     "name": "stderr",
     "output_type": "stream",
     "text": [
      "c:\\Users\\Hammad\\Documents\\Python_Envs\\bert_trans_env\\lib\\site-packages\\pandas\\util\\_decorators.py:211: FutureWarning: the 'encoding' keyword is deprecated and will be removed in a future version. Please take steps to stop the use of 'encoding'\n",
      "  return func(*args, **kwargs)\n"
     ]
    }
   ],
   "source": [
    "# use excel for encoding isses to save pandas dataframe\n",
    "df1.to_excel(\"cleaned_news_data.xlsx\", index=False, encoding='utf-8')"
   ]
  },
  {
   "cell_type": "code",
   "execution_count": null,
   "metadata": {},
   "outputs": [],
   "source": []
  },
  {
   "cell_type": "code",
   "execution_count": 179,
   "metadata": {},
   "outputs": [
    {
     "data": {
      "text/html": [
       "<div>\n",
       "<style scoped>\n",
       "    .dataframe tbody tr th:only-of-type {\n",
       "        vertical-align: middle;\n",
       "    }\n",
       "\n",
       "    .dataframe tbody tr th {\n",
       "        vertical-align: top;\n",
       "    }\n",
       "\n",
       "    .dataframe thead th {\n",
       "        text-align: right;\n",
       "    }\n",
       "</style>\n",
       "<table border=\"1\" class=\"dataframe\">\n",
       "  <thead>\n",
       "    <tr style=\"text-align: right;\">\n",
       "      <th></th>\n",
       "      <th>Links</th>\n",
       "      <th>Title</th>\n",
       "      <th>Description</th>\n",
       "      <th>Date</th>\n",
       "      <th>Status</th>\n",
       "    </tr>\n",
       "  </thead>\n",
       "  <tbody>\n",
       "    <tr>\n",
       "      <th>0</th>\n",
       "      <td>https://www.opindia.com/2024/02/bank-accounts-...</td>\n",
       "      <td>51 crore accounts, 35 crore rupee cards, Rs 2 ...</td>\n",
       "      <td>googletag.cmd.push(function() { googletag.disp...</td>\n",
       "      <td>2024-02-14T21:20:08+05:30</td>\n",
       "      <td>False</td>\n",
       "    </tr>\n",
       "    <tr>\n",
       "      <th>1</th>\n",
       "      <td>https://www.opindia.com/2024/02/hindus-in-hald...</td>\n",
       "      <td>Hindus in Haldwani display remarkable valour: ...</td>\n",
       "      <td>googletag.cmd.push(function() { googletag.disp...</td>\n",
       "      <td>2024-02-14T22:04:00+05:30</td>\n",
       "      <td>False</td>\n",
       "    </tr>\n",
       "    <tr>\n",
       "      <th>2</th>\n",
       "      <td>https://www.opindia.com/2024/02/sonia-gandhi-f...</td>\n",
       "      <td>Sonia Gandhi files RS nomination from Rajastha...</td>\n",
       "      <td>googletag.cmd.push(function() { googletag.disp...</td>\n",
       "      <td>2024-02-15T08:13:03+05:30</td>\n",
       "      <td>False</td>\n",
       "    </tr>\n",
       "    <tr>\n",
       "      <th>3</th>\n",
       "      <td>https://www.opindia.com/2024/02/muslim-organiz...</td>\n",
       "      <td>‘There is no one above Allah’: Muslim organisa...</td>\n",
       "      <td>googletag.cmd.push(function() { googletag.disp...</td>\n",
       "      <td>2024-02-15T08:31:35+05:30</td>\n",
       "      <td>False</td>\n",
       "    </tr>\n",
       "    <tr>\n",
       "      <th>4</th>\n",
       "      <td>https://www.opindia.com/2024/02/mufti-salman-a...</td>\n",
       "      <td>Another video of Mufti Salman Azhari goes vira...</td>\n",
       "      <td>googletag.cmd.push(function() { googletag.disp...</td>\n",
       "      <td>2024-02-15T08:39:14+05:30</td>\n",
       "      <td>False</td>\n",
       "    </tr>\n",
       "  </tbody>\n",
       "</table>\n",
       "</div>"
      ],
      "text/plain": [
       "                                               Links  \\\n",
       "0  https://www.opindia.com/2024/02/bank-accounts-...   \n",
       "1  https://www.opindia.com/2024/02/hindus-in-hald...   \n",
       "2  https://www.opindia.com/2024/02/sonia-gandhi-f...   \n",
       "3  https://www.opindia.com/2024/02/muslim-organiz...   \n",
       "4  https://www.opindia.com/2024/02/mufti-salman-a...   \n",
       "\n",
       "                                               Title  \\\n",
       "0  51 crore accounts, 35 crore rupee cards, Rs 2 ...   \n",
       "1  Hindus in Haldwani display remarkable valour: ...   \n",
       "2  Sonia Gandhi files RS nomination from Rajastha...   \n",
       "3  ‘There is no one above Allah’: Muslim organisa...   \n",
       "4  Another video of Mufti Salman Azhari goes vira...   \n",
       "\n",
       "                                         Description  \\\n",
       "0  googletag.cmd.push(function() { googletag.disp...   \n",
       "1  googletag.cmd.push(function() { googletag.disp...   \n",
       "2  googletag.cmd.push(function() { googletag.disp...   \n",
       "3  googletag.cmd.push(function() { googletag.disp...   \n",
       "4  googletag.cmd.push(function() { googletag.disp...   \n",
       "\n",
       "                        Date  Status  \n",
       "0  2024-02-14T21:20:08+05:30   False  \n",
       "1  2024-02-14T22:04:00+05:30   False  \n",
       "2  2024-02-15T08:13:03+05:30   False  \n",
       "3  2024-02-15T08:31:35+05:30   False  \n",
       "4  2024-02-15T08:39:14+05:30   False  "
      ]
     },
     "execution_count": 179,
     "metadata": {},
     "output_type": "execute_result"
    }
   ],
   "source": [
    "df_fake = pd.read_excel(\"clean_fake_news_data.xlsx\")\n",
    "df_fake.head()"
   ]
  },
  {
   "cell_type": "code",
   "execution_count": 206,
   "metadata": {},
   "outputs": [],
   "source": [
    "df_fake2 = df_fake.copy()"
   ]
  },
  {
   "cell_type": "code",
   "execution_count": 207,
   "metadata": {},
   "outputs": [
    {
     "data": {
      "text/html": [
       "<div>\n",
       "<style scoped>\n",
       "    .dataframe tbody tr th:only-of-type {\n",
       "        vertical-align: middle;\n",
       "    }\n",
       "\n",
       "    .dataframe tbody tr th {\n",
       "        vertical-align: top;\n",
       "    }\n",
       "\n",
       "    .dataframe thead th {\n",
       "        text-align: right;\n",
       "    }\n",
       "</style>\n",
       "<table border=\"1\" class=\"dataframe\">\n",
       "  <thead>\n",
       "    <tr style=\"text-align: right;\">\n",
       "      <th></th>\n",
       "      <th>Links</th>\n",
       "      <th>Title</th>\n",
       "      <th>Description</th>\n",
       "      <th>Date</th>\n",
       "      <th>Status</th>\n",
       "    </tr>\n",
       "  </thead>\n",
       "  <tbody>\n",
       "    <tr>\n",
       "      <th>0</th>\n",
       "      <td>https://www.opindia.com/2024/02/bank-accounts-...</td>\n",
       "      <td>51 crore accounts, 35 crore rupee cards, Rs 2 ...</td>\n",
       "      <td>The nation is about to experience its greates...</td>\n",
       "      <td>2024-02-14T21:20:08+05:30</td>\n",
       "      <td>False</td>\n",
       "    </tr>\n",
       "    <tr>\n",
       "      <th>1</th>\n",
       "      <td>https://www.opindia.com/2024/02/hindus-in-hald...</td>\n",
       "      <td>Hindus in Haldwani display remarkable valour: ...</td>\n",
       "      <td>In Haldwani, Uttarakhand, there was a fierce ...</td>\n",
       "      <td>2024-02-14T22:04:00+05:30</td>\n",
       "      <td>False</td>\n",
       "    </tr>\n",
       "    <tr>\n",
       "      <th>2</th>\n",
       "      <td>https://www.opindia.com/2024/02/sonia-gandhi-f...</td>\n",
       "      <td>Sonia Gandhi files RS nomination from Rajastha...</td>\n",
       "      <td>With no hopes of retaining the Rae Bareli Lok...</td>\n",
       "      <td>2024-02-15T08:13:03+05:30</td>\n",
       "      <td>False</td>\n",
       "    </tr>\n",
       "    <tr>\n",
       "      <th>3</th>\n",
       "      <td>https://www.opindia.com/2024/02/muslim-organiz...</td>\n",
       "      <td>‘There is no one above Allah’: Muslim organisa...</td>\n",
       "      <td>The Rajasthan High Court on Wednesday (14th F...</td>\n",
       "      <td>2024-02-15T08:31:35+05:30</td>\n",
       "      <td>False</td>\n",
       "    </tr>\n",
       "    <tr>\n",
       "      <th>4</th>\n",
       "      <td>https://www.opindia.com/2024/02/mufti-salman-a...</td>\n",
       "      <td>Another video of Mufti Salman Azhari goes vira...</td>\n",
       "      <td>A video of Mufti Salman Azhari, who was recen...</td>\n",
       "      <td>2024-02-15T08:39:14+05:30</td>\n",
       "      <td>False</td>\n",
       "    </tr>\n",
       "  </tbody>\n",
       "</table>\n",
       "</div>"
      ],
      "text/plain": [
       "                                               Links  \\\n",
       "0  https://www.opindia.com/2024/02/bank-accounts-...   \n",
       "1  https://www.opindia.com/2024/02/hindus-in-hald...   \n",
       "2  https://www.opindia.com/2024/02/sonia-gandhi-f...   \n",
       "3  https://www.opindia.com/2024/02/muslim-organiz...   \n",
       "4  https://www.opindia.com/2024/02/mufti-salman-a...   \n",
       "\n",
       "                                               Title  \\\n",
       "0  51 crore accounts, 35 crore rupee cards, Rs 2 ...   \n",
       "1  Hindus in Haldwani display remarkable valour: ...   \n",
       "2  Sonia Gandhi files RS nomination from Rajastha...   \n",
       "3  ‘There is no one above Allah’: Muslim organisa...   \n",
       "4  Another video of Mufti Salman Azhari goes vira...   \n",
       "\n",
       "                                         Description  \\\n",
       "0   The nation is about to experience its greates...   \n",
       "1   In Haldwani, Uttarakhand, there was a fierce ...   \n",
       "2   With no hopes of retaining the Rae Bareli Lok...   \n",
       "3   The Rajasthan High Court on Wednesday (14th F...   \n",
       "4   A video of Mufti Salman Azhari, who was recen...   \n",
       "\n",
       "                        Date  Status  \n",
       "0  2024-02-14T21:20:08+05:30   False  \n",
       "1  2024-02-14T22:04:00+05:30   False  \n",
       "2  2024-02-15T08:13:03+05:30   False  \n",
       "3  2024-02-15T08:31:35+05:30   False  \n",
       "4  2024-02-15T08:39:14+05:30   False  "
      ]
     },
     "execution_count": 207,
     "metadata": {},
     "output_type": "execute_result"
    }
   ],
   "source": [
    "def clean_text(text):\n",
    "    # Split the text based on \" });\" pattern\n",
    "    parts = text.split(\" });\")\n",
    "    \n",
    "    # Define the pattern to match\n",
    "    pattern = r'googletag\\.cmd\\.push\\(function\\(\\).*\\);'\n",
    "    \n",
    "    # Remove the pattern from each split part\n",
    "    cleaned_parts = [re.sub(pattern, '', part) for part in parts]\n",
    "    \n",
    "    # Combine the remaining text\n",
    "    cleaned_text = ' '.join(cleaned_parts)\n",
    "    cleaned_text = re.sub(r'\\s+', ' ', cleaned_text)  # Remove extra spaces\n",
    "\n",
    "    \n",
    "    return cleaned_text\n",
    "\n",
    "# Apply the cleaning function to the 'text' column\n",
    "df_fake2['Description'] = df_fake2['Description'].apply(clean_text)\n",
    "df_fake2.head()"
   ]
  },
  {
   "cell_type": "code",
   "execution_count": 224,
   "metadata": {},
   "outputs": [
    {
     "name": "stdout",
     "output_type": "stream",
     "text": [
      "0\n"
     ]
    }
   ],
   "source": [
    "word_to_search = 'What the fake is about: '\n",
    "count = 0\n",
    "word = []\n",
    "\n",
    "def search_text(text):\n",
    "    global count\n",
    "    if word_to_search in text:\n",
    "        count += 1\n",
    "        # escaped_word = re.escape(word_to_search)  # Escape special characters\n",
    "        # clean_text = re.sub(fr'{escaped_word}', '', text)\n",
    "        # clean_text = re.sub(r'\\s+', ' ', clean_text)  # Remove extra spaces\n",
    "\n",
    "        clean_text = re.sub(fr'{word_to_search}', '', text)\n",
    "        word.append(clean_text.strip())\n",
    "        return clean_text\n",
    "            \n",
    "    return text\n",
    "\n",
    "df_fake2['Description'] = df_fake2['Description'].apply(search_text)\n",
    "\n",
    "print(count)\n",
    "for i in word[:2]:\n",
    "    print(i)"
   ]
  },
  {
   "cell_type": "code",
   "execution_count": 226,
   "metadata": {},
   "outputs": [
    {
     "data": {
      "text/plain": [
       "(12807, 5)"
      ]
     },
     "execution_count": 226,
     "metadata": {},
     "output_type": "execute_result"
    }
   ],
   "source": [
    "df_fake3 = df_fake2.copy()\n",
    "df_fake2.shape"
   ]
  },
  {
   "cell_type": "code",
   "execution_count": 227,
   "metadata": {},
   "outputs": [
    {
     "data": {
      "text/plain": [
       "(10547, 5)"
      ]
     },
     "execution_count": 227,
     "metadata": {},
     "output_type": "execute_result"
    }
   ],
   "source": [
    "# Apply language detection function to filter English records\n",
    "df_fake3 = df_fake3[df_fake3['Description'].apply(detect_language)]\n",
    "df_fake3.shape"
   ]
  },
  {
   "cell_type": "code",
   "execution_count": 327,
   "metadata": {},
   "outputs": [
    {
     "name": "stdout",
     "output_type": "stream",
     "text": [
      "0\n"
     ]
    }
   ],
   "source": [
    "word_to_search = 'Earth to be Recycled ' \n",
    "count = 0\n",
    "word = []\n",
    "\n",
    "def search_text(text):\n",
    "    global count\n",
    "    if word_to_search in text:\n",
    "        count += 1\n",
    "        # escaped_word = re.escape(word_to_search)  # Escape special characters\n",
    "        # clean_text = re.sub(fr'{escaped_word}', '', text)\n",
    "        # clean_text = re.sub(r'\\s+', ' ', clean_text)  # Remove extra spaces\n",
    "\n",
    "        # clean_text = re.sub(fr'{word_to_search}', '', text)\n",
    "\n",
    "        clean_text = text.split(word_to_search, 1)[0]\n",
    "        word.append(clean_text.strip())\n",
    "        return clean_text\n",
    "            \n",
    "    return text\n",
    "\n",
    "df_fake3['Description'] = df_fake3['Description'].apply(search_text)\n",
    "\n",
    "print(count)\n",
    "for i in word[:2]:\n",
    "    print(i)"
   ]
  },
  {
   "cell_type": "code",
   "execution_count": 328,
   "metadata": {},
   "outputs": [
    {
     "name": "stderr",
     "output_type": "stream",
     "text": [
      "c:\\Users\\Hammad\\Documents\\Python_Envs\\bert_trans_env\\lib\\site-packages\\pandas\\util\\_decorators.py:211: FutureWarning: the 'encoding' keyword is deprecated and will be removed in a future version. Please take steps to stop the use of 'encoding'\n",
      "  return func(*args, **kwargs)\n"
     ]
    }
   ],
   "source": [
    "df_fake3.to_excel(\"cleaned_fake_news_data.xlsx\", index=False, encoding='utf-8')"
   ]
  },
  {
   "cell_type": "code",
   "execution_count": null,
   "metadata": {},
   "outputs": [],
   "source": []
  },
  {
   "cell_type": "code",
   "execution_count": null,
   "metadata": {},
   "outputs": [],
   "source": []
  }
 ],
 "metadata": {
  "kernelspec": {
   "display_name": "bert_trans",
   "language": "python",
   "name": "bert_trans"
  },
  "language_info": {
   "codemirror_mode": {
    "name": "ipython",
    "version": 3
   },
   "file_extension": ".py",
   "mimetype": "text/x-python",
   "name": "python",
   "nbconvert_exporter": "python",
   "pygments_lexer": "ipython3",
   "version": "3.10.11"
  }
 },
 "nbformat": 4,
 "nbformat_minor": 2
}
