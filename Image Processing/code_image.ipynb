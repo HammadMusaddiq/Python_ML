{
 "cells": [
  {
   "cell_type": "code",
   "execution_count": 1,
   "metadata": {},
   "outputs": [],
   "source": [
    "import cv2\n",
    "import matplotlib.pyplot as plt\n",
    "import numpy as np"
   ]
  },
  {
   "cell_type": "markdown",
   "metadata": {},
   "source": [
    "# Exercise 1"
   ]
  },
  {
   "cell_type": "code",
   "execution_count": 3,
   "metadata": {},
   "outputs": [],
   "source": [
    "img = \"image_task1.jpeg\""
   ]
  },
  {
   "cell_type": "markdown",
   "metadata": {},
   "source": [
    "### Original Image"
   ]
  },
  {
   "cell_type": "code",
   "execution_count": 4,
   "metadata": {},
   "outputs": [],
   "source": [
    "original_image = cv2.imread(img)\n",
    "\n",
    "cv2.imshow('Original Image', original_image)\n",
    "cv2.imwrite(\"task1_original_image.jpeg\", original_image)\n",
    "cv2.waitKey(0)\n",
    "cv2.destroyAllWindows()"
   ]
  },
  {
   "cell_type": "markdown",
   "metadata": {},
   "source": [
    "### Negative Image"
   ]
  },
  {
   "cell_type": "code",
   "execution_count": 5,
   "metadata": {},
   "outputs": [],
   "source": [
    "negative_image = 255 - original_image\n",
    "\n",
    "cv2.imshow('Negative Image', negative_image)\n",
    "cv2.imwrite(\"task1_negative_image.jpeg\", negative_image)\n",
    "cv2.waitKey(0)\n",
    "cv2.destroyAllWindows()"
   ]
  },
  {
   "cell_type": "markdown",
   "metadata": {},
   "source": [
    "### Brightness Enhanced (50)"
   ]
  },
  {
   "cell_type": "code",
   "execution_count": 13,
   "metadata": {},
   "outputs": [],
   "source": [
    "# Convert the image to the HSV color space\n",
    "hsv_image = cv2.cvtColor(original_image, cv2.COLOR_BGR2HSV)\n",
    "# Adjust the brightness channel (value channel)\n",
    "hsv_image[:, :, 2] += 50\n",
    "# Clip the pixel values to ensure they remain in the valid range [0, 255]\n",
    "hsv_image[:, :, 2] = np.clip(hsv_image[:, :, 2], 0, 255)\n",
    "# Convert the image back to the BGR color space\n",
    "enhanced_image = cv2.cvtColor(hsv_image, cv2.COLOR_HSV2BGR)\n",
    "\n",
    "# Display the result\n",
    "cv2.imshow('Brightened Image (50)', enhanced_image)\n",
    "cv2.imwrite(\"task1_brightened_image(50).jpeg\", enhanced_image)\n",
    "cv2.waitKey(0)\n",
    "cv2.destroyAllWindows()"
   ]
  },
  {
   "cell_type": "code",
   "execution_count": 14,
   "metadata": {},
   "outputs": [],
   "source": [
    "# brightness_factor = 50\n",
    "# brightened_image = cv2.add(original_image, brightness_factor)  \n",
    "\n",
    "# cv2.imshow('Brightened Image (50)', brightened_image)\n",
    "# cv2.imwrite(\"task1_brightened_image(50)2.jpeg\", brightened_image)\n",
    "# cv2.waitKey(0)\n",
    "# cv2.destroyAllWindows()"
   ]
  },
  {
   "cell_type": "markdown",
   "metadata": {},
   "source": [
    "### Brightness Enhanced (-50)"
   ]
  },
  {
   "cell_type": "code",
   "execution_count": 11,
   "metadata": {},
   "outputs": [],
   "source": [
    "# Convert the image to the HSV color space\n",
    "hsv_image = cv2.cvtColor(original_image, cv2.COLOR_BGR2HSV)\n",
    "# Adjust the brightness channel (value channel)\n",
    "hsv_image[:, :, 2] -= 50\n",
    "# Clip the pixel values to ensure they remain in the valid range [0, 255]\n",
    "hsv_image[:, :, 2] = np.clip(hsv_image[:, :, 2], 0, 255)\n",
    "# Convert the image back to the BGR color space\n",
    "enhanced_image = cv2.cvtColor(hsv_image, cv2.COLOR_HSV2BGR)\n",
    "\n",
    "# Display the result\n",
    "cv2.imshow('Brightened Image (-50)', enhanced_image)\n",
    "cv2.imwrite(\"task1_brightened_image(-50).jpeg\", enhanced_image)\n",
    "cv2.waitKey(0)\n",
    "cv2.destroyAllWindows()"
   ]
  },
  {
   "cell_type": "code",
   "execution_count": 12,
   "metadata": {},
   "outputs": [],
   "source": [
    "# brightness_factor = -50\n",
    "# brightened_image = cv2.add(original_image, brightness_factor)  \n",
    "\n",
    "# cv2.imshow('Brightened Image (-50)', brightened_image)\n",
    "# cv2.imwrite(\"task1_brightened_image(-50)2.jpeg\", brightened_image)\n",
    "# cv2.waitKey(0)\n",
    "# cv2.destroyAllWindows()"
   ]
  },
  {
   "cell_type": "markdown",
   "metadata": {},
   "source": [
    "### Contrast Enhanced (50)"
   ]
  },
  {
   "cell_type": "code",
   "execution_count": 19,
   "metadata": {},
   "outputs": [],
   "source": [
    "# Load the input image\n",
    "original_image = cv2.imread(\"image_task1.jpeg\", cv2.IMREAD_GRAYSCALE)\n",
    "\n",
    "# Apply contrast adjustment\n",
    "contrast_enhanced_image = cv2.add(original_image, 50)\n",
    "\n",
    "# Display the result\n",
    "cv2.imshow('Contrast Enhanced Image (+50)', contrast_enhanced_image)\n",
    "cv2.imwrite(\"task1_contrast_enhanced_image(+50).jpeg\", contrast_enhanced_image)\n",
    "cv2.waitKey(0)\n",
    "cv2.destroyAllWindows()"
   ]
  },
  {
   "cell_type": "markdown",
   "metadata": {},
   "source": [
    "### Contrast Enhanced (-50)"
   ]
  },
  {
   "cell_type": "code",
   "execution_count": 29,
   "metadata": {},
   "outputs": [],
   "source": [
    "# Load the input image\n",
    "original_image = cv2.imread('image_task1.jpeg', cv2.IMREAD_GRAYSCALE)\n",
    "\n",
    "# Apply contrast adjustment\n",
    "contrast_enhanced_image = cv2.subtract(original_image, 50)\n",
    "\n",
    "# Display the result\n",
    "cv2.imshow('Contrast Enhanced Image (-50)', contrast_enhanced_image)\n",
    "cv2.imwrite(\"task1_contrast_enhanced_image(-50).jpeg\", contrast_enhanced_image)\n",
    "cv2.waitKey(0)\n",
    "cv2.destroyAllWindows()"
   ]
  },
  {
   "cell_type": "markdown",
   "metadata": {},
   "source": [
    "# Exercise 2"
   ]
  },
  {
   "cell_type": "code",
   "execution_count": 30,
   "metadata": {},
   "outputs": [],
   "source": [
    "original_image2 = cv2.imread('image_task2.jpeg', cv2.IMREAD_GRAYSCALE)"
   ]
  },
  {
   "cell_type": "markdown",
   "metadata": {},
   "source": [
    "### Enhance the contrast of the input image using Gamma correction"
   ]
  },
  {
   "cell_type": "code",
   "execution_count": 32,
   "metadata": {},
   "outputs": [],
   "source": [
    "gamma = 2.5\n",
    "gamma_corrected_image = np.clip((original_image2 / 255.0) ** (1 / gamma) * 255.0, 0, 255).astype(np.uint8)\n",
    "\n",
    "\n",
    "cv2.imshow('Contrast Enhanced Gamma Correction', gamma_corrected_image)\n",
    "cv2.imwrite(\"task2_contrast_enhanced_gamma_correction.jpeg\", gamma_corrected_image)\n",
    "cv2.waitKey(0)\n",
    "cv2.destroyAllWindows()"
   ]
  },
  {
   "cell_type": "markdown",
   "metadata": {},
   "source": [
    "### Enhance the contrast of the input image using histogram equalization technique"
   ]
  },
  {
   "cell_type": "code",
   "execution_count": 38,
   "metadata": {},
   "outputs": [],
   "source": [
    "equalized_image = cv2.equalizeHist(original_image2)\n",
    "\n",
    "cv2.imshow('Contrast Enhanced Histogram Equalization ', equalized_image)\n",
    "cv2.imwrite(\"task2_contrast_enhanced_histogram_equalization.jpeg\", equalized_image)\n",
    "cv2.waitKey(0)\n",
    "cv2.destroyAllWindows()"
   ]
  },
  {
   "cell_type": "code",
   "execution_count": 40,
   "metadata": {},
   "outputs": [
    {
     "data": {
      "image/png": "[encoded data removed]",
      "text/plain": [
       "<Figure size 640x480 with 1 Axes>"
      ]
     },
     "metadata": {},
     "output_type": "display_data"
    }
   ],
   "source": [
    "plt.hist(equalized_image.flatten(), bins=256, range=[0,256], color='b')\n",
    "plt.xlabel('Pixel Intensity', color='black')\n",
    "plt.ylabel('Frequency')\n",
    "plt.title('Histogram of Grayscale Intensities')\n",
    "plt.grid(True)\n",
    "plt.show()"
   ]
  },
  {
   "cell_type": "markdown",
   "metadata": {},
   "source": [
    "# Exercise 3"
   ]
  },
  {
   "cell_type": "code",
   "execution_count": 77,
   "metadata": {},
   "outputs": [],
   "source": [
    "original_image3 = cv2.imread('image_task3.jpeg')  \n",
    "# original_image3 = cv2.imread('image_task3.jpeg', cv2.IMREAD_GRAYSCALE)"
   ]
  },
  {
   "cell_type": "markdown",
   "metadata": {},
   "source": [
    "### RGB to Gray"
   ]
  },
  {
   "cell_type": "code",
   "execution_count": 18,
   "metadata": {},
   "outputs": [],
   "source": [
    "gray_image = cv2.cvtColor(original_image3, cv2.COLOR_BGR2GRAY)\n",
    "\n",
    "cv2.imshow('Gray Image', gray_image)\n",
    "cv2.imwrite(\"task3_gray_image.jpeg\", gray_image)\n",
    "cv2.waitKey(0)\n",
    "cv2.destroyAllWindows()"
   ]
  },
  {
   "cell_type": "markdown",
   "metadata": {},
   "source": [
    "### Detect connected components"
   ]
  },
  {
   "cell_type": "code",
   "execution_count": 15,
   "metadata": {},
   "outputs": [
    {
     "name": "stdout",
     "output_type": "stream",
     "text": [
      "3\n"
     ]
    }
   ],
   "source": [
    "\n",
    "# Apply Gaussian blur and adaptive thresholding\n",
    "blurred_image = cv2.GaussianBlur(gray_image, (5, 5), 0)\n",
    "binary_image = cv2.adaptiveThreshold(blurred_image, 255, cv2.ADAPTIVE_THRESH_MEAN_C, cv2.THRESH_BINARY_INV, 11, 4)\n",
    "\n",
    "# Find contours in the binary image\n",
    "contours, _ = cv2.findContours(binary_image, cv2.RETR_EXTERNAL, cv2.CHAIN_APPROX_SIMPLE)\n",
    "\n",
    "print(len(contours))\n",
    "\n",
    "# Filter contours based on area\n",
    "filtered_contours = [contour for contour in contours if cv2.contourArea(contour) > 100]  # Adjust area threshold as needed\n",
    "\n",
    "# Draw contours on the original image\n",
    "output_image = original_image3.copy()\n",
    "for contour in filtered_contours:\n",
    "    cv2.drawContours(output_image, [contour], -1, (0, 255, 0), 2)\n",
    "\n",
    "# Display the output image with contours\n",
    "cv2.imshow('Output Image', output_image)\n",
    "cv2.waitKey(0)\n",
    "cv2.destroyAllWindows()"
   ]
  },
  {
   "cell_type": "code",
   "execution_count": 16,
   "metadata": {},
   "outputs": [],
   "source": [
    "# Apply Gaussian blur and adaptive thresholding\n",
    "blurred_image = cv2.GaussianBlur(gray_image, (5, 5), 0)\n",
    "binary_image = cv2.adaptiveThreshold(blurred_image, 255, cv2.ADAPTIVE_THRESH_MEAN_C, cv2.THRESH_BINARY_INV, 11, 4)\n",
    "\n",
    "contours, hierarchy = cv2.findContours(binary_image, cv2.RETR_EXTERNAL, cv2.CHAIN_APPROX_SIMPLE)\n",
    "\n",
    "background = (255, 255, 255)\n",
    "colored_image = original_image3.copy()\n",
    "colored_image[:, :] = background\n",
    "\n",
    "# Define colors for components\n",
    "component_colors = [(0, 0, 255), (0, 255, 0), (255, 0, 0)]  # Red, Green, Blue\n",
    "\n",
    "# Draw contours with different colors\n",
    "for i, contour in enumerate(contours):\n",
    "    # Check if contour has no parent (top-level contour)\n",
    "    if hierarchy[0][i][3] == -1:\n",
    "        cv2.fillPoly(colored_image, [contour], component_colors[i])\n",
    "\n",
    "# Display the result\n",
    "cv2.imshow('Colored Components', colored_image)\n",
    "cv2.waitKey(0)\n",
    "cv2.destroyAllWindows()"
   ]
  },
  {
   "cell_type": "code",
   "execution_count": 17,
   "metadata": {},
   "outputs": [],
   "source": [
    "import cv2\n",
    "import numpy as np\n",
    "\n",
    "# Load the input image\n",
    "original_image3 = cv2.imread('image_task33.jpg')\n",
    "gray_image = cv2.cvtColor(original_image3, cv2.COLOR_BGR2GRAY)\n",
    "\n",
    "# Apply Gaussian blur\n",
    "blurred_image = cv2.GaussianBlur(gray_image, (5, 5), 0)\n",
    "\n",
    "# Adaptive thresholding\n",
    "binary_image = cv2.adaptiveThreshold(blurred_image, 255, cv2.ADAPTIVE_THRESH_MEAN_C, cv2.THRESH_BINARY_INV, 11, 4)\n",
    "\n",
    "# Dilate the binary image to fill gaps between components\n",
    "kernel = np.ones((3, 3), np.uint8)\n",
    "binary_image = cv2.dilate(binary_image, kernel, iterations=1)\n",
    "\n",
    "# Detect connected components\n",
    "num_labels, labels = cv2.connectedComponents(binary_image)\n",
    "\n",
    "# Create a color mask for visualization\n",
    "colors = [(0, 0, 255), (0, 255, 0), (255, 0, 0)]  # BGR format\n",
    "colored_mask = np.zeros_like(original_image3)\n",
    "\n",
    "# Loop through each component label (excluding the background)\n",
    "for label in range(1, num_labels):\n",
    "    # Create a binary mask for the current component\n",
    "    component_mask = np.uint8(labels == label) * 255\n",
    "    \n",
    "    # Find contours of the component\n",
    "    contours, _ = cv2.findContours(component_mask, cv2.RETR_EXTERNAL, cv2.CHAIN_APPROX_SIMPLE)\n",
    "    \n",
    "    # Draw the contours with the corresponding color\n",
    "    cv2.drawContours(colored_mask, contours, -1, colors[label - 1], thickness=cv2.FILLED)\n",
    "\n",
    "    # Display the connected components\n",
    "    cv2.imshow('Connected Components', colored_mask)\n",
    "    cv2.imwrite(\"task3_Connected_Components.jpeg\", colored_mask)\n",
    "    cv2.waitKey(0)\n",
    "    cv2.destroyAllWindows()\n"
   ]
  },
  {
   "cell_type": "code",
   "execution_count": 3,
   "metadata": {},
   "outputs": [
    {
     "name": "stdout",
     "output_type": "stream",
     "text": [
      "1\n",
      "3\n"
     ]
    }
   ],
   "source": [
    "import cv2\n",
    "import numpy as np\n",
    "\n",
    "# Load the input image\n",
    "image = cv2.imread('image_task3.jpeg')\n",
    "\n",
    "# Convert the image to grayscale\n",
    "gray = cv2.cvtColor(image, cv2.COLOR_BGR2GRAY)\n",
    "\n",
    "# Threshold the grayscale image to create a binary image\n",
    "_, thresh = cv2.threshold(gray, 127, 255, cv2.THRESH_BINARY)\n",
    "\n",
    "# Find contours in the binary image\n",
    "contours, _ = cv2.findContours(thresh, cv2.RETR_EXTERNAL, cv2.CHAIN_APPROX_SIMPLE)\n",
    "\n",
    "\n",
    "print(len(contours))\n",
    "original_image = image.copy()\n",
    "\n",
    "# Draw each component with a different color\n",
    "for i, contour in enumerate(contours):\n",
    "    # Create a mask for the current component\n",
    "    colored_mask = np.zeros_like(gray)\n",
    "    # Get the bounding rectangle of the contour\n",
    "    cv2.drawContours(colored_mask, [contour], -1, 255, thickness=cv2.FILLED)\n",
    "    image[colored_mask == 0] = (0, 255, 0)\n",
    "    image[colored_mask == 255] = (255, 255, 255)\n",
    "\n",
    "\n",
    "gray = cv2.cvtColor(original_image, cv2.COLOR_BGR2GRAY)\n",
    "\n",
    "blurred_image = cv2.GaussianBlur(gray, (5, 5), 0)\n",
    "binary_image = cv2.adaptiveThreshold(blurred_image, 255, cv2.ADAPTIVE_THRESH_MEAN_C, cv2.THRESH_BINARY_INV, 11, 4)\n",
    "\n",
    "# Find contours in the binary image\n",
    "contours, _ = cv2.findContours(binary_image, cv2.RETR_EXTERNAL, cv2.CHAIN_APPROX_SIMPLE)\n",
    "\n",
    "print(len(contours))\n",
    "\n",
    "colors = [(0, 0, 255), (255, 0, 0)]\n",
    "\n",
    "# Draw each component on the image with its original color\n",
    "for i, contour in enumerate(contours[:1] + contours[2:]):\n",
    "\n",
    "    x, y, w, h = cv2.boundingRect(contour)\n",
    "    image[y:y+h, x:x+w] = colors[i]\n",
    "\n",
    "\n",
    "# Display the result\n",
    "cv2.imshow('Result', image)\n",
    "cv2.waitKey(0)\n",
    "cv2.destroyAllWindows()\n"
   ]
  },
  {
   "cell_type": "markdown",
   "metadata": {},
   "source": [
    "### A bar plot to compare the sizes (number of pixels)"
   ]
  },
  {
   "cell_type": "code",
   "execution_count": 22,
   "metadata": {},
   "outputs": [
    {
     "data": {
      "image/png": "[encoded data removed]",
      "text/plain": [
       "<Figure size 1000x600 with 1 Axes>"
      ]
     },
     "metadata": {},
     "output_type": "display_data"
    }
   ],
   "source": [
    "# Store the sizes (number of pixels) of connected components\n",
    "component_sizes = [cv2.contourArea(contour) for contour in contours]\n",
    "\n",
    "# Plot the sizes of connected components\n",
    "plt.figure(figsize=(10, 6))\n",
    "plt.bar(range(len(component_sizes)), component_sizes, color='blue')\n",
    "plt.xlabel('Component Index')\n",
    "plt.ylabel('Size (Number of Pixels)')\n",
    "plt.title('Sizes of Connected Components')\n",
    "plt.xticks(range(len(component_sizes)), range(1, len(component_sizes) + 1))\n",
    "plt.grid(axis='y', linestyle='--', alpha=0.7)\n",
    "plt.tight_layout()\n",
    "plt.show()"
   ]
  },
  {
   "cell_type": "code",
   "execution_count": 20,
   "metadata": {},
   "outputs": [
    {
     "data": {
      "image/png": "[encoded data removed]",
      "text/plain": [
       "<Figure size 640x480 with 1 Axes>"
      ]
     },
     "metadata": {},
     "output_type": "display_data"
    }
   ],
   "source": [
    "unique, counts = np.unique(labels, return_counts=True)\n",
    "plt.bar(unique, counts, color='b')\n",
    "plt.xlabel('Component Label')\n",
    "plt.ylabel('Number of Pixels')\n",
    "plt.title('Sizes of Connected Components')\n",
    "plt.show()"
   ]
  },
  {
   "cell_type": "markdown",
   "metadata": {},
   "source": [
    "### Compute and print the percentage size of each connected component"
   ]
  },
  {
   "cell_type": "code",
   "execution_count": 21,
   "metadata": {},
   "outputs": [
    {
     "name": "stdout",
     "output_type": "stream",
     "text": [
      "Connected Component 1: 2.65%\n",
      "Connected Component 2: 2.28%\n",
      "Connected Component 3: 2.18%\n"
     ]
    }
   ],
   "source": [
    "total_pixels = gray_image.shape[0] * gray_image.shape[1]\n",
    "for i in range(1, len(counts)):\n",
    "    percentage_size = (counts[i] / total_pixels) * 100\n",
    "    print(f'Connected Component {i}: {percentage_size:.2f}%')"
   ]
  },
  {
   "cell_type": "code",
   "execution_count": 23,
   "metadata": {},
   "outputs": [
    {
     "name": "stdout",
     "output_type": "stream",
     "text": [
      "Component 1: 1.81%\n"
     ]
    }
   ],
   "source": [
    "# Compute and print the percentage size of each connected component\n",
    "total_pixels = original_image3.shape[0] * original_image3.shape[1]\n",
    "for i, contour in enumerate(contours):\n",
    "    # Compute the area of the current component\n",
    "    component_area = cv2.contourArea(contour)\n",
    "    # Compute the percentage size of the current component relative to the total area of the image\n",
    "    percentage_size = (component_area / total_pixels) * 100\n",
    "    print(f\"Component {i + 1}: {percentage_size:.2f}%\")"
   ]
  },
  {
   "cell_type": "code",
   "execution_count": null,
   "metadata": {},
   "outputs": [],
   "source": []
  }
 ],
 "metadata": {
  "kernelspec": {
   "display_name": "bert_trans",
   "language": "python",
   "name": "bert_trans"
  },
  "language_info": {
   "codemirror_mode": {
    "name": "ipython",
    "version": 3
   },
   "file_extension": ".py",
   "mimetype": "text/x-python",
   "name": "python",
   "nbconvert_exporter": "python",
   "pygments_lexer": "ipython3",
   "version": "3.10.11"
  }
 },
 "nbformat": 4,
 "nbformat_minor": 2
}
