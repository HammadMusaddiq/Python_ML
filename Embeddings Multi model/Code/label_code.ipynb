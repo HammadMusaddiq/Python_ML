{
 "cells": [
  {
   "cell_type": "code",
   "execution_count": 1,
   "metadata": {},
   "outputs": [],
   "source": [
    "import pandas as pd\n",
    "import re"
   ]
  },
  {
   "cell_type": "code",
   "execution_count": 2,
   "metadata": {},
   "outputs": [
    {
     "data": {
      "text/plain": [
       "(99, 1)"
      ]
     },
     "execution_count": 2,
     "metadata": {},
     "output_type": "execute_result"
    }
   ],
   "source": [
    "data = pd.read_excel(\"Health Related Policies-100 Records.xlsx\")\n",
    "data.shape"
   ]
  },
  {
   "attachments": {},
   "cell_type": "markdown",
   "metadata": {},
   "source": [
    "## legitimate_privacy_policy = 1\n",
    "## illegitimate_privacy_policy = 0"
   ]
  },
  {
   "attachments": {},
   "cell_type": "markdown",
   "metadata": {},
   "source": [
    "### specific phrases based on the Australian APP 13 (Collection of personal information) and determine the legitimacy of each policy.\n",
    "### if a policy contains some or all of the keywords/phrases below, it should be deemed legitimate (labeled as 1). Otherwise, it should be deemed illegitimate (labeled as 0)."
   ]
  },
  {
   "cell_type": "code",
   "execution_count": 3,
   "metadata": {},
   "outputs": [],
   "source": [
    "## 22 phrases (provided)\n",
    "\n",
    "phrases = [\"personal information\", \"public information\", \"up-to-date\", \"will not disclose\", \"reasonable steps\", \"will not share information\", \"refuses\", \"consent\", \"give consent\", \"do not give consent\", \"security of personal information\", \"privacy of personal information\", \"Hold Information\", \"release of information\", \"collect information\", \"consent form\", \"Unsolicited Personal Information\", \"Disclosure of Personal Information\", \"Use or Disclosure of Personal Information\", \"Direct Marketing\", \"Cross-Border Disclosure of Personal Information\", \"Data modification\"]"
   ]
  },
  {
   "cell_type": "code",
   "execution_count": 4,
   "metadata": {},
   "outputs": [
    {
     "data": {
      "text/html": [
       "<div>\n",
       "<style scoped>\n",
       "    .dataframe tbody tr th:only-of-type {\n",
       "        vertical-align: middle;\n",
       "    }\n",
       "\n",
       "    .dataframe tbody tr th {\n",
       "        vertical-align: top;\n",
       "    }\n",
       "\n",
       "    .dataframe thead th {\n",
       "        text-align: right;\n",
       "    }\n",
       "</style>\n",
       "<table border=\"1\" class=\"dataframe\">\n",
       "  <thead>\n",
       "    <tr style=\"text-align: right;\">\n",
       "      <th></th>\n",
       "      <th>HealthPrivacyPolicy</th>\n",
       "    </tr>\n",
       "  </thead>\n",
       "  <tbody>\n",
       "    <tr>\n",
       "      <th>0</th>\n",
       "      <td>HCF: This Privacy Policy covers the HCF group ...</td>\n",
       "    </tr>\n",
       "    <tr>\n",
       "      <th>1</th>\n",
       "      <td>central sydney private hospital: Patient Priva...</td>\n",
       "    </tr>\n",
       "    <tr>\n",
       "      <th>2</th>\n",
       "      <td>St Vincent’s Private Hospital Sydne: Privacy\\n...</td>\n",
       "    </tr>\n",
       "    <tr>\n",
       "      <th>3</th>\n",
       "      <td>The Sydney Private Hospital is committed to pr...</td>\n",
       "    </tr>\n",
       "    <tr>\n",
       "      <th>4</th>\n",
       "      <td>Privacy Statement for Sydney Local Health Dist...</td>\n",
       "    </tr>\n",
       "  </tbody>\n",
       "</table>\n",
       "</div>"
      ],
      "text/plain": [
       "                                 HealthPrivacyPolicy\n",
       "0  HCF: This Privacy Policy covers the HCF group ...\n",
       "1  central sydney private hospital: Patient Priva...\n",
       "2  St Vincent’s Private Hospital Sydne: Privacy\\n...\n",
       "3  The Sydney Private Hospital is committed to pr...\n",
       "4  Privacy Statement for Sydney Local Health Dist..."
      ]
     },
     "execution_count": 4,
     "metadata": {},
     "output_type": "execute_result"
    }
   ],
   "source": [
    "data.head()"
   ]
  },
  {
   "attachments": {},
   "cell_type": "markdown",
   "metadata": {},
   "source": [
    "## 1st Method (22 phrases used)"
   ]
  },
  {
   "cell_type": "code",
   "execution_count": 5,
   "metadata": {},
   "outputs": [],
   "source": [
    "data1 = data.copy()"
   ]
  },
  {
   "cell_type": "code",
   "execution_count": 7,
   "metadata": {},
   "outputs": [],
   "source": [
    "## 22 phrases\n",
    "## if any word from the phrases exist in the sentence then assigning it 1, elsewise 0\n",
    "## removed some common words \n",
    "\n",
    "data1['class'] = 0\n",
    "\n",
    "stop_words = ['will', 'not', 'give', 'do', 'not', 'of', 'collect', 'Use', 'or', 'Direct', 'Data']  # Add your stop words to this list\n",
    "\n",
    "for i, row in data1.iterrows():\n",
    "    for phrase in phrases:\n",
    "        words = re.findall(r'\\b\\w+\\b', phrase)  # Extract individual words from the phrase\n",
    "        for word in words:\n",
    "            if word not in stop_words and word in row['HealthPrivacyPolicy']:\n",
    "                data1.at[i, 'class'] = 1\n",
    "                break\n",
    "        if data1.at[i, 'class'] == 1:\n",
    "            break"
   ]
  },
  {
   "cell_type": "code",
   "execution_count": 8,
   "metadata": {},
   "outputs": [
    {
     "data": {
      "text/plain": [
       "1    99\n",
       "Name: class, dtype: int64"
      ]
     },
     "execution_count": 8,
     "metadata": {},
     "output_type": "execute_result"
    }
   ],
   "source": [
    "data1['class'].value_counts()"
   ]
  },
  {
   "cell_type": "code",
   "execution_count": null,
   "metadata": {},
   "outputs": [],
   "source": [
    "data1.to_csv(\"Health_Data_Auto_Labled.csv\", index=False)"
   ]
  },
  {
   "attachments": {},
   "cell_type": "markdown",
   "metadata": {},
   "source": [
    "## 2nd Mothod (22 phrases used)"
   ]
  },
  {
   "cell_type": "code",
   "execution_count": null,
   "metadata": {},
   "outputs": [],
   "source": [
    "data1 = data.copy()"
   ]
  },
  {
   "cell_type": "code",
   "execution_count": 18,
   "metadata": {},
   "outputs": [],
   "source": [
    "## if any complete phrase exist in the sentence then assigning it 1, elsewise 0\n",
    "\n",
    "data1['class'] = 0\n",
    "\n",
    "for i, row in data1.iterrows():\n",
    "    for phrase in phrases:\n",
    "        if phrase in row['HealthPrivacyPolicy']:\n",
    "            data1.at[i, 'class'] = 1\n",
    "            break"
   ]
  },
  {
   "cell_type": "code",
   "execution_count": 19,
   "metadata": {},
   "outputs": [
    {
     "data": {
      "text/plain": [
       "1    88\n",
       "0    11\n",
       "Name: class, dtype: int64"
      ]
     },
     "execution_count": 19,
     "metadata": {},
     "output_type": "execute_result"
    }
   ],
   "source": [
    "data1['class'].value_counts()"
   ]
  },
  {
   "cell_type": "code",
   "execution_count": 20,
   "metadata": {},
   "outputs": [],
   "source": [
    "data1.to_csv(\"Health_Data_Auto_Labled.csv\", index=False)"
   ]
  },
  {
   "attachments": {},
   "cell_type": "markdown",
   "metadata": {},
   "source": [
    "## 3rd Method (13 phrases used - provided in the link)"
   ]
  },
  {
   "cell_type": "code",
   "execution_count": 23,
   "metadata": {},
   "outputs": [],
   "source": [
    "# 13 phrases (extracted from the provided link)\n",
    "phrases2 = [' An Open and Transparent Management of Personal Information', 'Anonymity and Pseudonymity', 'Collection of Solicited Personal Information', 'Unsolicited Personal Information', 'Notification of Collection of Personal Information', 'Use or Disclosure of Personal Information', 'Direct Marketing', 'Cross-Border Disclosure of Personal Information', 'Adoption, Use or Disclosure of Government Related Identifiers', 'Quality of Personal Information', 'Security of Personal Information', 'Access to Personal Information', 'Correction of Personal Information']"
   ]
  },
  {
   "cell_type": "code",
   "execution_count": 13,
   "metadata": {},
   "outputs": [],
   "source": [
    "data1 = data.copy()"
   ]
  },
  {
   "cell_type": "code",
   "execution_count": 14,
   "metadata": {},
   "outputs": [],
   "source": [
    "## if any complete phrase exist in the sentence then assigning it 1, elsewise 0\n",
    "\n",
    "data1['class'] = 0\n",
    "\n",
    "for i, row in data1.iterrows():\n",
    "    for phrase in phrases2:\n",
    "        if phrase in row['HealthPrivacyPolicy']:\n",
    "            data1.at[i, 'class'] = 1\n",
    "            break"
   ]
  },
  {
   "cell_type": "code",
   "execution_count": 16,
   "metadata": {},
   "outputs": [
    {
     "data": {
      "text/plain": [
       "0    99\n",
       "Name: class, dtype: int64"
      ]
     },
     "execution_count": 16,
     "metadata": {},
     "output_type": "execute_result"
    }
   ],
   "source": [
    "data1['class'].value_counts()"
   ]
  },
  {
   "cell_type": "code",
   "execution_count": null,
   "metadata": {},
   "outputs": [],
   "source": [
    "data1.to_csv(\"Health_Data_Auto_Labled.csv\", index=False)"
   ]
  }
 ],
 "metadata": {
  "kernelspec": {
   "display_name": "bert_trans",
   "language": "python",
   "name": "bert_trans"
  },
  "language_info": {
   "codemirror_mode": {
    "name": "ipython",
    "version": 3
   },
   "file_extension": ".py",
   "mimetype": "text/x-python",
   "name": "python",
   "nbconvert_exporter": "python",
   "pygments_lexer": "ipython3",
   "version": "3.10.10"
  },
  "orig_nbformat": 4
 },
 "nbformat": 4,
 "nbformat_minor": 2
}
