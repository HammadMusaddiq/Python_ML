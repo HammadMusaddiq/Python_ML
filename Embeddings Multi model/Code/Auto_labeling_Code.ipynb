{
  "cells": [
    {
      "cell_type": "code",
      "source": [
        "pip install scikit-learn"
      ],
      "metadata": {
        "colab": {
          "base_uri": "https://localhost:8080/"
        },
        "id": "UF_2bw41yMYr",
        "outputId": "0c4803f1-46c9-4d0d-be82-573304267a54"
      },
      "id": "UF_2bw41yMYr",
      "execution_count": null,
      "outputs": [
        {
          "output_type": "stream",
          "name": "stdout",
          "text": [
            "Requirement already satisfied: scikit-learn in /usr/local/lib/python3.7/dist-packages (1.0.2)\n",
            "Requirement already satisfied: joblib>=0.11 in /usr/local/lib/python3.7/dist-packages (from scikit-learn) (1.1.0)\n",
            "Requirement already satisfied: numpy>=1.14.6 in /usr/local/lib/python3.7/dist-packages (from scikit-learn) (1.21.5)\n",
            "Requirement already satisfied: threadpoolctl>=2.0.0 in /usr/local/lib/python3.7/dist-packages (from scikit-learn) (3.1.0)\n",
            "Requirement already satisfied: scipy>=1.1.0 in /usr/local/lib/python3.7/dist-packages (from scikit-learn) (1.4.1)\n"
          ]
        }
      ]
    },
    {
      "cell_type": "code",
      "execution_count": null,
      "id": "a260022f",
      "metadata": {
        "id": "a260022f"
      },
      "outputs": [],
      "source": [
        "import pandas as pd\n",
        "import matplotlib.pyplot as plt\n"
      ]
    },
    {
      "cell_type": "code",
      "execution_count": null,
      "id": "21649707",
      "metadata": {
        "colab": {
          "base_uri": "https://localhost:8080/"
        },
        "id": "21649707",
        "outputId": "5c34cbc3-1065-42ef-e31c-d90e558aa676"
      },
      "outputs": [
        {
          "output_type": "execute_result",
          "data": {
            "text/plain": [
              "(999, 1)"
            ]
          },
          "metadata": {},
          "execution_count": 3
        }
      ],
      "source": [
        "df = pd.read_excel(\"Health Related Policies-Labled 1000 Records.xlsx\")\n",
        "df.shape"
      ]
    },
    {
      "cell_type": "code",
      "execution_count": null,
      "id": "8de9c34f",
      "metadata": {
        "colab": {
          "base_uri": "https://localhost:8080/",
          "height": 206
        },
        "id": "8de9c34f",
        "outputId": "dc509fb8-907c-458c-c2b7-2a46b3e0c23c"
      },
      "outputs": [
        {
          "output_type": "execute_result",
          "data": {
            "text/plain": [
              "                                 HealthPrivacyPolicy\n",
              "0  HCF: This Privacy Policy covers the HCF group ...\n",
              "1  central sydney private hospital: Patient Priva...\n",
              "2  St Vincent’s Private Hospital Sydne: Privacy\\n...\n",
              "3  The Sydney Private Hospital is committed to pr...\n",
              "4  Privacy Statement for Sydney Local Health Dist..."
            ],
            "text/html": [
              "\n",
              "  <div id=\"df-26423402-b8ce-40e4-b9aa-6d24886885b4\">\n",
              "    <div class=\"colab-df-container\">\n",
              "      <div>\n",
              "<style scoped>\n",
              "    .dataframe tbody tr th:only-of-type {\n",
              "        vertical-align: middle;\n",
              "    }\n",
              "\n",
              "    .dataframe tbody tr th {\n",
              "        vertical-align: top;\n",
              "    }\n",
              "\n",
              "    .dataframe thead th {\n",
              "        text-align: right;\n",
              "    }\n",
              "</style>\n",
              "<table border=\"1\" class=\"dataframe\">\n",
              "  <thead>\n",
              "    <tr style=\"text-align: right;\">\n",
              "      <th></th>\n",
              "      <th>HealthPrivacyPolicy</th>\n",
              "    </tr>\n",
              "  </thead>\n",
              "  <tbody>\n",
              "    <tr>\n",
              "      <th>0</th>\n",
              "      <td>HCF: This Privacy Policy covers the HCF group ...</td>\n",
              "    </tr>\n",
              "    <tr>\n",
              "      <th>1</th>\n",
              "      <td>central sydney private hospital: Patient Priva...</td>\n",
              "    </tr>\n",
              "    <tr>\n",
              "      <th>2</th>\n",
              "      <td>St Vincent’s Private Hospital Sydne: Privacy\\n...</td>\n",
              "    </tr>\n",
              "    <tr>\n",
              "      <th>3</th>\n",
              "      <td>The Sydney Private Hospital is committed to pr...</td>\n",
              "    </tr>\n",
              "    <tr>\n",
              "      <th>4</th>\n",
              "      <td>Privacy Statement for Sydney Local Health Dist...</td>\n",
              "    </tr>\n",
              "  </tbody>\n",
              "</table>\n",
              "</div>\n",
              "      <button class=\"colab-df-convert\" onclick=\"convertToInteractive('df-26423402-b8ce-40e4-b9aa-6d24886885b4')\"\n",
              "              title=\"Convert this dataframe to an interactive table.\"\n",
              "              style=\"display:none;\">\n",
              "        \n",
              "  <svg xmlns=\"http://www.w3.org/2000/svg\" height=\"24px\"viewBox=\"0 0 24 24\"\n",
              "       width=\"24px\">\n",
              "    <path d=\"M0 0h24v24H0V0z\" fill=\"none\"/>\n",
              "    <path d=\"M18.56 5.44l.94 2.06.94-2.06 2.06-.94-2.06-.94-.94-2.06-.94 2.06-2.06.94zm-11 1L8.5 8.5l.94-2.06 2.06-.94-2.06-.94L8.5 2.5l-.94 2.06-2.06.94zm10 10l.94 2.06.94-2.06 2.06-.94-2.06-.94-.94-2.06-.94 2.06-2.06.94z\"/><path d=\"M17.41 7.96l-1.37-1.37c-.4-.4-.92-.59-1.43-.59-.52 0-1.04.2-1.43.59L10.3 9.45l-7.72 7.72c-.78.78-.78 2.05 0 2.83L4 21.41c.39.39.9.59 1.41.59.51 0 1.02-.2 1.41-.59l7.78-7.78 2.81-2.81c.8-.78.8-2.07 0-2.86zM5.41 20L4 18.59l7.72-7.72 1.47 1.35L5.41 20z\"/>\n",
              "  </svg>\n",
              "      </button>\n",
              "      \n",
              "  <style>\n",
              "    .colab-df-container {\n",
              "      display:flex;\n",
              "      flex-wrap:wrap;\n",
              "      gap: 12px;\n",
              "    }\n",
              "\n",
              "    .colab-df-convert {\n",
              "      background-color: #E8F0FE;\n",
              "      border: none;\n",
              "      border-radius: 50%;\n",
              "      cursor: pointer;\n",
              "      display: none;\n",
              "      fill: #1967D2;\n",
              "      height: 32px;\n",
              "      padding: 0 0 0 0;\n",
              "      width: 32px;\n",
              "    }\n",
              "\n",
              "    .colab-df-convert:hover {\n",
              "      background-color: #E2EBFA;\n",
              "      box-shadow: 0px 1px 2px rgba(60, 64, 67, 0.3), 0px 1px 3px 1px rgba(60, 64, 67, 0.15);\n",
              "      fill: #174EA6;\n",
              "    }\n",
              "\n",
              "    [theme=dark] .colab-df-convert {\n",
              "      background-color: #3B4455;\n",
              "      fill: #D2E3FC;\n",
              "    }\n",
              "\n",
              "    [theme=dark] .colab-df-convert:hover {\n",
              "      background-color: #434B5C;\n",
              "      box-shadow: 0px 1px 3px 1px rgba(0, 0, 0, 0.15);\n",
              "      filter: drop-shadow(0px 1px 2px rgba(0, 0, 0, 0.3));\n",
              "      fill: #FFFFFF;\n",
              "    }\n",
              "  </style>\n",
              "\n",
              "      <script>\n",
              "        const buttonEl =\n",
              "          document.querySelector('#df-26423402-b8ce-40e4-b9aa-6d24886885b4 button.colab-df-convert');\n",
              "        buttonEl.style.display =\n",
              "          google.colab.kernel.accessAllowed ? 'block' : 'none';\n",
              "\n",
              "        async function convertToInteractive(key) {\n",
              "          const element = document.querySelector('#df-26423402-b8ce-40e4-b9aa-6d24886885b4');\n",
              "          const dataTable =\n",
              "            await google.colab.kernel.invokeFunction('convertToInteractive',\n",
              "                                                     [key], {});\n",
              "          if (!dataTable) return;\n",
              "\n",
              "          const docLinkHtml = 'Like what you see? Visit the ' +\n",
              "            '<a target=\"_blank\" href=https://colab.research.google.com/notebooks/data_table.ipynb>data table notebook</a>'\n",
              "            + ' to learn more about interactive tables.';\n",
              "          element.innerHTML = '';\n",
              "          dataTable['output_type'] = 'display_data';\n",
              "          await google.colab.output.renderOutput(dataTable, element);\n",
              "          const docLink = document.createElement('div');\n",
              "          docLink.innerHTML = docLinkHtml;\n",
              "          element.appendChild(docLink);\n",
              "        }\n",
              "      </script>\n",
              "    </div>\n",
              "  </div>\n",
              "  "
            ]
          },
          "metadata": {},
          "execution_count": 4
        }
      ],
      "source": [
        "df.head()"
      ]
    },
    {
      "cell_type": "markdown",
      "id": "a62b8c81",
      "metadata": {
        "id": "a62b8c81"
      },
      "source": [
        "# Without preprocessing"
      ]
    },
    {
      "cell_type": "code",
      "execution_count": null,
      "id": "efc8cc12",
      "metadata": {
        "colab": {
          "base_uri": "https://localhost:8080/"
        },
        "id": "efc8cc12",
        "outputId": "c4572109-404f-46ee-ca8a-f3d49d1764a1"
      },
      "outputs": [
        {
          "output_type": "stream",
          "name": "stdout",
          "text": [
            "(999, 17310)\n"
          ]
        }
      ],
      "source": [
        "# -*- coding: utf-8 -*-\n",
        "''' This program takes a excel sheet as input where each row in first column of sheet represents a document.  '''\n",
        "\n",
        "import pandas as pd\n",
        "import numpy as np\n",
        "\n",
        "\n",
        "idea=df.iloc[:,0:1] #Selecting the first column that has text.\n",
        "\n",
        "#Converting the column of data from excel sheet into a list of documents, where each document corresponds to a group of sentences.\n",
        "corpus=[]\n",
        "for index,row in idea.iterrows():\n",
        "    corpus.append(row['HealthPrivacyPolicy'])\n",
        "\n",
        "'''Or you could just comment out the above code and use this dummy corpus list instead if you don't have the data.\n",
        "corpus=['She went to the airport to see him off.','I prefer reading to writing.','Los Angeles is in California. It's southeast of San Francisco.','I ate a burger then went to bed.','Compare your answer with Tom's.','I had hardly left home when it began to rain heavily.','If he had asked me, I would have given it to him. \n",
        "','I could have come by auto, but who would pay the fare? ','Whatever it may be, you should not have beaten him.','You should have told me yesterday','I should have joined this course last year.','Where are you going?','There are too many people here.','Everyone always asks me that.','I didn't think you were going to make it.','Be quiet while I am speaking.','I can't figure out why he said so.'] '''\n",
        "    \n",
        "    \n",
        "#Count Vectoriser then tidf transformer\n",
        "\n",
        "from sklearn.feature_extraction.text import CountVectorizer\n",
        "\n",
        "vectorizer = CountVectorizer()\n",
        "X = vectorizer.fit_transform(corpus)\n",
        "\n",
        "from sklearn.feature_extraction.text import TfidfTransformer\n",
        "\n",
        "transformer = TfidfTransformer(smooth_idf=False)\n",
        "tfidf = transformer.fit_transform(X)\n",
        "print(tfidf.shape )                        "
      ]
    },
    {
      "cell_type": "code",
      "execution_count": null,
      "id": "1967f291",
      "metadata": {
        "id": "1967f291"
      },
      "outputs": [],
      "source": [
        "# from sklearn.feature_extraction.text import TfidfVectorizer\n",
        "# v = TfidfVectorizer()\n",
        "# x = v.fit_transform(df['HealthPrivacyPolicy'])"
      ]
    },
    {
      "cell_type": "code",
      "execution_count": null,
      "id": "18ad7555",
      "metadata": {
        "colab": {
          "base_uri": "https://localhost:8080/",
          "height": 295
        },
        "id": "18ad7555",
        "outputId": "746f6afc-fd0f-479d-b2da-f913cfb03594"
      },
      "outputs": [
        {
          "output_type": "display_data",
          "data": {
            "text/plain": [
              "<Figure size 432x288 with 1 Axes>"
            ],
            "image/png": "[encoded data removed]"
          },
          "metadata": {
            "needs_background": "light"
          }
        }
      ],
      "source": [
        "from sklearn.cluster import KMeans\n",
        "Sum_of_squared_distances = []\n",
        "\n",
        "K = range(1,20)\n",
        "for num_clusters in K :\n",
        "    kmeans = KMeans(n_clusters=num_clusters)\n",
        "    kmeans.fit(tfidf)\n",
        "    Sum_of_squared_distances.append(kmeans.inertia_)\n",
        "plt.plot(K,Sum_of_squared_distances,'bx-')\n",
        "plt.xlabel('Values of K') \n",
        "plt.ylabel('Sum of squared distances/Inertia') \n",
        "plt.title('Elbow Method For Optimal k')\n",
        "plt.show()"
      ]
    },
    {
      "cell_type": "code",
      "execution_count": null,
      "id": "c92b1611",
      "metadata": {
        "id": "c92b1611"
      },
      "outputs": [],
      "source": [
        "def kMeansRes(scaled_data, k, alpha_k=0.02):\n",
        "    '''\n",
        "    Parameters \n",
        "    ----------\n",
        "    scaled_data: matrix \n",
        "        scaled data. rows are samples and columns are features for clustering\n",
        "    k: int\n",
        "        current k for applying KMeans\n",
        "    alpha_k: float\n",
        "        manually tuned factor that gives penalty to the number of clusters\n",
        "    Returns \n",
        "    -------\n",
        "    scaled_inertia: float\n",
        "        scaled inertia value for current k           \n",
        "    '''\n",
        "    \n",
        "    inertia_o = np.square((scaled_data - scaled_data.mean(axis=0))).sum()\n",
        "    # fit k-means\n",
        "    kmeans = KMeans(n_clusters=k, random_state=0).fit(scaled_data)\n",
        "    scaled_inertia = kmeans.inertia_ / inertia_o + alpha_k * k\n",
        "    return scaled_inertia\n",
        "\n",
        "def chooseBestKforKMeans(scaled_data, k_range):\n",
        "    ans = []\n",
        "    for k in k_range:\n",
        "        scaled_inertia = kMeansRes(scaled_data, k)\n",
        "        ans.append((k, scaled_inertia))\n",
        "    results = pd.DataFrame(ans, columns = ['k','Scaled Inertia']).set_index('k')\n",
        "    best_k = results.idxmin()[0]\n",
        "    return best_k, results"
      ]
    },
    {
      "cell_type": "code",
      "execution_count": null,
      "id": "1667601c",
      "metadata": {
        "scrolled": true,
        "id": "1667601c",
        "outputId": "8e5797d8-dd37-449e-e0fd-0c80a0835f71",
        "colab": {
          "base_uri": "https://localhost:8080/",
          "height": 625
        }
      },
      "outputs": [
        {
          "output_type": "execute_result",
          "data": {
            "text/plain": [
              "([<matplotlib.axis.XTick at 0x7f66c0d36a90>,\n",
              "  <matplotlib.axis.XTick at 0x7f66c0d36050>,\n",
              "  <matplotlib.axis.XTick at 0x7f66bdccee90>,\n",
              "  <matplotlib.axis.XTick at 0x7f66bd7df510>,\n",
              "  <matplotlib.axis.XTick at 0x7f66bd7df9d0>,\n",
              "  <matplotlib.axis.XTick at 0x7f66bd7dff10>,\n",
              "  <matplotlib.axis.XTick at 0x7f66bd7e44d0>,\n",
              "  <matplotlib.axis.XTick at 0x7f66bd7e4a10>,\n",
              "  <matplotlib.axis.XTick at 0x7f66bd7e48d0>,\n",
              "  <matplotlib.axis.XTick at 0x7f66bd7dfe50>,\n",
              "  <matplotlib.axis.XTick at 0x7f66bd7ec0d0>,\n",
              "  <matplotlib.axis.XTick at 0x7f66bd7ec790>,\n",
              "  <matplotlib.axis.XTick at 0x7f66bd7eccd0>,\n",
              "  <matplotlib.axis.XTick at 0x7f66bd7f52d0>,\n",
              "  <matplotlib.axis.XTick at 0x7f66bd7f5790>,\n",
              "  <matplotlib.axis.XTick at 0x7f66bd7f5cd0>,\n",
              "  <matplotlib.axis.XTick at 0x7f66bd7fe2d0>,\n",
              "  <matplotlib.axis.XTick at 0x7f66bd7fe790>],\n",
              " <a list of 18 Text major ticklabel objects>)"
            ]
          },
          "metadata": {},
          "execution_count": 8
        },
        {
          "output_type": "display_data",
          "data": {
            "text/plain": [
              "<Figure size 504x288 with 1 Axes>"
            ],
            "image/png": "[encoded data removed]"
          },
          "metadata": {
            "needs_background": "light"
          }
        }
      ],
      "source": [
        "# choose k range\n",
        "k_range=range(2,20)\n",
        "# compute adjusted intertia\n",
        "best_k, results = chooseBestKforKMeans(tfidf, k_range)\n",
        "\n",
        "# plot the results\n",
        "plt.figure(figsize=(7,4))\n",
        "plt.plot(results,'o')\n",
        "plt.title('Adjusted Inertia for each K')\n",
        "plt.xlabel('K')\n",
        "plt.ylabel('Adjusted Inertia')\n",
        "plt.xticks(range(2,20,1))"
      ]
    },
    {
      "cell_type": "code",
      "execution_count": null,
      "id": "2b1977c4",
      "metadata": {
        "id": "2b1977c4",
        "outputId": "a138f38c-1f5c-4f2d-ca7c-1d5680468cf2",
        "colab": {
          "base_uri": "https://localhost:8080/"
        }
      },
      "outputs": [
        {
          "output_type": "stream",
          "name": "stdout",
          "text": [
            "\n",
            "\n",
            "                                                 Idea  Cluster\n",
            "0   HCF: This Privacy Policy covers the HCF group ...        0\n",
            "1   central sydney private hospital: Patient Priva...        1\n",
            "0   St Vincent’s Private Hospital Sydne: Privacy\\n...        0\n",
            "1   The Sydney Private Hospital is committed to pr...        1\n",
            "1   Privacy Statement for Sydney Local Health Dist...        1\n",
            "..                                                ...      ...\n",
            "0   Why have we issued this privacy notice for our...        0\n",
            "0   Privacy Policy\\nGI Doctors (London) is committ...        0\n",
            "0   The Evewell (which is the trading name of The ...        0\n",
            "0   Privacy Notice\\nThis is the Kingston Hospital ...        0\n",
            "0   London Gynaecology Ltd (trading as London Colp...        0\n",
            "\n",
            "[999 rows x 2 columns]\n",
            "\n",
            "\n",
            "1    547\n",
            "0    452\n",
            "Name: Cluster, dtype: int64\n"
          ]
        }
      ],
      "source": [
        "from sklearn.cluster import KMeans\n",
        "\n",
        "num_clusters = 2 #Change it according to your data.\n",
        "km = KMeans(n_clusters=num_clusters)\n",
        "km.fit(tfidf)\n",
        "clusters = km.labels_.tolist()\n",
        "\n",
        "idea={'Idea':corpus, 'Cluster':clusters} #Creating dict having doc with the corresponding cluster number.\n",
        "frame=pd.DataFrame(idea,index=[clusters], columns=['Idea','Cluster']) # Converting it into a dataframe.\n",
        "\n",
        "print(\"\\n\")\n",
        "print(frame) #Print the doc with the labeled cluster number.\n",
        "print(\"\\n\")\n",
        "print(frame['Cluster'].value_counts()) #Print the counts of doc belonging to each cluster."
      ]
    },
    {
      "cell_type": "code",
      "execution_count": null,
      "id": "bd4454fd",
      "metadata": {
        "id": "bd4454fd",
        "outputId": "496d0a58-9d31-4f4b-9b5e-34f101d9ebc9"
      },
      "outputs": [
        {
          "data": {
            "text/html": [
              "<div>\n",
              "<style scoped>\n",
              "    .dataframe tbody tr th:only-of-type {\n",
              "        vertical-align: middle;\n",
              "    }\n",
              "\n",
              "    .dataframe tbody tr th {\n",
              "        vertical-align: top;\n",
              "    }\n",
              "\n",
              "    .dataframe thead th {\n",
              "        text-align: right;\n",
              "    }\n",
              "</style>\n",
              "<table border=\"1\" class=\"dataframe\">\n",
              "  <thead>\n",
              "    <tr style=\"text-align: right;\">\n",
              "      <th></th>\n",
              "      <th>Idea</th>\n",
              "      <th>Cluster</th>\n",
              "    </tr>\n",
              "  </thead>\n",
              "  <tbody>\n",
              "    <tr>\n",
              "      <th>1</th>\n",
              "      <td>HCF: This Privacy Policy covers the HCF group ...</td>\n",
              "      <td>1</td>\n",
              "    </tr>\n",
              "    <tr>\n",
              "      <th>4</th>\n",
              "      <td>central sydney private hospital: Patient Priva...</td>\n",
              "      <td>4</td>\n",
              "    </tr>\n",
              "    <tr>\n",
              "      <th>1</th>\n",
              "      <td>St Vincent’s Private Hospital Sydne: Privacy\\n...</td>\n",
              "      <td>1</td>\n",
              "    </tr>\n",
              "    <tr>\n",
              "      <th>4</th>\n",
              "      <td>The Sydney Private Hospital is committed to pr...</td>\n",
              "      <td>4</td>\n",
              "    </tr>\n",
              "    <tr>\n",
              "      <th>3</th>\n",
              "      <td>Privacy Statement for Sydney Local Health Dist...</td>\n",
              "      <td>3</td>\n",
              "    </tr>\n",
              "    <tr>\n",
              "      <th>...</th>\n",
              "      <td>...</td>\n",
              "      <td>...</td>\n",
              "    </tr>\n",
              "    <tr>\n",
              "      <th>1</th>\n",
              "      <td>Why have we issued this privacy notice for our...</td>\n",
              "      <td>1</td>\n",
              "    </tr>\n",
              "    <tr>\n",
              "      <th>1</th>\n",
              "      <td>Privacy Policy\\nGI Doctors (London) is committ...</td>\n",
              "      <td>1</td>\n",
              "    </tr>\n",
              "    <tr>\n",
              "      <th>1</th>\n",
              "      <td>The Evewell (which is the trading name of The ...</td>\n",
              "      <td>1</td>\n",
              "    </tr>\n",
              "    <tr>\n",
              "      <th>1</th>\n",
              "      <td>Privacy Notice\\nThis is the Kingston Hospital ...</td>\n",
              "      <td>1</td>\n",
              "    </tr>\n",
              "    <tr>\n",
              "      <th>1</th>\n",
              "      <td>London Gynaecology Ltd (trading as London Colp...</td>\n",
              "      <td>1</td>\n",
              "    </tr>\n",
              "  </tbody>\n",
              "</table>\n",
              "<p>999 rows × 2 columns</p>\n",
              "</div>"
            ],
            "text/plain": [
              "                                                 Idea  Cluster\n",
              "1   HCF: This Privacy Policy covers the HCF group ...        1\n",
              "4   central sydney private hospital: Patient Priva...        4\n",
              "1   St Vincent’s Private Hospital Sydne: Privacy\\n...        1\n",
              "4   The Sydney Private Hospital is committed to pr...        4\n",
              "3   Privacy Statement for Sydney Local Health Dist...        3\n",
              "..                                                ...      ...\n",
              "1   Why have we issued this privacy notice for our...        1\n",
              "1   Privacy Policy\\nGI Doctors (London) is committ...        1\n",
              "1   The Evewell (which is the trading name of The ...        1\n",
              "1   Privacy Notice\\nThis is the Kingston Hospital ...        1\n",
              "1   London Gynaecology Ltd (trading as London Colp...        1\n",
              "\n",
              "[999 rows x 2 columns]"
            ]
          },
          "execution_count": 118,
          "metadata": {},
          "output_type": "execute_result"
        }
      ],
      "source": [
        "frame"
      ]
    },
    {
      "cell_type": "code",
      "execution_count": null,
      "id": "8d37d8f6",
      "metadata": {
        "id": "8d37d8f6"
      },
      "outputs": [],
      "source": [
        "frame.to_excel('test.xlsx')"
      ]
    },
    {
      "cell_type": "code",
      "execution_count": null,
      "id": "d4de0959",
      "metadata": {
        "id": "d4de0959"
      },
      "outputs": [],
      "source": [
        ""
      ]
    },
    {
      "cell_type": "code",
      "execution_count": null,
      "id": "09a252e8",
      "metadata": {
        "id": "09a252e8"
      },
      "outputs": [],
      "source": [
        ""
      ]
    },
    {
      "cell_type": "markdown",
      "id": "678bf830",
      "metadata": {
        "id": "678bf830"
      },
      "source": [
        "# With preprocessing"
      ]
    },
    {
      "cell_type": "code",
      "execution_count": null,
      "id": "160b8345",
      "metadata": {
        "id": "160b8345"
      },
      "outputs": [],
      "source": [
        "import re"
      ]
    },
    {
      "cell_type": "code",
      "execution_count": null,
      "id": "4f62766b",
      "metadata": {
        "id": "4f62766b",
        "outputId": "5ebea022-0908-4e4a-f63a-976ffc1b19cf",
        "colab": {
          "base_uri": "https://localhost:8080/"
        }
      },
      "outputs": [
        {
          "output_type": "stream",
          "name": "stderr",
          "text": [
            "100%|██████████| 999/999 [00:00<00:00, 60065.51it/s]\n"
          ]
        }
      ],
      "source": [
        "from tqdm import tqdm\n",
        "lst = []\n",
        "removed_urls_list = []\n",
        "for text in tqdm(df['HealthPrivacyPolicy']):\n",
        "    removed_urls_text = re.sub(r\"http\\S+\", \"\", text)\n",
        "    lst.append(removed_urls_text)"
      ]
    },
    {
      "cell_type": "code",
      "execution_count": null,
      "id": "c349c4d2",
      "metadata": {
        "id": "c349c4d2",
        "outputId": "e20943a2-a107-46a3-ddca-7d990a182593",
        "colab": {
          "base_uri": "https://localhost:8080/"
        }
      },
      "outputs": [
        {
          "output_type": "stream",
          "name": "stderr",
          "text": [
            "100%|██████████| 999/999 [00:00<00:00, 57422.36it/s]\n"
          ]
        }
      ],
      "source": [
        "#remove urls from text python\n",
        "removed_urls_list = []\n",
        "for text in tqdm(lst):\n",
        "    removed_urls_text = re.sub(r\"http\\S+\", \"\", text)\n",
        "    removed_urls_list.append(removed_urls_text)"
      ]
    },
    {
      "cell_type": "code",
      "execution_count": null,
      "id": "d67bb370",
      "metadata": {
        "id": "d67bb370",
        "outputId": "2633d270-dd7c-44c8-a8ef-f0d4e09248be",
        "colab": {
          "base_uri": "https://localhost:8080/"
        }
      },
      "outputs": [
        {
          "output_type": "stream",
          "name": "stderr",
          "text": [
            "100%|██████████| 999/999 [00:00<00:00, 2548.73it/s]\n"
          ]
        }
      ],
      "source": [
        "from bs4 import BeautifulSoup\n",
        "text_lst = []\n",
        "for text in tqdm(removed_urls_list):\n",
        "    soup = BeautifulSoup(text, 'lxml')\n",
        "    text = soup.get_text()\n",
        "    text_lst.append(text)"
      ]
    },
    {
      "cell_type": "code",
      "execution_count": null,
      "id": "913dcb79",
      "metadata": {
        "id": "913dcb79"
      },
      "outputs": [],
      "source": [
        "import re\n",
        "\n",
        "def decontracted(phrase):\n",
        "    # specific\n",
        "    phrase = re.sub(r\"won't\", \"will not\", phrase)\n",
        "    phrase = re.sub(r\"can\\'t\", \"can not\", phrase)\n",
        "    phrase = re.sub(r\"n\\'t\", \" not\", phrase)\n",
        "    phrase = re.sub(r\"\\'re\", \" are\", phrase)\n",
        "    phrase = re.sub(r\"\\'s\", \" is\", phrase)\n",
        "    phrase = re.sub(r\"\\'d\", \" would\", phrase)\n",
        "    phrase = re.sub(r\"\\'ll\", \" will\", phrase)\n",
        "    phrase = re.sub(r\"\\'t\", \" not\", phrase)\n",
        "    phrase = re.sub(r\"\\'ve\", \" have\", phrase)\n",
        "    phrase = re.sub(r\"\\'m\", \" am\", phrase)\n",
        "    return phrase"
      ]
    },
    {
      "cell_type": "code",
      "execution_count": null,
      "id": "4c7307e1",
      "metadata": {
        "id": "4c7307e1",
        "outputId": "b6b693d1-0263-4545-96ac-79d2dbc6aac5",
        "colab": {
          "base_uri": "https://localhost:8080/"
        }
      },
      "outputs": [
        {
          "output_type": "stream",
          "name": "stderr",
          "text": [
            "100%|██████████| 999/999 [00:00<00:00, 9313.18it/s]\n"
          ]
        }
      ],
      "source": [
        "decat_lst = []\n",
        "for decat_text in tqdm(text_lst):\n",
        "    text = decontracted(decat_text)\n",
        "    decat_lst.append(text)"
      ]
    },
    {
      "cell_type": "code",
      "execution_count": null,
      "id": "f4337d65",
      "metadata": {
        "id": "f4337d65",
        "outputId": "e7cd07f7-5612-489b-bf9f-945f98f4015e",
        "colab": {
          "base_uri": "https://localhost:8080/"
        }
      },
      "outputs": [
        {
          "output_type": "stream",
          "name": "stderr",
          "text": [
            "100%|██████████| 999/999 [00:01<00:00, 769.90it/s]\n"
          ]
        }
      ],
      "source": [
        "strip_list = []\n",
        "for to_strip in tqdm(decat_lst):\n",
        "    text = re.sub(\"\\S*\\d\\S*\", \"\", to_strip).strip()\n",
        "    strip_list.append(text)"
      ]
    },
    {
      "cell_type": "code",
      "execution_count": null,
      "id": "d7b2fdf0",
      "metadata": {
        "id": "d7b2fdf0",
        "outputId": "557191ba-89bf-423a-b17e-1ffd3a511f21",
        "colab": {
          "base_uri": "https://localhost:8080/"
        }
      },
      "outputs": [
        {
          "output_type": "stream",
          "name": "stderr",
          "text": [
            "100%|██████████| 999/999 [00:00<00:00, 2191.41it/s]\n"
          ]
        }
      ],
      "source": [
        "spatial_list = []\n",
        "for to_spatial in tqdm(strip_list):\n",
        "    text = re.sub('[^A-Za-z0-9]+', ' ', to_spatial)\n",
        "    spatial_list.append(text)"
      ]
    },
    {
      "cell_type": "code",
      "execution_count": null,
      "id": "1c7e3f20",
      "metadata": {
        "id": "1c7e3f20",
        "outputId": "15f01a69-fc60-4b46-db56-e60fe5c60454",
        "colab": {
          "base_uri": "https://localhost:8080/"
        }
      },
      "outputs": [
        {
          "output_type": "stream",
          "name": "stderr",
          "text": [
            "100%|██████████| 999/999 [00:04<00:00, 210.84it/s]\n"
          ]
        }
      ],
      "source": [
        "from nltk.corpus import stopwords\n",
        "# Combining all the above stundents \n",
        "preprocessed_reviews = []\n",
        "stopwords = stopwords.words('english')\n",
        "# tqdm is for printing the status bar\n",
        "for sentance in tqdm(spatial_list):\n",
        "    sentance = re.sub(r\"http\\S+\", \"\", sentance)\n",
        "    sentance = BeautifulSoup(sentance, 'lxml').get_text()\n",
        "    sentance = decontracted(sentance)\n",
        "    sentance = re.sub(\"\\S*\\d\\S*\", \"\", sentance).strip()\n",
        "    sentance = re.sub('[^A-Za-z]+', ' ', sentance)\n",
        "    # https://gist.github.com/sebleier/554280\n",
        "    sentance = ' '.join(e.lower() for e in sentance.split() if e.lower() not in stopwords)\n",
        "    preprocessed_reviews.append(sentance.strip())"
      ]
    },
    {
      "cell_type": "code",
      "execution_count": null,
      "id": "de2b6d71",
      "metadata": {
        "scrolled": true,
        "id": "de2b6d71",
        "outputId": "429c0d9e-91bb-4b7d-fcfb-76324b832000",
        "colab": {
          "base_uri": "https://localhost:8080/",
          "height": 158
        }
      },
      "outputs": [
        {
          "output_type": "stream",
          "name": "stdout",
          "text": [
            "999\n"
          ]
        },
        {
          "output_type": "execute_result",
          "data": {
            "text/plain": [
              "'hcf privacy policy covers hcf group companies hcf group hospitals contribution fund australia ltd hcf life insurance company pty ltd manchester unity australia ltd treytell pty limited hcf research foundation ltd committed protecting privacy handle personal information accordance privacy policy obligations privacy act cth relevant state legislation dealing privacy health records also comply spam act cth call register act cth amended time time overseas visitor health cover ovhc member european union processing personal information also subject general data protection regulation gdpr may sort personal information usually collect personal information broadly information relating identified us identified sensitive information special subset personal information includes health information purposes privacy policy references personal information includes sensitive information personal information may collect includes information relevant health life travel pet insurance cover dental optical services related products services name residential postal email addresses telephone mobile number relevant contact details family marital status date birth gender ethnicity employment details bank account credit card details relevant financial information pet details age breed veterinary history marketing preferences government related identifiers medicare number australian tax office file number claims information analysis data includes health information expenses paid claimed health care providers treated treatment received sensitive information example health records medical history including limited pre existing conditions health services provided usage data supplied mobile applications materials delivered line criminal history additional information relation life insurance cover services income insurance history additional information collected website mobile applications height weight blood pressure cholesterol levels lifestyle mental health status smoking history exercise information health questionnaire information including pre existing conditions family history including pre existing conditions respect providers hcf group information name practice business name practice postal email addresses telephone fax mobile number government related identifiers medicare provider number australian health practitioner regulation agency number australian company number australian business number claims information professional services charges expenses including pocket gap costs members pay treatments performed members provide us time time including benefits payable results analysis data pocket gap expenses whether registered use hcf medical gap arrangements feedback members service provide time time practice business bank account details collect personal information may collect personal information persons authorised person via mail email mobile applications website internet applications e g facebook twitter phone verification training purposes forms claims correspondence using services provided hcf sometimes may need collect personal information third parties health service providers hospitals hospital substitute treatment providers general practitioners optometrists allied health providers service providers providers health well services electronic claiming software providers another health insurer insurer brokers agents referrers policyholder partner dependent example child student insured policy government agencies employer advisers immigration agents financial educational institutions provider department human services government regulatory agencies electronic claiming software providers members research companies collect feedback members behalf us happens give us information wish us use disclose purpose right give us information identify us interact anonymously using pseudonym tell us wish us use disclose personal information particular purpose particular way however choose give us personal information request identify us ask us use disclose information particular purpose may able consider application insurance administer policy enter contract provide product service provide relevant services manage pay claims make policy provide relevant insurance health dental optical services consider recognition provider register consequently pay members services provide accordance arrangements obligations use personal information insurance health dental optical services use personal information collect contract provide products services may provided third party providers behalf including insurance health dental optical services recording treatment managing relationship administer process audit claims may also use personal information related purposes would reasonably expect legitimate interest complying applicable laws assessing insurance health related lifestyle needs developing products services may better serve needs assessing possible interest products services telling telling otherwise publishing details provider charges pocket gap costs members may incurred conducting risk forecasting functions consent improving service delivery asking feedback opinions services benefits product offerings resolving legal commercial complaints issues performing functions activities relating business hcf group developing programs benefit members personal information collect members providing health insurance associated services able develop programs intended benefit members instances participation programs offered members instances invitation participate targeted specific members likely benefit participation programs program designed assist members generally inform members via general communication availability program example via website publications advertisements invite participate program opting program program designed assist members specific illnesses conditions offer members choice opting participate program relation programs participation entirely voluntary participation non participation affect benefit entitlements premiums client relationship way wish participate program invited join may decline invitation may time withdraw program may enrolled providers provider health provider collect use information provider charges may include personal information administer claims deal complaints obtain feedback members experience update members understand costs including pocket gap costs may publish information website communicate members ways service members including sharing websites partner individuals may also collect use disclose personal information individuals members providers guardians authorised individuals carers representatives third party service providers hcf officers directors prospective employees members public order provide products services administer business manage job applications comply applicable laws provide various promotional offers requests stop direct marketing us may communicate telephone electronically mail current new products services including participation programs develop may ask us time stop sending direct marketing information contacted behalf particular way hcf website hcf com au members log update preferences email service myhcf com au visit hcf branch call disclose information third parties may share disclose personal information accordance purposes described heading use personal information third parties individuals may located overseas certain circumstances including policyholder partner dependant insured policy purposes hcf membership contract policyholder requires us full free communication policyholder aspects policy including benefits claimed person covered policy organisations deliver services behalf us third parties contract assess process claims administer programs services develop benefit members research companies contracted us ask opinions improving hcf group service benefits product offerings third party vendors placed targeted online ads us sites mailing houses service providers example advisors purposes obtaining legal advice technology providers companies within hcf group corporate partners employee member organisation third party websites partner healthcare provider fraud prevention agencies government bodies regulators including law enforcement bodies police professional associations industry bodies health service providers personal information used improve ability provide health services insurers reinsurers including health insurers moved insurance hcf disclosure otherwise authorised required applicable laws legal regulatory process members public removal personal information publish details analysis claims data charges including pocket gap costs charged health service providers different treatments third parties disclose permit access personal information course providing services behalf subject strict contractual restrictions ensure protect personal information keep confidential consistent relevant privacy data protection laws event hcf part business undergoes organisation sold licensed third party personal information hold may transferred organised entity licensee third party normally give personal information anyone membership need give us written permission want someone covered membership friend carer deal us behalf overseas disclosures organisations disclose personal information may located outside australia disclose personal information overseas recipient without taking steps reasonable circumstances ensure overseas recipient breach australian privacy principles set privacy act cth ovhc member european economic area eea may use service providers based outside eea take steps ensure personal information afforded level protection required us accordance privacy policy applicable data protection laws accordance current legally recognised data transfer mechanisms appropriate european commission approved standard contractual clauses see information websites mobile applications collected used collect information complete online form give us email address access use services website mobile applications collect data website mobile applications help us understand popular items peak usage times along information helps us improve content make navigation easier information may used develop new services enhance existing services provided hcf members visit website send cookie computer small piece information stored hard drive tells us computer accessed website cookie able identify want use cookies set browser reject data mobile applications may include information supply application well location information provided device location services given permission application access location services enables us provide useful services finding health care providers close location hcf uses remarketing web based analytics google analytics advertise online third party vendors including google show hcf advertisements websites across internet hcf third party vendors including google use first party cookies google analytics cookie third party cookies doubleclick cookie together inform optimise serve ads based someone past visits hcf website linked websites provide links third party sites since control websites encourage review privacy policies posted third party sites responsible practices linked websites might breach privacy storage security personal information take reasonable steps protect personal information hold misuse interference loss unauthorised access modification disclosure destroy de identify personal information longer need wherever possible case clinical information collected hcf operated health service providers dental centres eyecare centres information held least seven years last time health service provided accordance health records legislation someone age used health service information held least person turned keep member personal information long maintain relationship otherwise required business operations applicable laws including enforce rights fraud prevention identify issue resolve legal claims proper record keeping purposes privacy rights access correct personal information take reasonable steps ensure information hold accurate date complete relevant use disclose contact us think personal information wrong need update contact details members section website hcf com au members question privacy policy want access otherwise correct personal information email service myhcf com au visit hcf branch call write hcf george street sydney nsw request access needs include full description personal information requested making request person asked two forms identification one must photograph request information phone ask identity related questions verify request access personal information documented details request identity hcf employee gave generally give access unless exemption applies certain information permitted australian privacy principles privacy act cth believe information hold inaccurate date incomplete irrelevant misleading request correction satisfied information needs corrected take reasonable steps ensure information corrected notify correction however may circumstances may refuse request correction case request associate statement personal information made request correction charged accessing correcting information might charge reasonable cost processing access request including photocopying copying radiographs supplying written reports administration postage overseas visitor health cover member ovhc member also certain circumstances right request personal information hold erased processing restricted object processing certain circumstances also right data portability meaning receive personal information provided us structured commonly used machine readable format transmitted another party may also withdraw consent provided object processing personal information certain circumstances refuse request make relation rights write explain make complaint decision make request respect rights make complaint contact us set also right lodge complaint relevant data protection supervisory authority respond request acknowledge receipt request within business days receiving request best deal request within business days cannot help request receive written explanation details take matter satisfied response concern query relation privacy concerns queries privacy email privacyofficer hcf com au visit hcf branch call best resolve complaint quickly possible however satisfied result complaint us refer complaint office australian information commissioner online privacy complaint form oaic gov au call mail gpo box sydney nsw need information information privacy general visit office australian information commissioner website oaic gov au updating privacy policy may review amend revise privacy policy way handle personal information time time post updated privacy policy website hcf com au terms take effect date posting last updated september'"
            ],
            "application/vnd.google.colaboratory.intrinsic+json": {
              "type": "string"
            }
          },
          "metadata": {},
          "execution_count": 26
        }
      ],
      "source": [
        "print(len(preprocessed_reviews))\n",
        "preprocessed_reviews[0]"
      ]
    },
    {
      "cell_type": "code",
      "source": [
        "import nltk\n",
        "nltk.download('stopwords')"
      ],
      "metadata": {
        "colab": {
          "base_uri": "https://localhost:8080/"
        },
        "id": "dxcWsrw41mwg",
        "outputId": "f0b60765-86a4-455e-80f8-2ae0a6505ba9"
      },
      "id": "dxcWsrw41mwg",
      "execution_count": null,
      "outputs": [
        {
          "output_type": "stream",
          "name": "stdout",
          "text": [
            "[nltk_data] Downloading package stopwords to /root/nltk_data...\n",
            "[nltk_data]   Unzipping corpora/stopwords.zip.\n"
          ]
        },
        {
          "output_type": "execute_result",
          "data": {
            "text/plain": [
              "True"
            ]
          },
          "metadata": {},
          "execution_count": 24
        }
      ]
    },
    {
      "cell_type": "code",
      "execution_count": null,
      "id": "1f04cdcc",
      "metadata": {
        "id": "1f04cdcc",
        "outputId": "82153d40-ecd6-425e-eac4-bc2f4390029a",
        "colab": {
          "base_uri": "https://localhost:8080/"
        }
      },
      "outputs": [
        {
          "output_type": "stream",
          "name": "stdout",
          "text": [
            "(999, 13616)\n"
          ]
        }
      ],
      "source": [
        "from sklearn.feature_extraction.text import CountVectorizer\n",
        "\n",
        "vectorizer = CountVectorizer()\n",
        "count_X = vectorizer.fit_transform(preprocessed_reviews)\n",
        "\n",
        "from sklearn.feature_extraction.text import TfidfTransformer\n",
        "\n",
        "transformer = TfidfTransformer(smooth_idf=False)\n",
        "tfidf_X = transformer.fit_transform(count_X)\n",
        "print(tfidf_X.shape )     "
      ]
    },
    {
      "cell_type": "code",
      "execution_count": null,
      "id": "3ddb4d0b",
      "metadata": {
        "id": "3ddb4d0b",
        "outputId": "32deebed-7c82-4d98-d3e7-d66bd30c2bb3",
        "colab": {
          "base_uri": "https://localhost:8080/",
          "height": 295
        }
      },
      "outputs": [
        {
          "output_type": "display_data",
          "data": {
            "text/plain": [
              "<Figure size 432x288 with 1 Axes>"
            ],
            "image/png": "[encoded data removed]"
          },
          "metadata": {
            "needs_background": "light"
          }
        }
      ],
      "source": [
        "Sum_of_squared_distances = []\n",
        "K = range(1,20)\n",
        "for num_clusters in K :\n",
        "    kmeans = KMeans(n_clusters=num_clusters)\n",
        "    kmeans.fit(tfidf_X)\n",
        "    Sum_of_squared_distances.append(kmeans.inertia_)\n",
        "plt.plot(K,Sum_of_squared_distances,'bx-')\n",
        "plt.xlabel('Values of K') \n",
        "plt.ylabel('Sum of squared distances/Inertia') \n",
        "plt.title('Elbow Method For Optimal k')\n",
        "plt.show()"
      ]
    },
    {
      "cell_type": "code",
      "execution_count": null,
      "id": "599d7717",
      "metadata": {
        "id": "599d7717"
      },
      "outputs": [],
      "source": [
        "def kMeansRes(scaled_data, k, alpha_k=0.02):\n",
        "    '''\n",
        "    Parameters \n",
        "    ----------\n",
        "    scaled_data: matrix \n",
        "        scaled data. rows are samples and columns are features for clustering\n",
        "    k: int\n",
        "        current k for applying KMeans\n",
        "    alpha_k: float\n",
        "        manually tuned factor that gives penalty to the number of clusters\n",
        "    Returns \n",
        "    -------\n",
        "    scaled_inertia: float\n",
        "        scaled inertia value for current k           \n",
        "    '''\n",
        "    \n",
        "    inertia_o = np.square((scaled_data - scaled_data.mean(axis=0))).sum()\n",
        "    # fit k-means\n",
        "    kmeans = KMeans(n_clusters=k, random_state=0).fit(scaled_data)\n",
        "    scaled_inertia = kmeans.inertia_ / inertia_o + alpha_k * k\n",
        "    return scaled_inertia\n",
        "\n",
        "def chooseBestKforKMeans(scaled_data, k_range):\n",
        "    ans = []\n",
        "    for k in k_range:\n",
        "        scaled_inertia = kMeansRes(scaled_data, k)\n",
        "        ans.append((k, scaled_inertia))\n",
        "    results = pd.DataFrame(ans, columns = ['k','Scaled Inertia']).set_index('k')\n",
        "    best_k = results.idxmin()[0]\n",
        "    return best_k, results"
      ]
    },
    {
      "cell_type": "code",
      "execution_count": null,
      "id": "247e448a",
      "metadata": {
        "scrolled": true,
        "id": "247e448a",
        "outputId": "8e12fad2-07f3-45e2-958c-5f4cc65eb41b",
        "colab": {
          "base_uri": "https://localhost:8080/",
          "height": 625
        }
      },
      "outputs": [
        {
          "output_type": "execute_result",
          "data": {
            "text/plain": [
              "([<matplotlib.axis.XTick at 0x7f66c1f99610>,\n",
              "  <matplotlib.axis.XTick at 0x7f66c1f5be10>,\n",
              "  <matplotlib.axis.XTick at 0x7f66b8b82150>,\n",
              "  <matplotlib.axis.XTick at 0x7f66c1d86d50>,\n",
              "  <matplotlib.axis.XTick at 0x7f66c1f616d0>,\n",
              "  <matplotlib.axis.XTick at 0x7f66c1f618d0>,\n",
              "  <matplotlib.axis.XTick at 0x7f66c1f5a050>,\n",
              "  <matplotlib.axis.XTick at 0x7f66c1f5a450>,\n",
              "  <matplotlib.axis.XTick at 0x7f66c1f5a810>,\n",
              "  <matplotlib.axis.XTick at 0x7f66c1f46d10>,\n",
              "  <matplotlib.axis.XTick at 0x7f66c1f464d0>,\n",
              "  <matplotlib.axis.XTick at 0x7f66c1f5aa90>,\n",
              "  <matplotlib.axis.XTick at 0x7f66c1f5aad0>,\n",
              "  <matplotlib.axis.XTick at 0x7f66c1f46a50>,\n",
              "  <matplotlib.axis.XTick at 0x7f66c1df9390>,\n",
              "  <matplotlib.axis.XTick at 0x7f66c1df98d0>,\n",
              "  <matplotlib.axis.XTick at 0x7f66c1df9ed0>,\n",
              "  <matplotlib.axis.XTick at 0x7f66b8650550>],\n",
              " <a list of 18 Text major ticklabel objects>)"
            ]
          },
          "metadata": {},
          "execution_count": 30
        },
        {
          "output_type": "display_data",
          "data": {
            "text/plain": [
              "<Figure size 504x288 with 1 Axes>"
            ],
            "image/png": "[encoded data removed]"
          },
          "metadata": {
            "needs_background": "light"
          }
        }
      ],
      "source": [
        "# choose k range\n",
        "k_range=range(2,20)\n",
        "# compute adjusted intertia\n",
        "best_k, results = chooseBestKforKMeans(tfidf_X, k_range)\n",
        "\n",
        "# plot the results\n",
        "plt.figure(figsize=(7,4))\n",
        "plt.plot(results,'o')\n",
        "plt.title('Adjusted Inertia for each K')\n",
        "plt.xlabel('K')\n",
        "plt.ylabel('Adjusted Inertia')\n",
        "plt.xticks(range(2,20,1))"
      ]
    },
    {
      "cell_type": "code",
      "execution_count": null,
      "id": "d7603b1b",
      "metadata": {
        "id": "d7603b1b",
        "outputId": "aa76355c-7bd0-4572-eae0-3ca212511272",
        "colab": {
          "base_uri": "https://localhost:8080/"
        }
      },
      "outputs": [
        {
          "output_type": "stream",
          "name": "stdout",
          "text": [
            "\n",
            "\n",
            "                                                 Idea  Cluster\n",
            "1   HCF: This Privacy Policy covers the HCF group ...        1\n",
            "0   central sydney private hospital: Patient Priva...        0\n",
            "1   St Vincent’s Private Hospital Sydne: Privacy\\n...        1\n",
            "0   The Sydney Private Hospital is committed to pr...        0\n",
            "0   Privacy Statement for Sydney Local Health Dist...        0\n",
            "..                                                ...      ...\n",
            "1   Why have we issued this privacy notice for our...        1\n",
            "1   Privacy Policy\\nGI Doctors (London) is committ...        1\n",
            "1   The Evewell (which is the trading name of The ...        1\n",
            "1   Privacy Notice\\nThis is the Kingston Hospital ...        1\n",
            "1   London Gynaecology Ltd (trading as London Colp...        1\n",
            "\n",
            "[999 rows x 2 columns]\n",
            "\n",
            "\n",
            "1    505\n",
            "0    494\n",
            "Name: Cluster, dtype: int64\n"
          ]
        }
      ],
      "source": [
        "from sklearn.cluster import KMeans\n",
        "\n",
        "num_clusters = 2 #Change it according to your data.\n",
        "km = KMeans(n_clusters=num_clusters)\n",
        "km.fit(tfidf)\n",
        "clusters = km.labels_.tolist()\n",
        "\n",
        "idea={'Idea':corpus, 'Cluster':clusters} #Creating dict having doc with the corresponding cluster number.\n",
        "frame=pd.DataFrame(idea,index=[clusters], columns=['Idea','Cluster']) # Converting it into a dataframe.\n",
        "\n",
        "print(\"\\n\")\n",
        "print(frame) #Print the doc with the labeled cluster number.\n",
        "print(\"\\n\")\n",
        "print(frame['Cluster'].value_counts()) #Print the counts of doc belonging to each cluster."
      ]
    },
    {
      "cell_type": "code",
      "execution_count": null,
      "id": "1b80ec2e",
      "metadata": {
        "id": "1b80ec2e"
      },
      "outputs": [],
      "source": [
        "frame.to_excel(\"preprocessed-auto-labelled file.xlsx\")"
      ]
    },
    {
      "cell_type": "code",
      "execution_count": null,
      "id": "2894d29f",
      "metadata": {
        "id": "2894d29f"
      },
      "outputs": [],
      "source": [
        ""
      ]
    }
  ],
  "metadata": {
    "kernelspec": {
      "display_name": "Python 3 (ipykernel)",
      "language": "python",
      "name": "python3"
    },
    "language_info": {
      "codemirror_mode": {
        "name": "ipython",
        "version": 3
      },
      "file_extension": ".py",
      "mimetype": "text/x-python",
      "name": "python",
      "nbconvert_exporter": "python",
      "pygments_lexer": "ipython3",
      "version": "3.9.7"
    },
    "colab": {
      "name": "Auto-labeling-Code.ipynb",
      "provenance": []
    }
  },
  "nbformat": 4,
  "nbformat_minor": 5
}