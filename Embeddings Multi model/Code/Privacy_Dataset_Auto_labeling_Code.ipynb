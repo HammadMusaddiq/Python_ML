{
  "cells": [
    {
      "attachments": {},
      "cell_type": "markdown",
      "id": "anHjqAtDfY2i",
      "metadata": {
        "id": "anHjqAtDfY2i"
      },
      "source": [
        "Dataset Auto Labelling Based on given Phrase"
      ]
    },
    {
      "cell_type": "code",
      "execution_count": 68,
      "id": "UF_2bw41yMYr",
      "metadata": {
        "colab": {
          "base_uri": "https://localhost:8080/"
        },
        "id": "UF_2bw41yMYr",
        "outputId": "ab1f1c5e-92f6-4baa-e155-ff0118a7270a"
      },
      "outputs": [
        {
          "name": "stdout",
          "output_type": "stream",
          "text": [
            "Looking in indexes: https://pypi.org/simple, https://us-python.pkg.dev/colab-wheels/public/simple/\n",
            "Requirement already satisfied: scikit-learn in /usr/local/lib/python3.10/dist-packages (1.2.2)\n",
            "Requirement already satisfied: numpy>=1.17.3 in /usr/local/lib/python3.10/dist-packages (from scikit-learn) (1.22.4)\n",
            "Requirement already satisfied: scipy>=1.3.2 in /usr/local/lib/python3.10/dist-packages (from scikit-learn) (1.10.1)\n",
            "Requirement already satisfied: joblib>=1.1.1 in /usr/local/lib/python3.10/dist-packages (from scikit-learn) (1.2.0)\n",
            "Requirement already satisfied: threadpoolctl>=2.0.0 in /usr/local/lib/python3.10/dist-packages (from scikit-learn) (3.1.0)\n"
          ]
        }
      ],
      "source": [
        "pip install scikit-learn"
      ]
    },
    {
      "cell_type": "code",
      "execution_count": 69,
      "id": "a260022f",
      "metadata": {
        "id": "a260022f"
      },
      "outputs": [],
      "source": [
        "import pandas as pd\n",
        "import matplotlib.pyplot as plt\n"
      ]
    },
    {
      "cell_type": "code",
      "execution_count": 70,
      "id": "21649707",
      "metadata": {
        "colab": {
          "base_uri": "https://localhost:8080/"
        },
        "id": "21649707",
        "outputId": "ebdff1dd-3efc-4656-f776-41c681a6b6a7"
      },
      "outputs": [
        {
          "data": {
            "text/plain": [
              "(99, 1)"
            ]
          },
          "execution_count": 70,
          "metadata": {},
          "output_type": "execute_result"
        }
      ],
      "source": [
        "df = pd.read_excel(\"/content/Health Related Policies-100 Records.xlsx\")\n",
        "df.shape"
      ]
    },
    {
      "cell_type": "code",
      "execution_count": 71,
      "id": "8de9c34f",
      "metadata": {
        "colab": {
          "base_uri": "https://localhost:8080/",
          "height": 206
        },
        "id": "8de9c34f",
        "outputId": "b73ce9a0-79cc-48da-ebed-80d3dc0d8dd8"
      },
      "outputs": [
        {
          "data": {
            "text/html": [
              "\n",
              "  <div id=\"df-12d87ded-f53f-4dae-8d8c-cf30eecdc7dc\">\n",
              "    <div class=\"colab-df-container\">\n",
              "      <div>\n",
              "<style scoped>\n",
              "    .dataframe tbody tr th:only-of-type {\n",
              "        vertical-align: middle;\n",
              "    }\n",
              "\n",
              "    .dataframe tbody tr th {\n",
              "        vertical-align: top;\n",
              "    }\n",
              "\n",
              "    .dataframe thead th {\n",
              "        text-align: right;\n",
              "    }\n",
              "</style>\n",
              "<table border=\"1\" class=\"dataframe\">\n",
              "  <thead>\n",
              "    <tr style=\"text-align: right;\">\n",
              "      <th></th>\n",
              "      <th>HealthPrivacyPolicy</th>\n",
              "    </tr>\n",
              "  </thead>\n",
              "  <tbody>\n",
              "    <tr>\n",
              "      <th>0</th>\n",
              "      <td>HCF: This Privacy Policy covers the HCF group ...</td>\n",
              "    </tr>\n",
              "    <tr>\n",
              "      <th>1</th>\n",
              "      <td>central sydney private hospital: Patient Priva...</td>\n",
              "    </tr>\n",
              "    <tr>\n",
              "      <th>2</th>\n",
              "      <td>St Vincent’s Private Hospital Sydne: Privacy\\n...</td>\n",
              "    </tr>\n",
              "    <tr>\n",
              "      <th>3</th>\n",
              "      <td>The Sydney Private Hospital is committed to pr...</td>\n",
              "    </tr>\n",
              "    <tr>\n",
              "      <th>4</th>\n",
              "      <td>Privacy Statement for Sydney Local Health Dist...</td>\n",
              "    </tr>\n",
              "  </tbody>\n",
              "</table>\n",
              "</div>\n",
              "      <button class=\"colab-df-convert\" onclick=\"convertToInteractive('df-12d87ded-f53f-4dae-8d8c-cf30eecdc7dc')\"\n",
              "              title=\"Convert this dataframe to an interactive table.\"\n",
              "              style=\"display:none;\">\n",
              "        \n",
              "  <svg xmlns=\"http://www.w3.org/2000/svg\" height=\"24px\"viewBox=\"0 0 24 24\"\n",
              "       width=\"24px\">\n",
              "    <path d=\"M0 0h24v24H0V0z\" fill=\"none\"/>\n",
              "    <path d=\"M18.56 5.44l.94 2.06.94-2.06 2.06-.94-2.06-.94-.94-2.06-.94 2.06-2.06.94zm-11 1L8.5 8.5l.94-2.06 2.06-.94-2.06-.94L8.5 2.5l-.94 2.06-2.06.94zm10 10l.94 2.06.94-2.06 2.06-.94-2.06-.94-.94-2.06-.94 2.06-2.06.94z\"/><path d=\"M17.41 7.96l-1.37-1.37c-.4-.4-.92-.59-1.43-.59-.52 0-1.04.2-1.43.59L10.3 9.45l-7.72 7.72c-.78.78-.78 2.05 0 2.83L4 21.41c.39.39.9.59 1.41.59.51 0 1.02-.2 1.41-.59l7.78-7.78 2.81-2.81c.8-.78.8-2.07 0-2.86zM5.41 20L4 18.59l7.72-7.72 1.47 1.35L5.41 20z\"/>\n",
              "  </svg>\n",
              "      </button>\n",
              "      \n",
              "  <style>\n",
              "    .colab-df-container {\n",
              "      display:flex;\n",
              "      flex-wrap:wrap;\n",
              "      gap: 12px;\n",
              "    }\n",
              "\n",
              "    .colab-df-convert {\n",
              "      background-color: #E8F0FE;\n",
              "      border: none;\n",
              "      border-radius: 50%;\n",
              "      cursor: pointer;\n",
              "      display: none;\n",
              "      fill: #1967D2;\n",
              "      height: 32px;\n",
              "      padding: 0 0 0 0;\n",
              "      width: 32px;\n",
              "    }\n",
              "\n",
              "    .colab-df-convert:hover {\n",
              "      background-color: #E2EBFA;\n",
              "      box-shadow: 0px 1px 2px rgba(60, 64, 67, 0.3), 0px 1px 3px 1px rgba(60, 64, 67, 0.15);\n",
              "      fill: #174EA6;\n",
              "    }\n",
              "\n",
              "    [theme=dark] .colab-df-convert {\n",
              "      background-color: #3B4455;\n",
              "      fill: #D2E3FC;\n",
              "    }\n",
              "\n",
              "    [theme=dark] .colab-df-convert:hover {\n",
              "      background-color: #434B5C;\n",
              "      box-shadow: 0px 1px 3px 1px rgba(0, 0, 0, 0.15);\n",
              "      filter: drop-shadow(0px 1px 2px rgba(0, 0, 0, 0.3));\n",
              "      fill: #FFFFFF;\n",
              "    }\n",
              "  </style>\n",
              "\n",
              "      <script>\n",
              "        const buttonEl =\n",
              "          document.querySelector('#df-12d87ded-f53f-4dae-8d8c-cf30eecdc7dc button.colab-df-convert');\n",
              "        buttonEl.style.display =\n",
              "          google.colab.kernel.accessAllowed ? 'block' : 'none';\n",
              "\n",
              "        async function convertToInteractive(key) {\n",
              "          const element = document.querySelector('#df-12d87ded-f53f-4dae-8d8c-cf30eecdc7dc');\n",
              "          const dataTable =\n",
              "            await google.colab.kernel.invokeFunction('convertToInteractive',\n",
              "                                                     [key], {});\n",
              "          if (!dataTable) return;\n",
              "\n",
              "          const docLinkHtml = 'Like what you see? Visit the ' +\n",
              "            '<a target=\"_blank\" href=https://colab.research.google.com/notebooks/data_table.ipynb>data table notebook</a>'\n",
              "            + ' to learn more about interactive tables.';\n",
              "          element.innerHTML = '';\n",
              "          dataTable['output_type'] = 'display_data';\n",
              "          await google.colab.output.renderOutput(dataTable, element);\n",
              "          const docLink = document.createElement('div');\n",
              "          docLink.innerHTML = docLinkHtml;\n",
              "          element.appendChild(docLink);\n",
              "        }\n",
              "      </script>\n",
              "    </div>\n",
              "  </div>\n",
              "  "
            ],
            "text/plain": [
              "                                 HealthPrivacyPolicy\n",
              "0  HCF: This Privacy Policy covers the HCF group ...\n",
              "1  central sydney private hospital: Patient Priva...\n",
              "2  St Vincent’s Private Hospital Sydne: Privacy\\n...\n",
              "3  The Sydney Private Hospital is committed to pr...\n",
              "4  Privacy Statement for Sydney Local Health Dist..."
            ]
          },
          "execution_count": 71,
          "metadata": {},
          "output_type": "execute_result"
        }
      ],
      "source": [
        "df.head()"
      ]
    },
    {
      "attachments": {},
      "cell_type": "markdown",
      "id": "a62b8c81",
      "metadata": {
        "id": "a62b8c81"
      },
      "source": [
        "# Without preprocessing"
      ]
    },
    {
      "cell_type": "code",
      "execution_count": 72,
      "id": "efc8cc12",
      "metadata": {
        "colab": {
          "base_uri": "https://localhost:8080/"
        },
        "id": "efc8cc12",
        "outputId": "e42fa70a-cb12-4564-9958-5768fbdf3de6"
      },
      "outputs": [
        {
          "name": "stdout",
          "output_type": "stream",
          "text": [
            "(99, 3684)\n"
          ]
        }
      ],
      "source": [
        "# -*- coding: utf-8 -*-\n",
        "''' This program takes a excel sheet as input where each row in first column of sheet represents a document.  '''\n",
        "\n",
        "import pandas as pd\n",
        "import numpy as np\n",
        "\n",
        "\n",
        "idea=df.iloc[:,0:1] #Selecting the first column that has text.\n",
        "\n",
        "#Converting the column of data from excel sheet into a list of documents, where each document corresponds to a group of sentences.\n",
        "corpus=[]\n",
        "for index,row in idea.iterrows():\n",
        "    corpus.append(row['HealthPrivacyPolicy'])\n",
        "\n",
        "'''Or you could just comment out the above code and use this dummy corpus list instead if you don't have the data.\n",
        "corpus=['She went to the airport to see him off.','I prefer reading to writing.','Los Angeles is in California. It's southeast of San Francisco.','I ate a burger then went to bed.','Compare your answer with Tom's.','I had hardly left home when it began to rain heavily.','If he had asked me, I would have given it to him. \n",
        "','I could have come by auto, but who would pay the fare? ','Whatever it may be, you should not have beaten him.','You should have told me yesterday','I should have joined this course last year.','Where are you going?','There are too many people here.','Everyone always asks me that.','I didn't think you were going to make it.','Be quiet while I am speaking.','I can't figure out why he said so.'] '''\n",
        "    \n",
        "    \n",
        "#Count Vectoriser then tidf transformer\n",
        "\n",
        "from sklearn.feature_extraction.text import CountVectorizer\n",
        "\n",
        "vectorizer = CountVectorizer()\n",
        "X = vectorizer.fit_transform(corpus)\n",
        "\n",
        "from sklearn.feature_extraction.text import TfidfTransformer\n",
        "\n",
        "transformer = TfidfTransformer(smooth_idf=False)\n",
        "tfidf = transformer.fit_transform(X)\n",
        "print(tfidf.shape )                        "
      ]
    },
    {
      "cell_type": "code",
      "execution_count": 73,
      "id": "1967f291",
      "metadata": {
        "id": "1967f291"
      },
      "outputs": [],
      "source": [
        "from sklearn.feature_extraction.text import TfidfVectorizer\n",
        "v = TfidfVectorizer()\n",
        "x = v.fit_transform(df['HealthPrivacyPolicy'])"
      ]
    },
    {
      "cell_type": "code",
      "execution_count": 74,
      "id": "18ad7555",
      "metadata": {
        "colab": {
          "base_uri": "https://localhost:8080/",
          "height": 527
        },
        "id": "18ad7555",
        "outputId": "e93941c1-aa38-4b44-b6ba-55cf3fd287fd"
      },
      "outputs": [
        {
          "name": "stderr",
          "output_type": "stream",
          "text": [
            "/usr/local/lib/python3.10/dist-packages/sklearn/cluster/_kmeans.py:870: FutureWarning: The default value of `n_init` will change from 10 to 'auto' in 1.4. Set the value of `n_init` explicitly to suppress the warning\n",
            "  warnings.warn(\n"
          ]
        },
        {
          "data": {
            "image/png": "[encoded data removed]",
            "text/plain": [
              "<Figure size 640x480 with 1 Axes>"
            ]
          },
          "metadata": {},
          "output_type": "display_data"
        }
      ],
      "source": [
        "from sklearn.cluster import KMeans\n",
        "Sum_of_squared_distances = []\n",
        "\n",
        "K = range(1,20)\n",
        "for num_clusters in K :\n",
        "    kmeans = KMeans(n_clusters=num_clusters)\n",
        "    kmeans.fit(tfidf)\n",
        "    Sum_of_squared_distances.append(kmeans.inertia_)\n",
        "plt.plot(K,Sum_of_squared_distances,'bx-')\n",
        "plt.xlabel('Values of K') \n",
        "plt.ylabel('Sum of squared distances/Inertia') \n",
        "plt.title('Elbow Method For Optimal k')\n",
        "plt.show()"
      ]
    },
    {
      "cell_type": "code",
      "execution_count": 75,
      "id": "c92b1611",
      "metadata": {
        "id": "c92b1611"
      },
      "outputs": [],
      "source": [
        "def kMeansRes(scaled_data, k, alpha_k=0.02):\n",
        "    '''\n",
        "    Parameters \n",
        "    ----------\n",
        "    scaled_data: matrix \n",
        "        scaled data. rows are samples and columns are features for clustering\n",
        "    k: int\n",
        "        current k for applying KMeans\n",
        "    alpha_k: float\n",
        "        manually tuned factor that gives penalty to the number of clusters\n",
        "    Returns \n",
        "    -------\n",
        "    scaled_inertia: float\n",
        "        scaled inertia value for current k           \n",
        "    '''\n",
        "    \n",
        "    inertia_o = np.square((scaled_data - scaled_data.mean(axis=0))).sum()\n",
        "    # fit k-means\n",
        "    kmeans = KMeans(n_clusters=k, random_state=0).fit(scaled_data)\n",
        "    scaled_inertia = kmeans.inertia_ / inertia_o + alpha_k * k\n",
        "    return scaled_inertia\n",
        "\n",
        "def chooseBestKforKMeans(scaled_data, k_range):\n",
        "    ans = []\n",
        "    for k in k_range:\n",
        "        scaled_inertia = kMeansRes(scaled_data, k)\n",
        "        ans.append((k, scaled_inertia))\n",
        "    results = pd.DataFrame(ans, columns = ['k','Scaled Inertia']).set_index('k')\n",
        "    best_k = results.idxmin()[0]\n",
        "    return best_k, results"
      ]
    },
    {
      "cell_type": "code",
      "execution_count": 76,
      "id": "1667601c",
      "metadata": {
        "colab": {
          "base_uri": "https://localhost:8080/",
          "height": 1000
        },
        "id": "1667601c",
        "outputId": "afe2c659-23db-4036-deb7-4e07209d7f79",
        "scrolled": true
      },
      "outputs": [
        {
          "data": {
            "text/plain": [
              "([<matplotlib.axis.XTick at 0x7f5bf554d9f0>,\n",
              "  <matplotlib.axis.XTick at 0x7f5bf554dc90>,\n",
              "  <matplotlib.axis.XTick at 0x7f5bf554d4e0>,\n",
              "  <matplotlib.axis.XTick at 0x7f5bf5560670>,\n",
              "  <matplotlib.axis.XTick at 0x7f5bf5562d70>,\n",
              "  <matplotlib.axis.XTick at 0x7f5bf5560970>,\n",
              "  <matplotlib.axis.XTick at 0x7f5bf5563f10>,\n",
              "  <matplotlib.axis.XTick at 0x7f5bf5561690>,\n",
              "  <matplotlib.axis.XTick at 0x7f5bf5561360>,\n",
              "  <matplotlib.axis.XTick at 0x7f5bf5562ad0>,\n",
              "  <matplotlib.axis.XTick at 0x7f5bf5553820>,\n",
              "  <matplotlib.axis.XTick at 0x7f5bf55533a0>,\n",
              "  <matplotlib.axis.XTick at 0x7f5bf5552770>,\n",
              "  <matplotlib.axis.XTick at 0x7f5bf5552620>,\n",
              "  <matplotlib.axis.XTick at 0x7f5bf55f0070>,\n",
              "  <matplotlib.axis.XTick at 0x7f5bf55f3100>,\n",
              "  <matplotlib.axis.XTick at 0x7f5bf55f2650>,\n",
              "  <matplotlib.axis.XTick at 0x7f5bf55f39d0>],\n",
              " [Text(2, 0, '2'),\n",
              "  Text(3, 0, '3'),\n",
              "  Text(4, 0, '4'),\n",
              "  Text(5, 0, '5'),\n",
              "  Text(6, 0, '6'),\n",
              "  Text(7, 0, '7'),\n",
              "  Text(8, 0, '8'),\n",
              "  Text(9, 0, '9'),\n",
              "  Text(10, 0, '10'),\n",
              "  Text(11, 0, '11'),\n",
              "  Text(12, 0, '12'),\n",
              "  Text(13, 0, '13'),\n",
              "  Text(14, 0, '14'),\n",
              "  Text(15, 0, '15'),\n",
              "  Text(16, 0, '16'),\n",
              "  Text(17, 0, '17'),\n",
              "  Text(18, 0, '18'),\n",
              "  Text(19, 0, '19')])"
            ]
          },
          "execution_count": 76,
          "metadata": {},
          "output_type": "execute_result"
        },
        {
          "data": {
            "image/png": "[encoded data removed]",
            "text/plain": [
              "<Figure size 700x400 with 1 Axes>"
            ]
          },
          "metadata": {},
          "output_type": "display_data"
        }
      ],
      "source": [
        "# choose k range\n",
        "k_range=range(2,20)\n",
        "# compute adjusted intertia\n",
        "best_k, results = chooseBestKforKMeans(tfidf, k_range)\n",
        "\n",
        "# plot the results\n",
        "plt.figure(figsize=(7,4))\n",
        "plt.plot(results,'o')\n",
        "plt.title('Adjusted Inertia for each K')\n",
        "plt.xlabel('K')\n",
        "plt.ylabel('Adjusted Inertia')\n",
        "plt.xticks(range(2,20,1))"
      ]
    },
    {
      "cell_type": "code",
      "execution_count": 77,
      "id": "2b1977c4",
      "metadata": {
        "colab": {
          "base_uri": "https://localhost:8080/"
        },
        "id": "2b1977c4",
        "outputId": "db882241-b5d1-4870-8867-2e145fa6a37c"
      },
      "outputs": [
        {
          "name": "stdout",
          "output_type": "stream",
          "text": [
            "\n",
            "\n",
            "                                               Policy  Label\n",
            "1   HCF: This Privacy Policy covers the HCF group ...      1\n",
            "1   central sydney private hospital: Patient Priva...      1\n",
            "1   St Vincent’s Private Hospital Sydne: Privacy\\n...      1\n",
            "1   The Sydney Private Hospital is committed to pr...      1\n",
            "1   Privacy Statement for Sydney Local Health Dist...      1\n",
            "..                                                ...    ...\n",
            "1   Chapel, Kolding Infirmary: We take the privacy...      1\n",
            "1   er kolding hospital: This Website Privacy Poli...      1\n",
            "1   lokalpsyk kolding : Thank you for using Lokal ...      1\n",
            "1   This statement sets out this site's policies r...      1\n",
            "1   What Types of Information do We Collect\\n \\nDo...      1\n",
            "\n",
            "[99 rows x 2 columns]\n",
            "\n",
            "\n",
            "1    79\n",
            "0    20\n",
            "Name: Label, dtype: int64\n"
          ]
        },
        {
          "name": "stderr",
          "output_type": "stream",
          "text": [
            "/usr/local/lib/python3.10/dist-packages/sklearn/cluster/_kmeans.py:870: FutureWarning: The default value of `n_init` will change from 10 to 'auto' in 1.4. Set the value of `n_init` explicitly to suppress the warning\n",
            "  warnings.warn(\n"
          ]
        }
      ],
      "source": [
        "from sklearn.cluster import KMeans\n",
        "\n",
        "num_clusters = 2 #Change it according to your data.\n",
        "km = KMeans(n_clusters=num_clusters)\n",
        "km.fit(tfidf)\n",
        "clusters = km.labels_.tolist()\n",
        "\n",
        "idea={'Policy':corpus, 'Label':clusters} #Creating dict having doc with the corresponding cluster number.\n",
        "frame=pd.DataFrame(idea,index=[clusters], columns=['Policy','Label']) # Converting it into a dataframe.\n",
        "\n",
        "print(\"\\n\")\n",
        "print(frame) #Print the doc with the labeled cluster number.\n",
        "print(\"\\n\")\n",
        "print(frame['Label'].value_counts()) #Print the counts of doc belonging to each cluster."
      ]
    },
    {
      "cell_type": "code",
      "execution_count": 78,
      "id": "bd4454fd",
      "metadata": {
        "colab": {
          "base_uri": "https://localhost:8080/",
          "height": 423
        },
        "id": "bd4454fd",
        "outputId": "447bfbef-60d8-4cf0-da94-9e7beefa29d4"
      },
      "outputs": [
        {
          "data": {
            "text/html": [
              "\n",
              "  <div id=\"df-dbe5bec4-23e3-4501-8417-def14f28b3a0\">\n",
              "    <div class=\"colab-df-container\">\n",
              "      <div>\n",
              "<style scoped>\n",
              "    .dataframe tbody tr th:only-of-type {\n",
              "        vertical-align: middle;\n",
              "    }\n",
              "\n",
              "    .dataframe tbody tr th {\n",
              "        vertical-align: top;\n",
              "    }\n",
              "\n",
              "    .dataframe thead th {\n",
              "        text-align: right;\n",
              "    }\n",
              "</style>\n",
              "<table border=\"1\" class=\"dataframe\">\n",
              "  <thead>\n",
              "    <tr style=\"text-align: right;\">\n",
              "      <th></th>\n",
              "      <th>Policy</th>\n",
              "      <th>Label</th>\n",
              "    </tr>\n",
              "  </thead>\n",
              "  <tbody>\n",
              "    <tr>\n",
              "      <th>1</th>\n",
              "      <td>HCF: This Privacy Policy covers the HCF group ...</td>\n",
              "      <td>1</td>\n",
              "    </tr>\n",
              "    <tr>\n",
              "      <th>1</th>\n",
              "      <td>central sydney private hospital: Patient Priva...</td>\n",
              "      <td>1</td>\n",
              "    </tr>\n",
              "    <tr>\n",
              "      <th>1</th>\n",
              "      <td>St Vincent’s Private Hospital Sydne: Privacy\\n...</td>\n",
              "      <td>1</td>\n",
              "    </tr>\n",
              "    <tr>\n",
              "      <th>1</th>\n",
              "      <td>The Sydney Private Hospital is committed to pr...</td>\n",
              "      <td>1</td>\n",
              "    </tr>\n",
              "    <tr>\n",
              "      <th>1</th>\n",
              "      <td>Privacy Statement for Sydney Local Health Dist...</td>\n",
              "      <td>1</td>\n",
              "    </tr>\n",
              "    <tr>\n",
              "      <th>...</th>\n",
              "      <td>...</td>\n",
              "      <td>...</td>\n",
              "    </tr>\n",
              "    <tr>\n",
              "      <th>1</th>\n",
              "      <td>Chapel, Kolding Infirmary: We take the privacy...</td>\n",
              "      <td>1</td>\n",
              "    </tr>\n",
              "    <tr>\n",
              "      <th>1</th>\n",
              "      <td>er kolding hospital: This Website Privacy Poli...</td>\n",
              "      <td>1</td>\n",
              "    </tr>\n",
              "    <tr>\n",
              "      <th>1</th>\n",
              "      <td>lokalpsyk kolding : Thank you for using Lokal ...</td>\n",
              "      <td>1</td>\n",
              "    </tr>\n",
              "    <tr>\n",
              "      <th>1</th>\n",
              "      <td>This statement sets out this site's policies r...</td>\n",
              "      <td>1</td>\n",
              "    </tr>\n",
              "    <tr>\n",
              "      <th>1</th>\n",
              "      <td>What Types of Information do We Collect\\n \\nDo...</td>\n",
              "      <td>1</td>\n",
              "    </tr>\n",
              "  </tbody>\n",
              "</table>\n",
              "<p>99 rows × 2 columns</p>\n",
              "</div>\n",
              "      <button class=\"colab-df-convert\" onclick=\"convertToInteractive('df-dbe5bec4-23e3-4501-8417-def14f28b3a0')\"\n",
              "              title=\"Convert this dataframe to an interactive table.\"\n",
              "              style=\"display:none;\">\n",
              "        \n",
              "  <svg xmlns=\"http://www.w3.org/2000/svg\" height=\"24px\"viewBox=\"0 0 24 24\"\n",
              "       width=\"24px\">\n",
              "    <path d=\"M0 0h24v24H0V0z\" fill=\"none\"/>\n",
              "    <path d=\"M18.56 5.44l.94 2.06.94-2.06 2.06-.94-2.06-.94-.94-2.06-.94 2.06-2.06.94zm-11 1L8.5 8.5l.94-2.06 2.06-.94-2.06-.94L8.5 2.5l-.94 2.06-2.06.94zm10 10l.94 2.06.94-2.06 2.06-.94-2.06-.94-.94-2.06-.94 2.06-2.06.94z\"/><path d=\"M17.41 7.96l-1.37-1.37c-.4-.4-.92-.59-1.43-.59-.52 0-1.04.2-1.43.59L10.3 9.45l-7.72 7.72c-.78.78-.78 2.05 0 2.83L4 21.41c.39.39.9.59 1.41.59.51 0 1.02-.2 1.41-.59l7.78-7.78 2.81-2.81c.8-.78.8-2.07 0-2.86zM5.41 20L4 18.59l7.72-7.72 1.47 1.35L5.41 20z\"/>\n",
              "  </svg>\n",
              "      </button>\n",
              "      \n",
              "  <style>\n",
              "    .colab-df-container {\n",
              "      display:flex;\n",
              "      flex-wrap:wrap;\n",
              "      gap: 12px;\n",
              "    }\n",
              "\n",
              "    .colab-df-convert {\n",
              "      background-color: #E8F0FE;\n",
              "      border: none;\n",
              "      border-radius: 50%;\n",
              "      cursor: pointer;\n",
              "      display: none;\n",
              "      fill: #1967D2;\n",
              "      height: 32px;\n",
              "      padding: 0 0 0 0;\n",
              "      width: 32px;\n",
              "    }\n",
              "\n",
              "    .colab-df-convert:hover {\n",
              "      background-color: #E2EBFA;\n",
              "      box-shadow: 0px 1px 2px rgba(60, 64, 67, 0.3), 0px 1px 3px 1px rgba(60, 64, 67, 0.15);\n",
              "      fill: #174EA6;\n",
              "    }\n",
              "\n",
              "    [theme=dark] .colab-df-convert {\n",
              "      background-color: #3B4455;\n",
              "      fill: #D2E3FC;\n",
              "    }\n",
              "\n",
              "    [theme=dark] .colab-df-convert:hover {\n",
              "      background-color: #434B5C;\n",
              "      box-shadow: 0px 1px 3px 1px rgba(0, 0, 0, 0.15);\n",
              "      filter: drop-shadow(0px 1px 2px rgba(0, 0, 0, 0.3));\n",
              "      fill: #FFFFFF;\n",
              "    }\n",
              "  </style>\n",
              "\n",
              "      <script>\n",
              "        const buttonEl =\n",
              "          document.querySelector('#df-dbe5bec4-23e3-4501-8417-def14f28b3a0 button.colab-df-convert');\n",
              "        buttonEl.style.display =\n",
              "          google.colab.kernel.accessAllowed ? 'block' : 'none';\n",
              "\n",
              "        async function convertToInteractive(key) {\n",
              "          const element = document.querySelector('#df-dbe5bec4-23e3-4501-8417-def14f28b3a0');\n",
              "          const dataTable =\n",
              "            await google.colab.kernel.invokeFunction('convertToInteractive',\n",
              "                                                     [key], {});\n",
              "          if (!dataTable) return;\n",
              "\n",
              "          const docLinkHtml = 'Like what you see? Visit the ' +\n",
              "            '<a target=\"_blank\" href=https://colab.research.google.com/notebooks/data_table.ipynb>data table notebook</a>'\n",
              "            + ' to learn more about interactive tables.';\n",
              "          element.innerHTML = '';\n",
              "          dataTable['output_type'] = 'display_data';\n",
              "          await google.colab.output.renderOutput(dataTable, element);\n",
              "          const docLink = document.createElement('div');\n",
              "          docLink.innerHTML = docLinkHtml;\n",
              "          element.appendChild(docLink);\n",
              "        }\n",
              "      </script>\n",
              "    </div>\n",
              "  </div>\n",
              "  "
            ],
            "text/plain": [
              "                                               Policy  Label\n",
              "1   HCF: This Privacy Policy covers the HCF group ...      1\n",
              "1   central sydney private hospital: Patient Priva...      1\n",
              "1   St Vincent’s Private Hospital Sydne: Privacy\\n...      1\n",
              "1   The Sydney Private Hospital is committed to pr...      1\n",
              "1   Privacy Statement for Sydney Local Health Dist...      1\n",
              "..                                                ...    ...\n",
              "1   Chapel, Kolding Infirmary: We take the privacy...      1\n",
              "1   er kolding hospital: This Website Privacy Poli...      1\n",
              "1   lokalpsyk kolding : Thank you for using Lokal ...      1\n",
              "1   This statement sets out this site's policies r...      1\n",
              "1   What Types of Information do We Collect\\n \\nDo...      1\n",
              "\n",
              "[99 rows x 2 columns]"
            ]
          },
          "execution_count": 78,
          "metadata": {},
          "output_type": "execute_result"
        }
      ],
      "source": [
        "frame"
      ]
    },
    {
      "cell_type": "code",
      "execution_count": 67,
      "id": "8d37d8f6",
      "metadata": {
        "id": "8d37d8f6"
      },
      "outputs": [],
      "source": [
        "frame.to_excel('output.xlsx')"
      ]
    },
    {
      "attachments": {},
      "cell_type": "markdown",
      "id": "678bf830",
      "metadata": {
        "id": "678bf830"
      },
      "source": [
        "# With preprocessing"
      ]
    },
    {
      "cell_type": "code",
      "execution_count": 79,
      "id": "160b8345",
      "metadata": {
        "id": "160b8345"
      },
      "outputs": [],
      "source": [
        "import re"
      ]
    },
    {
      "cell_type": "code",
      "execution_count": 80,
      "id": "913dcb79",
      "metadata": {
        "id": "913dcb79"
      },
      "outputs": [],
      "source": [
        "import re\n",
        "\n",
        "def decontracted(phrase):\n",
        "    # specific Labelling Phrase based on Australian APP 13 Collection of personal information\n",
        "    phrase = re.sub(r\"personal information\", \"public information\", phrase)\n",
        "    phrase = re.sub(r\"up-to-date\", \"will not disclose\", phrase)\n",
        "    phrase = re.sub(r\"reasonable steps \", \"will not Share information\", phrase)\n",
        "    phrase = re.sub(r\"refuses \", \" consent\", phrase)\n",
        "    phrase = re.sub(r\"give consent\", \" do not give consent\", phrase)\n",
        "    phrase = re.sub(r\"security of personal information\", \"privacy of personal information\", phrase)\n",
        "    phrase = re.sub(r\"Hold Information\", \"release of information\", phrase)\n",
        "    phrase = re.sub(r\"collect information\", \"consent form\", phrase)\n",
        "    phrase = re.sub(r\"Unsolicited Personal Information\", \"Disclosure of Personal Information\", phrase)\n",
        "    phrase = re.sub(r\"Use or Disclosure of Personal Information\", \"Direct Marketing\", phrase)\n",
        "    phrase = re.sub(r\"Cross-Border Disclosure of Personal Information\", \"Data modification\", phrase)\n",
        "\n",
        "    #phrase = re.sub(r\"won't\", \"will not\", phrase)\n",
        "    #phrase = re.sub(r\"can\\'t\", \"can not\", phrase)\n",
        "    #phrase = re.sub(r\"n\\'t\", \" not\", phrase)\n",
        "    #phrase = re.sub(r\"\\'re\", \" are\", phrase)\n",
        "    #phrase = re.sub(r\"\\'s\", \" is\", phrase)\n",
        "    #phrase = re.sub(r\"\\'d\", \" would\", phrase)\n",
        "    #phrase = re.sub(r\"\\'ll\", \" will\", phrase)\n",
        "    #phrase = re.sub(r\"\\'t\", \" not\", phrase)\n",
        "    #phrase = re.sub(r\"\\'ve\", \" have\", phrase)\n",
        "    #phrase = re.sub(r\"\\'m\", \" am\", phrase)\n",
        "    return phrase"
      ]
    },
    {
      "cell_type": "code",
      "execution_count": 81,
      "id": "4f62766b",
      "metadata": {
        "colab": {
          "base_uri": "https://localhost:8080/"
        },
        "id": "4f62766b",
        "outputId": "36d84886-608c-4702-e58c-a1f500b08e65"
      },
      "outputs": [
        {
          "name": "stderr",
          "output_type": "stream",
          "text": [
            "100%|██████████| 99/99 [00:00<00:00, 56617.96it/s]\n"
          ]
        }
      ],
      "source": [
        "from tqdm import tqdm\n",
        "lst = []\n",
        "removed_urls_list = []\n",
        "for text in tqdm(df['HealthPrivacyPolicy']):\n",
        "    removed_urls_text = re.sub(r\"http\\S+\", \"\", text)\n",
        "    lst.append(removed_urls_text)"
      ]
    },
    {
      "cell_type": "code",
      "execution_count": 82,
      "id": "c349c4d2",
      "metadata": {
        "colab": {
          "base_uri": "https://localhost:8080/"
        },
        "id": "c349c4d2",
        "outputId": "54bf280a-ab6c-4cfa-8a26-2f65ea671568"
      },
      "outputs": [
        {
          "name": "stderr",
          "output_type": "stream",
          "text": [
            "100%|██████████| 99/99 [00:00<00:00, 49216.08it/s]\n"
          ]
        }
      ],
      "source": [
        "#remove urls from text python\n",
        "removed_urls_list = []\n",
        "for text in tqdm(lst):\n",
        "    removed_urls_text = re.sub(r\"http\\S+\", \"\", text)\n",
        "    removed_urls_list.append(removed_urls_text)"
      ]
    },
    {
      "cell_type": "code",
      "execution_count": 83,
      "id": "d67bb370",
      "metadata": {
        "colab": {
          "base_uri": "https://localhost:8080/"
        },
        "id": "d67bb370",
        "outputId": "0ac341d8-7ba9-450c-8391-6bc4e897e628"
      },
      "outputs": [
        {
          "name": "stderr",
          "output_type": "stream",
          "text": [
            "100%|██████████| 99/99 [00:00<00:00, 1751.53it/s]\n"
          ]
        }
      ],
      "source": [
        "from bs4 import BeautifulSoup\n",
        "text_lst = []\n",
        "for text in tqdm(removed_urls_list):\n",
        "    soup = BeautifulSoup(text, 'lxml')\n",
        "    text = soup.get_text()\n",
        "    text_lst.append(text)"
      ]
    },
    {
      "cell_type": "code",
      "execution_count": 84,
      "id": "4c7307e1",
      "metadata": {
        "colab": {
          "base_uri": "https://localhost:8080/"
        },
        "id": "4c7307e1",
        "outputId": "591bd2bd-0b4b-4d4d-bb69-afc79a256632"
      },
      "outputs": [
        {
          "name": "stderr",
          "output_type": "stream",
          "text": [
            "100%|██████████| 99/99 [00:00<00:00, 7282.54it/s]\n"
          ]
        }
      ],
      "source": [
        "decat_lst = []\n",
        "for decat_text in tqdm(text_lst):\n",
        "    text = decontracted(decat_text)\n",
        "    decat_lst.append(text)"
      ]
    },
    {
      "cell_type": "code",
      "execution_count": 85,
      "id": "f4337d65",
      "metadata": {
        "colab": {
          "base_uri": "https://localhost:8080/"
        },
        "id": "f4337d65",
        "outputId": "ab8ccbc0-9f76-4e8d-b4f4-0b07a138d4ed"
      },
      "outputs": [
        {
          "name": "stderr",
          "output_type": "stream",
          "text": [
            "100%|██████████| 99/99 [00:00<00:00, 1057.64it/s]\n"
          ]
        }
      ],
      "source": [
        "strip_list = []\n",
        "for to_strip in tqdm(decat_lst):\n",
        "    text = re.sub(\"\\S*\\d\\S*\", \"\", to_strip).strip()\n",
        "    strip_list.append(text)"
      ]
    },
    {
      "cell_type": "code",
      "execution_count": 86,
      "id": "d7b2fdf0",
      "metadata": {
        "colab": {
          "base_uri": "https://localhost:8080/"
        },
        "id": "d7b2fdf0",
        "outputId": "e94786ee-9528-44f9-b796-60c4b5fb5efd"
      },
      "outputs": [
        {
          "name": "stderr",
          "output_type": "stream",
          "text": [
            "100%|██████████| 99/99 [00:00<00:00, 203.46it/s]\n"
          ]
        }
      ],
      "source": [
        "spatial_list = []\n",
        "for to_spatial in tqdm(strip_list):\n",
        "    text = re.sub('[^A-Za-z0-9]+', ' ', to_spatial)\n",
        "    spatial_list.append(text)"
      ]
    },
    {
      "cell_type": "code",
      "execution_count": 87,
      "id": "dxcWsrw41mwg",
      "metadata": {
        "colab": {
          "base_uri": "https://localhost:8080/"
        },
        "id": "dxcWsrw41mwg",
        "outputId": "30c8a4fc-8fac-4050-b970-7b19881149dc"
      },
      "outputs": [
        {
          "name": "stderr",
          "output_type": "stream",
          "text": [
            "[nltk_data] Downloading package stopwords to /root/nltk_data...\n",
            "[nltk_data]   Package stopwords is already up-to-date!\n"
          ]
        },
        {
          "data": {
            "text/plain": [
              "True"
            ]
          },
          "execution_count": 87,
          "metadata": {},
          "output_type": "execute_result"
        }
      ],
      "source": [
        "import nltk\n",
        "nltk.download('stopwords')"
      ]
    },
    {
      "cell_type": "code",
      "execution_count": 88,
      "id": "599d7717",
      "metadata": {
        "id": "599d7717"
      },
      "outputs": [],
      "source": [
        "def kMeansRes(scaled_data, k, alpha_k=0.02):\n",
        "    '''\n",
        "    Parameters \n",
        "    ----------\n",
        "    scaled_data: matrix \n",
        "        scaled data. rows are samples and columns are features for clustering\n",
        "    k: int\n",
        "        current k for applying KMeans\n",
        "    alpha_k: float\n",
        "        manually tuned factor that gives penalty to the number of clusters\n",
        "    Returns \n",
        "    -------\n",
        "    scaled_inertia: float\n",
        "        scaled inertia value for current k           \n",
        "    '''\n",
        "    \n",
        "    inertia_o = np.square((scaled_data - scaled_data.mean(axis=0))).sum()\n",
        "    # fit k-means\n",
        "    kmeans = KMeans(n_clusters=k, random_state=0).fit(scaled_data)\n",
        "    scaled_inertia = kmeans.inertia_ / inertia_o + alpha_k * k\n",
        "    return scaled_inertia\n",
        "\n",
        "def chooseBestKforKMeans(scaled_data, k_range):\n",
        "    ans = []\n",
        "    for k in k_range:\n",
        "        scaled_inertia = kMeansRes(scaled_data, k)\n",
        "        ans.append((k, scaled_inertia))\n",
        "    results = pd.DataFrame(ans, columns = ['k','Scaled Inertia']).set_index('k')\n",
        "    best_k = results.idxmin()[0]\n",
        "    return best_k, results"
      ]
    },
    {
      "cell_type": "code",
      "execution_count": 89,
      "id": "d7603b1b",
      "metadata": {
        "colab": {
          "base_uri": "https://localhost:8080/"
        },
        "id": "d7603b1b",
        "outputId": "2864a6d0-d699-4f37-bf89-b04700aeff78"
      },
      "outputs": [
        {
          "name": "stdout",
          "output_type": "stream",
          "text": [
            "\n",
            "\n",
            "                                               Policy  Label\n",
            "1   HCF: This Privacy Policy covers the HCF group ...      1\n",
            "1   central sydney private hospital: Patient Priva...      1\n",
            "1   St Vincent’s Private Hospital Sydne: Privacy\\n...      1\n",
            "1   The Sydney Private Hospital is committed to pr...      1\n",
            "1   Privacy Statement for Sydney Local Health Dist...      1\n",
            "..                                                ...    ...\n",
            "1   Chapel, Kolding Infirmary: We take the privacy...      1\n",
            "1   er kolding hospital: This Website Privacy Poli...      1\n",
            "1   lokalpsyk kolding : Thank you for using Lokal ...      1\n",
            "1   This statement sets out this site's policies r...      1\n",
            "1   What Types of Information do We Collect\\n \\nDo...      1\n",
            "\n",
            "[99 rows x 2 columns]\n",
            "\n",
            "\n",
            "1    79\n",
            "0    20\n",
            "Name: Label, dtype: int64\n"
          ]
        },
        {
          "name": "stderr",
          "output_type": "stream",
          "text": [
            "/usr/local/lib/python3.10/dist-packages/sklearn/cluster/_kmeans.py:870: FutureWarning: The default value of `n_init` will change from 10 to 'auto' in 1.4. Set the value of `n_init` explicitly to suppress the warning\n",
            "  warnings.warn(\n"
          ]
        }
      ],
      "source": [
        "from sklearn.cluster import KMeans\n",
        "\n",
        "num_clusters = 2 #Change it according to your data.\n",
        "km = KMeans(n_clusters=num_clusters)\n",
        "km.fit(tfidf)\n",
        "clusters = km.labels_.tolist()\n",
        "\n",
        "idea={'Policy':corpus, 'Label':clusters} #Creating dict having doc with the corresponding cluster number.\n",
        "frame=pd.DataFrame(idea,index=[clusters], columns=['Policy','Label']) # Converting it into a dataframe.\n",
        "\n",
        "print(\"\\n\")\n",
        "print(frame) #Print the doc with the labeled cluster number.\n",
        "print(\"\\n\")\n",
        "print(frame['Label'].value_counts()) #Print the counts of doc belonging to each cluster."
      ]
    },
    {
      "cell_type": "code",
      "execution_count": 90,
      "id": "1b80ec2e",
      "metadata": {
        "id": "1b80ec2e"
      },
      "outputs": [],
      "source": [
        "frame.to_excel(\"preprocessed-auto-labelled file.xlsx\")"
      ]
    }
  ],
  "metadata": {
    "colab": {
      "collapsed_sections": [
        "678bf830"
      ],
      "provenance": []
    },
    "kernelspec": {
      "display_name": "Python 3 (ipykernel)",
      "language": "python",
      "name": "python3"
    },
    "language_info": {
      "codemirror_mode": {
        "name": "ipython",
        "version": 3
      },
      "file_extension": ".py",
      "mimetype": "text/x-python",
      "name": "python",
      "nbconvert_exporter": "python",
      "pygments_lexer": "ipython3",
      "version": "3.9.7"
    }
  },
  "nbformat": 4,
  "nbformat_minor": 5
}
