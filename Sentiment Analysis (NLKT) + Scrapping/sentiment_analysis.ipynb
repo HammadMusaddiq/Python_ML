{
 "cells": [
  {
   "cell_type": "code",
   "execution_count": 6,
   "metadata": {},
   "outputs": [],
   "source": [
    "import pandas as pd"
   ]
  },
  {
   "cell_type": "code",
   "execution_count": 10,
   "metadata": {},
   "outputs": [],
   "source": [
    "df = pd.read_csv('text.txt', delimiter = \"\\t\", header=None)"
   ]
  },
  {
   "cell_type": "code",
   "execution_count": 11,
   "metadata": {},
   "outputs": [
    {
     "data": {
      "text/plain": [
       "4660"
      ]
     },
     "execution_count": 11,
     "metadata": {},
     "output_type": "execute_result"
    }
   ],
   "source": [
    "len(df)"
   ]
  },
  {
   "cell_type": "code",
   "execution_count": 12,
   "metadata": {},
   "outputs": [
    {
     "data": {
      "text/html": [
       "<div>\n",
       "<style scoped>\n",
       "    .dataframe tbody tr th:only-of-type {\n",
       "        vertical-align: middle;\n",
       "    }\n",
       "\n",
       "    .dataframe tbody tr th {\n",
       "        vertical-align: top;\n",
       "    }\n",
       "\n",
       "    .dataframe thead th {\n",
       "        text-align: right;\n",
       "    }\n",
       "</style>\n",
       "<table border=\"1\" class=\"dataframe\">\n",
       "  <thead>\n",
       "    <tr style=\"text-align: right;\">\n",
       "      <th></th>\n",
       "      <th>0</th>\n",
       "    </tr>\n",
       "  </thead>\n",
       "  <tbody>\n",
       "    <tr>\n",
       "      <th>0</th>\n",
       "      <td>Elon is me presenting to a class on a project ...</td>\n",
       "    </tr>\n",
       "    <tr>\n",
       "      <th>1</th>\n",
       "      <td>apple: we released a new $52,000 computer!</td>\n",
       "    </tr>\n",
       "    <tr>\n",
       "      <th>2</th>\n",
       "      <td>Elon Musk: so did we, except it's even better,...</td>\n",
       "    </tr>\n",
       "    <tr>\n",
       "      <th>3</th>\n",
       "      <td>Finally, a truck that I can draw...</td>\n",
       "    </tr>\n",
       "    <tr>\n",
       "      <th>4</th>\n",
       "      <td>The glass broke because when he was hitting th...</td>\n",
       "    </tr>\n",
       "  </tbody>\n",
       "</table>\n",
       "</div>"
      ],
      "text/plain": [
       "                                                   0\n",
       "0  Elon is me presenting to a class on a project ...\n",
       "1         apple: we released a new $52,000 computer!\n",
       "2  Elon Musk: so did we, except it's even better,...\n",
       "3                Finally, a truck that I can draw...\n",
       "4  The glass broke because when he was hitting th..."
      ]
     },
     "execution_count": 12,
     "metadata": {},
     "output_type": "execute_result"
    }
   ],
   "source": [
    "df.head()"
   ]
  },
  {
   "cell_type": "code",
   "execution_count": 13,
   "metadata": {},
   "outputs": [
    {
     "data": {
      "text/plain": [
       "True"
      ]
     },
     "execution_count": 13,
     "metadata": {},
     "output_type": "execute_result"
    }
   ],
   "source": [
    "import nltk\n",
    "from nltk.corpus import stopwords\n",
    "from nltk.sentiment.vader import SentimentIntensityAnalyzer\n",
    "import matplotlib.pyplot as plt\n",
    "\n",
    "nltk.download(\"vader_lexicon\", quiet=True)"
   ]
  },
  {
   "cell_type": "code",
   "execution_count": 16,
   "metadata": {},
   "outputs": [],
   "source": [
    "def clean_comments(dataframe: pd.DataFrame) -> pd.DataFrame:\n",
    "    \"\"\"Perform data cleaning on comments to prepare for analysis\n",
    "    :type dataframe: pd.DataFrame\n",
    "    :param dataframe: Uncleaned dataframe for comments\n",
    "    :rtype: pd.DataFrame\n",
    "    :returns: Cleaned pandas dataframe\n",
    "    \"\"\"\n",
    "\n",
    "    dataframe[\"Cleaned Comment Text\"] = (\n",
    "        dataframe[0]\n",
    "        # remove whitespace\n",
    "        .str.strip()\n",
    "        # replace newlines with space\n",
    "        .str.replace(\"\\n\", \" \")\n",
    "        # remove mentions and links\n",
    "        .str.replace(r\"(?:\\@|http?\\://|https?\\://|www)\\S+\", \"\", regex=True)\n",
    "        # remove punctuations, emojis, special characters\n",
    "        .str.replace(r\"[^\\w\\s]+\", \"\", regex=True)\n",
    "        # turn to lowercase\n",
    "        .str.lower()\n",
    "        # remove numbers\n",
    "        .str.replace(r\"\\d+\", \"\", regex=True)\n",
    "        # remove hashtags\n",
    "        .str.replace(r\"#\\S+\", \" \", regex=True)\n",
    "    )\n",
    "\n",
    "    # remove stop words\n",
    "    stop_words = stopwords.words(\"english\")\n",
    "    dataframe[\"Cleaned Comment Text\"] = dataframe[\"Cleaned Comment Text\"].apply(\n",
    "        lambda comment: \" \".join([word for word in comment.split() if word not in stop_words])\n",
    "    )\n",
    "\n",
    "    return dataframe\n"
   ]
  },
  {
   "cell_type": "code",
   "execution_count": 17,
   "metadata": {},
   "outputs": [],
   "source": [
    "cleaned_df = clean_comments(df)"
   ]
  },
  {
   "cell_type": "code",
   "execution_count": 3,
   "metadata": {},
   "outputs": [],
   "source": [
    "def _get_polarity_score(analyzer: SentimentIntensityAnalyzer, text: str) -> float:\n",
    "    \"\"\"Calculate polarity score for the given text\n",
    "    :type analyzer: SentimentIntensityAnalyzer\n",
    "    :param analyzer: Sentiment analyzer for Vader model\n",
    "    :type text: str\n",
    "    :param text: Cleaned comment text\n",
    "    :rtype: float\n",
    "    :returns: Polarity score\n",
    "    \"\"\"\n",
    "\n",
    "    scores = analyzer.polarity_scores(text)\n",
    "\n",
    "    return scores[\"compound\"]\n",
    "\n",
    "\n",
    "def _convert_score_to_sentiment(score) -> str:\n",
    "    \"\"\"Convert score to sentiment\n",
    "    :type score: float\n",
    "    :param score: Polarity score\n",
    "    :rtype: str\n",
    "    :returns: Sentiment as Positive, Negative, or Neutral\n",
    "    \"\"\"\n",
    "\n",
    "    sentiment = \"\"\n",
    "\n",
    "    if score <= -0.5:\n",
    "        sentiment = \"Negative\"\n",
    "    elif -0.5 < score <= 0.5:\n",
    "        sentiment = \"Neutral\"\n",
    "    else:\n",
    "        sentiment = \"Positive\"\n",
    "\n",
    "    return sentiment"
   ]
  },
  {
   "cell_type": "code",
   "execution_count": 4,
   "metadata": {},
   "outputs": [],
   "source": [
    "\n",
    "def analyze_comments(dataframe: pd.DataFrame) -> pd.DataFrame:\n",
    "    \"\"\"Analyze comments by calculating polarity scores\n",
    "    Add Sentiment Score and Sentiment columns to the dataframe.\n",
    "    :type dataframe: pd.DataFrame\n",
    "    :param dataframe: Comments dataframe\n",
    "    :rtype: pd.DataFrame\n",
    "    :returns: Dataframe with sentiment analysis results\n",
    "    \"\"\"\n",
    "\n",
    "    analyzer = SentimentIntensityAnalyzer()\n",
    "\n",
    "    dataframe[\"Sentiment Score\"] = dataframe[\"Cleaned Comment Text\"].apply(\n",
    "        lambda comment: _get_polarity_score(analyzer, comment)\n",
    "    )\n",
    "\n",
    "    dataframe[\"Sentiment\"] = dataframe[\"Sentiment Score\"].apply(\n",
    "        lambda score: _convert_score_to_sentiment(score)\n",
    "    )\n",
    "\n",
    "    return dataframe"
   ]
  },
  {
   "cell_type": "code",
   "execution_count": 18,
   "metadata": {},
   "outputs": [],
   "source": [
    "analyze_df = analyze_comments(cleaned_df)"
   ]
  },
  {
   "cell_type": "code",
   "execution_count": 19,
   "metadata": {},
   "outputs": [
    {
     "data": {
      "text/html": [
       "<div>\n",
       "<style scoped>\n",
       "    .dataframe tbody tr th:only-of-type {\n",
       "        vertical-align: middle;\n",
       "    }\n",
       "\n",
       "    .dataframe tbody tr th {\n",
       "        vertical-align: top;\n",
       "    }\n",
       "\n",
       "    .dataframe thead th {\n",
       "        text-align: right;\n",
       "    }\n",
       "</style>\n",
       "<table border=\"1\" class=\"dataframe\">\n",
       "  <thead>\n",
       "    <tr style=\"text-align: right;\">\n",
       "      <th></th>\n",
       "      <th>0</th>\n",
       "      <th>Cleaned Comment Text</th>\n",
       "      <th>Sentiment Score</th>\n",
       "      <th>Sentiment</th>\n",
       "    </tr>\n",
       "  </thead>\n",
       "  <tbody>\n",
       "    <tr>\n",
       "      <th>0</th>\n",
       "      <td>Elon is me presenting to a class on a project ...</td>\n",
       "      <td>elon presenting class project didnt know due day</td>\n",
       "      <td>0.0000</td>\n",
       "      <td>Neutral</td>\n",
       "    </tr>\n",
       "    <tr>\n",
       "      <th>1</th>\n",
       "      <td>apple: we released a new $52,000 computer!</td>\n",
       "      <td>apple released new computer</td>\n",
       "      <td>0.0000</td>\n",
       "      <td>Neutral</td>\n",
       "    </tr>\n",
       "    <tr>\n",
       "      <th>2</th>\n",
       "      <td>Elon Musk: so did we, except it's even better,...</td>\n",
       "      <td>elon musk except even better comes vehicle att...</td>\n",
       "      <td>0.4404</td>\n",
       "      <td>Neutral</td>\n",
       "    </tr>\n",
       "    <tr>\n",
       "      <th>3</th>\n",
       "      <td>Finally, a truck that I can draw...</td>\n",
       "      <td>finally truck draw</td>\n",
       "      <td>0.0000</td>\n",
       "      <td>Neutral</td>\n",
       "    </tr>\n",
       "    <tr>\n",
       "      <th>4</th>\n",
       "      <td>The glass broke because when he was hitting th...</td>\n",
       "      <td>glass broke hitting door sledgehammer window f...</td>\n",
       "      <td>-0.6259</td>\n",
       "      <td>Negative</td>\n",
       "    </tr>\n",
       "  </tbody>\n",
       "</table>\n",
       "</div>"
      ],
      "text/plain": [
       "                                                   0  \\\n",
       "0  Elon is me presenting to a class on a project ...   \n",
       "1         apple: we released a new $52,000 computer!   \n",
       "2  Elon Musk: so did we, except it's even better,...   \n",
       "3                Finally, a truck that I can draw...   \n",
       "4  The glass broke because when he was hitting th...   \n",
       "\n",
       "                                Cleaned Comment Text  Sentiment Score  \\\n",
       "0   elon presenting class project didnt know due day           0.0000   \n",
       "1                        apple released new computer           0.0000   \n",
       "2  elon musk except even better comes vehicle att...           0.4404   \n",
       "3                                 finally truck draw           0.0000   \n",
       "4  glass broke hitting door sledgehammer window f...          -0.6259   \n",
       "\n",
       "  Sentiment  \n",
       "0   Neutral  \n",
       "1   Neutral  \n",
       "2   Neutral  \n",
       "3   Neutral  \n",
       "4  Negative  "
      ]
     },
     "execution_count": 19,
     "metadata": {},
     "output_type": "execute_result"
    }
   ],
   "source": [
    "analyze_df.head()"
   ]
  },
  {
   "cell_type": "code",
   "execution_count": 14,
   "metadata": {},
   "outputs": [],
   "source": [
    "def create_pie_chart(dataframe: df, video_title: str, filename: str) -> None:\n",
    "    \"\"\"Create a pie chart for the resulting analysis\n",
    "    :type dataframe: pandas.DataFrame\n",
    "    :param dataframe: Comments dataframe\n",
    "    :type video_title: str\n",
    "    :param video_title: Video title\n",
    "    :type filename: str\n",
    "    :param filename: Name or absolute path of the output chart\n",
    "    \"\"\"\n",
    "\n",
    "    sentiment_counts_df = dataframe[\"Sentiment\"].value_counts().to_frame()\n",
    "    sentiment_counts_df.reset_index(inplace=True)\n",
    "    sentiment_counts_df.rename(columns={\"index\": \"Sentiment\", \"Sentiment\": \"Counts\"}, inplace=True)\n",
    "\n",
    "    sentiment_counts_df = sentiment_counts_df.set_index(\"Sentiment\")\n",
    "\n",
    "    axis = sentiment_counts_df.plot.pie(\n",
    "        y=\"Counts\",\n",
    "        ylabel=\"\",\n",
    "        figsize=(12, 12),\n",
    "        fontsize=15,\n",
    "        autopct=\"%1.1f%%\",\n",
    "        startangle=90,\n",
    "        legend=False,\n",
    "        textprops={\"color\": \"w\", \"weight\": \"bold\"},\n",
    "        # colors=_get_colors(sentiment_counts_df),\n",
    "        colors=['red','yellow','green'],\n",
    "    )\n",
    "\n",
    "    plt.axis(\"equal\")\n",
    "\n",
    "    axis.set_facecolor(\"black\")\n",
    "    axis.set_title(\n",
    "        f\"Sentiment Analysis Results\\n{video_title}\",\n",
    "        fontdict={\"color\": \"white\", \"fontweight\": \"bold\", \"fontsize\": 16},\n",
    "        linespacing=2,\n",
    "        pad=30,\n",
    "    )\n",
    "\n",
    "    figure = axis.get_figure()\n",
    "    figure.savefig(filename, facecolor=\"black\", dpi=600)"
   ]
  },
  {
   "cell_type": "code",
   "execution_count": 20,
   "metadata": {},
   "outputs": [
    {
     "data": {
      "image/png": "[encoded data removed]",
      "text/plain": [
       "<Figure size 864x864 with 1 Axes>"
      ]
     },
     "metadata": {},
     "output_type": "display_data"
    }
   ],
   "source": [
    "create_pie_chart(analyze_df, \"results\", \"output\")"
   ]
  },
  {
   "cell_type": "code",
   "execution_count": null,
   "metadata": {},
   "outputs": [],
   "source": []
  }
 ],
 "metadata": {
  "kernelspec": {
   "display_name": "Python 3.8.8 ('base')",
   "language": "python",
   "name": "python3"
  },
  "language_info": {
   "codemirror_mode": {
    "name": "ipython",
    "version": 3
   },
   "file_extension": ".py",
   "mimetype": "text/x-python",
   "name": "python",
   "nbconvert_exporter": "python",
   "pygments_lexer": "ipython3",
   "version": "3.8.8"
  },
  "orig_nbformat": 4,
  "vscode": {
   "interpreter": {
    "hash": "ad2bdc8ecc057115af97d19610ffacc2b4e99fae6737bb82f5d7fb13d2f2c186"
   }
  }
 },
 "nbformat": 4,
 "nbformat_minor": 2
}
