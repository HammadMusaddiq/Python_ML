{
 "cells": [
  {
   "cell_type": "code",
   "execution_count": 1,
   "id": "708a48b7",
   "metadata": {},
   "outputs": [],
   "source": [
    "import os\n",
    "import math"
   ]
  },
  {
   "cell_type": "code",
   "execution_count": 2,
   "id": "366ffbfd",
   "metadata": {},
   "outputs": [],
   "source": [
    "import tensorflow as tf\n",
    "from tensorflow.keras.preprocessing.image import load_img, img_to_array\n",
    "import tensorflow.keras.layers as L\n",
    "from tensorflow.keras.utils import to_categorical\n",
    "from tensorflow.keras.regularizers import l2\n",
    "from tensorflow.keras.optimizers import Adam\n",
    "from tensorflow.keras.optimizers.schedules import ExponentialDecay\n",
    "import tensorflow_hub as hub"
   ]
  },
  {
   "cell_type": "code",
   "execution_count": 3,
   "id": "252576aa",
   "metadata": {},
   "outputs": [],
   "source": [
    "from tensorflow import keras\n",
    "from tensorflow.keras.models import Sequential\n",
    "from tensorflow.keras.layers import Conv2D,Flatten,MaxPooling2D,Dropout,Dense,Activation,BatchNormalization"
   ]
  },
  {
   "cell_type": "code",
   "execution_count": 4,
   "id": "76d854df",
   "metadata": {},
   "outputs": [],
   "source": [
    "import numpy as np\n",
    "import pandas as pd"
   ]
  },
  {
   "cell_type": "code",
   "execution_count": 5,
   "id": "ed087461",
   "metadata": {},
   "outputs": [],
   "source": [
    "from sklearn.model_selection import train_test_split, RepeatedStratifiedKFold"
   ]
  },
  {
   "cell_type": "code",
   "execution_count": 6,
   "id": "857b3ec7",
   "metadata": {},
   "outputs": [],
   "source": [
    "from sklearn.metrics import accuracy_score\n",
    "import matplotlib.pyplot as plt"
   ]
  },
  {
   "cell_type": "code",
   "execution_count": 7,
   "id": "5d6ab6bc",
   "metadata": {},
   "outputs": [],
   "source": [
    "from sklearn.metrics import accuracy_score\n",
    "import matplotlib.pyplot as plt"
   ]
  },
  {
   "cell_type": "code",
   "execution_count": 8,
   "id": "d3ee64a2",
   "metadata": {},
   "outputs": [],
   "source": [
    "from tqdm import tqdm\n",
    "from tabulate import tabulate"
   ]
  },
  {
   "cell_type": "code",
   "execution_count": 9,
   "id": "cee6789a",
   "metadata": {},
   "outputs": [],
   "source": [
    "data_root = \"C:\\\\Users\\\\Hammad\\\\Desktop\\\\Waqas Project\\\\Dataset(Final)\"\n",
    "img_size = 15\n",
    "\n",
    "index_label = {}\n",
    "\n",
    "# Discover the class label names.\n",
    "class_labels = os.listdir(data_root)\n",
    "nclasses = len(class_labels)\n",
    "X, y, images = [], [], []\n",
    "\n",
    "for label_index, label in enumerate(class_labels):\n",
    "    # Load the images for this class label.\n",
    "    index_label[label_index] = label\n",
    "\n",
    "    img_names = os.listdir(os.path.join(data_root, label))\n",
    "    for img_name in img_names:\n",
    "        img_path = os.path.join(data_root, label, img_name)\n",
    "        img = load_img(img_path, target_size=(img_size, img_size))\n",
    "        images.append(img)\n",
    "        X.append(img_to_array(img))\n",
    "        y.append(label_index)\n",
    "\n",
    "X = np.array(X)\n",
    "y_old = np.array(y)\n",
    "y = to_categorical(y, num_classes=nclasses)"
   ]
  },
  {
   "cell_type": "code",
   "execution_count": 10,
   "id": "61da6e5b",
   "metadata": {
    "scrolled": true
   },
   "outputs": [],
   "source": [
    "def plotImages(image_arr):\n",
    "    fig,axes = plt.subplots(1, 4, figsize=(20,20))\n",
    "    axes = axes.flatten()\n",
    "    for img,ax in zip(image_arr,axes):\n",
    "        ax.imshow(img)\n",
    "    plt.tight_layout()\n",
    "    plt.show()"
   ]
  },
  {
   "cell_type": "code",
   "execution_count": 11,
   "id": "53d0ed0b",
   "metadata": {},
   "outputs": [
    {
     "data": {
      "image/png": "[encoded data removed]",
      "text/plain": [
       "<Figure size 1440x1440 with 4 Axes>"
      ]
     },
     "metadata": {
      "needs_background": "light"
     },
     "output_type": "display_data"
    }
   ],
   "source": [
    "# Plot a few training images\n",
    "plotImages(images)"
   ]
  },
  {
   "cell_type": "code",
   "execution_count": 12,
   "id": "a99a81c4",
   "metadata": {},
   "outputs": [
    {
     "name": "stdout",
     "output_type": "stream",
     "text": [
      "{0: 'Ham', 1: 'Spam'}\n"
     ]
    }
   ],
   "source": [
    "print(index_label)"
   ]
  },
  {
   "cell_type": "code",
   "execution_count": 13,
   "id": "2e4ddac4",
   "metadata": {},
   "outputs": [
    {
     "name": "stdout",
     "output_type": "stream",
     "text": [
      "(71, 15, 15, 3)\n",
      "(71, 2)\n"
     ]
    }
   ],
   "source": [
    "print(X.shape)\n",
    "print(y.shape)"
   ]
  },
  {
   "cell_type": "code",
   "execution_count": 15,
   "id": "a1a2be2c",
   "metadata": {},
   "outputs": [
    {
     "name": "stdout",
     "output_type": "stream",
     "text": [
      "(71, 15, 15, 3)\n",
      "(71, 2)\n"
     ]
    }
   ],
   "source": [
    "# reshape dataset to have a single channel\n",
    "trainX = X.reshape((X.shape[0], 15, 15, 3))\n",
    "trainY = y\n",
    "print(trainX.shape)\n",
    "print(trainY.shape)"
   ]
  },
  {
   "cell_type": "code",
   "execution_count": 16,
   "id": "01a4b820",
   "metadata": {},
   "outputs": [],
   "source": [
    "#Define Model\n",
    "model = Sequential()\n",
    "model.add(Conv2D(8, (3,3), input_shape=(15,15,3), kernel_initializer='he_uniform', activation=\"relu\"))\n",
    "model.add(MaxPooling2D(2,2))\n",
    "model.add(Conv2D(16, (3,3), kernel_initializer='he_uniform', activation=\"relu\"))\n",
    "model.add(MaxPooling2D(2,2))\n",
    "model.add(Flatten())\n",
    "model.add(Dense(100,activation=\"relu\"))\n",
    "model.add(Dense(2, activation=\"softmax\"))"
   ]
  },
  {
   "cell_type": "code",
   "execution_count": 17,
   "id": "c91c3e01",
   "metadata": {},
   "outputs": [
    {
     "name": "stdout",
     "output_type": "stream",
     "text": [
      "Model: \"sequential\"\n",
      "_________________________________________________________________\n",
      "Layer (type)                 Output Shape              Param #   \n",
      "=================================================================\n",
      "conv2d (Conv2D)              (None, 13, 13, 8)         224       \n",
      "_________________________________________________________________\n",
      "max_pooling2d (MaxPooling2D) (None, 6, 6, 8)           0         \n",
      "_________________________________________________________________\n",
      "conv2d_1 (Conv2D)            (None, 4, 4, 16)          1168      \n",
      "_________________________________________________________________\n",
      "max_pooling2d_1 (MaxPooling2 (None, 2, 2, 16)          0         \n",
      "_________________________________________________________________\n",
      "flatten (Flatten)            (None, 64)                0         \n",
      "_________________________________________________________________\n",
      "dense (Dense)                (None, 100)               6500      \n",
      "_________________________________________________________________\n",
      "dense_1 (Dense)              (None, 2)                 202       \n",
      "=================================================================\n",
      "Total params: 8,094\n",
      "Trainable params: 8,094\n",
      "Non-trainable params: 0\n",
      "_________________________________________________________________\n"
     ]
    }
   ],
   "source": [
    "model.summary()"
   ]
  },
  {
   "cell_type": "code",
   "execution_count": 23,
   "id": "c926b29f",
   "metadata": {
    "scrolled": true
   },
   "outputs": [
    {
     "name": "stderr",
     "output_type": "stream",
     "text": [
      "\r",
      "  0%|                                                                                           | 0/30 [00:00<?, ?it/s]"
     ]
    },
    {
     "name": "stdout",
     "output_type": "stream",
     "text": [
      "(63, 15, 15, 3)\n",
      "(8, 15, 15, 3)\n",
      "(63, 2)\n",
      "(8, 2)\n"
     ]
    },
    {
     "name": "stderr",
     "output_type": "stream",
     "text": [
      "100%|██████████████████████████████████████████████████████████████████████████████████| 30/30 [00:34<00:00,  1.16s/it]"
     ]
    },
    {
     "name": "stdout",
     "output_type": "stream",
     "text": [
      "Set      Accuracy    Standard Deviation\n",
      "-----  ----------  --------------------\n",
      "Train    0.537814              0.100355\n",
      "Test     0.48869               0.153992\n"
     ]
    },
    {
     "name": "stderr",
     "output_type": "stream",
     "text": [
      "\n"
     ]
    }
   ],
   "source": [
    "from keras.layers import MaxPool2D\n",
    "from tensorflow.keras.layers import LSTM\n",
    "from keras.layers.embeddings import Embedding\n",
    "from keras.layers import Reshape\n",
    "\n",
    "X = trainX\n",
    "y = trainY\n",
    "labels = y_old\n",
    "train_accs, test_accs = [], []\n",
    "history = []\n",
    "verbose = True\n",
    "i = 0\n",
    "\n",
    "# Train and evaluate the model for each fold.\n",
    "for train_index, test_index in tqdm(\n",
    "    RepeatedStratifiedKFold(\n",
    "        n_splits=10, n_repeats=3, random_state=0\n",
    "    ).split(X, labels),\n",
    "    total=10*3, disable = not True #(verbose - True)\n",
    "):\n",
    "\n",
    "    # Select the data for this fold.\n",
    "    X_train = tf.gather(X, train_index) \n",
    "    y_train = tf.gather(y, train_index)\n",
    "    X_test = tf.gather(X, test_index)\n",
    "    y_test = tf.gather(y, test_index)\n",
    "\n",
    "    if (i==0):\n",
    "        i=1\n",
    "        print(X_train.shape)\n",
    "        print(X_test.shape)\n",
    "        print(y_train.shape)\n",
    "        print(y_test.shape)\n",
    "    \n",
    "    #Define Model\n",
    "    #Define Model\n",
    "    model = Sequential()\n",
    "    model.add(Conv2D(8, (3,3), input_shape=(15,15,3), kernel_initializer='he_uniform', activation=\"relu\"))\n",
    "    model.add(MaxPooling2D(2,2))\n",
    "    model.add(Conv2D(16, (3,3), kernel_initializer='he_uniform', activation=\"relu\"))\n",
    "    model.add(MaxPooling2D(2,2))\n",
    "    model.add(Flatten())\n",
    "    model.add(Dense(100,activation=\"relu\"))\n",
    "    model.add(Dense(2, activation=\"softmax\"))\n",
    "\n",
    "    #Learning Rate\n",
    "    steps_per_epoch = math.ceil(len(X_train) / 32) #batch - 32\n",
    "    third_of_total_steps = math.floor(10 * steps_per_epoch / 3) #epoch - 10\n",
    "    \n",
    "    # Train and evaluate the model.\n",
    "    model.compile(\n",
    "        optimizer=Adam(\n",
    "            learning_rate=ExponentialDecay(\n",
    "                0.0003,\n",
    "                decay_steps=third_of_total_steps,\n",
    "                decay_rate=0.1,\n",
    "                staircase=True\n",
    "            )\n",
    "        ),\n",
    "        loss=\"categorical_crossentropy\",\n",
    "        metrics=[\"accuracy\"]\n",
    "    )\n",
    "    \n",
    "    # Train the model on the training set and evaluate it on the test set.\n",
    "    history = (model.fit(X_train, y_train, batch_size=32, epochs=10, verbose=0, validation_data=(X_test, y_test)))\n",
    "    train_loss, train_acc = model.evaluate(X_train, y_train, batch_size=32, verbose=0)\n",
    "    test_loss, test_acc = model.evaluate(X_test, y_test, batch_size=32, verbose=0)\n",
    "    \n",
    "    train_accs.append(train_acc)\n",
    "    test_accs.append(test_acc)\n",
    "\n",
    "# Aggregate.\n",
    "results = {\n",
    "    \"Train_Acc\": np.mean(train_accs),\n",
    "    \"Train_std\": np.std(train_accs),\n",
    "    \"Test_Acc\": np.mean(test_accs),\n",
    "    \"Test_std\": np.std(test_accs)\n",
    "}\n",
    "\n",
    "# Report.\n",
    "if verbose:\n",
    "    print(\n",
    "        tabulate(\n",
    "            [\n",
    "                [\"Train\", results[\"Train_Acc\"], results[\"Train_std\"]],\n",
    "                [\"Test\", results[\"Test_Acc\"], results[\"Test_std\"]]\n",
    "            ],\n",
    "            headers=[\"Set\", \"Accuracy\", \"Standard Deviation\"]\n",
    "        )\n",
    "    )"
   ]
  },
  {
   "cell_type": "code",
   "execution_count": 24,
   "id": "44378356",
   "metadata": {},
   "outputs": [
    {
     "name": "stdout",
     "output_type": "stream",
     "text": [
      "Model: \"sequential_90\"\n",
      "_________________________________________________________________\n",
      "Layer (type)                 Output Shape              Param #   \n",
      "=================================================================\n",
      "conv2d_180 (Conv2D)          (None, 13, 13, 8)         224       \n",
      "_________________________________________________________________\n",
      "max_pooling2d_180 (MaxPoolin (None, 6, 6, 8)           0         \n",
      "_________________________________________________________________\n",
      "conv2d_181 (Conv2D)          (None, 4, 4, 16)          1168      \n",
      "_________________________________________________________________\n",
      "max_pooling2d_181 (MaxPoolin (None, 2, 2, 16)          0         \n",
      "_________________________________________________________________\n",
      "flatten_90 (Flatten)         (None, 64)                0         \n",
      "_________________________________________________________________\n",
      "dense_180 (Dense)            (None, 100)               6500      \n",
      "_________________________________________________________________\n",
      "dense_181 (Dense)            (None, 2)                 202       \n",
      "=================================================================\n",
      "Total params: 8,094\n",
      "Trainable params: 8,094\n",
      "Non-trainable params: 0\n",
      "_________________________________________________________________\n"
     ]
    }
   ],
   "source": [
    "model.summary()"
   ]
  },
  {
   "cell_type": "code",
   "execution_count": 25,
   "id": "d8e039df",
   "metadata": {},
   "outputs": [],
   "source": [
    "plt.style.use('ggplot')\n",
    "\n",
    "def plot_history(history):\n",
    "    acc = history.history['accuracy']\n",
    "    val_acc = history.history['val_accuracy']\n",
    "    loss = history.history['loss']\n",
    "    val_loss = history.history['val_loss']\n",
    "    x = range(1, len(acc) + 1)\n",
    "\n",
    "    plt.figure(figsize=(12, 5))\n",
    "    \n",
    "    plt.subplot(1, 2, 1)\n",
    "    plt.plot(x, acc, 'b', label='Training acc')\n",
    "    plt.plot(x, val_acc, 'r', label='Validation acc')\n",
    "    plt.title('Training and validation accuracy')\n",
    "    plt.ylabel('Accuracy value (%)')\n",
    "    plt.xlabel('No. epoch')\n",
    "    plt.legend()\n",
    "    \n",
    "    plt.subplot(1, 2, 2)\n",
    "    plt.plot(x, loss, 'b', label='Training loss')\n",
    "    plt.plot(x, val_loss, 'r', label='Validation loss')\n",
    "    plt.title('Training and validation loss')\n",
    "    plt.ylabel('Loss value')\n",
    "    plt.xlabel('No. epoch')\n",
    "    plt.legend()"
   ]
  },
  {
   "cell_type": "code",
   "execution_count": 26,
   "id": "ca76ec25",
   "metadata": {},
   "outputs": [
    {
     "data": {
      "image/png": "[encoded data removed]",
      "text/plain": [
       "<Figure size 864x360 with 2 Axes>"
      ]
     },
     "metadata": {},
     "output_type": "display_data"
    }
   ],
   "source": [
    "plot_history(history)"
   ]
  },
  {
   "cell_type": "code",
   "execution_count": 27,
   "id": "a518ba85",
   "metadata": {},
   "outputs": [
    {
     "data": {
      "image/png": "[encoded data removed]",
      "text/plain": [
       "<Figure size 700x300 with 1 Axes>"
      ]
     },
     "metadata": {},
     "output_type": "display_data"
    }
   ],
   "source": [
    "#All in one Graph (loss and accuracy)\n",
    "plt.style.use('default')\n",
    "plt.figure(figsize=(7, 3))\n",
    "plt.plot(history.history[\"accuracy\"])\n",
    "plt.plot(history.history[\"val_accuracy\"])\n",
    "plt.plot(history.history[\"loss\"]) \n",
    "plt.plot(history.history[\"val_loss\"]) \n",
    "plt.title(\"Model Evaluation\")\n",
    "plt.ylabel(\"Value (%)\")\n",
    "plt.xlabel(\"No. of Epochs\")\n",
    "plt.legend([\"Training Accuracy\",\"Validation Accuracy\",\"Training loss\",\"Validation loss\"])\n",
    "plt.show()"
   ]
  },
  {
   "cell_type": "code",
   "execution_count": 28,
   "id": "04d5c18f",
   "metadata": {},
   "outputs": [],
   "source": [
    "# save model\n",
    "model.save('waqas_new1.h5')"
   ]
  },
  {
   "cell_type": "code",
   "execution_count": null,
   "id": "5471e915",
   "metadata": {},
   "outputs": [],
   "source": []
  },
  {
   "cell_type": "code",
   "execution_count": 71,
   "id": "1d4b0239",
   "metadata": {},
   "outputs": [],
   "source": [
    "#Mnist Model that is working with symblic Eqecution\n",
    "#Define Model\n",
    "model = Sequential()\n",
    "model.add(Conv2D(8, (3,3), input_shape=(28,28,1), kernel_initializer='he_uniform', activation=\"relu\"))\n",
    "model.add(MaxPooling2D(2,2))\n",
    "model.add(Conv2D(16, (3,3), kernel_initializer='he_uniform', activation=\"relu\"))\n",
    "model.add(MaxPooling2D(2,2))\n",
    "model.add(Flatten())\n",
    "model.add(Dense(100,activation=\"relu\"))\n",
    "model.add(Dense(10, activation=\"softmax\"))"
   ]
  },
  {
   "cell_type": "code",
   "execution_count": 72,
   "id": "d93d1d90",
   "metadata": {},
   "outputs": [
    {
     "name": "stdout",
     "output_type": "stream",
     "text": [
      "Model: \"sequential_52\"\n",
      "_________________________________________________________________\n",
      "Layer (type)                 Output Shape              Param #   \n",
      "=================================================================\n",
      "conv2d_190 (Conv2D)          (None, 26, 26, 8)         80        \n",
      "_________________________________________________________________\n",
      "max_pooling2d_190 (MaxPoolin (None, 13, 13, 8)         0         \n",
      "_________________________________________________________________\n",
      "conv2d_191 (Conv2D)          (None, 11, 11, 16)        1168      \n",
      "_________________________________________________________________\n",
      "max_pooling2d_191 (MaxPoolin (None, 5, 5, 16)          0         \n",
      "_________________________________________________________________\n",
      "flatten_52 (Flatten)         (None, 400)               0         \n",
      "_________________________________________________________________\n",
      "dense_138 (Dense)            (None, 100)               40100     \n",
      "_________________________________________________________________\n",
      "dense_139 (Dense)            (None, 10)                1010      \n",
      "=================================================================\n",
      "Total params: 42,358\n",
      "Trainable params: 42,358\n",
      "Non-trainable params: 0\n",
      "_________________________________________________________________\n"
     ]
    }
   ],
   "source": [
    "model.summary()"
   ]
  },
  {
   "cell_type": "code",
   "execution_count": null,
   "id": "906c7453",
   "metadata": {},
   "outputs": [],
   "source": []
  }
 ],
 "metadata": {
  "kernelspec": {
   "display_name": "Python 3",
   "language": "python",
   "name": "python3"
  },
  "language_info": {
   "codemirror_mode": {
    "name": "ipython",
    "version": 3
   },
   "file_extension": ".py",
   "mimetype": "text/x-python",
   "name": "python",
   "nbconvert_exporter": "python",
   "pygments_lexer": "ipython3",
   "version": "3.8.8"
  }
 },
 "nbformat": 4,
 "nbformat_minor": 5
}
