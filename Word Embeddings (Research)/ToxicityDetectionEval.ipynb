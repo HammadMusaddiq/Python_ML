{
 "cells": [
  {
   "cell_type": "code",
   "execution_count": 82,
   "metadata": {},
   "outputs": [],
   "source": [
    "import numpy as np\n",
    "import pandas as pd\n",
    "import os\n",
    "import time\n",
    "import gc\n",
    "import random\n",
    "\n",
    "# from nltk.chunk.named_entity import build_model\n",
    "from tqdm.notebook import tqdm_notebook as tqdm\n",
    "from tensorflow.keras.preprocessing import text, sequence\n",
    "import torch\n",
    "from torch import nn\n",
    "from torch.utils import data\n",
    "from torch.nn import functional as F\n",
    "\n",
    "\n",
    "torch.backends.cudnn.enabled = False"
   ]
  },
  {
   "cell_type": "code",
   "execution_count": 2,
   "metadata": {},
   "outputs": [],
   "source": [
    "NUM_MODELS = 1\n",
    "N_EPOCHS = 1\n",
    "BATCH_SIZE = 32\n",
    "# units parameters in Keras.layers.LSTM/cuDNNLSTM\n",
    "# the dimension of the output vector of each LSTM cell.\n",
    "LSTM_UNITS = 2 #128\n",
    "DENSE_HIDDEN_UNITS = 4 * LSTM_UNITS\n",
    "MAX_LEN = 8 #220"
   ]
  },
  {
   "cell_type": "code",
   "execution_count": 3,
   "metadata": {},
   "outputs": [],
   "source": [
    "def get_coefs(word, *arr):\n",
    "    return word, np.asarray(arr, dtype='float32')\n",
    "\n",
    "def load_embeddings(path):\n",
    "    #each line in the file looks like\n",
    "    # apple 0.3 0.4 0.5 0.6 ...\n",
    "    # that is a word followed by 50 float numbers\n",
    "    with open(path) as f:\n",
    "        # import pdb; pdb.set_trace()\n",
    "        return dict(get_coefs(*line.strip().split(' ')) for line in f) #used in python\n",
    "        # return dict(get_coefs(*o.strip().split(\" \")) for o in tqdm(f))\n",
    "\n",
    "def build_matrix(word_index, path):\n",
    "    #path: a path that contains embedding matrix\n",
    "    #word_index is a dict of the form ('apple': 123, 'banana': 349, etc)\n",
    "    # that means word_index[word] gives the index of the word\n",
    "    # word_index was built from all commment_texts\n",
    "    embedding_index = load_embeddings(path)\n",
    "    embedding_matrix = np.zeros((len(word_index) + 1, 50))\n",
    "    unknown_words = []\n",
    "\n",
    "    # word_index is a dict. Each element is (word:i) where i is the index\n",
    "    # of the word\n",
    "    for word, i in word_index.items():\n",
    "        try:\n",
    "            embedding_matrix[i] = embedding_index[word]\n",
    "        except KeyError:\n",
    "            unknown_words.append(word)\n",
    "\n",
    "    return embedding_matrix, unknown_words\n",
    "\n",
    "def sigmoid(x):\n",
    "    return 1 / (1 + np.exp(-x))"
   ]
  },
  {
   "cell_type": "code",
   "execution_count": 4,
   "metadata": {},
   "outputs": [],
   "source": [
    "def train_model(model, train, test, loss_fn, output_dim, lr=0.001,\n",
    "                batch_size=BATCH_SIZE, n_epochs=N_EPOCHS,\n",
    "                enable_checkpoint_ensemble=True):\n",
    "    param_lrs = [{'params': param, 'lr': lr} for param in model.parameters()]\n",
    "    optimizer = torch.optim.Adam(param_lrs, lr=lr)\n",
    "\n",
    "    scheduler = torch.optim.lr_scheduler.LambdaLR(optimizer, lambda epoch: 0.6 ** epoch)\n",
    "\n",
    "    train_loader = torch.utils.data.DataLoader(train, batch_size=batch_size, shuffle=True)\n",
    "    test_loader = torch.utils.data.DataLoader(test, batch_size=batch_size, shuffle=False)\n",
    "    all_test_preds = []\n",
    "    checkpoint_weights = [2 ** epoch for epoch in range(n_epochs)]\n",
    "\n",
    "    print(\"First Epoch\")\n",
    "\n",
    "    for epoch in range(n_epochs):\n",
    "        start_time = time.time()\n",
    "\n",
    "        model.train()\n",
    "        avg_loss = 0.\n",
    "\n",
    "        for data in tqdm(train_loader, disable=False):\n",
    "            x_batch = data[:-1]\n",
    "            y_batch = data[-1]\n",
    "\n",
    "            y_pred = model(*x_batch)\n",
    "\n",
    "            loss = loss_fn(y_pred, y_batch)\n",
    "\n",
    "            optimizer.zero_grad()\n",
    "            loss.backward()\n",
    "\n",
    "            optimizer.step()\n",
    "            avg_loss += loss.item() / len(train_loader)\n",
    "\n",
    "        scheduler.step()\n",
    "\n",
    "        model.eval()\n",
    "        test_preds = np.zeros((len(test), output_dim))\n",
    "\n",
    "        for i, x_batch in enumerate(test_loader):\n",
    "            y_pred = sigmoid(model(*x_batch).detach().cpu().numpy())\n",
    "\n",
    "            test_preds[i * batch_size:(i + 1) * batch_size, :] = y_pred\n",
    "\n",
    "        all_test_preds.append(test_preds)\n",
    "        elapsed_time = time.time() - start_time\n",
    "        print('Epoch {}/{} \\t loss={:.4f} \\t time={:.2f}s'.format(\n",
    "            epoch + 1, n_epochs, avg_loss, elapsed_time))\n",
    "\n",
    "    if enable_checkpoint_ensemble:\n",
    "        test_preds = np.average(all_test_preds, weights=checkpoint_weights, axis=0)\n",
    "    else:\n",
    "        test_preds = all_test_preds[-1]\n",
    "\n",
    "    return test_preds\n"
   ]
  },
  {
   "cell_type": "code",
   "execution_count": 5,
   "metadata": {},
   "outputs": [],
   "source": [
    "class SpatialDropout(nn.Dropout2d):\n",
    "    def forward(self, x):\n",
    "        x = x.unsqueeze(2)  # (N, T, 1, K)\n",
    "        x = x.permute(0, 3, 2, 1)  # (N, K, 1, T)\n",
    "        x = super(SpatialDropout, self).forward(x)  # (N, K, 1, T), some features are masked\n",
    "        x = x.permute(0, 3, 2, 1)  # (N, T, 1, K)\n",
    "        x = x.squeeze(2)  # (N, T, K)\n",
    "        return x\n"
   ]
  },
  {
   "cell_type": "code",
   "execution_count": 6,
   "metadata": {},
   "outputs": [],
   "source": [
    "class NeuralNet(nn.Module):\n",
    "    def __init__(self, embedding_matrix, num_aux_targets):\n",
    "        super(NeuralNet, self).__init__()\n",
    "        \n",
    "        embed_size = embedding_matrix.shape[1] # 50\n",
    "\n",
    "        self.embedding = nn.Embedding(max_features, embed_size)\n",
    "        self.embedding.weight = nn.Parameter(torch.tensor(embedding_matrix, dtype=torch.float32))\n",
    "        self.embedding.weight.requires_grad = False\n",
    "        self.embedding_dropout = SpatialDropout(0.3)\n",
    "\n",
    "        self.lstm1 = nn.LSTM(embed_size, LSTM_UNITS, bidirectional=True, batch_first=True)\n",
    "        self.lstm2 = nn.LSTM(LSTM_UNITS * 2, LSTM_UNITS, bidirectional=True, batch_first=True)\n",
    "\n",
    "        self.linear1 = nn.Linear(DENSE_HIDDEN_UNITS, DENSE_HIDDEN_UNITS)\n",
    "        self.linear2 = nn.Linear(DENSE_HIDDEN_UNITS, DENSE_HIDDEN_UNITS)\n",
    "\n",
    "        self.linear_out = nn.Linear(DENSE_HIDDEN_UNITS, 1)\n",
    "        self.linear_aux_out = nn.Linear(DENSE_HIDDEN_UNITS, num_aux_targets)\n",
    "\n",
    "    def forward(self, x):\n",
    "        h_embedding = self.embedding(x)\n",
    "        h_embedding = self.embedding_dropout(h_embedding)\n",
    "\n",
    "        h_lstm1, _ = self.lstm1(h_embedding)\n",
    "        h_lstm2, _ = self.lstm2(h_lstm1)\n",
    "\n",
    "        # global average pooling\n",
    "        avg_pool = torch.mean(h_lstm2, 1)\n",
    "        # global max pooling\n",
    "        max_pool, _ = torch.max(h_lstm2, 1)\n",
    "\n",
    "        h_conc = torch.cat((max_pool, avg_pool), 1)\n",
    "        h_conc_linear1 = F.relu(self.linear1(h_conc))\n",
    "        h_conc_linear2 = F.relu(self.linear2(h_conc))\n",
    "\n",
    "        hidden = h_conc + h_conc_linear1 + h_conc_linear2\n",
    "\n",
    "        result = self.linear_out(hidden)\n",
    "        aux_result = self.linear_aux_out(hidden)\n",
    "        out = torch.cat([result, aux_result], 1)\n",
    "\n",
    "        return out"
   ]
  },
  {
   "cell_type": "code",
   "execution_count": 7,
   "metadata": {},
   "outputs": [],
   "source": [
    "def preprocess(data):\n",
    "    '''\n",
    "    Credit goes to https://www.kaggle.com/gpreda/jigsaw-fast-compact-solution\n",
    "    '''\n",
    "    punct = \"/-'?!.,#$%\\'()*+-/:;<=>@[\\\\]^_`{|}~`\" + '\"\"“”’' + '∞θ÷α•à−β∅³π‘₹´°£€\\×™√²—–&'\n",
    "    def clean_special_chars(text, punct):\n",
    "        for p in punct:\n",
    "            text = text.replace(p, ' ')\n",
    "        return text\n",
    "\n",
    "\n",
    "    d = pd.Series(data.astype(str))\n",
    "    data = d.apply(lambda x: clean_special_chars(x, punct))\n",
    "\n",
    "    return data"
   ]
  },
  {
   "cell_type": "code",
   "execution_count": 49,
   "metadata": {},
   "outputs": [],
   "source": [
    "train = pd.read_csv('jigsaw-unintended-bias-in-toxicity-classification/train.csv')[:1000]\n",
    "test = pd.read_csv('jigsaw-unintended-bias-in-toxicity-classification/test.csv')\n",
    "\n",
    "x_train = preprocess(train['comment_text'].fillna('').values)\n",
    "y_train = np.where(train['target'] >= 0.5, 1, 0)\n",
    "\n",
    "y_aux_train = train[['target', 'severe_toxicity', 'obscene', 'identity_attack', 'insult', 'threat']]\n",
    "x_test = preprocess(test['comment_text'].fillna('').values)"
   ]
  },
  {
   "cell_type": "code",
   "execution_count": 50,
   "metadata": {},
   "outputs": [
    {
     "name": "stdout",
     "output_type": "stream",
     "text": [
      "(1000, 45)\n",
      "(97320, 2)\n",
      "(1000,)\n",
      "(1000,)\n",
      "(1000, 6)\n",
      "(97320,)\n"
     ]
    }
   ],
   "source": [
    "print(train.shape)\n",
    "print(test.shape)\n",
    "print(x_train.shape)\n",
    "print(y_train.shape)\n",
    "print(y_aux_train.shape)\n",
    "print(x_test.shape)"
   ]
  },
  {
   "cell_type": "code",
   "execution_count": 51,
   "metadata": {},
   "outputs": [],
   "source": [
    "max_features = None\n",
    "\n",
    "# tokenizer is a class with some method\n",
    "tokenizer = text.Tokenizer()\n",
    "tokenizer.fit_on_texts(list(x_train) + list(x_test))\n",
    "\n",
    "x_train = tokenizer.texts_to_sequences(x_train)\n",
    "x_test = tokenizer.texts_to_sequences(x_test)\n",
    "\n",
    "max_features = max_features or len(tokenizer.word_index) + 1"
   ]
  },
  {
   "cell_type": "code",
   "execution_count": 52,
   "metadata": {},
   "outputs": [
    {
     "name": "stdout",
     "output_type": "stream",
     "text": [
      "1000\n",
      "97320\n",
      "[21, 6, 35, 2056, 9, 13, 53, 45, 11, 107, 39, 1022, 2, 203, 21, 126, 163, 347, 97, 220]\n",
      "[1823, 344, 8, 11, 132, 39, 5491, 110, 21, 1288, 2, 154, 54, 119]\n"
     ]
    }
   ],
   "source": [
    "print(len(x_train))\n",
    "print(len(x_test))\n",
    "print(x_train[0])\n",
    "print(x_test[0])"
   ]
  },
  {
   "cell_type": "code",
   "execution_count": 53,
   "metadata": {},
   "outputs": [],
   "source": [
    "#https://keras.io/preprocessing/sequence/\n",
    "# https://github.com/keras-team/keras-preprocessing/blob/master/keras_preprocessing/sequence.py\n",
    "#each comment_text is now a list of word\n",
    "\n",
    "x_train = sequence.pad_sequences(x_train, maxlen=MAX_LEN)\n",
    "x_test = sequence.pad_sequences(x_test, maxlen=MAX_LEN)"
   ]
  },
  {
   "cell_type": "code",
   "execution_count": 54,
   "metadata": {},
   "outputs": [
    {
     "name": "stdout",
     "output_type": "stream",
     "text": [
      "(1000, 8)\n",
      "(97320, 8)\n"
     ]
    }
   ],
   "source": [
    "print(x_train.shape)\n",
    "print(x_test.shape)"
   ]
  },
  {
   "cell_type": "code",
   "execution_count": 55,
   "metadata": {},
   "outputs": [],
   "source": [
    "MODEL_NAME = \"inter_poly_debiased\"\n",
    "\n",
    "EMBEDDING_FILES = 'DebiasMulticlassWordEmbedding-master/Debiasing/output/intersection_evalset/poly/reddit_US_txt_tok_clean_cleanedforw2v_0_inter_hardDebiasedEmbeddingsOut.w2v'#'./input/w2vs/intersection_debias/poly/reddit_US_txt_tok_clean_cleanedforw2v_0_inter_hardDebiasedEmbeddingsOut.w2v'"
   ]
  },
  {
   "cell_type": "code",
   "execution_count": 56,
   "metadata": {},
   "outputs": [],
   "source": [
    "embedding_matrix, unknown_words = build_matrix(tokenizer.word_index, EMBEDDING_FILES) # (284526, 50)"
   ]
  },
  {
   "cell_type": "code",
   "execution_count": 57,
   "metadata": {},
   "outputs": [
    {
     "name": "stdout",
     "output_type": "stream",
     "text": [
      "n unknown words:  39426\n",
      "(74920, 50)\n"
     ]
    }
   ],
   "source": [
    "print('n unknown words: ', len(unknown_words))\n",
    "print(embedding_matrix.shape)"
   ]
  },
  {
   "cell_type": "code",
   "execution_count": 58,
   "metadata": {},
   "outputs": [
    {
     "data": {
      "text/plain": [
       "6"
      ]
     },
     "execution_count": 58,
     "metadata": {},
     "output_type": "execute_result"
    }
   ],
   "source": [
    "y_aux_train.shape[-1]"
   ]
  },
  {
   "cell_type": "code",
   "execution_count": 59,
   "metadata": {},
   "outputs": [],
   "source": [
    "model = NeuralNet(embedding_matrix, y_aux_train.shape[-1]) # (327009, 50), 6\n",
    "# model.cuda()"
   ]
  },
  {
   "cell_type": "code",
   "execution_count": 65,
   "metadata": {},
   "outputs": [
    {
     "name": "stdout",
     "output_type": "stream",
     "text": [
      "(1000, 7)\n",
      "[0. 0. 0. 0. 0. 0. 0.]\n"
     ]
    }
   ],
   "source": [
    "# y_train_concat = torch.cat((y_train.unsqueeze(1), y_aux_train), dim=1)\n",
    "y_train_concat = np.concatenate((y_train[:, np.newaxis], y_aux_train), axis=1)\n",
    "print(y_train_concat.shape)\n",
    "print(y_train_concat[1])"
   ]
  },
  {
   "cell_type": "code",
   "execution_count": 66,
   "metadata": {},
   "outputs": [
    {
     "name": "stdout",
     "output_type": "stream",
     "text": [
      "(tensor([ 57,  18, 149, 195,  61,   7,  39,  96]), tensor([0., 0., 0., 0., 0., 0., 0.]))\n"
     ]
    }
   ],
   "source": [
    "from torch.utils.data import TensorDataset\n",
    "# convert data to PyTorch tensors\n",
    "x_train1 = torch.tensor(x_train, dtype=torch.int64)\n",
    "y_train1 = torch.tensor(y_train_concat, dtype=torch.float)\n",
    "x_test1 = torch.tensor(x_test, dtype=torch.int64)\n",
    "\n",
    "# create PyTorch datasets\n",
    "train_dataset = TensorDataset(x_train1, y_train1)\n",
    "test_dataset = TensorDataset(x_test1)\n",
    "\n",
    "print(train_dataset[1])\n",
    "# print(test_dataset)"
   ]
  },
  {
   "cell_type": "code",
   "execution_count": 73,
   "metadata": {},
   "outputs": [
    {
     "name": "stdout",
     "output_type": "stream",
     "text": [
      "First Epoch\n"
     ]
    },
    {
     "data": {
      "application/vnd.jupyter.widget-view+json": {
       "model_id": "f53a464595c843e5898091b2dc21a3d3",
       "version_major": 2,
       "version_minor": 0
      },
      "text/plain": [
       "  0%|          | 0/32 [00:00<?, ?it/s]"
      ]
     },
     "metadata": {},
     "output_type": "display_data"
    },
    {
     "name": "stdout",
     "output_type": "stream",
     "text": [
      "Epoch 1/1 \t loss=0.4324 \t time=14.73s\n"
     ]
    }
   ],
   "source": [
    "# test_preds = train_model(model, train_dataset, test_dataset, output_dim=y_train_torch.shape[-1],\n",
    "#                             loss_fn=nn.BCEWithLogitsLoss(reduction='mean'), n_epochs=1)\n",
    "\n",
    "\n",
    "test_preds = train_model(model, train_dataset, test_dataset, output_dim=y_train_concat.shape[-1],\n",
    "                            loss_fn=nn.BCEWithLogitsLoss(reduction='mean'), n_epochs=1)\n"
   ]
  },
  {
   "cell_type": "code",
   "execution_count": 74,
   "metadata": {},
   "outputs": [],
   "source": [
    "torch.save(model.state_dict(), \"./{}_1.h5\".format(MODEL_NAME))"
   ]
  },
  {
   "cell_type": "code",
   "execution_count": null,
   "metadata": {},
   "outputs": [],
   "source": [
    "# for model_idx in range(NUM_MODELS):\n",
    "#     print('Model ', model_idx)\n",
    "#     # seed_everything(1234 + model_idx)\n",
    "#     model = NeuralNet(embedding_matrix, y_aux_train.shape[-1]) # (327009, 50), 6\n",
    "#     model.cuda()\n",
    "\n",
    "#     test_preds = train_model(model, train_dataset, test_dataset, output_dim=y_train_torch.shape[-1],\n",
    "#                              loss_fn=nn.BCEWithLogitsLoss(reduction='mean'), n_epochs=1)\n",
    "#     torch.save(model.state_dict(), \"./{}_{}.h5\".format(MODEL_NAME, model_idx))\n",
    "    \n",
    "#     all_test_preds.append(test_preds)\n"
   ]
  },
  {
   "cell_type": "code",
   "execution_count": 75,
   "metadata": {},
   "outputs": [
    {
     "data": {
      "text/plain": [
       "NeuralNet(\n",
       "  (embedding): Embedding(74920, 50)\n",
       "  (embedding_dropout): SpatialDropout(p=0.3, inplace=False)\n",
       "  (lstm1): LSTM(50, 2, batch_first=True, bidirectional=True)\n",
       "  (lstm2): LSTM(4, 2, batch_first=True, bidirectional=True)\n",
       "  (linear1): Linear(in_features=8, out_features=8, bias=True)\n",
       "  (linear2): Linear(in_features=8, out_features=8, bias=True)\n",
       "  (linear_out): Linear(in_features=8, out_features=1, bias=True)\n",
       "  (linear_aux_out): Linear(in_features=8, out_features=6, bias=True)\n",
       ")"
      ]
     },
     "execution_count": 75,
     "metadata": {},
     "output_type": "execute_result"
    }
   ],
   "source": [
    "selected_index = 0\n",
    "test_model = NeuralNet(embedding_matrix, y_aux_train.shape[-1])\n",
    "test_model.load_state_dict(torch.load(\"inter_poly_debiased_1.h5\".format(MODEL_NAME, selected_index)))\n",
    "# test_model = test_model.cuda()\n",
    "test_model.eval()"
   ]
  },
  {
   "cell_type": "code",
   "execution_count": 76,
   "metadata": {},
   "outputs": [],
   "source": [
    "# del x_train\n",
    "\n",
    "df_test1 = pd.read_csv('jigsaw-unintended-bias-in-toxicity-classification/test_private_expanded.csv')\n",
    "df_test2 = pd.read_csv('jigsaw-unintended-bias-in-toxicity-classification/test_public_expanded.csv')\n",
    "frames = [df_test1, df_test2]\n",
    "df_test = pd.concat(frames)\n",
    "df_test[\"target\"] = df_test[\"toxicity\"].apply(lambda x: 1 if x >= 0.5 else 0)\n",
    "df_test[\"y_pred\"] = \"\""
   ]
  },
  {
   "cell_type": "code",
   "execution_count": 77,
   "metadata": {},
   "outputs": [
    {
     "name": "stdout",
     "output_type": "stream",
     "text": [
      "(97320, 45)\n",
      "(97320, 45)\n",
      "(194640, 47)\n"
     ]
    }
   ],
   "source": [
    "print(df_test1.shape)\n",
    "print(df_test2.shape)\n",
    "print(df_test.shape)"
   ]
  },
  {
   "cell_type": "code",
   "execution_count": 78,
   "metadata": {},
   "outputs": [
    {
     "name": "stdout",
     "output_type": "stream",
     "text": [
      "(194640,)\n",
      "(194640,)\n"
     ]
    }
   ],
   "source": [
    "x_test = preprocess(df_test['comment_text'].fillna('').values)\n",
    "y_test = np.where(df_test['target'] >= 0.5, 1, 0)\n",
    "print(x_test.shape)\n",
    "print(y_test.shape)"
   ]
  },
  {
   "cell_type": "code",
   "execution_count": 79,
   "metadata": {},
   "outputs": [
    {
     "name": "stdout",
     "output_type": "stream",
     "text": [
      "194640\n"
     ]
    }
   ],
   "source": [
    "max_features = None\n",
    "max_features = max_features or len(tokenizer.word_index) + 1\n",
    "\n",
    "x_test = tokenizer.texts_to_sequences(x_test)\n",
    "print(len(x_test))\n"
   ]
  },
  {
   "cell_type": "code",
   "execution_count": 80,
   "metadata": {},
   "outputs": [
    {
     "name": "stdout",
     "output_type": "stream",
     "text": [
      "(194640, 8)\n",
      "torch.Size([194640, 8])\n"
     ]
    }
   ],
   "source": [
    "#https://keras.io/preprocessing/sequence/\n",
    "# https://github.com/keras-team/keras-preprocessing/blob/master/keras_preprocessing/sequence.py\n",
    "#each comment_text is now a list of word\n",
    "\n",
    "x_test = sequence.pad_sequences(x_test, maxlen=MAX_LEN)\n",
    "# x_test_torch = torch.tensor(x_test, dtype=torch.long).cuda()\n",
    "x_test_torch = torch.tensor(x_test, dtype=torch.long)\n",
    "\n",
    "print(x_test.shape)\n",
    "print(x_test_torch.shape)"
   ]
  },
  {
   "cell_type": "code",
   "execution_count": null,
   "metadata": {},
   "outputs": [],
   "source": []
  },
  {
   "cell_type": "code",
   "execution_count": 88,
   "metadata": {},
   "outputs": [
    {
     "name": "stdout",
     "output_type": "stream",
     "text": [
      "194640\n",
      "(tensor([[5491,  110,   21, 1288,    2,  154,   54,  119],\n",
      "        [   3,    1,  744,   20,   14, 2640,   59,  100]]),)\n",
      "<torch.utils.data.dataloader.DataLoader object at 0x0000021D12AF1330>\n"
     ]
    }
   ],
   "source": [
    "# Training\n",
    "batch_size=32\n",
    "test_dataset = data.TensorDataset(x_test_torch)\n",
    "testset = torch.utils.data.DataLoader(test_dataset, batch_size=batch_size, shuffle=False)\n",
    "\n",
    "\n",
    "print(len(test_dataset))\n",
    "print(test_dataset[:2])\n",
    "print(testset)"
   ]
  },
  {
   "cell_type": "code",
   "execution_count": 86,
   "metadata": {},
   "outputs": [
    {
     "name": "stdout",
     "output_type": "stream",
     "text": [
      "194640\n",
      "[[0. 0. 0. 0. 0. 0. 0.]\n",
      " [0. 0. 0. 0. 0. 0. 0.]]\n"
     ]
    }
   ],
   "source": [
    "test_preds = np.zeros((len(test_dataset), np.hstack([y_train[:, np.newaxis], y_aux_train]).shape[-1]))\n",
    "print(len(test_preds))\n",
    "print(test_preds[:2])"
   ]
  },
  {
   "cell_type": "code",
   "execution_count": 89,
   "metadata": {},
   "outputs": [
    {
     "name": "stdout",
     "output_type": "stream",
     "text": [
      "(194640, 47)\n",
      "Index(['id', 'comment_text', 'created_date', 'publication_id', 'parent_id',\n",
      "       'article_id', 'rating', 'funny', 'wow', 'sad', 'likes', 'disagree',\n",
      "       'toxicity', 'severe_toxicity', 'obscene', 'sexual_explicit',\n",
      "       'identity_attack', 'insult', 'threat', 'identity_annotator_count',\n",
      "       'toxicity_annotator_count', 'male', 'female', 'transgender',\n",
      "       'other_gender', 'heterosexual', 'homosexual_gay_or_lesbian', 'bisexual',\n",
      "       'other_sexual_orientation', 'christian', 'jewish', 'muslim', 'hindu',\n",
      "       'buddhist', 'atheist', 'other_religion', 'black', 'white', 'asian',\n",
      "       'latino', 'other_race_or_ethnicity', 'physical_disability',\n",
      "       'intellectual_or_learning_disability', 'psychiatric_or_mental_illness',\n",
      "       'other_disability', 'target', 'y_pred'],\n",
      "      dtype='object')\n"
     ]
    },
    {
     "name": "stderr",
     "output_type": "stream",
     "text": [
      "C:\\Users\\Hammad\\AppData\\Local\\Temp\\ipykernel_5676\\683290888.py:12: DeprecationWarning: In a future version, `df.iloc[:, i] = newvals` will attempt to set the values inplace instead of always setting a new array. To retain the old behavior, use either `df[df.columns[i]] = newvals` or, if columns are non-unique, `df.isetitem(i, newvals)`\n",
      "  df_test.loc[:, \"y_pred\"] = list(test_preds[:, 0])\n"
     ]
    }
   ],
   "source": [
    "import gc\n",
    "gc.collect()\n",
    "# torch.cuda.empty_cache()\n",
    "\n",
    "for i, x_batch in enumerate(testset):\n",
    "    y_pred = sigmoid(test_model(*x_batch).detach().cpu().numpy())\n",
    "    if x_batch[0].shape[0] == 32:\n",
    "        test_preds[i * batch_size:(i + 1) * batch_size, :] = y_pred\n",
    "    else:\n",
    "        test_preds[i * batch_size:, :] = y_pred\n",
    "\n",
    "df_test.loc[:, \"y_pred\"] = list(test_preds[:, 0])\n",
    "df_test.y_pred = df_test.y_pred.apply(lambda x: 1 if x>=0.5 else 0)\n",
    "print(df_test.shape)\n",
    "print(df_test.columns)"
   ]
  },
  {
   "cell_type": "code",
   "execution_count": 90,
   "metadata": {},
   "outputs": [
    {
     "name": "stdout",
     "output_type": "stream",
     "text": [
      "inter_poly_debiased\n",
      "FPED group 1 gender : 0.0000\n",
      "FNED group 1 gender : 1.1713\n",
      "FPED group 2 religion : 0.0000\n",
      "FNED group 2 religion : 0.3619\n",
      "FPED group 3 race : 0.0000\n",
      "FNED group 3 race : 0.8028\n"
     ]
    }
   ],
   "source": [
    "fnr = len(df_test[(df_test.target == 1)&(df_test.y_pred == 0)])/len(df_test)\n",
    "fpr = len(df_test[(df_test.target == 0)&(df_test.y_pred == 1)])/len(df_test)\n",
    "\n",
    "group1 = [ 'male', 'female', 'transgender', 'other_gender', 'heterosexual', 'homosexual_gay_or_lesbian', 'bisexual', 'other_sexual_orientation']\n",
    "df_group1 = []\n",
    "for column in group1:\n",
    "    df = df_test[df_test[column] == 1]\n",
    "    if len(df) == 0:\n",
    "        df = df_test[np.isnan(df_test[column])]\n",
    "    df_group1.append(df)\n",
    "\n",
    "group2 = [ 'christian', 'jewish', 'muslim', 'hindu', 'buddhist', 'atheist', 'other_religion']\n",
    "df_group2 = []\n",
    "for column in group2:\n",
    "    df = df_test[df_test[column] == 1]\n",
    "    if len(df) == 0:\n",
    "        df = df_test[np.isnan(df_test[column])]\n",
    "    df_group2.append(df)\n",
    "\n",
    "group3 = [ 'black', 'white', 'asian', 'latino', 'other_race_or_ethnicity']\n",
    "df_group3 = []\n",
    "for column in group3:\n",
    "    df = df_test[df_test[column] == 1]\n",
    "    if len(df) == 0:\n",
    "        df = df_test[np.isnan(df_test[column])]\n",
    "    df_group3.append(df)\n",
    "\n",
    "fnr_group1 = []\n",
    "fpr_group1 = []\n",
    "for i, df in enumerate(df_group1):\n",
    "    if len(df) == 0:\n",
    "        print(i)\n",
    "    g_fnr = len(df[(df.target == 1)&(df.y_pred == 0)])/len(df)\n",
    "    g_fpr = len(df[(df.target == 0)&(df.y_pred == 1)])/len(df)\n",
    "    fnr_group1.append(g_fnr)\n",
    "    fpr_group1.append(g_fpr)\n",
    "\n",
    "fnr_group2 = []\n",
    "fpr_group2 = []\n",
    "for i, df in enumerate(df_group2):\n",
    "    if len(df) == 0:\n",
    "        print(i)\n",
    "    g_fnr = len(df[(df.target == 1)&(df.y_pred == 0)])/len(df)\n",
    "    g_fpr = len(df[(df.target == 0)&(df.y_pred == 1)])/len(df)\n",
    "    fnr_group2.append(g_fnr)\n",
    "    fpr_group2.append(g_fpr)\n",
    "\n",
    "fnr_group3 = []\n",
    "fpr_group3 = []\n",
    "for i, df in enumerate(df_group3):\n",
    "    if len(df) == 0:\n",
    "        print(i)\n",
    "    g_fnr = len(df[(df.target == 1)&(df.y_pred == 0)])/len(df)\n",
    "    g_fpr = len(df[(df.target == 0)&(df.y_pred == 1)])/len(df)\n",
    "    fnr_group3.append(g_fnr)\n",
    "    fpr_group3.append(g_fpr)\n",
    "\n",
    "fned_group1 = 0\n",
    "fped_group1 = 0\n",
    "for f in fnr_group1:\n",
    "    fned_group1 += abs(fnr-f)\n",
    "for f in fpr_group1:\n",
    "    fped_group1 += abs(fpr-f)\n",
    "\n",
    "fned_group2 = 0\n",
    "fped_group2 = 0\n",
    "for f in fnr_group2:\n",
    "    fned_group2 += abs(fnr-f)\n",
    "for f in fpr_group2:\n",
    "    fped_group2 += abs(fpr-f)\n",
    "\n",
    "fned_group3 = 0\n",
    "fped_group3 = 0\n",
    "for f in fnr_group3:\n",
    "    fned_group3 += abs(fnr-f)\n",
    "for f in fpr_group3:\n",
    "    fped_group3 += abs(fpr-f)\n",
    "\n",
    "print(\"{}\".format(MODEL_NAME))\n",
    "print(\"FPED group 1 gender : {:.4f}\".format(fped_group1))\n",
    "print(\"FNED group 1 gender : {:.4f}\".format(fned_group1))\n",
    "print(\"FPED group 2 religion : {:.4f}\".format(fped_group2))\n",
    "print(\"FNED group 2 religion : {:.4f}\".format(fned_group2))\n",
    "print(\"FPED group 3 race : {:.4f}\".format(fped_group3))\n",
    "print(\"FNED group 3 race : {:.4f}\".format(fned_group3))"
   ]
  },
  {
   "cell_type": "code",
   "execution_count": null,
   "metadata": {},
   "outputs": [],
   "source": []
  }
 ],
 "metadata": {
  "kernelspec": {
   "display_name": "bert_trans",
   "language": "python",
   "name": "bert_trans"
  },
  "language_info": {
   "codemirror_mode": {
    "name": "ipython",
    "version": 3
   },
   "file_extension": ".py",
   "mimetype": "text/x-python",
   "name": "python",
   "nbconvert_exporter": "python",
   "pygments_lexer": "ipython3",
   "version": "3.10.10"
  },
  "orig_nbformat": 4
 },
 "nbformat": 4,
 "nbformat_minor": 2
}
