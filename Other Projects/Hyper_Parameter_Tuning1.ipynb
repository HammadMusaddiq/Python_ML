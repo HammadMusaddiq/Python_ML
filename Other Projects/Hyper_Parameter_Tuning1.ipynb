{
 "cells": [
  {
   "cell_type": "code",
   "execution_count": 1,
   "metadata": {},
   "outputs": [],
   "source": [
    "import numpy as np\n",
    "import pandas as pd"
   ]
  },
  {
   "cell_type": "code",
   "execution_count": 2,
   "metadata": {},
   "outputs": [],
   "source": [
    "from sklearn.model_selection import train_test_split\n",
    "from sklearn.model_selection import StratifiedKFold\n",
    "from sklearn.model_selection import KFold\n",
    "from sklearn.metrics import classification_report\n",
    "from sklearn.metrics import confusion_matrix\n",
    "from sklearn.metrics import accuracy_score\n",
    "from sklearn.model_selection import GridSearchCV, RandomizedSearchCV"
   ]
  },
  {
   "cell_type": "code",
   "execution_count": 3,
   "metadata": {},
   "outputs": [],
   "source": [
    "from sklearn.ensemble import RandomForestClassifier\n",
    "from sklearn.svm import SVC"
   ]
  },
  {
   "cell_type": "code",
   "execution_count": 4,
   "metadata": {},
   "outputs": [],
   "source": [
    "import matplotlib.pyplot as plt  \n",
    "import seaborn as sns"
   ]
  },
  {
   "cell_type": "code",
   "execution_count": 5,
   "metadata": {},
   "outputs": [],
   "source": [
    "from numpy import mean\n",
    "from numpy import std"
   ]
  },
  {
   "cell_type": "code",
   "execution_count": 6,
   "metadata": {},
   "outputs": [],
   "source": [
    "df= pd.read_csv('HyperTuning_preprocessed_data(final)1.csv', encoding= 'unicode_escape') "
   ]
  },
  {
   "cell_type": "code",
   "execution_count": 7,
   "metadata": {},
   "outputs": [
    {
     "data": {
      "text/html": [
       "<div>\n",
       "<style scoped>\n",
       "    .dataframe tbody tr th:only-of-type {\n",
       "        vertical-align: middle;\n",
       "    }\n",
       "\n",
       "    .dataframe tbody tr th {\n",
       "        vertical-align: top;\n",
       "    }\n",
       "\n",
       "    .dataframe thead th {\n",
       "        text-align: right;\n",
       "    }\n",
       "</style>\n",
       "<table border=\"1\" class=\"dataframe\">\n",
       "  <thead>\n",
       "    <tr style=\"text-align: right;\">\n",
       "      <th></th>\n",
       "      <th>Unnamed: 0</th>\n",
       "      <th>HR-0.0</th>\n",
       "      <th>HR-1.0</th>\n",
       "      <th>HR-2.0</th>\n",
       "      <th>HR-3.0</th>\n",
       "      <th>HR-4.0</th>\n",
       "      <th>HR-5.0</th>\n",
       "      <th>HR-6.0</th>\n",
       "      <th>HR-7.0</th>\n",
       "      <th>HR-8.0</th>\n",
       "      <th>...</th>\n",
       "      <th>HTAG-3.0</th>\n",
       "      <th>HTAG-4.0</th>\n",
       "      <th>HTAG-5.0</th>\n",
       "      <th>HTHG-0.0</th>\n",
       "      <th>HTHG-1.0</th>\n",
       "      <th>HTHG-2.0</th>\n",
       "      <th>HTHG-3.0</th>\n",
       "      <th>HTHG-4.0</th>\n",
       "      <th>HTHG-5.0</th>\n",
       "      <th>FTR</th>\n",
       "    </tr>\n",
       "  </thead>\n",
       "  <tbody>\n",
       "    <tr>\n",
       "      <th>0</th>\n",
       "      <td>4452</td>\n",
       "      <td>1</td>\n",
       "      <td>0</td>\n",
       "      <td>0</td>\n",
       "      <td>0</td>\n",
       "      <td>0</td>\n",
       "      <td>0</td>\n",
       "      <td>0</td>\n",
       "      <td>0</td>\n",
       "      <td>0</td>\n",
       "      <td>...</td>\n",
       "      <td>0</td>\n",
       "      <td>0</td>\n",
       "      <td>0</td>\n",
       "      <td>1</td>\n",
       "      <td>0</td>\n",
       "      <td>0</td>\n",
       "      <td>0</td>\n",
       "      <td>0</td>\n",
       "      <td>0</td>\n",
       "      <td>2</td>\n",
       "    </tr>\n",
       "    <tr>\n",
       "      <th>1</th>\n",
       "      <td>7305</td>\n",
       "      <td>0</td>\n",
       "      <td>0</td>\n",
       "      <td>0</td>\n",
       "      <td>1</td>\n",
       "      <td>0</td>\n",
       "      <td>0</td>\n",
       "      <td>0</td>\n",
       "      <td>0</td>\n",
       "      <td>0</td>\n",
       "      <td>...</td>\n",
       "      <td>0</td>\n",
       "      <td>0</td>\n",
       "      <td>0</td>\n",
       "      <td>1</td>\n",
       "      <td>0</td>\n",
       "      <td>0</td>\n",
       "      <td>0</td>\n",
       "      <td>0</td>\n",
       "      <td>0</td>\n",
       "      <td>2</td>\n",
       "    </tr>\n",
       "    <tr>\n",
       "      <th>2</th>\n",
       "      <td>3574</td>\n",
       "      <td>1</td>\n",
       "      <td>0</td>\n",
       "      <td>0</td>\n",
       "      <td>0</td>\n",
       "      <td>0</td>\n",
       "      <td>0</td>\n",
       "      <td>0</td>\n",
       "      <td>0</td>\n",
       "      <td>0</td>\n",
       "      <td>...</td>\n",
       "      <td>0</td>\n",
       "      <td>0</td>\n",
       "      <td>0</td>\n",
       "      <td>1</td>\n",
       "      <td>0</td>\n",
       "      <td>0</td>\n",
       "      <td>0</td>\n",
       "      <td>0</td>\n",
       "      <td>0</td>\n",
       "      <td>2</td>\n",
       "    </tr>\n",
       "    <tr>\n",
       "      <th>3</th>\n",
       "      <td>6640</td>\n",
       "      <td>1</td>\n",
       "      <td>0</td>\n",
       "      <td>0</td>\n",
       "      <td>0</td>\n",
       "      <td>0</td>\n",
       "      <td>0</td>\n",
       "      <td>0</td>\n",
       "      <td>0</td>\n",
       "      <td>0</td>\n",
       "      <td>...</td>\n",
       "      <td>0</td>\n",
       "      <td>0</td>\n",
       "      <td>0</td>\n",
       "      <td>1</td>\n",
       "      <td>0</td>\n",
       "      <td>0</td>\n",
       "      <td>0</td>\n",
       "      <td>0</td>\n",
       "      <td>0</td>\n",
       "      <td>2</td>\n",
       "    </tr>\n",
       "    <tr>\n",
       "      <th>4</th>\n",
       "      <td>636</td>\n",
       "      <td>1</td>\n",
       "      <td>0</td>\n",
       "      <td>0</td>\n",
       "      <td>0</td>\n",
       "      <td>0</td>\n",
       "      <td>0</td>\n",
       "      <td>0</td>\n",
       "      <td>0</td>\n",
       "      <td>0</td>\n",
       "      <td>...</td>\n",
       "      <td>0</td>\n",
       "      <td>0</td>\n",
       "      <td>0</td>\n",
       "      <td>1</td>\n",
       "      <td>0</td>\n",
       "      <td>0</td>\n",
       "      <td>0</td>\n",
       "      <td>0</td>\n",
       "      <td>0</td>\n",
       "      <td>2</td>\n",
       "    </tr>\n",
       "  </tbody>\n",
       "</table>\n",
       "<p>5 rows × 6115 columns</p>\n",
       "</div>"
      ],
      "text/plain": [
       "   Unnamed: 0  HR-0.0  HR-1.0  HR-2.0  HR-3.0  HR-4.0  HR-5.0  HR-6.0  HR-7.0  \\\n",
       "0        4452       1       0       0       0       0       0       0       0   \n",
       "1        7305       0       0       0       1       0       0       0       0   \n",
       "2        3574       1       0       0       0       0       0       0       0   \n",
       "3        6640       1       0       0       0       0       0       0       0   \n",
       "4         636       1       0       0       0       0       0       0       0   \n",
       "\n",
       "   HR-8.0  ...  HTAG-3.0  HTAG-4.0  HTAG-5.0  HTHG-0.0  HTHG-1.0  HTHG-2.0  \\\n",
       "0       0  ...         0         0         0         1         0         0   \n",
       "1       0  ...         0         0         0         1         0         0   \n",
       "2       0  ...         0         0         0         1         0         0   \n",
       "3       0  ...         0         0         0         1         0         0   \n",
       "4       0  ...         0         0         0         1         0         0   \n",
       "\n",
       "   HTHG-3.0  HTHG-4.0  HTHG-5.0  FTR  \n",
       "0         0         0         0    2  \n",
       "1         0         0         0    2  \n",
       "2         0         0         0    2  \n",
       "3         0         0         0    2  \n",
       "4         0         0         0    2  \n",
       "\n",
       "[5 rows x 6115 columns]"
      ]
     },
     "execution_count": 7,
     "metadata": {},
     "output_type": "execute_result"
    }
   ],
   "source": [
    "df.head(5)"
   ]
  },
  {
   "cell_type": "code",
   "execution_count": 8,
   "metadata": {},
   "outputs": [],
   "source": [
    "df = df.drop(['Unnamed: 0'], axis = 1)"
   ]
  },
  {
   "cell_type": "code",
   "execution_count": 9,
   "metadata": {},
   "outputs": [
    {
     "data": {
      "text/html": [
       "<div>\n",
       "<style scoped>\n",
       "    .dataframe tbody tr th:only-of-type {\n",
       "        vertical-align: middle;\n",
       "    }\n",
       "\n",
       "    .dataframe tbody tr th {\n",
       "        vertical-align: top;\n",
       "    }\n",
       "\n",
       "    .dataframe thead th {\n",
       "        text-align: right;\n",
       "    }\n",
       "</style>\n",
       "<table border=\"1\" class=\"dataframe\">\n",
       "  <thead>\n",
       "    <tr style=\"text-align: right;\">\n",
       "      <th></th>\n",
       "      <th>HR-0.0</th>\n",
       "      <th>HR-1.0</th>\n",
       "      <th>HR-2.0</th>\n",
       "      <th>HR-3.0</th>\n",
       "      <th>HR-4.0</th>\n",
       "      <th>HR-5.0</th>\n",
       "      <th>HR-6.0</th>\n",
       "      <th>HR-7.0</th>\n",
       "      <th>HR-8.0</th>\n",
       "      <th>HR-9.0</th>\n",
       "      <th>...</th>\n",
       "      <th>HTAG-3.0</th>\n",
       "      <th>HTAG-4.0</th>\n",
       "      <th>HTAG-5.0</th>\n",
       "      <th>HTHG-0.0</th>\n",
       "      <th>HTHG-1.0</th>\n",
       "      <th>HTHG-2.0</th>\n",
       "      <th>HTHG-3.0</th>\n",
       "      <th>HTHG-4.0</th>\n",
       "      <th>HTHG-5.0</th>\n",
       "      <th>FTR</th>\n",
       "    </tr>\n",
       "  </thead>\n",
       "  <tbody>\n",
       "    <tr>\n",
       "      <th>0</th>\n",
       "      <td>1</td>\n",
       "      <td>0</td>\n",
       "      <td>0</td>\n",
       "      <td>0</td>\n",
       "      <td>0</td>\n",
       "      <td>0</td>\n",
       "      <td>0</td>\n",
       "      <td>0</td>\n",
       "      <td>0</td>\n",
       "      <td>0</td>\n",
       "      <td>...</td>\n",
       "      <td>0</td>\n",
       "      <td>0</td>\n",
       "      <td>0</td>\n",
       "      <td>1</td>\n",
       "      <td>0</td>\n",
       "      <td>0</td>\n",
       "      <td>0</td>\n",
       "      <td>0</td>\n",
       "      <td>0</td>\n",
       "      <td>2</td>\n",
       "    </tr>\n",
       "    <tr>\n",
       "      <th>1</th>\n",
       "      <td>0</td>\n",
       "      <td>0</td>\n",
       "      <td>0</td>\n",
       "      <td>1</td>\n",
       "      <td>0</td>\n",
       "      <td>0</td>\n",
       "      <td>0</td>\n",
       "      <td>0</td>\n",
       "      <td>0</td>\n",
       "      <td>0</td>\n",
       "      <td>...</td>\n",
       "      <td>0</td>\n",
       "      <td>0</td>\n",
       "      <td>0</td>\n",
       "      <td>1</td>\n",
       "      <td>0</td>\n",
       "      <td>0</td>\n",
       "      <td>0</td>\n",
       "      <td>0</td>\n",
       "      <td>0</td>\n",
       "      <td>2</td>\n",
       "    </tr>\n",
       "    <tr>\n",
       "      <th>2</th>\n",
       "      <td>1</td>\n",
       "      <td>0</td>\n",
       "      <td>0</td>\n",
       "      <td>0</td>\n",
       "      <td>0</td>\n",
       "      <td>0</td>\n",
       "      <td>0</td>\n",
       "      <td>0</td>\n",
       "      <td>0</td>\n",
       "      <td>0</td>\n",
       "      <td>...</td>\n",
       "      <td>0</td>\n",
       "      <td>0</td>\n",
       "      <td>0</td>\n",
       "      <td>1</td>\n",
       "      <td>0</td>\n",
       "      <td>0</td>\n",
       "      <td>0</td>\n",
       "      <td>0</td>\n",
       "      <td>0</td>\n",
       "      <td>2</td>\n",
       "    </tr>\n",
       "    <tr>\n",
       "      <th>3</th>\n",
       "      <td>1</td>\n",
       "      <td>0</td>\n",
       "      <td>0</td>\n",
       "      <td>0</td>\n",
       "      <td>0</td>\n",
       "      <td>0</td>\n",
       "      <td>0</td>\n",
       "      <td>0</td>\n",
       "      <td>0</td>\n",
       "      <td>0</td>\n",
       "      <td>...</td>\n",
       "      <td>0</td>\n",
       "      <td>0</td>\n",
       "      <td>0</td>\n",
       "      <td>1</td>\n",
       "      <td>0</td>\n",
       "      <td>0</td>\n",
       "      <td>0</td>\n",
       "      <td>0</td>\n",
       "      <td>0</td>\n",
       "      <td>2</td>\n",
       "    </tr>\n",
       "    <tr>\n",
       "      <th>4</th>\n",
       "      <td>1</td>\n",
       "      <td>0</td>\n",
       "      <td>0</td>\n",
       "      <td>0</td>\n",
       "      <td>0</td>\n",
       "      <td>0</td>\n",
       "      <td>0</td>\n",
       "      <td>0</td>\n",
       "      <td>0</td>\n",
       "      <td>0</td>\n",
       "      <td>...</td>\n",
       "      <td>0</td>\n",
       "      <td>0</td>\n",
       "      <td>0</td>\n",
       "      <td>1</td>\n",
       "      <td>0</td>\n",
       "      <td>0</td>\n",
       "      <td>0</td>\n",
       "      <td>0</td>\n",
       "      <td>0</td>\n",
       "      <td>2</td>\n",
       "    </tr>\n",
       "  </tbody>\n",
       "</table>\n",
       "<p>5 rows × 6114 columns</p>\n",
       "</div>"
      ],
      "text/plain": [
       "   HR-0.0  HR-1.0  HR-2.0  HR-3.0  HR-4.0  HR-5.0  HR-6.0  HR-7.0  HR-8.0  \\\n",
       "0       1       0       0       0       0       0       0       0       0   \n",
       "1       0       0       0       1       0       0       0       0       0   \n",
       "2       1       0       0       0       0       0       0       0       0   \n",
       "3       1       0       0       0       0       0       0       0       0   \n",
       "4       1       0       0       0       0       0       0       0       0   \n",
       "\n",
       "   HR-9.0  ...  HTAG-3.0  HTAG-4.0  HTAG-5.0  HTHG-0.0  HTHG-1.0  HTHG-2.0  \\\n",
       "0       0  ...         0         0         0         1         0         0   \n",
       "1       0  ...         0         0         0         1         0         0   \n",
       "2       0  ...         0         0         0         1         0         0   \n",
       "3       0  ...         0         0         0         1         0         0   \n",
       "4       0  ...         0         0         0         1         0         0   \n",
       "\n",
       "   HTHG-3.0  HTHG-4.0  HTHG-5.0  FTR  \n",
       "0         0         0         0    2  \n",
       "1         0         0         0    2  \n",
       "2         0         0         0    2  \n",
       "3         0         0         0    2  \n",
       "4         0         0         0    2  \n",
       "\n",
       "[5 rows x 6114 columns]"
      ]
     },
     "execution_count": 9,
     "metadata": {},
     "output_type": "execute_result"
    }
   ],
   "source": [
    "df.head(5)"
   ]
  },
  {
   "cell_type": "code",
   "execution_count": 10,
   "metadata": {},
   "outputs": [],
   "source": [
    "X3 = df.drop(['FTR'], axis=1)\n",
    "X3 = X3.astype('int64')\n",
    "X3 = X3.values"
   ]
  },
  {
   "cell_type": "code",
   "execution_count": 11,
   "metadata": {},
   "outputs": [],
   "source": [
    "Y3 = df['FTR']\n",
    "Y3 = Y3.values"
   ]
  },
  {
   "cell_type": "code",
   "execution_count": 12,
   "metadata": {},
   "outputs": [
    {
     "name": "stdout",
     "output_type": "stream",
     "text": [
      "(9000, 6113)\n",
      "(9000,)\n"
     ]
    }
   ],
   "source": [
    "print(X3.shape)\n",
    "print(Y3.shape)"
   ]
  },
  {
   "cell_type": "code",
   "execution_count": 13,
   "metadata": {},
   "outputs": [],
   "source": [
    "x3train, x3test, y3train, y3test = train_test_split(X3,Y3, test_size = 0.2, random_state=1)"
   ]
  },
  {
   "cell_type": "markdown",
   "metadata": {},
   "source": [
    "### RF "
   ]
  },
  {
   "cell_type": "code",
   "execution_count": 17,
   "metadata": {},
   "outputs": [],
   "source": [
    "clf = RandomForestClassifier() "
   ]
  },
  {
   "cell_type": "code",
   "execution_count": 13,
   "metadata": {},
   "outputs": [
    {
     "name": "stdout",
     "output_type": "stream",
     "text": [
      "The score on FTHG TEST DATA\n",
      "0.87\n"
     ]
    }
   ],
   "source": [
    "#Fitting the data\n",
    "clf.fit(x3train, y3train)\n",
    "# Now get the score using score method\n",
    "print('The score on FTHG TEST DATA') \n",
    "print(clf.score(x3test, y3test))\n",
    "y_pred = clf.predict(x3test)"
   ]
  },
  {
   "cell_type": "code",
   "execution_count": 14,
   "metadata": {},
   "outputs": [
    {
     "name": "stdout",
     "output_type": "stream",
     "text": [
      "              precision    recall  f1-score   support\n",
      "\n",
      "           0       0.90      0.90      0.90       610\n",
      "           1       0.89      0.86      0.88       591\n",
      "           2       0.82      0.85      0.84       599\n",
      "\n",
      "    accuracy                           0.87      1800\n",
      "   macro avg       0.87      0.87      0.87      1800\n",
      "weighted avg       0.87      0.87      0.87      1800\n",
      "\n"
     ]
    }
   ],
   "source": [
    "# getting the classfication report\n",
    "print(classification_report(y3test, y_pred))\n",
    "cm = confusion_matrix(y3test, y_pred)"
   ]
  },
  {
   "cell_type": "code",
   "execution_count": 15,
   "metadata": {},
   "outputs": [
    {
     "data": {
      "image/png": "[encoded data removed]",
      "text/plain": [
       "<Figure size 432x288 with 2 Axes>"
      ]
     },
     "metadata": {
      "needs_background": "light"
     },
     "output_type": "display_data"
    }
   ],
   "source": [
    "# potting graphical confusion matrix on the test data with heat map\n",
    "ax= plt.subplot()\n",
    "sns.heatmap(cm, annot=True, ax = ax, fmt = \"g\"); #annot=True to annotate cells\n",
    "# labels, title and ticks\n",
    "ax.set_xlabel('Predicted labels');ax.set_ylabel('True labels'); \n",
    "ax.set_title('Confusion Matrix'); \n",
    "plt.show()"
   ]
  },
  {
   "cell_type": "code",
   "execution_count": null,
   "metadata": {},
   "outputs": [],
   "source": [
    "#Prediction models (NB, RF, SVM, DT)\n",
    "kfold = StratifiedKFold(n_splits=10, random_state=1, shuffle=True)\n",
    "\n",
    "models = []\n",
    "models.append(('RF', RandomForestClassifier()))\n",
    "#models.append(('SVM', SVC(C = 100, gamma = 0.01)))\n",
    "\n",
    "results = []\n",
    "resultsavg = []\n",
    "names = []\n",
    "resultsstd = []\n",
    "\n",
    "for name, model in models:\n",
    "    cv_results = cross_val_score(model, X3, Y3, cv=kfold, scoring='accuracy')\n",
    "    \n",
    "    results.append(cv_results)\n",
    "    resultsavg.append(cv_results.mean())\n",
    "    resultsstd.append(cv_results.std())\n",
    "    names.append(name)\n",
    "    print('%s: %f (%f)' % (name, cv_results.mean(), cv_results.std()))"
   ]
  },
  {
   "cell_type": "code",
   "execution_count": 16,
   "metadata": {},
   "outputs": [],
   "source": [
    "#Grid Search\n",
    "# define search space\n",
    "space = dict()\n",
    "space['n_estimators'] = [90, 100, 110, 120]\n",
    "#space['max_features'] = [6, 10]\n",
    "# define search (clf = Random Forest Classifier)\n",
    "search = GridSearchCV(clf, space, scoring='accuracy', cv=5, refit=True)\n",
    "# execute search\n",
    "result = search.fit(x3train, y3train)\n",
    "# get the best performing model fit on the whole training set\n",
    "best_model = result.best_estimator_"
   ]
  },
  {
   "cell_type": "code",
   "execution_count": 17,
   "metadata": {},
   "outputs": [
    {
     "name": "stdout",
     "output_type": "stream",
     "text": [
      "0.8777777777777778\n",
      "              precision    recall  f1-score   support\n",
      "\n",
      "           0       0.89      0.91      0.90       610\n",
      "           1       0.90      0.87      0.88       591\n",
      "           2       0.85      0.85      0.85       599\n",
      "\n",
      "    accuracy                           0.88      1800\n",
      "   macro avg       0.88      0.88      0.88      1800\n",
      "weighted avg       0.88      0.88      0.88      1800\n",
      "\n"
     ]
    }
   ],
   "source": [
    "# evaluate model on the hold out dataset\n",
    "yhat = best_model.predict(x3test)\n",
    "# evaluate the model\n",
    "acc = accuracy_score(y3test, yhat)\n",
    "print(acc)\n",
    "print(classification_report(y3test, yhat))"
   ]
  },
  {
   "cell_type": "code",
   "execution_count": 18,
   "metadata": {},
   "outputs": [
    {
     "name": "stdout",
     "output_type": "stream",
     "text": [
      ">acc=0.878, est=0.835, cfg={'n_estimators': 120}\n"
     ]
    }
   ],
   "source": [
    "print('>acc=%.3f, est=%.3f, cfg=%s' % (acc, result.best_score_, result.best_params_))"
   ]
  },
  {
   "cell_type": "code",
   "execution_count": 19,
   "metadata": {},
   "outputs": [
    {
     "name": "stdout",
     "output_type": "stream",
     "text": [
      "The score on FTR TEST DATA\n",
      "0.8777777777777778\n"
     ]
    }
   ],
   "source": [
    "print('The score on FTR TEST DATA') \n",
    "print(best_model.score(x3test, y3test))"
   ]
  },
  {
   "cell_type": "code",
   "execution_count": 14,
   "metadata": {},
   "outputs": [],
   "source": [
    "n_estimators = [100,120,150]\n",
    "#max_features = [2, 4,6]\n",
    "#max_depth = np.arange(1,10)\n",
    "#n_estimators = [int(x) for x in np.linspace(start=10, stop=80, num=10)]\n",
    "#max_features = ['auto', 'sqrt']\n",
    "#min_samples_split = [2, 5, 10]\n",
    "#min_samples_leaf = [1, 2, 4]\n",
    "#max_depth = [2,4]\n",
    "#min_samples_leaf = [1, 2, 4]\n",
    "#min_samples_split = [1,2]\n",
    "#bootstrap = [True, False]"
   ]
  },
  {
   "cell_type": "code",
   "execution_count": 15,
   "metadata": {},
   "outputs": [],
   "source": [
    "params={\n",
    "        'n_estimators': n_estimators,\n",
    "        #'max_features': max_features,\n",
    "        #'max_depth': max_depth,\n",
    "        #'min_samples_split': min_samples_split,\n",
    "        #'min_samples_leaf': min_samples_leaf,\n",
    "        #'min_samples_split': min_samples_split,\n",
    "        #'min_samples_leaf': min_samples_leaf,\n",
    "        #'bootstrap': bootstrap\n",
    "       }"
   ]
  },
  {
   "cell_type": "code",
   "execution_count": 18,
   "metadata": {},
   "outputs": [],
   "source": [
    "#Grid Search (clf = Random Forest Classifier)\n",
    "grid_cv = GridSearchCV(clf, param_grid=params, cv=5, verbose=2) "
   ]
  },
  {
   "cell_type": "code",
   "execution_count": 19,
   "metadata": {
    "scrolled": true
   },
   "outputs": [
    {
     "name": "stdout",
     "output_type": "stream",
     "text": [
      "Fitting 5 folds for each of 3 candidates, totalling 15 fits\n",
      "[CV] END ...................................n_estimators=100; total time=  18.4s\n",
      "[CV] END ...................................n_estimators=100; total time=  17.0s\n",
      "[CV] END ...................................n_estimators=100; total time=  17.6s\n",
      "[CV] END ...................................n_estimators=100; total time=  18.2s\n",
      "[CV] END ...................................n_estimators=100; total time=  16.3s\n",
      "[CV] END ...................................n_estimators=120; total time=  19.4s\n",
      "[CV] END ...................................n_estimators=120; total time=  20.7s\n",
      "[CV] END ...................................n_estimators=120; total time=  22.1s\n",
      "[CV] END ...................................n_estimators=120; total time=  19.7s\n",
      "[CV] END ...................................n_estimators=120; total time=  19.3s\n",
      "[CV] END ...................................n_estimators=150; total time=  25.3s\n",
      "[CV] END ...................................n_estimators=150; total time=  24.7s\n",
      "[CV] END ...................................n_estimators=150; total time=  24.3s\n",
      "[CV] END ...................................n_estimators=150; total time=  24.5s\n",
      "[CV] END ...................................n_estimators=150; total time=  24.8s\n"
     ]
    },
    {
     "data": {
      "text/plain": [
       "GridSearchCV(cv=5, estimator=RandomForestClassifier(),\n",
       "             param_grid={'n_estimators': [100, 120, 150]}, verbose=2)"
      ]
     },
     "execution_count": 19,
     "metadata": {},
     "output_type": "execute_result"
    }
   ],
   "source": [
    "#random_search.fit(X3, Y3)\n",
    "grid_cv.fit(x3train, y3train)"
   ]
  },
  {
   "cell_type": "code",
   "execution_count": 20,
   "metadata": {},
   "outputs": [
    {
     "name": "stdout",
     "output_type": "stream",
     "text": [
      "{'n_estimators': 120}\n"
     ]
    }
   ],
   "source": [
    "print(grid_cv.best_params_)"
   ]
  },
  {
   "cell_type": "code",
   "execution_count": 21,
   "metadata": {},
   "outputs": [],
   "source": [
    "model = grid_cv.best_estimator_"
   ]
  },
  {
   "cell_type": "code",
   "execution_count": 22,
   "metadata": {},
   "outputs": [
    {
     "name": "stdout",
     "output_type": "stream",
     "text": [
      "              precision    recall  f1-score   support\n",
      "\n",
      "           0       0.89      0.91      0.90       610\n",
      "           1       0.89      0.87      0.88       591\n",
      "           2       0.84      0.85      0.85       599\n",
      "\n",
      "    accuracy                           0.88      1800\n",
      "   macro avg       0.88      0.88      0.88      1800\n",
      "weighted avg       0.88      0.88      0.88      1800\n",
      "\n"
     ]
    }
   ],
   "source": [
    "model.fit(x3train, y3train)\n",
    "pred = model.predict(x3test)\n",
    "print(classification_report(y3test, pred))"
   ]
  },
  {
   "cell_type": "code",
   "execution_count": 24,
   "metadata": {},
   "outputs": [
    {
     "name": "stdout",
     "output_type": "stream",
     "text": [
      "[1 2 1 ... 1 0 1]\n"
     ]
    }
   ],
   "source": [
    "print(pred)"
   ]
  },
  {
   "cell_type": "code",
   "execution_count": 23,
   "metadata": {},
   "outputs": [
    {
     "name": "stdout",
     "output_type": "stream",
     "text": [
      "The score on FTR TEST DATA\n",
      "0.8766666666666667\n"
     ]
    }
   ],
   "source": [
    "print('The score on FTR TEST DATA') \n",
    "print(model.score(x3test, y3test))"
   ]
  },
  {
   "cell_type": "code",
   "execution_count": 65,
   "metadata": {},
   "outputs": [],
   "source": [
    "#Grid Search\n",
    "# define search space\n",
    "space = dict()\n",
    "space['n_estimators'] = [90, 100, 120]\n",
    "space['min_samples_split'] = [2, 4]\n",
    "space['min_samples_leaf'] = [1, 2]\n",
    "# define search (clf = Random Forest Classifier)\n",
    "search1 = GridSearchCV(clf, space, scoring='accuracy', cv=3, refit=True)\n",
    "# execute search\n",
    "result1 = search1.fit(x3train, y3train)\n",
    "# get the best performing model fit on the whole training set\n",
    "best_model1 = result1.best_estimator_"
   ]
  },
  {
   "cell_type": "code",
   "execution_count": 66,
   "metadata": {},
   "outputs": [
    {
     "name": "stdout",
     "output_type": "stream",
     "text": [
      "0.8694444444444445\n",
      "              precision    recall  f1-score   support\n",
      "\n",
      "           0       0.89      0.91      0.90       610\n",
      "           1       0.89      0.86      0.87       591\n",
      "           2       0.83      0.84      0.84       599\n",
      "\n",
      "    accuracy                           0.87      1800\n",
      "   macro avg       0.87      0.87      0.87      1800\n",
      "weighted avg       0.87      0.87      0.87      1800\n",
      "\n"
     ]
    }
   ],
   "source": [
    "# evaluate model on the hold out dataset\n",
    "yhat1 = best_model1.predict(x3test)\n",
    "# evaluate the model\n",
    "acc1 = accuracy_score(y3test, yhat1)\n",
    "print(acc1)\n",
    "print(classification_report(y3test, yhat1))"
   ]
  },
  {
   "cell_type": "code",
   "execution_count": 67,
   "metadata": {},
   "outputs": [
    {
     "name": "stdout",
     "output_type": "stream",
     "text": [
      ">acc=0.869, est=0.802, cfg={'min_samples_leaf': 1, 'min_samples_split': 2, 'n_estimators': 120}\n"
     ]
    }
   ],
   "source": [
    "print('>acc=%.3f, est=%.3f, cfg=%s' % (acc1, result1.best_score_, result1.best_params_))"
   ]
  },
  {
   "cell_type": "code",
   "execution_count": 68,
   "metadata": {},
   "outputs": [
    {
     "name": "stdout",
     "output_type": "stream",
     "text": [
      "The score on FTR TEST DATA\n",
      "0.8694444444444445\n"
     ]
    }
   ],
   "source": [
    "print('The score on FTR TEST DATA') \n",
    "print(best_model1.score(x3test, y3test))"
   ]
  },
  {
   "cell_type": "code",
   "execution_count": null,
   "metadata": {},
   "outputs": [],
   "source": [
    "#Grid Search\n",
    "# define search space\n",
    "space = dict()\n",
    "space['n_estimators'] = [100, 200, 500]\n",
    "# define search (clf = Random Forest Classifier)\n",
    "search2 = GridSearchCV(clf, space, scoring='accuracy', cv=2, refit=True)\n",
    "# execute search\n",
    "result2 = search2.fit(x3train, y3train)\n",
    "# get the best performing model fit on the whole training set\n",
    "best_model2 = result2.best_estimator_"
   ]
  },
  {
   "cell_type": "code",
   "execution_count": 94,
   "metadata": {},
   "outputs": [
    {
     "name": "stdout",
     "output_type": "stream",
     "text": [
      "0.875\n",
      "              precision    recall  f1-score   support\n",
      "\n",
      "           0       0.89      0.91      0.90       610\n",
      "           1       0.90      0.86      0.88       591\n",
      "           2       0.84      0.85      0.84       599\n",
      "\n",
      "    accuracy                           0.88      1800\n",
      "   macro avg       0.88      0.87      0.87      1800\n",
      "weighted avg       0.88      0.88      0.87      1800\n",
      "\n"
     ]
    }
   ],
   "source": [
    "# evaluate model on the hold out dataset\n",
    "yhat2 = best_model2.predict(x3test)\n",
    "# evaluate the model\n",
    "acc2 = accuracy_score(y3test, yhat2)\n",
    "print(acc2)\n",
    "print(classification_report(y3test, yhat2))"
   ]
  },
  {
   "cell_type": "code",
   "execution_count": 95,
   "metadata": {},
   "outputs": [
    {
     "name": "stdout",
     "output_type": "stream",
     "text": [
      ">acc=0.875, est=0.834, cfg={'n_estimators': 200}\n"
     ]
    }
   ],
   "source": [
    "print('>acc=%.3f, est=%.3f, cfg=%s' % (acc2, result2.best_score_, result2.best_params_))"
   ]
  },
  {
   "cell_type": "code",
   "execution_count": 92,
   "metadata": {},
   "outputs": [
    {
     "name": "stdout",
     "output_type": "stream",
     "text": [
      "The score on FTR TEST DATA\n",
      "0.8766666666666667\n"
     ]
    }
   ],
   "source": [
    "print('The score on FTR TEST DATA') \n",
    "print(best_model2.score(x3test, y3test))"
   ]
  },
  {
   "cell_type": "code",
   "execution_count": 32,
   "metadata": {},
   "outputs": [
    {
     "name": "stdout",
     "output_type": "stream",
     "text": [
      ">acc=0.878, est=0.830, cfg={'n_estimators': 120}\n",
      ">acc=0.893, est=0.830, cfg={'n_estimators': 120}\n",
      ">acc=0.870, est=0.835, cfg={'n_estimators': 100}\n",
      ">acc=0.872, est=0.829, cfg={'n_estimators': 100}\n",
      ">acc=0.901, est=0.824, cfg={'n_estimators': 120}\n",
      ">acc=0.887, est=0.831, cfg={'n_estimators': 120}\n",
      ">acc=0.899, est=0.829, cfg={'n_estimators': 120}\n",
      ">acc=0.881, est=0.824, cfg={'n_estimators': 100}\n",
      ">acc=0.871, est=0.825, cfg={'n_estimators': 100}\n",
      ">acc=0.881, est=0.832, cfg={'n_estimators': 120}\n",
      "Accuracy: 0.883 (0.011)\n"
     ]
    }
   ],
   "source": [
    "# configure the cross-validation procedure\n",
    "cv_outer = KFold(n_splits=10, shuffle=True, random_state=1)\n",
    "# enumerate splits\n",
    "outer_results = list()\n",
    "for train_ix, test_ix in cv_outer.split(X3):\n",
    "    # split data\n",
    "    X_train, X_test = X3[train_ix, :], X3[test_ix, :]\n",
    "    y_train, y_test = Y3[train_ix], Y3[test_ix]\n",
    "    # configure the cross-validation procedure\n",
    "    cv_inner = KFold(n_splits=3, shuffle=True, random_state=1)\n",
    "    # define the model\n",
    "    model = RandomForestClassifier(random_state=1)\n",
    "    # define search space\n",
    "    space = dict()\n",
    "    space['n_estimators'] = [100, 120]\n",
    "    #space['n_estimators'] = [100, 120, 150]\n",
    "    #space['min_samples_split'] = [2, 4]\n",
    "    #space['min_samples_leaf'] = [1, 2]\n",
    "    # define search\n",
    "    search = GridSearchCV(model, space, scoring='accuracy', cv=cv_inner, refit=True)\n",
    "    # execute search\n",
    "    result = search.fit(X_train, y_train)\n",
    "    # get the best performing model fit on the whole training set\n",
    "    best_model = result.best_estimator_\n",
    "    # evaluate model on the hold out dataset\n",
    "    yhat = best_model.predict(X_test)\n",
    "    # evaluate the model\n",
    "    acc = accuracy_score(y_test, yhat)\n",
    "    # store the result\n",
    "    outer_results.append(acc)\n",
    "    # report progress\n",
    "    print('>acc=%.3f, est=%.3f, cfg=%s' % (acc, result.best_score_, result.best_params_))\n",
    "# summarize the estimated performance of the model\n",
    "print('Accuracy: %.3f (%.3f)' % (mean(outer_results), std(outer_results)))"
   ]
  },
  {
   "cell_type": "markdown",
   "metadata": {},
   "source": [
    "### SVM"
   ]
  },
  {
   "cell_type": "code",
   "execution_count": 27,
   "metadata": {},
   "outputs": [
    {
     "name": "stdout",
     "output_type": "stream",
     "text": [
      "The score on FTR TEST DATA\n",
      "0.84\n"
     ]
    }
   ],
   "source": [
    "clf = SVC()\n",
    "\n",
    "#Fitting the data\n",
    "clf.fit(x3train, y3train)\n",
    "\n",
    "# Now get the score using score method\n",
    "print('The score on FTR TEST DATA') \n",
    "print(clf.score(x3test, y3test))"
   ]
  },
  {
   "cell_type": "code",
   "execution_count": 28,
   "metadata": {},
   "outputs": [],
   "source": [
    "y_pred = clf.predict(x3test)"
   ]
  },
  {
   "cell_type": "code",
   "execution_count": 29,
   "metadata": {},
   "outputs": [
    {
     "name": "stdout",
     "output_type": "stream",
     "text": [
      "              precision    recall  f1-score   support\n",
      "\n",
      "           0       0.85      0.89      0.87       610\n",
      "           1       0.88      0.83      0.85       591\n",
      "           2       0.80      0.80      0.80       599\n",
      "\n",
      "    accuracy                           0.84      1800\n",
      "   macro avg       0.84      0.84      0.84      1800\n",
      "weighted avg       0.84      0.84      0.84      1800\n",
      "\n"
     ]
    },
    {
     "data": {
      "image/png": "[encoded data removed]",
      "text/plain": [
       "<Figure size 432x288 with 2 Axes>"
      ]
     },
     "metadata": {
      "needs_background": "light"
     },
     "output_type": "display_data"
    }
   ],
   "source": [
    "# getting the classfication report\n",
    "print(classification_report(y3test, y_pred))\n",
    "cm = confusion_matrix(y3test, y_pred)\n",
    "\n",
    "# potting graphical confusion matrix on the test data \n",
    "ax= plt.subplot()\n",
    "sns.heatmap(cm, annot=True, ax = ax, fmt = \"g\"); #annot=True to annotate cells\n",
    "# labels, title and ticks\n",
    "ax.set_xlabel('Predicted labels');ax.set_ylabel('True labels'); \n",
    "ax.set_title('Confusion Matrix'); \n",
    "plt.show()"
   ]
  },
  {
   "cell_type": "code",
   "execution_count": null,
   "metadata": {},
   "outputs": [],
   "source": [
    "# GRID search with 10 k-fold cross validation\n",
    "print(\"Hyper Parameter Tuning with Folds\")\n",
    "cv_outer = KFold(n_splits=10, shuffle=True, random_state=1)\n",
    "# enumerate splits\n",
    "outer_results = list()\n",
    "for train_ix, test_ix in cv_outer.split(X3):\n",
    "    # split data\n",
    "    X_train, X_test = X3[train_ix, :], X3[test_ix, :]\n",
    "    y_train, y_test = Y3[train_ix], Y3[test_ix]\n",
    "    # configure the cross-validation procedure of Grid Search\n",
    "    cv_inner = KFold(n_splits=3, shuffle=True, random_state=1)\n",
    "    # define the model\n",
    "    model = SVC()\n",
    "    # define search space\n",
    "    space = dict()\n",
    "    space['C'] = [0.1,1]\n",
    "    space['gamma'] = [0.1,1]\n",
    "    # define search\n",
    "    search = GridSearchCV(model, space, scoring='accuracy', cv=cv_inner, refit=True)\n",
    "    # execute search\n",
    "    result = search.fit(X_train, y_train)\n",
    "    # get the best performing model fit on the whole training set\n",
    "    best_model = result.best_estimator_\n",
    "    # evaluate model on the hold out dataset\n",
    "    yhat = best_model.predict(X_test)\n",
    "    # evaluate the model\n",
    "    acc = accuracy_score(y_test, yhat)\n",
    "    # store the result\n",
    "    outer_results.append(acc)\n",
    "    # report progress\n",
    "    print('>acc=%.3f, est=%.3f, cfg=%s' % (acc, result.best_score_, result.best_params_))"
   ]
  },
  {
   "cell_type": "code",
   "execution_count": null,
   "metadata": {},
   "outputs": [],
   "source": [
    "print(classification_report(y_test, yhat))"
   ]
  },
  {
   "cell_type": "code",
   "execution_count": null,
   "metadata": {},
   "outputs": [],
   "source": [
    "print('The score on FTR TEST DATA with Hyper Tuning') \n",
    "# summarize the estimated performance of the model\n",
    "print(mean(outer_results))"
   ]
  },
  {
   "cell_type": "code",
   "execution_count": 33,
   "metadata": {},
   "outputs": [],
   "source": [
    "sns.set(style=\"whitegrid\", color_codes=True)"
   ]
  },
  {
   "cell_type": "code",
   "execution_count": 40,
   "metadata": {},
   "outputs": [
    {
     "data": {
      "text/plain": [
       "array([0.878, 0.893, 0.87 , 0.872, 0.901, 0.887, 0.899, 0.881, 0.871,\n",
       "       0.881])"
      ]
     },
     "execution_count": 40,
     "metadata": {},
     "output_type": "execute_result"
    }
   ],
   "source": [
    "outer_results1 = np.around(outer_results,3)\n",
    "outer_results1"
   ]
  },
  {
   "cell_type": "code",
   "execution_count": 164,
   "metadata": {},
   "outputs": [],
   "source": [
    "df_plot = pd.DataFrame({'Fold' : np.arange(1,11)})"
   ]
  },
  {
   "cell_type": "code",
   "execution_count": 165,
   "metadata": {},
   "outputs": [
    {
     "data": {
      "text/html": [
       "<div>\n",
       "<style scoped>\n",
       "    .dataframe tbody tr th:only-of-type {\n",
       "        vertical-align: middle;\n",
       "    }\n",
       "\n",
       "    .dataframe tbody tr th {\n",
       "        vertical-align: top;\n",
       "    }\n",
       "\n",
       "    .dataframe thead th {\n",
       "        text-align: right;\n",
       "    }\n",
       "</style>\n",
       "<table border=\"1\" class=\"dataframe\">\n",
       "  <thead>\n",
       "    <tr style=\"text-align: right;\">\n",
       "      <th></th>\n",
       "      <th>Fold</th>\n",
       "      <th>Accuracy</th>\n",
       "    </tr>\n",
       "  </thead>\n",
       "  <tbody>\n",
       "    <tr>\n",
       "      <th>0</th>\n",
       "      <td>1</td>\n",
       "      <td>0.878</td>\n",
       "    </tr>\n",
       "    <tr>\n",
       "      <th>1</th>\n",
       "      <td>2</td>\n",
       "      <td>0.893</td>\n",
       "    </tr>\n",
       "    <tr>\n",
       "      <th>2</th>\n",
       "      <td>3</td>\n",
       "      <td>0.870</td>\n",
       "    </tr>\n",
       "    <tr>\n",
       "      <th>3</th>\n",
       "      <td>4</td>\n",
       "      <td>0.872</td>\n",
       "    </tr>\n",
       "    <tr>\n",
       "      <th>4</th>\n",
       "      <td>5</td>\n",
       "      <td>0.901</td>\n",
       "    </tr>\n",
       "    <tr>\n",
       "      <th>5</th>\n",
       "      <td>6</td>\n",
       "      <td>0.887</td>\n",
       "    </tr>\n",
       "    <tr>\n",
       "      <th>6</th>\n",
       "      <td>7</td>\n",
       "      <td>0.899</td>\n",
       "    </tr>\n",
       "    <tr>\n",
       "      <th>7</th>\n",
       "      <td>8</td>\n",
       "      <td>0.881</td>\n",
       "    </tr>\n",
       "    <tr>\n",
       "      <th>8</th>\n",
       "      <td>9</td>\n",
       "      <td>0.871</td>\n",
       "    </tr>\n",
       "    <tr>\n",
       "      <th>9</th>\n",
       "      <td>10</td>\n",
       "      <td>0.881</td>\n",
       "    </tr>\n",
       "  </tbody>\n",
       "</table>\n",
       "</div>"
      ],
      "text/plain": [
       "   Fold  Accuracy\n",
       "0     1     0.878\n",
       "1     2     0.893\n",
       "2     3     0.870\n",
       "3     4     0.872\n",
       "4     5     0.901\n",
       "5     6     0.887\n",
       "6     7     0.899\n",
       "7     8     0.881\n",
       "8     9     0.871\n",
       "9    10     0.881"
      ]
     },
     "execution_count": 165,
     "metadata": {},
     "output_type": "execute_result"
    }
   ],
   "source": [
    "df_plot['Accuracy'] = outer_results1\n",
    "df_plot"
   ]
  },
  {
   "cell_type": "code",
   "execution_count": 151,
   "metadata": {},
   "outputs": [],
   "source": [
    "#for Mean Line\n",
    "x = [1,10,-1]\n",
    "y_mean = [mean(outer_results)]*len(x)"
   ]
  },
  {
   "cell_type": "code",
   "execution_count": 155,
   "metadata": {},
   "outputs": [
    {
     "data": {
      "image/png": "[encoded data removed]",
      "text/plain": [
       "<Figure size 432x288 with 1 Axes>"
      ]
     },
     "metadata": {},
     "output_type": "display_data"
    }
   ],
   "source": [
    "clrs = ['blue' if (x < max(df_plot['Accuracy'])) else 'red' for x in df_plot['Accuracy'] ]\n",
    "ax = df_plot.plot.bar(x='Fold', y='Accuracy', rot=0, color=clrs)\n",
    "ax.plot(x,y_mean, label='Mean', linestyle='--', color = 'black')\n",
    "ax.set_ylim(0.80,0.925)\n",
    "ax.set_ylabel('Accuracy')\n",
    "ax.set_title('Hyperparameter Tuning with 10 Fold')\n",
    "legend = ax.legend(loc='upper right')"
   ]
  },
  {
   "cell_type": "code",
   "execution_count": 13,
   "metadata": {},
   "outputs": [],
   "source": [
    "records = df.shape[0]\n",
    "features = df.shape[1]"
   ]
  },
  {
   "cell_type": "code",
   "execution_count": 14,
   "metadata": {},
   "outputs": [
    {
     "name": "stdout",
     "output_type": "stream",
     "text": [
      "9000\n",
      "6114\n"
     ]
    }
   ],
   "source": [
    "print(records)\n",
    "print(features)"
   ]
  },
  {
   "cell_type": "code",
   "execution_count": 28,
   "metadata": {},
   "outputs": [
    {
     "data": {
      "image/png": "[encoded data removed]",
      "text/plain": [
       "<Figure size 432x432 with 1 Axes>"
      ]
     },
     "metadata": {},
     "output_type": "display_data"
    }
   ],
   "source": [
    "#To display actual values instead of percentages\n",
    "def autopct_format(values):\n",
    "    def my_format(pct):\n",
    "        total = sum(values)\n",
    "        val = int(round(pct*total/100.0))\n",
    "        return '{v:d}'.format(v=val)\n",
    "    return my_format\n",
    "\n",
    "#ploting\n",
    "from matplotlib.pyplot import pie, axis, show\n",
    "\n",
    "sums = [records,features]\n",
    "labels = ['Records', 'Features']\n",
    "\n",
    "myexplode = (0, 0)\n",
    "mycolors = ['#ff9999','#66b3ff']\n",
    "\n",
    "fig1, ax1 = plt.subplots(figsize=(6,6))\n",
    "ax1.pie(sums, labels=labels, autopct = autopct_format(sums), shadow=False, startangle=45, colors = mycolors, explode = myexplode,\\\n",
    "        counterclock=False, wedgeprops={'edgecolor': 'white', 'linewidth': 4},textprops={'fontsize': 10},\\\n",
    "        pctdistance=0.85, radius=1)\n",
    "\n",
    "centre_circle = plt.Circle((0,0),0.70,fc='Gold')\n",
    "fig = plt.gcf()\n",
    "fig.gca().add_artist(centre_circle)\n",
    "\n",
    "ax1.axis('equal')  \n",
    "plt.tight_layout()\n",
    "plt.title('Dataset Shape Count', fontsize=16, pad=20)\n",
    "plt.show()"
   ]
  },
  {
   "cell_type": "code",
   "execution_count": null,
   "metadata": {},
   "outputs": [],
   "source": []
  }
 ],
 "metadata": {
  "kernelspec": {
   "display_name": "Python 3",
   "language": "python",
   "name": "python3"
  },
  "language_info": {
   "codemirror_mode": {
    "name": "ipython",
    "version": 3
   },
   "file_extension": ".py",
   "mimetype": "text/x-python",
   "name": "python",
   "nbconvert_exporter": "python",
   "pygments_lexer": "ipython3",
   "version": "3.8.5"
  }
 },
 "nbformat": 4,
 "nbformat_minor": 4
}
