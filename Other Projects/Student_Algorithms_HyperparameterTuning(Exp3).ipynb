{
 "cells": [
  {
   "cell_type": "code",
   "execution_count": 1,
   "metadata": {},
   "outputs": [],
   "source": [
    "import numpy as np\n",
    "import pandas as pd\n",
    "import seaborn as sns\n",
    "import matplotlib.pyplot as plt\n",
    "import plotly.express as px\n",
    "import plotly.graph_objects as go"
   ]
  },
  {
   "cell_type": "code",
   "execution_count": 2,
   "metadata": {},
   "outputs": [],
   "source": [
    "from sklearn.model_selection import train_test_split\n",
    "from sklearn.model_selection import cross_val_score\n",
    "from sklearn.model_selection import StratifiedKFold\n",
    "from sklearn.model_selection import cross_validate\n",
    "from sklearn.model_selection import cross_val_predict\n",
    "from sklearn.model_selection import KFold\n",
    "\n",
    "from sklearn.neural_network import MLPClassifier\n",
    "from sklearn.naive_bayes import GaussianNB\n",
    "from sklearn.ensemble import RandomForestClassifier\n",
    "from sklearn.svm import SVC\n",
    "from sklearn.tree import DecisionTreeClassifier\n",
    "\n",
    "from sklearn.preprocessing import OneHotEncoder \n",
    "from sklearn.compose import ColumnTransformer\n",
    "from sklearn.preprocessing import LabelEncoder\n",
    "\n",
    "from sklearn.metrics import confusion_matrix\n",
    "from sklearn.metrics import classification_report\n",
    "from sklearn.metrics import accuracy_score"
   ]
  },
  {
   "cell_type": "code",
   "execution_count": 3,
   "metadata": {},
   "outputs": [],
   "source": [
    "from sklearn.model_selection import GridSearchCV"
   ]
  },
  {
   "cell_type": "code",
   "execution_count": 4,
   "metadata": {},
   "outputs": [],
   "source": [
    "import warnings; warnings.simplefilter('ignore')"
   ]
  },
  {
   "cell_type": "code",
   "execution_count": 5,
   "metadata": {},
   "outputs": [],
   "source": [
    "# multi-class classification with Keras using sk-learn\n",
    "from keras.wrappers.scikit_learn import KerasClassifier\n",
    "\n",
    "import keras\n",
    "from keras.models import Sequential\n",
    "from keras.layers import LSTM\n",
    "from keras.layers import Dropout\n",
    "from keras.layers import Dense\n",
    "from keras.utils import np_utils\n",
    "\n",
    "import tensorflow as tf"
   ]
  },
  {
   "cell_type": "code",
   "execution_count": 6,
   "metadata": {},
   "outputs": [],
   "source": [
    "from numpy import mean\n",
    "from numpy import std"
   ]
  },
  {
   "cell_type": "code",
   "execution_count": 7,
   "metadata": {},
   "outputs": [
    {
     "data": {
      "text/plain": [
       "(799, 44)"
      ]
     },
     "execution_count": 7,
     "metadata": {},
     "output_type": "execute_result"
    }
   ],
   "source": [
    "data1 = pd.read_csv('Exp3_DataOutput(Var).csv')\n",
    "data1.shape"
   ]
  },
  {
   "cell_type": "code",
   "execution_count": 8,
   "metadata": {},
   "outputs": [
    {
     "data": {
      "text/html": [
       "<div>\n",
       "<style scoped>\n",
       "    .dataframe tbody tr th:only-of-type {\n",
       "        vertical-align: middle;\n",
       "    }\n",
       "\n",
       "    .dataframe tbody tr th {\n",
       "        vertical-align: top;\n",
       "    }\n",
       "\n",
       "    .dataframe thead th {\n",
       "        text-align: right;\n",
       "    }\n",
       "</style>\n",
       "<table border=\"1\" class=\"dataframe\">\n",
       "  <thead>\n",
       "    <tr style=\"text-align: right;\">\n",
       "      <th></th>\n",
       "      <th>Unnamed: 0</th>\n",
       "      <th>TS</th>\n",
       "      <th>TC</th>\n",
       "      <th>GH</th>\n",
       "      <th>H/D</th>\n",
       "      <th>Hostelite-S</th>\n",
       "      <th>OnBus-S</th>\n",
       "      <th>OnLocalBus-S</th>\n",
       "      <th>PI-S</th>\n",
       "      <th>HI-S</th>\n",
       "      <th>...</th>\n",
       "      <th>SS_4</th>\n",
       "      <th>Matric-Marks-Bin_75-80</th>\n",
       "      <th>Matric-Marks-Bin_80-85</th>\n",
       "      <th>Matric-Marks-Bin_85-90</th>\n",
       "      <th>Intermediate-Marks-Bin_70-75</th>\n",
       "      <th>Intermediate-Marks-Bin_75-80</th>\n",
       "      <th>Att_CreditHrs-Semester-Bin_15-20</th>\n",
       "      <th>Age_21</th>\n",
       "      <th>Age_22</th>\n",
       "      <th>Class</th>\n",
       "    </tr>\n",
       "  </thead>\n",
       "  <tbody>\n",
       "    <tr>\n",
       "      <th>0</th>\n",
       "      <td>0</td>\n",
       "      <td>0</td>\n",
       "      <td>0</td>\n",
       "      <td>1</td>\n",
       "      <td>1</td>\n",
       "      <td>0</td>\n",
       "      <td>0</td>\n",
       "      <td>0</td>\n",
       "      <td>1</td>\n",
       "      <td>1</td>\n",
       "      <td>...</td>\n",
       "      <td>1</td>\n",
       "      <td>0</td>\n",
       "      <td>0</td>\n",
       "      <td>1</td>\n",
       "      <td>1</td>\n",
       "      <td>0</td>\n",
       "      <td>0</td>\n",
       "      <td>0</td>\n",
       "      <td>0</td>\n",
       "      <td>Bad</td>\n",
       "    </tr>\n",
       "    <tr>\n",
       "      <th>1</th>\n",
       "      <td>1</td>\n",
       "      <td>0</td>\n",
       "      <td>0</td>\n",
       "      <td>1</td>\n",
       "      <td>0</td>\n",
       "      <td>0</td>\n",
       "      <td>1</td>\n",
       "      <td>0</td>\n",
       "      <td>0</td>\n",
       "      <td>0</td>\n",
       "      <td>...</td>\n",
       "      <td>1</td>\n",
       "      <td>0</td>\n",
       "      <td>0</td>\n",
       "      <td>0</td>\n",
       "      <td>0</td>\n",
       "      <td>0</td>\n",
       "      <td>1</td>\n",
       "      <td>0</td>\n",
       "      <td>0</td>\n",
       "      <td>Bad</td>\n",
       "    </tr>\n",
       "    <tr>\n",
       "      <th>2</th>\n",
       "      <td>2</td>\n",
       "      <td>0</td>\n",
       "      <td>1</td>\n",
       "      <td>0</td>\n",
       "      <td>1</td>\n",
       "      <td>1</td>\n",
       "      <td>1</td>\n",
       "      <td>1</td>\n",
       "      <td>1</td>\n",
       "      <td>0</td>\n",
       "      <td>...</td>\n",
       "      <td>0</td>\n",
       "      <td>0</td>\n",
       "      <td>0</td>\n",
       "      <td>1</td>\n",
       "      <td>0</td>\n",
       "      <td>1</td>\n",
       "      <td>1</td>\n",
       "      <td>0</td>\n",
       "      <td>0</td>\n",
       "      <td>Average</td>\n",
       "    </tr>\n",
       "    <tr>\n",
       "      <th>3</th>\n",
       "      <td>3</td>\n",
       "      <td>0</td>\n",
       "      <td>0</td>\n",
       "      <td>1</td>\n",
       "      <td>1</td>\n",
       "      <td>1</td>\n",
       "      <td>0</td>\n",
       "      <td>1</td>\n",
       "      <td>1</td>\n",
       "      <td>1</td>\n",
       "      <td>...</td>\n",
       "      <td>0</td>\n",
       "      <td>0</td>\n",
       "      <td>1</td>\n",
       "      <td>0</td>\n",
       "      <td>0</td>\n",
       "      <td>0</td>\n",
       "      <td>1</td>\n",
       "      <td>0</td>\n",
       "      <td>0</td>\n",
       "      <td>Bad</td>\n",
       "    </tr>\n",
       "    <tr>\n",
       "      <th>4</th>\n",
       "      <td>4</td>\n",
       "      <td>0</td>\n",
       "      <td>0</td>\n",
       "      <td>1</td>\n",
       "      <td>0</td>\n",
       "      <td>0</td>\n",
       "      <td>1</td>\n",
       "      <td>1</td>\n",
       "      <td>1</td>\n",
       "      <td>0</td>\n",
       "      <td>...</td>\n",
       "      <td>1</td>\n",
       "      <td>1</td>\n",
       "      <td>0</td>\n",
       "      <td>0</td>\n",
       "      <td>1</td>\n",
       "      <td>0</td>\n",
       "      <td>1</td>\n",
       "      <td>0</td>\n",
       "      <td>0</td>\n",
       "      <td>Bad</td>\n",
       "    </tr>\n",
       "  </tbody>\n",
       "</table>\n",
       "<p>5 rows × 44 columns</p>\n",
       "</div>"
      ],
      "text/plain": [
       "   Unnamed: 0  TS  TC  GH  H/D  Hostelite-S  OnBus-S  OnLocalBus-S  PI-S  \\\n",
       "0           0   0   0   1    1            0        0             0     1   \n",
       "1           1   0   0   1    0            0        1             0     0   \n",
       "2           2   0   1   0    1            1        1             1     1   \n",
       "3           3   0   0   1    1            1        0             1     1   \n",
       "4           4   0   0   1    0            0        1             1     1   \n",
       "\n",
       "   HI-S  ...  SS_4  Matric-Marks-Bin_75-80  Matric-Marks-Bin_80-85  \\\n",
       "0     1  ...     1                       0                       0   \n",
       "1     0  ...     1                       0                       0   \n",
       "2     0  ...     0                       0                       0   \n",
       "3     1  ...     0                       0                       1   \n",
       "4     0  ...     1                       1                       0   \n",
       "\n",
       "   Matric-Marks-Bin_85-90  Intermediate-Marks-Bin_70-75  \\\n",
       "0                       1                             1   \n",
       "1                       0                             0   \n",
       "2                       1                             0   \n",
       "3                       0                             0   \n",
       "4                       0                             1   \n",
       "\n",
       "   Intermediate-Marks-Bin_75-80  Att_CreditHrs-Semester-Bin_15-20  Age_21  \\\n",
       "0                             0                                 0       0   \n",
       "1                             0                                 1       0   \n",
       "2                             1                                 1       0   \n",
       "3                             0                                 1       0   \n",
       "4                             0                                 1       0   \n",
       "\n",
       "   Age_22    Class  \n",
       "0       0      Bad  \n",
       "1       0      Bad  \n",
       "2       0  Average  \n",
       "3       0      Bad  \n",
       "4       0      Bad  \n",
       "\n",
       "[5 rows x 44 columns]"
      ]
     },
     "execution_count": 8,
     "metadata": {},
     "output_type": "execute_result"
    }
   ],
   "source": [
    "data1.head()"
   ]
  },
  {
   "cell_type": "code",
   "execution_count": 9,
   "metadata": {},
   "outputs": [
    {
     "data": {
      "text/plain": [
       "(799, 43)"
      ]
     },
     "execution_count": 9,
     "metadata": {},
     "output_type": "execute_result"
    }
   ],
   "source": [
    "data1 = data1.drop('Unnamed: 0', axis = 1)\n",
    "data1.shape"
   ]
  },
  {
   "cell_type": "code",
   "execution_count": 10,
   "metadata": {},
   "outputs": [
    {
     "name": "stdout",
     "output_type": "stream",
     "text": [
      "[[0 0 1 ... 0 0 0]\n",
      " [0 0 1 ... 1 0 0]\n",
      " [0 1 0 ... 1 0 0]\n",
      " ...\n",
      " [0 1 1 ... 0 1 0]\n",
      " [1 0 0 ... 0 1 0]\n",
      " [0 0 1 ... 0 0 0]]\n"
     ]
    }
   ],
   "source": [
    "x1 = data1.drop(['Class'], axis=1)\n",
    "x1 = x1.astype('int64')\n",
    "x1 = x1.values\n",
    "print(x1)"
   ]
  },
  {
   "cell_type": "code",
   "execution_count": 11,
   "metadata": {
    "scrolled": true
   },
   "outputs": [
    {
     "name": "stdout",
     "output_type": "stream",
     "text": [
      "['Bad' 'Bad' 'Average' 'Bad' 'Bad' 'Bad' 'Bad' 'Good' 'Bad' 'Average'\n",
      " 'Average' 'Average' 'Bad' 'Average' 'Bad' 'Bad' 'Bad' 'Bad' 'Bad'\n",
      " 'Average' 'Bad' 'Average' 'Bad' 'Bad' 'Bad' 'Bad' 'Bad' 'Bad' 'Bad'\n",
      " 'Average' 'Bad' 'Average' 'Average' 'Good' 'Bad' 'Bad' 'Good' 'Average'\n",
      " 'Good' 'Good' 'Average' 'Average' 'Good' 'Good' 'Average' 'Good' 'Good'\n",
      " 'Good' 'Average' 'Average' 'Good' 'Average' 'Average' 'Good' 'Good'\n",
      " 'Average' 'Good' 'Good' 'Average' 'Bad' 'Average' 'Average' 'Average'\n",
      " 'Average' 'Average' 'Good' 'Bad' 'Average' 'Bad' 'Good' 'Good' 'Average'\n",
      " 'Bad' 'Average' 'Good' 'Average' 'Average' 'Good' 'Average' 'Average'\n",
      " 'Good' 'Good' 'Average' 'Average' 'Average' 'Average' 'Good' 'Good'\n",
      " 'Average' 'Average' 'Average' 'Average' 'Good' 'Average' 'Average' 'Bad'\n",
      " 'Average' 'Average' 'Average' 'Average' 'Good' 'Average' 'Bad' 'Average'\n",
      " 'Average' 'Good' 'Bad' 'Good' 'Average' 'Average' 'Good' 'Good' 'Good'\n",
      " 'Good' 'Good' 'Good' 'Good' 'Good' 'Bad' 'Good' 'Bad' 'Average' 'Bad'\n",
      " 'Good' 'Bad' 'Bad' 'Average' 'Average' 'Average' 'Average' 'Good' 'Bad'\n",
      " 'Bad' 'Average' 'Average' 'Average' 'Average' 'Average' 'Average'\n",
      " 'Average' 'Average' 'Average' 'Bad' 'Average' 'Good' 'Average' 'Average'\n",
      " 'Good' 'Average' 'Bad' 'Average' 'Good' 'Average' 'Bad' 'Average' 'Good'\n",
      " 'Average' 'Average' 'Average' 'Bad' 'Average' 'Average' 'Good' 'Average'\n",
      " 'Bad' 'Average' 'Good' 'Good' 'Good' 'Good' 'Average' 'Average' 'Average'\n",
      " 'Bad' 'Average' 'Good' 'Average' 'Bad' 'Good' 'Average' 'Bad' 'Average'\n",
      " 'Good' 'Good' 'Average' 'Average' 'Bad' 'Average' 'Average' 'Average'\n",
      " 'Bad' 'Good' 'Good' 'Bad' 'Average' 'Average' 'Average' 'Bad' 'Bad'\n",
      " 'Average' 'Bad' 'Average' 'Average' 'Average' 'Bad' 'Bad' 'Bad' 'Good'\n",
      " 'Bad' 'Bad' 'Average' 'Average' 'Average' 'Average' 'Bad' 'Bad' 'Bad'\n",
      " 'Average' 'Average' 'Bad' 'Average' 'Average' 'Bad' 'Bad' 'Bad' 'Average'\n",
      " 'Bad' 'Average' 'Average' 'Bad' 'Bad' 'Average' 'Average' 'Good'\n",
      " 'Average' 'Average' 'Good' 'Average' 'Good' 'Good' 'Average' 'Average'\n",
      " 'Good' 'Good' 'Average' 'Good' 'Good' 'Good' 'Bad' 'Average' 'Good'\n",
      " 'Average' 'Average' 'Good' 'Good' 'Average' 'Good' 'Good' 'Average' 'Bad'\n",
      " 'Average' 'Average' 'Bad' 'Average' 'Average' 'Good' 'Average' 'Average'\n",
      " 'Average' 'Good' 'Good' 'Average' 'Average' 'Bad' 'Good' 'Bad' 'Average'\n",
      " 'Good' 'Average' 'Average' 'Good' 'Good' 'Average' 'Average' 'Average'\n",
      " 'Average' 'Average' 'Good' 'Average' 'Good' 'Average' 'Good' 'Good'\n",
      " 'Average' 'Average' 'Average' 'Average' 'Average' 'Average' 'Average'\n",
      " 'Average' 'Average' 'Average' 'Average' 'Average' 'Good' 'Average' 'Good'\n",
      " 'Average' 'Average' 'Good' 'Good' 'Good' 'Good' 'Good' 'Good' 'Good'\n",
      " 'Good' 'Bad' 'Good' 'Average' 'Average' 'Bad' 'Good' 'Average' 'Average'\n",
      " 'Average' 'Average' 'Average' 'Average' 'Good' 'Average' 'Average' 'Good'\n",
      " 'Average' 'Average' 'Average' 'Average' 'Good' 'Average' 'Average'\n",
      " 'Average' 'Average' 'Average' 'Good' 'Good' 'Average' 'Good' 'Good'\n",
      " 'Average' 'Average' 'Good' 'Average' 'Bad' 'Average' 'Good' 'Average'\n",
      " 'Average' 'Average' 'Bad' 'Average' 'Good' 'Average' 'Average' 'Average'\n",
      " 'Average' 'Average' 'Good' 'Good' 'Good' 'Average' 'Average' 'Good' 'Bad'\n",
      " 'Average' 'Good' 'Average' 'Average' 'Average' 'Average' 'Average'\n",
      " 'Average' 'Good' 'Good' 'Average' 'Average' 'Average' 'Average' 'Average'\n",
      " 'Average' 'Bad' 'Average' 'Good' 'Average' 'Average' 'Average' 'Average'\n",
      " 'Average' 'Average' 'Average' 'Bad' 'Average' 'Average' 'Average'\n",
      " 'Average' 'Average' 'Average' 'Good' 'Average' 'Average' 'Average'\n",
      " 'Average' 'Bad' 'Average' 'Average' 'Average' 'Average' 'Average'\n",
      " 'Average' 'Average' 'Average' 'Average' 'Average' 'Bad' 'Average'\n",
      " 'Average' 'Average' 'Average' 'Bad' 'Average' 'Average' 'Average'\n",
      " 'Average' 'Good' 'Bad' 'Average' 'Good' 'Average' 'Good' 'Good' 'Average'\n",
      " 'Average' 'Good' 'Good' 'Average' 'Good' 'Good' 'Good' 'Average'\n",
      " 'Average' 'Good' 'Average' 'Average' 'Good' 'Good' 'Average' 'Good'\n",
      " 'Good' 'Average' 'Average' 'Good' 'Average' 'Average' 'Average' 'Average'\n",
      " 'Good' 'Average' 'Average' 'Average' 'Good' 'Good' 'Average' 'Average'\n",
      " 'Average' 'Good' 'Average' 'Good' 'Good' 'Average' 'Average' 'Good'\n",
      " 'Good' 'Good' 'Average' 'Average' 'Average' 'Average' 'Good' 'Average'\n",
      " 'Good' 'Average' 'Good' 'Good' 'Average' 'Good' 'Average' 'Average'\n",
      " 'Average' 'Average' 'Average' 'Average' 'Average' 'Average' 'Average'\n",
      " 'Average' 'Good' 'Average' 'Good' 'Average' 'Average' 'Good' 'Good'\n",
      " 'Good' 'Good' 'Good' 'Good' 'Good' 'Good' 'Bad' 'Good' 'Average'\n",
      " 'Average' 'Bad' 'Average' 'Average' 'Average' 'Average' 'Average' 'Bad'\n",
      " 'Average' 'Good' 'Average' 'Average' 'Good' 'Average' 'Average' 'Average'\n",
      " 'Average' 'Average' 'Average' 'Bad' 'Average' 'Average' 'Average' 'Good'\n",
      " 'Good' 'Good' 'Good' 'Good' 'Bad' 'Average' 'Average' 'Bad' 'Average'\n",
      " 'Average' 'Good' 'Average' 'Bad' 'Average' 'Bad' 'Average' 'Good'\n",
      " 'Average' 'Average' 'Average' 'Good' 'Average' 'Average' 'Good' 'Average'\n",
      " 'Average' 'Average' 'Average' 'Average' 'Average' 'Good' 'Average'\n",
      " 'Average' 'Average' 'Average' 'Average' 'Average' 'Good' 'Average'\n",
      " 'Average' 'Average' 'Average' 'Average' 'Bad' 'Average' 'Average'\n",
      " 'Average' 'Good' 'Average' 'Average' 'Average' 'Average' 'Average' 'Bad'\n",
      " 'Average' 'Average' 'Average' 'Average' 'Bad' 'Average' 'Average' 'Good'\n",
      " 'Average' 'Average' 'Good' 'Average' 'Bad' 'Average' 'Average' 'Average'\n",
      " 'Average' 'Average' 'Average' 'Average' 'Average' 'Average' 'Bad' 'Bad'\n",
      " 'Bad' 'Average' 'Bad' 'Average' 'Average' 'Average' 'Average' 'Average'\n",
      " 'Average' 'Good' 'Average' 'Average' 'Good' 'Average' 'Average' 'Good'\n",
      " 'Average' 'Average' 'Good' 'Good' 'Average' 'Good' 'Good' 'Good'\n",
      " 'Average' 'Average' 'Good' 'Average' 'Average' 'Good' 'Good' 'Average'\n",
      " 'Good' 'Good' 'Average' 'Average' 'Good' 'Average' 'Average' 'Average'\n",
      " 'Average' 'Good' 'Average' 'Average' 'Average' 'Good' 'Good' 'Average'\n",
      " 'Bad' 'Average' 'Good' 'Average' 'Average' 'Good' 'Average' 'Average'\n",
      " 'Good' 'Good' 'Average' 'Average' 'Average' 'Average' 'Average' 'Good'\n",
      " 'Average' 'Good' 'Average' 'Good' 'Good' 'Average' 'Good' 'Average'\n",
      " 'Average' 'Average' 'Average' 'Average' 'Average' 'Average' 'Average'\n",
      " 'Average' 'Average' 'Good' 'Average' 'Good' 'Average' 'Average' 'Good'\n",
      " 'Good' 'Good' 'Good' 'Good' 'Good' 'Good' 'Good' 'Bad' 'Good' 'Average'\n",
      " 'Average' 'Average' 'Average' 'Average' 'Average' 'Average' 'Average'\n",
      " 'Average' 'Average' 'Good' 'Average' 'Average' 'Good' 'Average' 'Average'\n",
      " 'Average' 'Average' 'Average' 'Average' 'Average' 'Average' 'Average'\n",
      " 'Average' 'Good' 'Good' 'Good' 'Good' 'Good' 'Bad' 'Average' 'Average'\n",
      " 'Average' 'Average' 'Average' 'Good' 'Average' 'Average' 'Average'\n",
      " 'Average' 'Average' 'Good' 'Average' 'Average' 'Average' 'Good' 'Average'\n",
      " 'Average' 'Good' 'Good' 'Average' 'Average' 'Good' 'Average' 'Average'\n",
      " 'Good' 'Average' 'Average' 'Average' 'Average' 'Average' 'Average' 'Good'\n",
      " 'Good' 'Average' 'Average' 'Average' 'Average' 'Average' 'Average'\n",
      " 'Average' 'Average' 'Good' 'Average' 'Average' 'Average' 'Average'\n",
      " 'Average' 'Average' 'Average']\n"
     ]
    }
   ],
   "source": [
    "y1 = data1['Class']\n",
    "y1 = y1.values\n",
    "print(y1)"
   ]
  },
  {
   "cell_type": "code",
   "execution_count": 12,
   "metadata": {},
   "outputs": [
    {
     "name": "stdout",
     "output_type": "stream",
     "text": [
      "(799, 42)\n",
      "(799,)\n"
     ]
    }
   ],
   "source": [
    "print(x1.shape)\n",
    "print(y1.shape)"
   ]
  },
  {
   "cell_type": "code",
   "execution_count": 13,
   "metadata": {},
   "outputs": [
    {
     "data": {
      "text/plain": [
       "(1428, 38)"
      ]
     },
     "execution_count": 13,
     "metadata": {},
     "output_type": "execute_result"
    }
   ],
   "source": [
    "#SMOTE output of Varience Threshold\n",
    "data2 = pd.read_csv('Exp3_DataOutput(VarS).csv')\n",
    "data2.shape"
   ]
  },
  {
   "cell_type": "code",
   "execution_count": 14,
   "metadata": {},
   "outputs": [
    {
     "data": {
      "text/html": [
       "<div>\n",
       "<style scoped>\n",
       "    .dataframe tbody tr th:only-of-type {\n",
       "        vertical-align: middle;\n",
       "    }\n",
       "\n",
       "    .dataframe tbody tr th {\n",
       "        vertical-align: top;\n",
       "    }\n",
       "\n",
       "    .dataframe thead th {\n",
       "        text-align: right;\n",
       "    }\n",
       "</style>\n",
       "<table border=\"1\" class=\"dataframe\">\n",
       "  <thead>\n",
       "    <tr style=\"text-align: right;\">\n",
       "      <th></th>\n",
       "      <th>Unnamed: 0</th>\n",
       "      <th>GH</th>\n",
       "      <th>H/D</th>\n",
       "      <th>Hostelite-S</th>\n",
       "      <th>OnBus-S</th>\n",
       "      <th>OnLocalBus-S</th>\n",
       "      <th>PI-S</th>\n",
       "      <th>HI-S</th>\n",
       "      <th>SG-S</th>\n",
       "      <th>MF-S</th>\n",
       "      <th>...</th>\n",
       "      <th>EG_12 Years of Study</th>\n",
       "      <th>SS_3</th>\n",
       "      <th>SS_4</th>\n",
       "      <th>Matric-Marks-Bin_75-80</th>\n",
       "      <th>Matric-Marks-Bin_85-90</th>\n",
       "      <th>Intermediate-Marks-Bin_70-75</th>\n",
       "      <th>Att_CreditHrs-Semester-Bin_15-20</th>\n",
       "      <th>Age_21</th>\n",
       "      <th>Age_22</th>\n",
       "      <th>Class</th>\n",
       "    </tr>\n",
       "  </thead>\n",
       "  <tbody>\n",
       "    <tr>\n",
       "      <th>0</th>\n",
       "      <td>0</td>\n",
       "      <td>1</td>\n",
       "      <td>1</td>\n",
       "      <td>0</td>\n",
       "      <td>0</td>\n",
       "      <td>0</td>\n",
       "      <td>1</td>\n",
       "      <td>1</td>\n",
       "      <td>1</td>\n",
       "      <td>1</td>\n",
       "      <td>...</td>\n",
       "      <td>0</td>\n",
       "      <td>0</td>\n",
       "      <td>1</td>\n",
       "      <td>0</td>\n",
       "      <td>1</td>\n",
       "      <td>1</td>\n",
       "      <td>0</td>\n",
       "      <td>0</td>\n",
       "      <td>0</td>\n",
       "      <td>Bad</td>\n",
       "    </tr>\n",
       "    <tr>\n",
       "      <th>1</th>\n",
       "      <td>1</td>\n",
       "      <td>1</td>\n",
       "      <td>0</td>\n",
       "      <td>0</td>\n",
       "      <td>1</td>\n",
       "      <td>0</td>\n",
       "      <td>0</td>\n",
       "      <td>0</td>\n",
       "      <td>1</td>\n",
       "      <td>1</td>\n",
       "      <td>...</td>\n",
       "      <td>0</td>\n",
       "      <td>0</td>\n",
       "      <td>1</td>\n",
       "      <td>0</td>\n",
       "      <td>0</td>\n",
       "      <td>0</td>\n",
       "      <td>1</td>\n",
       "      <td>0</td>\n",
       "      <td>0</td>\n",
       "      <td>Bad</td>\n",
       "    </tr>\n",
       "    <tr>\n",
       "      <th>2</th>\n",
       "      <td>2</td>\n",
       "      <td>0</td>\n",
       "      <td>1</td>\n",
       "      <td>1</td>\n",
       "      <td>1</td>\n",
       "      <td>1</td>\n",
       "      <td>1</td>\n",
       "      <td>0</td>\n",
       "      <td>1</td>\n",
       "      <td>1</td>\n",
       "      <td>...</td>\n",
       "      <td>1</td>\n",
       "      <td>1</td>\n",
       "      <td>0</td>\n",
       "      <td>0</td>\n",
       "      <td>1</td>\n",
       "      <td>0</td>\n",
       "      <td>1</td>\n",
       "      <td>0</td>\n",
       "      <td>0</td>\n",
       "      <td>Average</td>\n",
       "    </tr>\n",
       "    <tr>\n",
       "      <th>3</th>\n",
       "      <td>3</td>\n",
       "      <td>1</td>\n",
       "      <td>1</td>\n",
       "      <td>1</td>\n",
       "      <td>0</td>\n",
       "      <td>1</td>\n",
       "      <td>1</td>\n",
       "      <td>1</td>\n",
       "      <td>0</td>\n",
       "      <td>1</td>\n",
       "      <td>...</td>\n",
       "      <td>0</td>\n",
       "      <td>0</td>\n",
       "      <td>0</td>\n",
       "      <td>0</td>\n",
       "      <td>0</td>\n",
       "      <td>0</td>\n",
       "      <td>1</td>\n",
       "      <td>0</td>\n",
       "      <td>0</td>\n",
       "      <td>Bad</td>\n",
       "    </tr>\n",
       "    <tr>\n",
       "      <th>4</th>\n",
       "      <td>4</td>\n",
       "      <td>1</td>\n",
       "      <td>0</td>\n",
       "      <td>0</td>\n",
       "      <td>1</td>\n",
       "      <td>1</td>\n",
       "      <td>1</td>\n",
       "      <td>0</td>\n",
       "      <td>1</td>\n",
       "      <td>1</td>\n",
       "      <td>...</td>\n",
       "      <td>0</td>\n",
       "      <td>0</td>\n",
       "      <td>1</td>\n",
       "      <td>1</td>\n",
       "      <td>0</td>\n",
       "      <td>1</td>\n",
       "      <td>1</td>\n",
       "      <td>0</td>\n",
       "      <td>0</td>\n",
       "      <td>Bad</td>\n",
       "    </tr>\n",
       "  </tbody>\n",
       "</table>\n",
       "<p>5 rows × 38 columns</p>\n",
       "</div>"
      ],
      "text/plain": [
       "   Unnamed: 0  GH  H/D  Hostelite-S  OnBus-S  OnLocalBus-S  PI-S  HI-S  SG-S  \\\n",
       "0           0   1    1            0        0             0     1     1     1   \n",
       "1           1   1    0            0        1             0     0     0     1   \n",
       "2           2   0    1            1        1             1     1     0     1   \n",
       "3           3   1    1            1        0             1     1     1     0   \n",
       "4           4   1    0            0        1             1     1     0     1   \n",
       "\n",
       "   MF-S  ...  EG_12 Years of Study  SS_3  SS_4  Matric-Marks-Bin_75-80  \\\n",
       "0     1  ...                     0     0     1                       0   \n",
       "1     1  ...                     0     0     1                       0   \n",
       "2     1  ...                     1     1     0                       0   \n",
       "3     1  ...                     0     0     0                       0   \n",
       "4     1  ...                     0     0     1                       1   \n",
       "\n",
       "   Matric-Marks-Bin_85-90  Intermediate-Marks-Bin_70-75  \\\n",
       "0                       1                             1   \n",
       "1                       0                             0   \n",
       "2                       1                             0   \n",
       "3                       0                             0   \n",
       "4                       0                             1   \n",
       "\n",
       "   Att_CreditHrs-Semester-Bin_15-20  Age_21  Age_22    Class  \n",
       "0                                 0       0       0      Bad  \n",
       "1                                 1       0       0      Bad  \n",
       "2                                 1       0       0  Average  \n",
       "3                                 1       0       0      Bad  \n",
       "4                                 1       0       0      Bad  \n",
       "\n",
       "[5 rows x 38 columns]"
      ]
     },
     "execution_count": 14,
     "metadata": {},
     "output_type": "execute_result"
    }
   ],
   "source": [
    "data2.head()"
   ]
  },
  {
   "cell_type": "code",
   "execution_count": 15,
   "metadata": {},
   "outputs": [
    {
     "data": {
      "text/plain": [
       "(1428, 37)"
      ]
     },
     "execution_count": 15,
     "metadata": {},
     "output_type": "execute_result"
    }
   ],
   "source": [
    "data2 = data2.drop('Unnamed: 0', axis = 1)\n",
    "data2.shape"
   ]
  },
  {
   "cell_type": "code",
   "execution_count": 16,
   "metadata": {},
   "outputs": [
    {
     "name": "stdout",
     "output_type": "stream",
     "text": [
      "[[1 1 0 ... 0 0 0]\n",
      " [1 0 0 ... 1 0 0]\n",
      " [0 1 1 ... 1 0 0]\n",
      " ...\n",
      " [0 0 0 ... 0 0 1]\n",
      " [1 0 0 ... 1 0 0]\n",
      " [1 0 0 ... 0 1 0]]\n"
     ]
    }
   ],
   "source": [
    "X_S = data2.drop(['Class'], axis=1)\n",
    "X_S = X_S.astype('int64')\n",
    "X_S = X_S.values\n",
    "print(X_S)"
   ]
  },
  {
   "cell_type": "code",
   "execution_count": 17,
   "metadata": {},
   "outputs": [
    {
     "name": "stdout",
     "output_type": "stream",
     "text": [
      "['Bad' 'Bad' 'Average' ... 'Good' 'Good' 'Good']\n"
     ]
    }
   ],
   "source": [
    "y_S = data2['Class']\n",
    "y_S = y_S.values\n",
    "print(y_S)"
   ]
  },
  {
   "cell_type": "code",
   "execution_count": 18,
   "metadata": {},
   "outputs": [
    {
     "name": "stdout",
     "output_type": "stream",
     "text": [
      "(799, 42)\n",
      "(799,)\n"
     ]
    }
   ],
   "source": [
    "print(x1.shape)\n",
    "print(y1.shape)"
   ]
  },
  {
   "cell_type": "code",
   "execution_count": 19,
   "metadata": {},
   "outputs": [
    {
     "name": "stdout",
     "output_type": "stream",
     "text": [
      "(1428, 36)\n",
      "(1428,)\n"
     ]
    }
   ],
   "source": [
    "print(X_S.shape)\n",
    "print(y_S.shape)"
   ]
  },
  {
   "cell_type": "code",
   "execution_count": 20,
   "metadata": {},
   "outputs": [
    {
     "name": "stdout",
     "output_type": "stream",
     "text": [
      "StratifiedKFold(n_splits=10, random_state=1, shuffle=True)\n"
     ]
    }
   ],
   "source": [
    "#Stratified K Fold split\n",
    "kfold = StratifiedKFold(n_splits=10, random_state=1, shuffle=True)\n",
    "print(kfold)"
   ]
  },
  {
   "cell_type": "code",
   "execution_count": 21,
   "metadata": {},
   "outputs": [],
   "source": [
    "#Test Train Split\n",
    "X_train, X_test, y_train, y_test = train_test_split(x1, y1, test_size = 0.20, random_state = 5)\n",
    "X_train_S, X_test_S, y_train_S, y_test_S = train_test_split(X_S, y_S, test_size = 0.20, random_state = 5)"
   ]
  },
  {
   "cell_type": "code",
   "execution_count": 22,
   "metadata": {},
   "outputs": [
    {
     "name": "stdout",
     "output_type": "stream",
     "text": [
      "(639, 42)\n",
      "(639,)\n",
      "(160, 42)\n",
      "(160,)\n"
     ]
    }
   ],
   "source": [
    "print(X_train.shape)\n",
    "print(y_train.shape)\n",
    "print(X_test.shape)\n",
    "print(y_test.shape)"
   ]
  },
  {
   "cell_type": "code",
   "execution_count": 23,
   "metadata": {},
   "outputs": [
    {
     "name": "stdout",
     "output_type": "stream",
     "text": [
      "(1142, 36)\n",
      "(1142,)\n",
      "(286, 36)\n",
      "(286,)\n"
     ]
    }
   ],
   "source": [
    "print(X_train_S.shape)\n",
    "print(y_train_S.shape)\n",
    "print(X_test_S.shape)\n",
    "print(y_test_S.shape)"
   ]
  },
  {
   "cell_type": "code",
   "execution_count": 24,
   "metadata": {},
   "outputs": [],
   "source": [
    "#for LSTM\n",
    "#For training LSTM (label encoder + shape)\n",
    "encoder = LabelEncoder()\n",
    "y_train_L = y_train #for grid Search\n",
    "encoder.fit(y_train_L)\n",
    "y_train_L1 = encoder.transform(y_train_L) #for sparse_categorical\n",
    "y_train_L2 = np_utils.to_categorical(y_train_L1) #for categorical\n",
    "\n",
    "encoder = LabelEncoder()\n",
    "y_train_S_L = y_train_S\n",
    "encoder.fit(y_train_S_L)\n",
    "y_train_S_L1 = encoder.transform(y_train_S_L)\n",
    "y_train_S_L2 = np_utils.to_categorical(y_train_S_L1)\n",
    "\n",
    "X_train_L = X_train.reshape((-1, 1, X_train.shape[1]))\n",
    "X_train_S_L = X_train_S.reshape((-1, 1, X_train_S.shape[1]))"
   ]
  },
  {
   "cell_type": "code",
   "execution_count": 25,
   "metadata": {},
   "outputs": [],
   "source": [
    "#For testing LSTM (label encoder + shape)\n",
    "encoder = LabelEncoder()\n",
    "y_test_L = y_test\n",
    "encoder.fit(y_test_L)\n",
    "y_test_L1 = encoder.transform(y_test_L)\n",
    "y_test_L2 = np_utils.to_categorical(y_test_L1)\n",
    "\n",
    "encoder = LabelEncoder()\n",
    "y_test_S_L = y_test_S\n",
    "encoder.fit(y_test_S_L)\n",
    "y_test_S_L1 = encoder.transform(y_test_S_L)\n",
    "y_test_S_L2 = np_utils.to_categorical(y_test_S_L1)\n",
    "\n",
    "X_test_L = X_test.reshape((-1, 1, X_test.shape[1]))\n",
    "X_test_S_L = X_test_S.reshape((-1, 1, X_test_S.shape[1]))"
   ]
  },
  {
   "cell_type": "code",
   "execution_count": 26,
   "metadata": {},
   "outputs": [
    {
     "name": "stdout",
     "output_type": "stream",
     "text": [
      "(639, 1, 42)\n",
      "(639,)\n",
      "(160, 1, 42)\n",
      "(160,)\n"
     ]
    }
   ],
   "source": [
    "print(X_train_L.shape)\n",
    "print(y_train_L.shape)\n",
    "print(X_test_L.shape)\n",
    "print(y_test_L.shape)"
   ]
  },
  {
   "cell_type": "code",
   "execution_count": 27,
   "metadata": {},
   "outputs": [
    {
     "name": "stdout",
     "output_type": "stream",
     "text": [
      "(1142, 1, 36)\n",
      "(1142,)\n",
      "(286, 1, 36)\n",
      "(286,)\n"
     ]
    }
   ],
   "source": [
    "print(X_train_S_L.shape)\n",
    "print(y_train_S_L.shape)\n",
    "print(X_test_S_L.shape)\n",
    "print(y_test_S_L.shape)"
   ]
  },
  {
   "cell_type": "markdown",
   "metadata": {
    "collapsed": true
   },
   "source": [
    "# SVM with HT"
   ]
  },
  {
   "cell_type": "code",
   "execution_count": 92,
   "metadata": {},
   "outputs": [
    {
     "name": "stdout",
     "output_type": "stream",
     "text": [
      "Best Results with Grid Search:\n",
      "0.7793154761904761\n",
      "{'C': 2, 'gamma': 0.1, 'kernel': 'rbf'}\n",
      "\n",
      "Accuracy Score  on test data: 0.78125\n",
      "[[91  3  7]\n",
      " [17  4  0]\n",
      " [ 8  0 30]]\n",
      "              precision    recall  f1-score   support\n",
      "\n",
      "     Average       0.78      0.90      0.84       101\n",
      "         Bad       0.57      0.19      0.29        21\n",
      "        Good       0.81      0.79      0.80        38\n",
      "\n",
      "    accuracy                           0.78       160\n",
      "   macro avg       0.72      0.63      0.64       160\n",
      "weighted avg       0.76      0.78      0.76       160\n",
      "\n"
     ]
    }
   ],
   "source": [
    "#Without SMOTE\n",
    "model = SVC(random_state = 0) \n",
    "\n",
    "parameters = [{'C': [0.01,0.1,1,2], 'kernel': ['rbf', 'linear'], 'gamma':[0.01,0.1,1]}]\n",
    "\n",
    "grid_search = GridSearchCV(estimator = model,\n",
    "                           param_grid = parameters,\n",
    "                           scoring = 'accuracy',\n",
    "                           cv = 10, n_jobs = -1)\n",
    "\n",
    "grid_search = grid_search.fit(X_train, y_train)\n",
    "\n",
    "print('Best Results with Grid Search:')\n",
    "print(grid_search.best_score_)\n",
    "print(grid_search.best_params_)\n",
    "\n",
    "y_pred = grid_search.predict(X_test)\n",
    "\n",
    "print('\\nAccuracy Score  on test data: ' + str(accuracy_score(y_test, y_pred)))\n",
    "print(confusion_matrix(y_test,y_pred))\n",
    "print(classification_report(y_test,y_pred))"
   ]
  },
  {
   "cell_type": "code",
   "execution_count": 91,
   "metadata": {},
   "outputs": [
    {
     "name": "stdout",
     "output_type": "stream",
     "text": [
      "Best Results with Grid Search:\n",
      "0.847620137299771\n",
      "{'C': 2, 'gamma': 0.1, 'kernel': 'rbf'}\n",
      "\n",
      "Accuracy Score  on test data: 0.8846153846153846\n",
      "[[69 10  8]\n",
      " [ 7 88  1]\n",
      " [ 7  0 96]]\n",
      "              precision    recall  f1-score   support\n",
      "\n",
      "     Average       0.83      0.79      0.81        87\n",
      "         Bad       0.90      0.92      0.91        96\n",
      "        Good       0.91      0.93      0.92       103\n",
      "\n",
      "    accuracy                           0.88       286\n",
      "   macro avg       0.88      0.88      0.88       286\n",
      "weighted avg       0.88      0.88      0.88       286\n",
      "\n"
     ]
    }
   ],
   "source": [
    "#With SMOTE\n",
    "model = SVC(random_state = 0) \n",
    "\n",
    "parameters = [{'C': [0.01,0.1,1,2], 'kernel': ['rbf', 'linear'], 'gamma':[0.01,0.1,1]}]\n",
    "\n",
    "grid_search = GridSearchCV(estimator = model,\n",
    "                           param_grid = parameters,\n",
    "                           scoring = 'accuracy',\n",
    "                           cv = 10, n_jobs = -1)\n",
    "\n",
    "grid_search = grid_search.fit(X_train_S, y_train_S)\n",
    "\n",
    "print('Best Results with Grid Search:')\n",
    "print(grid_search.best_score_)\n",
    "print(grid_search.best_params_)\n",
    "\n",
    "y_pred_S = grid_search.predict(X_test_S)\n",
    "\n",
    "print('\\nAccuracy Score  on test data: ' + str(accuracy_score(y_test_S, y_pred_S)))\n",
    "print(confusion_matrix(y_test_S,y_pred_S))\n",
    "print(classification_report(y_test_S,y_pred_S))"
   ]
  },
  {
   "cell_type": "code",
   "execution_count": 93,
   "metadata": {},
   "outputs": [
    {
     "name": "stdout",
     "output_type": "stream",
     "text": [
      "Test Accuracy with Grid Search CV:\n",
      ">Accuracy Score  without SMOTE: 0.781\n",
      ">Accuracy Score  with SMOTE: 0.885\n"
     ]
    }
   ],
   "source": [
    "print('Test Accuracy with Grid Search CV:')\n",
    "print('>Accuracy Score  without SMOTE: %.3f' % (accuracy_score(y_test, y_pred)))\n",
    "print('>Accuracy Score  with SMOTE: %.3f' % (accuracy_score(y_test_S, y_pred_S)))"
   ]
  },
  {
   "cell_type": "markdown",
   "metadata": {
    "collapsed": true
   },
   "source": [
    "# DT with HT"
   ]
  },
  {
   "cell_type": "code",
   "execution_count": 66,
   "metadata": {},
   "outputs": [
    {
     "name": "stdout",
     "output_type": "stream",
     "text": [
      "Best Results with Grid Search:\n",
      "0.7292410714285714\n",
      "{'criterion': 'gini', 'min_samples_leaf': 2, 'min_samples_split': 5, 'splitter': 'best'}\n",
      "\n",
      "Accuracy Score  on test data: 0.725\n",
      "[[84  4 13]\n",
      " [13  7  1]\n",
      " [11  2 25]]\n",
      "              precision    recall  f1-score   support\n",
      "\n",
      "     Average       0.78      0.83      0.80       101\n",
      "         Bad       0.54      0.33      0.41        21\n",
      "        Good       0.64      0.66      0.65        38\n",
      "\n",
      "    accuracy                           0.73       160\n",
      "   macro avg       0.65      0.61      0.62       160\n",
      "weighted avg       0.71      0.72      0.72       160\n",
      "\n"
     ]
    }
   ],
   "source": [
    "#Without SMOTE\n",
    "model = DecisionTreeClassifier(random_state=0)\n",
    "\n",
    "parameters = [{'min_samples_split': [2,5,10], 'min_samples_leaf': [1,2,4], 'splitter': ['best','random'],\n",
    "              'criterion': ['gini', 'entropy']}]\n",
    "\n",
    "grid_search = GridSearchCV(estimator = model,\n",
    "                           param_grid = parameters,\n",
    "                           scoring = 'accuracy',\n",
    "                           cv = 10, n_jobs = -1)\n",
    "\n",
    "grid_search = grid_search.fit(X_train, y_train)\n",
    "\n",
    "print('Best Results with Grid Search:')\n",
    "print(grid_search.best_score_)\n",
    "print(grid_search.best_params_)\n",
    "\n",
    "y_pred = grid_search.predict(X_test)\n",
    "\n",
    "print('\\nAccuracy Score  on test data: ' + str(accuracy_score(y_test, y_pred)))\n",
    "print(confusion_matrix(y_test,y_pred))\n",
    "print(classification_report(y_test,y_pred))"
   ]
  },
  {
   "cell_type": "code",
   "execution_count": 67,
   "metadata": {},
   "outputs": [
    {
     "name": "stdout",
     "output_type": "stream",
     "text": [
      "Best Results with Grid Search:\n",
      "0.7985278413424867\n",
      "{'criterion': 'gini', 'min_samples_leaf': 1, 'min_samples_split': 2, 'splitter': 'best'}\n",
      "\n",
      "Accuracy Score  on test data: 0.8321678321678322\n",
      "[[65 18  4]\n",
      " [ 8 84  4]\n",
      " [10  4 89]]\n",
      "              precision    recall  f1-score   support\n",
      "\n",
      "     Average       0.78      0.75      0.76        87\n",
      "         Bad       0.79      0.88      0.83        96\n",
      "        Good       0.92      0.86      0.89       103\n",
      "\n",
      "    accuracy                           0.83       286\n",
      "   macro avg       0.83      0.83      0.83       286\n",
      "weighted avg       0.83      0.83      0.83       286\n",
      "\n"
     ]
    }
   ],
   "source": [
    "#With SMOTE\n",
    "model = DecisionTreeClassifier(random_state=0)\n",
    "\n",
    "parameters = [{'min_samples_split': [2,5,10], 'min_samples_leaf': [1,2,4], 'splitter': ['best','random'],\n",
    "              'criterion': ['gini', 'entropy']}]\n",
    "\n",
    "grid_search = GridSearchCV(estimator = model,\n",
    "                           param_grid = parameters,\n",
    "                           scoring = 'accuracy',\n",
    "                           cv = 10, n_jobs = -1)\n",
    "\n",
    "grid_search = grid_search.fit(X_train_S, y_train_S)\n",
    "\n",
    "print('Best Results with Grid Search:')\n",
    "print(grid_search.best_score_)\n",
    "print(grid_search.best_params_)\n",
    "\n",
    "y_pred_S = grid_search.predict(X_test_S)\n",
    "\n",
    "print('\\nAccuracy Score  on test data: ' + str(accuracy_score(y_test_S, y_pred_S)))\n",
    "print(confusion_matrix(y_test_S,y_pred_S))\n",
    "print(classification_report(y_test_S,y_pred_S))"
   ]
  },
  {
   "cell_type": "code",
   "execution_count": 68,
   "metadata": {},
   "outputs": [
    {
     "name": "stdout",
     "output_type": "stream",
     "text": [
      "Test Accuracy with Grid Search CV:\n",
      ">Accuracy Score  without SMOTE: 0.725\n",
      ">Accuracy Score  with SMOTE: 0.832\n"
     ]
    }
   ],
   "source": [
    "print('Test Accuracy with Grid Search CV:')\n",
    "print('>Accuracy Score  without SMOTE: %.3f' % (accuracy_score(y_test, y_pred)))\n",
    "print('>Accuracy Score  with SMOTE: %.3f' % (accuracy_score(y_test_S, y_pred_S)))"
   ]
  },
  {
   "cell_type": "markdown",
   "metadata": {
    "collapsed": true
   },
   "source": [
    "# RF with HT"
   ]
  },
  {
   "cell_type": "code",
   "execution_count": 103,
   "metadata": {},
   "outputs": [
    {
     "name": "stdout",
     "output_type": "stream",
     "text": [
      "Best Results with Grid Search:\n",
      "0.7715525793650794\n",
      "{'min_samples_leaf': 2, 'min_samples_split': 2, 'n_estimators': 200}\n",
      "\n",
      "Accuracy Score  on test data: 0.775\n",
      "[[95  1  5]\n",
      " [19  2  0]\n",
      " [11  0 27]]\n",
      "              precision    recall  f1-score   support\n",
      "\n",
      "     Average       0.76      0.94      0.84       101\n",
      "         Bad       0.67      0.10      0.17        21\n",
      "        Good       0.84      0.71      0.77        38\n",
      "\n",
      "    accuracy                           0.78       160\n",
      "   macro avg       0.76      0.58      0.59       160\n",
      "weighted avg       0.77      0.78      0.74       160\n",
      "\n"
     ]
    }
   ],
   "source": [
    "#Without SMOTE\n",
    "model = RandomForestClassifier(random_state=0)\n",
    "\n",
    "parameters = [{'n_estimators': [100, 150, 200], 'min_samples_split':[2,3,4],\n",
    "              'min_samples_leaf':[2,3,4]}]\n",
    "\n",
    "grid_search = GridSearchCV(estimator = model,\n",
    "                           param_grid = parameters,\n",
    "                           scoring = 'accuracy',\n",
    "                           cv = 10, n_jobs = -1)\n",
    "\n",
    "grid_search = grid_search.fit(X_train, y_train)\n",
    "\n",
    "print('Best Results with Grid Search:')\n",
    "print(grid_search.best_score_)\n",
    "print(grid_search.best_params_)\n",
    "\n",
    "y_pred = grid_search.predict(X_test)\n",
    "\n",
    "print('\\nAccuracy Score  on test data: ' + str(accuracy_score(y_test, y_pred)))\n",
    "print(confusion_matrix(y_test,y_pred))\n",
    "print(classification_report(y_test,y_pred))"
   ]
  },
  {
   "cell_type": "code",
   "execution_count": 101,
   "metadata": {},
   "outputs": [
    {
     "name": "stdout",
     "output_type": "stream",
     "text": [
      "Best Results with Grid Search:\n",
      "0.8510831426392068\n",
      "{'min_samples_leaf': 2, 'min_samples_split': 2, 'n_estimators': 120}\n",
      "\n",
      "Accuracy Score  on test data: 0.8881118881118881\n",
      "[[67 12  8]\n",
      " [ 6 88  2]\n",
      " [ 3  1 99]]\n",
      "              precision    recall  f1-score   support\n",
      "\n",
      "     Average       0.88      0.77      0.82        87\n",
      "         Bad       0.87      0.92      0.89        96\n",
      "        Good       0.91      0.96      0.93       103\n",
      "\n",
      "    accuracy                           0.89       286\n",
      "   macro avg       0.89      0.88      0.88       286\n",
      "weighted avg       0.89      0.89      0.89       286\n",
      "\n"
     ]
    }
   ],
   "source": [
    "#With SMOTE\n",
    "model = RandomForestClassifier(random_state=0)\n",
    "\n",
    "parameters = [{'n_estimators': [120, 150, 200], 'min_samples_split':[2,3,4],\n",
    "              'min_samples_leaf':[2,3,4]}]\n",
    "\n",
    "grid_search = GridSearchCV(estimator = model,\n",
    "                           param_grid = parameters,\n",
    "                           scoring = 'accuracy',\n",
    "                           cv = 10, n_jobs = -1)\n",
    "\n",
    "grid_search = grid_search.fit(X_train_S, y_train_S)\n",
    "\n",
    "print('Best Results with Grid Search:')\n",
    "print(grid_search.best_score_)\n",
    "print(grid_search.best_params_)\n",
    "\n",
    "y_pred_S = grid_search.predict(X_test_S)\n",
    "\n",
    "print('\\nAccuracy Score  on test data: ' + str(accuracy_score(y_test_S, y_pred_S)))\n",
    "print(confusion_matrix(y_test_S,y_pred_S))\n",
    "print(classification_report(y_test_S,y_pred_S))"
   ]
  },
  {
   "cell_type": "code",
   "execution_count": 104,
   "metadata": {},
   "outputs": [
    {
     "name": "stdout",
     "output_type": "stream",
     "text": [
      "Test Accuracy with Grid Search CV:\n",
      ">Accuracy Score  without SMOTE: 0.775\n",
      ">Accuracy Score  with SMOTE: 0.888\n"
     ]
    }
   ],
   "source": [
    "print('Test Accuracy with Grid Search CV:')\n",
    "print('>Accuracy Score  without SMOTE: %.3f' % (accuracy_score(y_test, y_pred)))\n",
    "print('>Accuracy Score  with SMOTE: %.3f' % (accuracy_score(y_test_S, y_pred_S)))"
   ]
  },
  {
   "cell_type": "markdown",
   "metadata": {},
   "source": [
    "# NB with HT"
   ]
  },
  {
   "cell_type": "markdown",
   "metadata": {},
   "source": [
    "GaussianNB only accepts priors (arrray-like, shape(n_classes)) as an argument so unless you have some priors to set for your model ahead of time you will have nothing to grid search over."
   ]
  },
  {
   "cell_type": "code",
   "execution_count": 28,
   "metadata": {},
   "outputs": [
    {
     "name": "stdout",
     "output_type": "stream",
     "text": [
      ">Accuracy Score  without SMOTE: 0.581\n",
      ">Accuracy Score  with SMOTE: 0.692\n"
     ]
    }
   ],
   "source": [
    "model = GaussianNB()\n",
    "model.fit(X_train, y_train)\n",
    "y_pred = model.predict(X_test)\n",
    "print('>Accuracy Score  without SMOTE: %.3f' % (accuracy_score(y_test, y_pred)))\n",
    "    \n",
    "model = GaussianNB()\n",
    "model.fit(X_train_S, y_train_S)\n",
    "y_pred_S = model.predict(X_test_S)\n",
    "print('>Accuracy Score  with SMOTE: %.3f' % (accuracy_score(y_test_S, y_pred_S)))"
   ]
  },
  {
   "cell_type": "code",
   "execution_count": 29,
   "metadata": {},
   "outputs": [
    {
     "name": "stdout",
     "output_type": "stream",
     "text": [
      "              precision    recall  f1-score   support\n",
      "\n",
      "     Average       0.67      0.69      0.68       101\n",
      "         Bad       0.50      0.33      0.40        21\n",
      "        Good       0.39      0.42      0.41        38\n",
      "\n",
      "    accuracy                           0.58       160\n",
      "   macro avg       0.52      0.48      0.49       160\n",
      "weighted avg       0.58      0.58      0.58       160\n",
      "\n"
     ]
    }
   ],
   "source": [
    "print(classification_report(y_test,y_pred))"
   ]
  },
  {
   "cell_type": "code",
   "execution_count": 30,
   "metadata": {},
   "outputs": [
    {
     "name": "stdout",
     "output_type": "stream",
     "text": [
      "              precision    recall  f1-score   support\n",
      "\n",
      "     Average       0.62      0.61      0.62        87\n",
      "         Bad       0.73      0.72      0.73        96\n",
      "        Good       0.71      0.74      0.72       103\n",
      "\n",
      "    accuracy                           0.69       286\n",
      "   macro avg       0.69      0.69      0.69       286\n",
      "weighted avg       0.69      0.69      0.69       286\n",
      "\n"
     ]
    }
   ],
   "source": [
    "print(classification_report(y_test_S,y_pred_S))"
   ]
  },
  {
   "cell_type": "markdown",
   "metadata": {},
   "source": [
    "# MLP (Sklearn)"
   ]
  },
  {
   "cell_type": "markdown",
   "metadata": {},
   "source": [
    "#### Without SMOTE "
   ]
  },
  {
   "cell_type": "code",
   "execution_count": 39,
   "metadata": {},
   "outputs": [
    {
     "name": "stdout",
     "output_type": "stream",
     "text": [
      "Best Results with Grid Search:\n",
      "0.760515873015873\n",
      "{'hidden_layer_sizes': (95, 95, 95)}\n"
     ]
    }
   ],
   "source": [
    "#Perceptron Tuning\n",
    "model = MLPClassifier()\n",
    "parameters = {\n",
    "    'hidden_layer_sizes': [(5,5,5),(10,10,10),(15,15,15),(20,20,20),(25,25,25),(30,30,30),(35,35,35),(40,40,40),(45,45,45),(50,50,50),(55,55,55),(60,60,60),(65,65,65),(70,70,70),(75,75,75),(80,80,80),(85,85,85),(90,90,90),(95,95,95),(100,100,100)],\n",
    "    #'activation': ['relu'], default\n",
    "    #'solver': ['adam'], default\n",
    "    #'alpha': [0.0001], default\n",
    "    #'learning_rate': ['constant'], default\n",
    "    #'max_iter': [200], default\n",
    "}\n",
    "\n",
    "grid_search = GridSearchCV(estimator = model,\n",
    "                           param_grid = parameters,\n",
    "                           scoring = 'accuracy',\n",
    "                           cv = 10, n_jobs = -1)\n",
    "\n",
    "grid_search = grid_search.fit(X_train, y_train)\n",
    "\n",
    "print('Best Results with Grid Search:')\n",
    "print(grid_search.best_score_)\n",
    "print(grid_search.best_params_)\n",
    "\n",
    "means = grid_search.cv_results_['mean_test_score']\n",
    "stds = grid_search.cv_results_['std_test_score']"
   ]
  },
  {
   "cell_type": "code",
   "execution_count": 40,
   "metadata": {},
   "outputs": [],
   "source": [
    "xaxis_perceptrons = [5,10,15,20,25,30,35,40,45,50,55,60,65,70,75,80,85,90,95,100]"
   ]
  },
  {
   "cell_type": "code",
   "execution_count": 41,
   "metadata": {},
   "outputs": [
    {
     "data": {
      "image/png": "[encoded data removed]",
      "text/plain": [
       "<Figure size 432x288 with 1 Axes>"
      ]
     },
     "metadata": {
      "needs_background": "light"
     },
     "output_type": "display_data"
    }
   ],
   "source": [
    "plt.plot(xaxis_perceptrons,means,'.-')\n",
    "plt.ylabel('Accuracy')\n",
    "plt.xlabel('Number of Perceptrons')\n",
    "plt.grid()\n",
    "\n",
    "plt.savefig(\"GridSearchCV Screenshots/Exp3/No.OfPerceptron.png\")\n",
    "plt.show()"
   ]
  },
  {
   "cell_type": "code",
   "execution_count": 42,
   "metadata": {},
   "outputs": [
    {
     "name": "stdout",
     "output_type": "stream",
     "text": [
      "Best Results with Grid Search:\n",
      "0.7573660714285715\n",
      "{'hidden_layer_sizes': (95, 95, 95)}\n"
     ]
    }
   ],
   "source": [
    "#Layer Tuning\n",
    "model = MLPClassifier()\n",
    "parameters = {\n",
    "    'hidden_layer_sizes': [(95),(95,95),(95,95,95),(95,95,95,95),(95,95,95,95,95),(95,95,95,95,95,95),(95,95,95,95,95,95,95),(95,95,95,95,95,95,95,95),(95,95,95,95,95,95,95,95,95),(95,95,95,95,95,95,95,95,95,95),(95,95,95,95,95,95,95,95,95,95,95),(95,95,95,95,95,95,95,95,95,95,95,95)],\n",
    "    #'activation': ['relu'], default\n",
    "    #'solver': ['adam'], default\n",
    "    #'alpha': [0.0001], default\n",
    "    #'learning_rate': ['constant'], default\n",
    "    #'max_iter': [200], default\n",
    "}\n",
    "\n",
    "grid_search = GridSearchCV(estimator = model,\n",
    "                           param_grid = parameters,\n",
    "                           scoring = 'accuracy',\n",
    "                           cv = 10, n_jobs = -1)\n",
    "\n",
    "grid_search = grid_search.fit(X_train, y_train)\n",
    "\n",
    "print('Best Results with Grid Search:')\n",
    "print(grid_search.best_score_)\n",
    "print(grid_search.best_params_)\n",
    "\n",
    "means = grid_search.cv_results_['mean_test_score']\n",
    "stds = grid_search.cv_results_['std_test_score']"
   ]
  },
  {
   "cell_type": "code",
   "execution_count": 43,
   "metadata": {},
   "outputs": [],
   "source": [
    "xaxis_layers = [1,2,3,4,5,6,7,8,9,10,11,12]"
   ]
  },
  {
   "cell_type": "code",
   "execution_count": 44,
   "metadata": {},
   "outputs": [
    {
     "data": {
      "image/png": "[encoded data removed]",
      "text/plain": [
       "<Figure size 432x288 with 1 Axes>"
      ]
     },
     "metadata": {
      "needs_background": "light"
     },
     "output_type": "display_data"
    }
   ],
   "source": [
    "plt.plot(xaxis_layers,means,'.-')\n",
    "plt.ylabel('Accuracy')\n",
    "plt.xlabel('Number of Layers')\n",
    "plt.grid()\n",
    "\n",
    "plt.savefig(\"GridSearchCV Screenshots/Exp3/No.OfLayers.png\")\n",
    "plt.show()"
   ]
  },
  {
   "cell_type": "code",
   "execution_count": 45,
   "metadata": {},
   "outputs": [
    {
     "data": {
      "image/png": "[encoded data removed]",
      "text/plain": [
       "<Figure size 432x288 with 2 Axes>"
      ]
     },
     "metadata": {
      "needs_background": "light"
     },
     "output_type": "display_data"
    }
   ],
   "source": [
    "#for Epochs and Batch Size with MLP\n",
    "model = MLPClassifier(hidden_layer_sizes=[95,95,95,95])\n",
    "\n",
    "N_TRAIN_SAMPLES = X_train.shape[0]\n",
    "N_EPOCHS = 100\n",
    "N_BATCH = 200\n",
    "N_CLASSES = np.unique(y_train)\n",
    "\n",
    "scores_train = []\n",
    "scores_test = []\n",
    "\n",
    "# EPOCH\n",
    "epoch = 0\n",
    "while epoch < N_EPOCHS:\n",
    "    # SHUFFLING\n",
    "    random_perm = np.random.permutation(X_train.shape[0])\n",
    "    mini_batch_index = 0\n",
    "    while True:\n",
    "        # MINI-BATCH\n",
    "        indices = random_perm[mini_batch_index:mini_batch_index + N_BATCH]\n",
    "        model.partial_fit(X_train[indices], y_train[indices], classes=N_CLASSES)\n",
    "        mini_batch_index += N_BATCH\n",
    "\n",
    "        if mini_batch_index >= N_TRAIN_SAMPLES:\n",
    "            break\n",
    "\n",
    "    # SCORE TRAIN\n",
    "    scores_train.append(model.score(X_train, y_train))\n",
    "\n",
    "    # SCORE TEST\n",
    "    scores_test.append(model.score(X_test, y_test))\n",
    "\n",
    "    epoch += 1\n",
    "\n",
    "\"\"\" Plot \"\"\"\n",
    "fig, ax = plt.subplots(2, sharex=True, sharey=True)\n",
    "ax[0].plot(scores_train)\n",
    "ax[0].set_title('Train')\n",
    "ax[1].plot(scores_test)\n",
    "ax[1].set_title('Test')\n",
    "fig.suptitle(\"Accuracy over epochs\", fontsize=14)\n",
    "plt.savefig(\"GridSearchCV Screenshots/Exp3/Epochs.png\")\n",
    "plt.show()"
   ]
  },
  {
   "cell_type": "code",
   "execution_count": 77,
   "metadata": {},
   "outputs": [
    {
     "name": "stdout",
     "output_type": "stream",
     "text": [
      "Best Results with Grid Search:\n",
      "0.7684523809523809\n",
      "{'activation': 'relu', 'alpha': 0.001, 'hidden_layer_sizes': (93, 93, 93), 'max_iter': 100, 'solver': 'adam'}\n",
      "\n",
      "Accuracy Score  on test data: 0.725\n",
      "[[80  9 12]\n",
      " [12  9  0]\n",
      " [10  1 27]]\n",
      "              precision    recall  f1-score   support\n",
      "\n",
      "     Average       0.78      0.79      0.79       101\n",
      "         Bad       0.47      0.43      0.45        21\n",
      "        Good       0.69      0.71      0.70        38\n",
      "\n",
      "    accuracy                           0.73       160\n",
      "   macro avg       0.65      0.64      0.65       160\n",
      "weighted avg       0.72      0.72      0.72       160\n",
      "\n"
     ]
    }
   ],
   "source": [
    "#Tuning with Grid Seaerch CV\n",
    "model = MLPClassifier(random_state=0)\n",
    "\n",
    "parameters = {\n",
    "    'hidden_layer_sizes': [(93,93,93), (95,95,95), (97,97,97)],\n",
    "    'activation': ['relu','tanh'], \n",
    "    'solver': ['adam','sgd'], \n",
    "    'alpha': [0.001,0.01,0.1],\n",
    "    'max_iter': [100,200]\n",
    "}\n",
    "\n",
    "grid_search = GridSearchCV(estimator = model,\n",
    "                           param_grid = parameters,\n",
    "                           scoring = 'accuracy',\n",
    "                           cv = 10, n_jobs = -1)\n",
    "\n",
    "grid_search = grid_search.fit(X_train, y_train)\n",
    "\n",
    "print('Best Results with Grid Search:')\n",
    "print(grid_search.best_score_)\n",
    "print(grid_search.best_params_)\n",
    "\n",
    "y_pred = grid_search.predict(X_test)\n",
    "\n",
    "print('\\nAccuracy Score  on test data: ' + str(accuracy_score(y_test, y_pred)))\n",
    "print(confusion_matrix(y_test,y_pred))\n",
    "print(classification_report(y_test,y_pred))"
   ]
  },
  {
   "cell_type": "code",
   "execution_count": 48,
   "metadata": {},
   "outputs": [],
   "source": [
    "from sklearn.metrics import roc_curve, auc\n",
    "from scipy import interp\n",
    "\n",
    "n_classes = 3  #number of class\n",
    "\n",
    "model = MLPClassifier(random_state=0, activation = 'relu', alpha = 0.001, hidden_layer_sizes = (93, 93, 93), max_iter = 100, solver = 'adam')\n",
    "\n",
    "model.fit(X_train, y_train_L2)\n",
    "\n",
    "y_score_L = model.predict_proba(X_test)\n",
    "\n",
    "# Compute ROC curve and ROC area for each class\n",
    "fpr = dict()\n",
    "tpr = dict()\n",
    "roc_auc = dict()\n",
    "for i in range(n_classes):\n",
    "    fpr[i], tpr[i], _ = roc_curve(y_test_L2[:, i], y_score_L[:, i])\n",
    "    roc_auc[i] = auc(fpr[i], tpr[i])\n",
    "\n",
    "# Compute micro-average ROC curve and ROC area\n",
    "fpr[\"micro\"], tpr[\"micro\"], _ = roc_curve(y_test_L2.ravel(), y_score_L.ravel())\n",
    "roc_auc[\"micro\"] = auc(fpr[\"micro\"], tpr[\"micro\"])"
   ]
  },
  {
   "cell_type": "code",
   "execution_count": 50,
   "metadata": {},
   "outputs": [
    {
     "data": {
      "image/png": "[encoded data removed]",
      "text/plain": [
       "<Figure size 432x288 with 1 Axes>"
      ]
     },
     "metadata": {
      "needs_background": "light"
     },
     "output_type": "display_data"
    }
   ],
   "source": [
    "# Process of plotting roc-auc curve belonging to all classes.\n",
    "\n",
    "n_class_labels = ['Average', 'Bad', 'Good']\n",
    "lw = 2 # line_width\n",
    "\n",
    "from itertools import cycle\n",
    "\n",
    "# First aggregate all false positive rates\n",
    "all_fpr = np.unique(np.concatenate([fpr[i] for i in range(n_classes)]))\n",
    "\n",
    "# Then interpolate all ROC curves at this points\n",
    "mean_tpr = np.zeros_like(all_fpr)\n",
    "for i in range(n_classes):\n",
    "    mean_tpr += interp(all_fpr, fpr[i], tpr[i])\n",
    "\n",
    "# Finally average it and compute AUC\n",
    "mean_tpr /= n_classes\n",
    "\n",
    "fpr[\"macro\"] = all_fpr\n",
    "tpr[\"macro\"] = mean_tpr\n",
    "roc_auc[\"macro\"] = auc(fpr[\"macro\"], tpr[\"macro\"])\n",
    "\n",
    "# Plot all ROC curves\n",
    "plt.figure()\n",
    "plt.plot(fpr[\"micro\"], tpr[\"micro\"],\n",
    "         label='micro-average ROC curve (area = {0:0.2f})'\n",
    "               ''.format(roc_auc[\"micro\"]),\n",
    "         color='deeppink', linestyle=':', linewidth=4)\n",
    "\n",
    "plt.plot(fpr[\"macro\"], tpr[\"macro\"],\n",
    "         label='macro-average ROC curve (area = {0:0.2f})'\n",
    "               ''.format(roc_auc[\"macro\"]),\n",
    "         color='navy', linestyle=':', linewidth=4)\n",
    "\n",
    "colors = cycle(['aqua', 'darkorange', 'cornflowerblue'])\n",
    "for i, color in zip(range(n_classes), colors):\n",
    "    plt.plot(fpr[i], tpr[i], color=color, lw=lw,\n",
    "             label='ROC curve of class %s (area = {1:0.2f})'\n",
    "             ''.format(i, roc_auc[i]) %n_class_labels[i])\n",
    "\n",
    "plt.plot([0, 1], [0, 1], 'k--', lw=lw)\n",
    "plt.xlim([0.0, 1.0])\n",
    "plt.ylim([0.0, 1.05])\n",
    "plt.xlabel('False Positive Rate')\n",
    "plt.ylabel('True Positive Rate')\n",
    "plt.title('Extending the ROC Curve to Multi-Class')\n",
    "plt.legend(loc=\"lower right\")\n",
    "plt.savefig(\"GridSearchCV Screenshots/Exp3/AUC_MLP_Multi.png\")\n",
    "plt.show()"
   ]
  },
  {
   "cell_type": "markdown",
   "metadata": {},
   "source": [
    "#### With SMOTE "
   ]
  },
  {
   "cell_type": "code",
   "execution_count": 51,
   "metadata": {},
   "outputs": [
    {
     "name": "stdout",
     "output_type": "stream",
     "text": [
      "Best Results with Grid Search:\n",
      "0.8344469870327995\n",
      "{'hidden_layer_sizes': (90, 90, 90)}\n"
     ]
    }
   ],
   "source": [
    "#With SMOTE\n",
    "model = MLPClassifier()\n",
    "parameters = {\n",
    "    'hidden_layer_sizes': [(5,5,5),(10,10,10),(15,15,15),(20,20,20),(25,25,25),(30,30,30),(35,35,35),(40,40,40),(45,45,45),(50,50,50),(55,55,55),(60,60,60),(65,65,65),(70,70,70),(75,75,75),(80,80,80),(85,85,85),(90,90,90),(95,95,95),(100,100,100)],\n",
    "    #'activation': ['relu'], default\n",
    "    #'solver': ['adam'], default\n",
    "    #'alpha': [0.0001], default\n",
    "    #'learning_rate': ['constant'], default\n",
    "    #'max_iter': [200], default\n",
    "}\n",
    "\n",
    "grid_search = GridSearchCV(estimator = model,\n",
    "                           param_grid = parameters,\n",
    "                           scoring = 'accuracy',\n",
    "                           cv = 10, n_jobs = -1)\n",
    "\n",
    "grid_search = grid_search.fit(X_train_S, y_train_S)\n",
    "\n",
    "print('Best Results with Grid Search:')\n",
    "print(grid_search.best_score_)\n",
    "print(grid_search.best_params_)\n",
    "\n",
    "means = grid_search.cv_results_['mean_test_score']\n",
    "stds = grid_search.cv_results_['std_test_score']"
   ]
  },
  {
   "cell_type": "code",
   "execution_count": 52,
   "metadata": {},
   "outputs": [
    {
     "data": {
      "image/png": "[encoded data removed]",
      "text/plain": [
       "<Figure size 432x288 with 1 Axes>"
      ]
     },
     "metadata": {
      "needs_background": "light"
     },
     "output_type": "display_data"
    }
   ],
   "source": [
    "plt.plot(xaxis_perceptrons,means,'.-')\n",
    "plt.ylabel('Accuracy')\n",
    "plt.xlabel('Number of Perceptrons')\n",
    "plt.grid()\n",
    "\n",
    "plt.savefig(\"GridSearchCV Screenshots/Exp3/No.OfPerceptron_S.png\")\n",
    "plt.show()"
   ]
  },
  {
   "cell_type": "code",
   "execution_count": 53,
   "metadata": {},
   "outputs": [
    {
     "name": "stdout",
     "output_type": "stream",
     "text": [
      "Best Results with Grid Search:\n",
      "0.8370633104500381\n",
      "{'hidden_layer_sizes': (90, 90, 90, 90)}\n"
     ]
    }
   ],
   "source": [
    "#Layer Tuning\n",
    "model = MLPClassifier()\n",
    "parameters = {\n",
    "    'hidden_layer_sizes': [(90),(90,90),(90,90,90),(90,90,90,90),(90,90,90,90,90),(90,90,90,90,90,90),(90,90,90,90,90,90,90),(90,90,90,90,90,90,90,90),(90,90,90,90,90,90,90,90,90),(90,90,90,90,90,90,90,90,90,90),(90,90,90,90,90,90,90,90,90,90,90),(90,90,90,90,90,90,90,90,90,90,90,90)],\n",
    "    #'activation': ['relu'], default\n",
    "    #'solver': ['adam'], default\n",
    "    #'alpha': [0.0001], default\n",
    "    #'learning_rate': ['constant'], default\n",
    "    #'max_iter': [200], default\n",
    "}\n",
    "\n",
    "grid_search = GridSearchCV(estimator = model,\n",
    "                           param_grid = parameters,\n",
    "                           scoring = 'accuracy',\n",
    "                           cv = 10, n_jobs = -1)\n",
    "\n",
    "grid_search = grid_search.fit(X_train_S, y_train_S)\n",
    "\n",
    "print('Best Results with Grid Search:')\n",
    "print(grid_search.best_score_)\n",
    "print(grid_search.best_params_)\n",
    "\n",
    "means = grid_search.cv_results_['mean_test_score']\n",
    "stds = grid_search.cv_results_['std_test_score']"
   ]
  },
  {
   "cell_type": "code",
   "execution_count": 54,
   "metadata": {},
   "outputs": [
    {
     "data": {
      "image/png": "[encoded data removed]",
      "text/plain": [
       "<Figure size 432x288 with 1 Axes>"
      ]
     },
     "metadata": {
      "needs_background": "light"
     },
     "output_type": "display_data"
    }
   ],
   "source": [
    "plt.plot(xaxis_layers,means,'.-')\n",
    "plt.ylabel('Accuracy')\n",
    "plt.xlabel('Number of Layers')\n",
    "plt.grid()\n",
    "\n",
    "plt.savefig(\"GridSearchCV Screenshots/Exp3/No.OfLayers_S.png\")\n",
    "plt.show()"
   ]
  },
  {
   "cell_type": "code",
   "execution_count": 55,
   "metadata": {},
   "outputs": [
    {
     "data": {
      "image/png": "[encoded data removed]",
      "text/plain": [
       "<Figure size 432x288 with 2 Axes>"
      ]
     },
     "metadata": {
      "needs_background": "light"
     },
     "output_type": "display_data"
    }
   ],
   "source": [
    "#for Epochs and Batch Size with MLP\n",
    "model = MLPClassifier(hidden_layer_sizes=[90,90,90,90])\n",
    "\n",
    "N_TRAIN_SAMPLES = X_train_S.shape[0]\n",
    "N_EPOCHS = 100\n",
    "N_BATCH = 200\n",
    "N_CLASSES = np.unique(y_train_S)\n",
    "\n",
    "scores_train = []\n",
    "scores_test = []\n",
    "\n",
    "# EPOCH\n",
    "epoch = 0\n",
    "while epoch < N_EPOCHS:\n",
    "    # SHUFFLING\n",
    "    random_perm = np.random.permutation(X_train_S.shape[0])\n",
    "    mini_batch_index = 0\n",
    "    while True:\n",
    "        # MINI-BATCH\n",
    "        indices = random_perm[mini_batch_index:mini_batch_index + N_BATCH]\n",
    "        model.partial_fit(X_train_S[indices], y_train_S[indices], classes=N_CLASSES)\n",
    "        mini_batch_index += N_BATCH\n",
    "\n",
    "        if mini_batch_index >= N_TRAIN_SAMPLES:\n",
    "            break\n",
    "\n",
    "    # SCORE TRAIN\n",
    "    scores_train.append(model.score(X_train_S, y_train_S))\n",
    "\n",
    "    # SCORE TEST\n",
    "    scores_test.append(model.score(X_test_S, y_test_S))\n",
    "\n",
    "    epoch += 1\n",
    "\n",
    "\"\"\" Plot \"\"\"\n",
    "fig, ax = plt.subplots(2, sharex=True, sharey=True)\n",
    "ax[0].plot(scores_train)\n",
    "ax[0].set_title('Train')\n",
    "ax[1].plot(scores_test)\n",
    "ax[1].set_title('Test')\n",
    "fig.suptitle(\"Accuracy over epochs\", fontsize=14)\n",
    "plt.savefig(\"GridSearchCV Screenshots/Exp3/Epochs_S.png\")\n",
    "plt.show()"
   ]
  },
  {
   "cell_type": "code",
   "execution_count": 78,
   "metadata": {},
   "outputs": [
    {
     "name": "stdout",
     "output_type": "stream",
     "text": [
      "Best Results with Grid Search:\n",
      "0.8379328756674294\n",
      "{'activation': 'tanh', 'alpha': 0.001, 'hidden_layer_sizes': (93, 93, 93, 93), 'max_iter': 100, 'solver': 'adam'}\n",
      "\n",
      "Accuracy Score  on test data: 0.8601398601398601\n",
      "[[67 11  9]\n",
      " [ 8 84  4]\n",
      " [ 7  1 95]]\n",
      "              precision    recall  f1-score   support\n",
      "\n",
      "     Average       0.82      0.77      0.79        87\n",
      "         Bad       0.88      0.88      0.88        96\n",
      "        Good       0.88      0.92      0.90       103\n",
      "\n",
      "    accuracy                           0.86       286\n",
      "   macro avg       0.86      0.86      0.86       286\n",
      "weighted avg       0.86      0.86      0.86       286\n",
      "\n"
     ]
    }
   ],
   "source": [
    "#Tuning with Grid Seaerch CV\n",
    "model = MLPClassifier(random_state=0)\n",
    "\n",
    "parameters = {\n",
    "    'hidden_layer_sizes': [(87,87,87,87), (90,90,90,90), (93,93,93,93)],\n",
    "    'activation': ['relu','tanh'], \n",
    "    'solver': ['adam','sgd'], \n",
    "    'alpha': [0.001,0.01,0.1],\n",
    "    'max_iter': [100,200]\n",
    "}\n",
    "\n",
    "grid_search = GridSearchCV(estimator = model,\n",
    "                           param_grid = parameters,\n",
    "                           scoring = 'accuracy',\n",
    "                           cv = 10, n_jobs = -1)\n",
    "\n",
    "grid_search = grid_search.fit(X_train_S, y_train_S)\n",
    "\n",
    "print('Best Results with Grid Search:')\n",
    "print(grid_search.best_score_)\n",
    "print(grid_search.best_params_)\n",
    "\n",
    "y_pred_S = grid_search.predict(X_test_S)\n",
    "\n",
    "print('\\nAccuracy Score  on test data: ' + str(accuracy_score(y_test_S, y_pred_S)))\n",
    "print(confusion_matrix(y_test_S,y_pred_S))\n",
    "print(classification_report(y_test_S,y_pred_S))"
   ]
  },
  {
   "cell_type": "code",
   "execution_count": 58,
   "metadata": {},
   "outputs": [],
   "source": [
    "from scipy import interp\n",
    "\n",
    "# Learn to predict each class against the other\n",
    "\n",
    "n_classes = 3  #number of class\n",
    "\n",
    "model = MLPClassifier(random_state=0, activation = 'tanh', alpha = 0.001, hidden_layer_sizes = (93, 93, 93, 93), max_iter = 100, solver = 'adam')\n",
    "\n",
    "model.fit(X_train_S, y_train_S_L2)\n",
    "\n",
    "y_score_L_S = model.predict_proba(X_test_S)\n",
    "\n",
    "# Compute ROC curve and ROC area for each class\n",
    "fpr = dict()\n",
    "tpr = dict()\n",
    "roc_auc = dict()\n",
    "for i in range(n_classes):\n",
    "    fpr[i], tpr[i], _ = roc_curve(y_test_S_L2[:, i], y_score_L_S[:, i])\n",
    "    roc_auc[i] = auc(fpr[i], tpr[i])\n",
    "\n",
    "# Compute micro-average ROC curve and ROC area\n",
    "fpr[\"micro\"], tpr[\"micro\"], _ = roc_curve(y_test_S_L2.ravel(), y_score_L_S.ravel())\n",
    "roc_auc[\"micro\"] = auc(fpr[\"micro\"], tpr[\"micro\"])"
   ]
  },
  {
   "cell_type": "code",
   "execution_count": 60,
   "metadata": {},
   "outputs": [
    {
     "data": {
      "image/png": "[encoded data removed]",
      "text/plain": [
       "<Figure size 432x288 with 1 Axes>"
      ]
     },
     "metadata": {
      "needs_background": "light"
     },
     "output_type": "display_data"
    }
   ],
   "source": [
    "# Process of plotting roc-auc curve belonging to all classes.\n",
    "\n",
    "n_class_labels = ['Average', 'Bad', 'Good']\n",
    "lw = 2 # line_width\n",
    "\n",
    "from itertools import cycle\n",
    "\n",
    "# First aggregate all false positive rates\n",
    "all_fpr = np.unique(np.concatenate([fpr[i] for i in range(n_classes)]))\n",
    "\n",
    "# Then interpolate all ROC curves at this points\n",
    "mean_tpr = np.zeros_like(all_fpr)\n",
    "for i in range(n_classes):\n",
    "    mean_tpr += interp(all_fpr, fpr[i], tpr[i])\n",
    "\n",
    "# Finally average it and compute AUC\n",
    "mean_tpr /= n_classes\n",
    "\n",
    "fpr[\"macro\"] = all_fpr\n",
    "tpr[\"macro\"] = mean_tpr\n",
    "roc_auc[\"macro\"] = auc(fpr[\"macro\"], tpr[\"macro\"])\n",
    "\n",
    "# Plot all ROC curves\n",
    "plt.figure()\n",
    "plt.plot(fpr[\"micro\"], tpr[\"micro\"],\n",
    "         label='micro-average ROC curve (area = {0:0.2f})'\n",
    "               ''.format(roc_auc[\"micro\"]),\n",
    "         color='deeppink', linestyle=':', linewidth=4)\n",
    "\n",
    "plt.plot(fpr[\"macro\"], tpr[\"macro\"],\n",
    "         label='macro-average ROC curve (area = {0:0.2f})'\n",
    "               ''.format(roc_auc[\"macro\"]),\n",
    "         color='navy', linestyle=':', linewidth=4)\n",
    "\n",
    "colors = cycle(['aqua', 'darkorange', 'cornflowerblue'])\n",
    "for i, color in zip(range(n_classes), colors):\n",
    "    plt.plot(fpr[i], tpr[i], color=color, lw=lw,\n",
    "             label='ROC curve of class %s (area = {1:0.2f})'\n",
    "             ''.format(i, roc_auc[i]) %n_class_labels[i])\n",
    "\n",
    "plt.plot([0, 1], [0, 1], 'k--', lw=lw)\n",
    "plt.xlim([0.0, 1.0])\n",
    "plt.ylim([0.0, 1.05])\n",
    "plt.xlabel('False Positive Rate')\n",
    "plt.ylabel('True Positive Rate')\n",
    "plt.title('Extending the ROC Curve to Multi-Class')\n",
    "plt.legend(loc=\"lower right\")\n",
    "plt.savefig(\"GridSearchCV Screenshots/Exp3/AUC_MLP_Multi_S.png\")\n",
    "plt.show()"
   ]
  },
  {
   "cell_type": "code",
   "execution_count": 79,
   "metadata": {},
   "outputs": [
    {
     "name": "stdout",
     "output_type": "stream",
     "text": [
      "Test Accuracy with Grid Search CV:\n",
      ">Accuracy Score  without SMOTE: 0.725\n",
      ">Accuracy Score  with SMOTE: 0.860\n"
     ]
    }
   ],
   "source": [
    "print('Test Accuracy with Grid Search CV:')\n",
    "print('>Accuracy Score  without SMOTE: %.3f' % (accuracy_score(y_test, y_pred)))\n",
    "print('>Accuracy Score  with SMOTE: %.3f' % (accuracy_score(y_test_S, y_pred_S)))"
   ]
  },
  {
   "cell_type": "markdown",
   "metadata": {},
   "source": [
    "### best_score_ \n",
    "is the average accuracy of all grid search scores (training), on the other hand 'Accuracy' of each outer cross validation is the predicted results on the base of best_estimator_ (testing)."
   ]
  },
  {
   "cell_type": "markdown",
   "metadata": {},
   "source": [
    "# LSTM"
   ]
  },
  {
   "cell_type": "markdown",
   "metadata": {},
   "source": [
    "#### Without SMOTE "
   ]
  },
  {
   "cell_type": "code",
   "execution_count": 63,
   "metadata": {},
   "outputs": [
    {
     "name": "stdout",
     "output_type": "stream",
     "text": [
      "Best Results with Grid Search:\n",
      "0.7589037698412698\n",
      "{'batch_size': 5, 'epochs': 100, 'unit': 80}\n"
     ]
    }
   ],
   "source": [
    "#Perceptron Tuning\n",
    "\n",
    "def create_model(unit):\n",
    "    model = Sequential()\n",
    "    model.add(LSTM(units=unit, input_shape=(1, x1.shape[1]), activation='relu'))\n",
    "    model.add(Dropout(0.2))\n",
    "    model.add(Dense(3, activation='softmax'))\n",
    "    model.compile(loss='categorical_crossentropy', optimizer='adam', metrics=['accuracy'])\n",
    "    return model\n",
    "\n",
    "model = KerasClassifier(build_fn=create_model, verbose=0)\n",
    "\n",
    "parameters = {\n",
    "    'unit': [5,10,15,20,25,30,35,40,45,50,55,60,65,70,75,80,85,90,95,100],\n",
    "    #'activation': ['relu','tanh'], \n",
    "    #'solver': ['adam','sgd'], \n",
    "    #'last_act': ['sigmoid','softmax'],\n",
    "    'epochs': [70,100],\n",
    "    'batch_size': [5,10] \n",
    "}\n",
    "\n",
    "grid_search = GridSearchCV(estimator = model,\n",
    "                           param_grid = parameters,\n",
    "                           scoring = 'accuracy',\n",
    "                           cv = 10, n_jobs=-1)\n",
    "\n",
    "grid_search = grid_search.fit(X_train_L, y_train_L)\n",
    "\n",
    "print('Best Results with Grid Search:')\n",
    "print(grid_search.best_score_)\n",
    "print(grid_search.best_params_)\n",
    "\n",
    "means = grid_search.cv_results_['mean_test_score']\n",
    "stds = grid_search.cv_results_['std_test_score']"
   ]
  },
  {
   "cell_type": "code",
   "execution_count": 64,
   "metadata": {},
   "outputs": [
    {
     "data": {
      "image/png": "[encoded data removed]",
      "text/plain": [
       "<Figure size 432x288 with 1 Axes>"
      ]
     },
     "metadata": {
      "needs_background": "light"
     },
     "output_type": "display_data"
    }
   ],
   "source": [
    "#Results with 80 accuracies (20*2*2)\n",
    "plt.plot(means,'.-')\n",
    "plt.ylabel('Accuracy')\n",
    "plt.xlabel('Number of Perceptrons')\n",
    "plt.grid()\n",
    "\n",
    "plt.show()"
   ]
  },
  {
   "cell_type": "code",
   "execution_count": 30,
   "metadata": {},
   "outputs": [
    {
     "name": "stdout",
     "output_type": "stream",
     "text": [
      "Best Results with Grid Search:\n",
      "0.7760912698412699\n",
      "{'unit': 45}\n"
     ]
    }
   ],
   "source": [
    "#Perceptron Tuning\n",
    "\n",
    "def create_model(unit):\n",
    "    model = Sequential()\n",
    "    model.add(LSTM(units=unit, input_shape=(1, x1.shape[1]), activation='relu'))\n",
    "    model.add(Dropout(0.2))\n",
    "    model.add(Dense(3, activation='softmax'))\n",
    "    model.compile(loss='categorical_crossentropy', optimizer='adam', metrics=['accuracy'])\n",
    "    return model\n",
    "\n",
    "model = KerasClassifier(build_fn=create_model, verbose=0, epochs = 100, batch_size = 5)\n",
    "\n",
    "parameters = {\n",
    "    'unit': [5,10,15,20,25,30,35,40,45,50,55,60,65,70,75,80,85,90,95,100],\n",
    "    #'activation': ['relu','tanh'], \n",
    "    #'solver': ['adam','sgd'], \n",
    "    #'last_act': ['sigmoid','softmax'],\n",
    "    #'epochs': [70,100],\n",
    "    #'batch_size': [5,10] \n",
    "}\n",
    "\n",
    "grid_search = GridSearchCV(estimator = model,\n",
    "                           param_grid = parameters,\n",
    "                           scoring = 'accuracy',\n",
    "                           cv = 10, n_jobs=-1)\n",
    "\n",
    "grid_search = grid_search.fit(X_train_L, y_train_L)\n",
    "\n",
    "print('Best Results with Grid Search:')\n",
    "print(grid_search.best_score_)\n",
    "print(grid_search.best_params_)\n",
    "\n",
    "means = grid_search.cv_results_['mean_test_score']\n",
    "stds = grid_search.cv_results_['std_test_score']"
   ]
  },
  {
   "cell_type": "code",
   "execution_count": 31,
   "metadata": {},
   "outputs": [],
   "source": [
    "xaxis_perceptrons = [5,10,15,20,25,30,35,40,45,50,55,60,65,70,75,80,85,90,95,100]"
   ]
  },
  {
   "cell_type": "code",
   "execution_count": 32,
   "metadata": {},
   "outputs": [
    {
     "data": {
      "image/png": "[encoded data removed]",
      "text/plain": [
       "<Figure size 432x288 with 1 Axes>"
      ]
     },
     "metadata": {
      "needs_background": "light"
     },
     "output_type": "display_data"
    }
   ],
   "source": [
    "plt.plot(xaxis_perceptrons,means,'.-')\n",
    "plt.ylabel('Accuracy')\n",
    "plt.xlabel('Number of Perceptrons')\n",
    "plt.grid()\n",
    "\n",
    "plt.savefig(\"GridSearchCV Screenshots/Exp3/No.OfPerceptron_LSTM.png\")\n",
    "plt.show()"
   ]
  },
  {
   "cell_type": "code",
   "execution_count": 33,
   "metadata": {},
   "outputs": [
    {
     "name": "stdout",
     "output_type": "stream",
     "text": [
      "Best Results with Grid Search:\n",
      "0.7730406746031746\n",
      "{'No_Of_layers': 2}\n"
     ]
    }
   ],
   "source": [
    "#Layers Tuning for LSTM Layer\n",
    "\n",
    "def create_model(No_Of_layers):\n",
    "    model = Sequential()\n",
    "    \n",
    "    if No_Of_layers == 1:\n",
    "        model.add(LSTM(units=45, input_shape=(1, x1.shape[1]), activation='relu'))\n",
    "        model.add(Dropout(0.2))\n",
    "    elif No_Of_layers == 2:\n",
    "        model.add(LSTM(units=45, input_shape=(1, x1.shape[1]), return_sequences = True, activation='relu'))\n",
    "        model.add(Dropout(0.2))\n",
    "        model.add(LSTM(units=45, activation='relu'))\n",
    "        model.add(Dropout(0.2))\n",
    "    elif No_Of_layers == 3:\n",
    "        model.add(LSTM(units=45, input_shape=(1, x1.shape[1]), return_sequences = True, activation='relu'))\n",
    "        model.add(Dropout(0.2))\n",
    "        model.add(LSTM(units=45,  return_sequences = True, activation='relu'))\n",
    "        model.add(Dropout(0.2))\n",
    "        model.add(LSTM(units=45, activation='relu'))\n",
    "        model.add(Dropout(0.2))\n",
    "    elif No_Of_layers == 4:\n",
    "        model.add(LSTM(units=45, input_shape=(1, x1.shape[1]), return_sequences = True, activation='relu'))\n",
    "        model.add(Dropout(0.2))\n",
    "        model.add(LSTM(units=45,  return_sequences = True, activation='relu'))\n",
    "        model.add(Dropout(0.2))\n",
    "        model.add(LSTM(units=45,  return_sequences = True, activation='relu'))\n",
    "        model.add(Dropout(0.2))\n",
    "        model.add(LSTM(units=45, activation='relu'))\n",
    "        model.add(Dropout(0.2))\n",
    "    elif No_Of_layers == 5:\n",
    "        model.add(LSTM(units=45, input_shape=(1, x1.shape[1]), return_sequences = True, activation='relu'))\n",
    "        model.add(Dropout(0.2))\n",
    "        model.add(LSTM(units=45,  return_sequences = True, activation='relu'))\n",
    "        model.add(Dropout(0.2))\n",
    "        model.add(LSTM(units=45,  return_sequences = True, activation='relu'))\n",
    "        model.add(Dropout(0.2))\n",
    "        model.add(LSTM(units=45,  return_sequences = True, activation='relu'))\n",
    "        model.add(Dropout(0.2))\n",
    "        model.add(LSTM(units=45, activation='relu'))\n",
    "        model.add(Dropout(0.2))    \n",
    "    \n",
    "    # Add an output layer \n",
    "    model.add(Dense(3, activation='softmax'))\n",
    "    #compile model\n",
    "    model.compile(loss='categorical_crossentropy', optimizer='adam', metrics=['accuracy'])\n",
    "    return model\n",
    "\n",
    "model = KerasClassifier(build_fn=create_model, verbose=0, epochs = 100, batch_size = 5)\n",
    "\n",
    "parameters = {\n",
    "    #'unit': [45],\n",
    "    'No_Of_layers': [1,2,3,4,5]\n",
    "}\n",
    "\n",
    "grid_search = GridSearchCV(estimator = model,\n",
    "                           param_grid = parameters,\n",
    "                           scoring = 'accuracy',\n",
    "                           cv = 10, n_jobs=-1)\n",
    "\n",
    "grid_search = grid_search.fit(X_train_L, y_train_L)\n",
    "\n",
    "print('Best Results with Grid Search:')\n",
    "print(grid_search.best_score_)\n",
    "print(grid_search.best_params_)\n",
    "\n",
    "means = grid_search.cv_results_['mean_test_score']\n",
    "stds = grid_search.cv_results_['std_test_score']"
   ]
  },
  {
   "cell_type": "code",
   "execution_count": 34,
   "metadata": {},
   "outputs": [],
   "source": [
    "xaxis_LSTM_layers = [1,2,3,4,5]"
   ]
  },
  {
   "cell_type": "code",
   "execution_count": 35,
   "metadata": {},
   "outputs": [
    {
     "data": {
      "image/png": "[encoded data removed]",
      "text/plain": [
       "<Figure size 432x288 with 1 Axes>"
      ]
     },
     "metadata": {
      "needs_background": "light"
     },
     "output_type": "display_data"
    }
   ],
   "source": [
    "plt.plot(xaxis_LSTM_layers,means,'.-')\n",
    "plt.ylabel('Accuracy')\n",
    "plt.xlabel('Number of LSTM Layers')\n",
    "plt.grid()\n",
    "\n",
    "plt.savefig(\"GridSearchCV Screenshots/Exp3/No.OfLayers_LSTM.png\")\n",
    "plt.show()"
   ]
  },
  {
   "cell_type": "code",
   "execution_count": 36,
   "metadata": {},
   "outputs": [
    {
     "name": "stdout",
     "output_type": "stream",
     "text": [
      "Best Results with Grid Search:\n",
      "0.7635912698412699\n",
      "{'No_Of_layers': 0}\n"
     ]
    }
   ],
   "source": [
    "#Layers Tuning for Dense Layer\n",
    "\n",
    "def create_model(No_Of_layers):\n",
    "    model = Sequential()\n",
    "    # Add an input layer\n",
    "    model.add(LSTM(units=45, input_shape=(1, x1.shape[1]), activation='relu'))\n",
    "    model.add(Dropout(0.2))\n",
    "\n",
    "    for i in range(No_Of_layers):\n",
    "        model.add(Dense(units=45, activation='relu'))\n",
    "        model.add(Dropout(0.2))\n",
    "\n",
    "    # Add an output layer \n",
    "    model.add(Dense(3, activation='softmax'))\n",
    "    #compile model\n",
    "    model.compile(loss='categorical_crossentropy', optimizer='adam', metrics=['accuracy'])\n",
    "    return model\n",
    "\n",
    "model = KerasClassifier(build_fn=create_model, verbose=0, epochs = 100, batch_size = 5)\n",
    "\n",
    "parameters = {\n",
    "    #'unit': [45],\n",
    "    'No_Of_layers': [0,1,2,3,4,5]\n",
    "}\n",
    "\n",
    "grid_search = GridSearchCV(estimator = model,\n",
    "                           param_grid = parameters,\n",
    "                           scoring = 'accuracy',\n",
    "                           cv = 10, n_jobs=-1)\n",
    "\n",
    "grid_search = grid_search.fit(X_train_L, y_train_L)\n",
    "\n",
    "print('Best Results with Grid Search:')\n",
    "print(grid_search.best_score_)\n",
    "print(grid_search.best_params_)\n",
    "\n",
    "means = grid_search.cv_results_['mean_test_score']\n",
    "stds = grid_search.cv_results_['std_test_score']"
   ]
  },
  {
   "cell_type": "code",
   "execution_count": 37,
   "metadata": {},
   "outputs": [],
   "source": [
    "xaxis_layers = [0,1,2,3,4,5]"
   ]
  },
  {
   "cell_type": "code",
   "execution_count": 38,
   "metadata": {},
   "outputs": [
    {
     "data": {
      "image/png": "[encoded data removed]",
      "text/plain": [
       "<Figure size 432x288 with 1 Axes>"
      ]
     },
     "metadata": {
      "needs_background": "light"
     },
     "output_type": "display_data"
    }
   ],
   "source": [
    "plt.plot(xaxis_layers,means,'.-')\n",
    "plt.ylabel('Accuracy')\n",
    "plt.xlabel('Number of Dense Layers')\n",
    "plt.grid()\n",
    "\n",
    "plt.savefig(\"GridSearchCV Screenshots/Exp3/No.OfLayers_Dense.png\")\n",
    "plt.show()"
   ]
  },
  {
   "cell_type": "code",
   "execution_count": null,
   "metadata": {},
   "outputs": [],
   "source": [
    "#Perceptron Tuning for Dense Layer (no need to train dense bcz no dense layer)\n",
    "\n",
    "def create_model(unit):\n",
    "    model = Sequential()\n",
    "    model.add(LSTM(units=45, input_shape=(1, x1.shape[1]), activation='relu'))\n",
    "    model.add(Dropout(0.2))\n",
    "    model.add(Dense(units=unit, activation='relu'))\n",
    "    model.add(Dropout(0.2))\n",
    "    model.add(Dense(3, activation='softmax'))\n",
    "    model.compile(loss='categorical_crossentropy', optimizer='adam', metrics=['accuracy'])\n",
    "    return model\n",
    "\n",
    "model = KerasClassifier(build_fn=create_model, verbose=0, epochs = 100, batch_size = 5)\n",
    "\n",
    "parameters = {\n",
    "    'unit': [5,10,15,20,25,30,35,40,45,50,55,60,65,70,75,80,85,90,95,100],\n",
    "    #'activation': ['relu','tanh'], \n",
    "    #'solver': ['adam','sgd'], \n",
    "    #'last_act': ['sigmoid','softmax'],\n",
    "    #'epochs': [70,100],\n",
    "    #'batch_size': [5,10] \n",
    "}\n",
    "\n",
    "grid_search = GridSearchCV(estimator = model,\n",
    "                           param_grid = parameters,\n",
    "                           scoring = 'accuracy',\n",
    "                           cv = 10, n_jobs=-1)\n",
    "\n",
    "grid_search = grid_search.fit(X_train_L, y_train_L)\n",
    "\n",
    "print('Best Results with Grid Search:')\n",
    "print(grid_search.best_score_)\n",
    "print(grid_search.best_params_)\n",
    "\n",
    "means = grid_search.cv_results_['mean_test_score']\n",
    "stds = grid_search.cv_results_['std_test_score']"
   ]
  },
  {
   "cell_type": "code",
   "execution_count": null,
   "metadata": {},
   "outputs": [],
   "source": [
    "plt.plot(xaxis_perceptrons,means,'.-')\n",
    "plt.ylabel('Accuracy')\n",
    "plt.xlabel('Number of Perceptrons in Dense layer')\n",
    "plt.grid()\n",
    "\n",
    "plt.savefig(\"GridSearchCV Screenshots/Exp3/No.OfPerceptron_Dense.png\")\n",
    "plt.show()"
   ]
  },
  {
   "cell_type": "code",
   "execution_count": 39,
   "metadata": {},
   "outputs": [
    {
     "name": "stdout",
     "output_type": "stream",
     "text": [
      "Best Results with Grid Search:\n",
      "0.7714037698412699\n",
      "{'epochs': 110}\n"
     ]
    }
   ],
   "source": [
    "#Epochs Tuning\n",
    "\n",
    "def create_model():\n",
    "    model = Sequential()\n",
    "    model.add(LSTM(units=45, input_shape=(1, x1.shape[1]), activation='relu'))\n",
    "    model.add(Dropout(0.2))\n",
    "    model.add(Dense(3, activation='softmax'))\n",
    "    #compile model\n",
    "    model.compile(loss='categorical_crossentropy', optimizer='adam', metrics=['accuracy'])\n",
    "    return model\n",
    "\n",
    "model = KerasClassifier(build_fn=create_model, verbose=0, batch_size = 5)\n",
    "\n",
    "parameters = {\n",
    "    #'unit': [45],\n",
    "    'epochs': [30,40,50,60,70,80,90,100,110,120]\n",
    "}\n",
    "\n",
    "grid_search = GridSearchCV(estimator = model,\n",
    "                           param_grid = parameters,\n",
    "                           scoring = 'accuracy',\n",
    "                           cv = 10, n_jobs=-1)\n",
    "\n",
    "grid_search = grid_search.fit(X_train_L, y_train_L)\n",
    "\n",
    "print('Best Results with Grid Search:')\n",
    "print(grid_search.best_score_)\n",
    "print(grid_search.best_params_)\n",
    "\n",
    "means = grid_search.cv_results_['mean_test_score']\n",
    "stds = grid_search.cv_results_['std_test_score']"
   ]
  },
  {
   "cell_type": "code",
   "execution_count": 40,
   "metadata": {},
   "outputs": [],
   "source": [
    "xaxis_epochs = [30,40,50,60,70,80,90,100,110,120]"
   ]
  },
  {
   "cell_type": "code",
   "execution_count": 41,
   "metadata": {},
   "outputs": [
    {
     "data": {
      "image/png": "[encoded data removed]",
      "text/plain": [
       "<Figure size 432x288 with 1 Axes>"
      ]
     },
     "metadata": {
      "needs_background": "light"
     },
     "output_type": "display_data"
    }
   ],
   "source": [
    "plt.plot(xaxis_epochs,means,'.-')\n",
    "plt.ylabel('Accuracy')\n",
    "plt.xlabel('Number of Epochs')\n",
    "plt.grid()\n",
    "\n",
    "plt.savefig(\"GridSearchCV Screenshots/Exp3/No.OfEpochs_LSTM.png\")\n",
    "plt.show()"
   ]
  },
  {
   "cell_type": "code",
   "execution_count": 42,
   "metadata": {},
   "outputs": [
    {
     "name": "stdout",
     "output_type": "stream",
     "text": [
      "Best Results with Grid Search:\n",
      "0.7635912698412699\n",
      "{'batch_size': 10}\n"
     ]
    }
   ],
   "source": [
    "#Batch Size Tuning\n",
    "\n",
    "def create_model():\n",
    "    model = Sequential()\n",
    "    model.add(LSTM(units=45, input_shape=(1, x1.shape[1]), activation='relu'))\n",
    "    model.add(Dropout(0.2))\n",
    "    model.add(Dense(3, activation='softmax'))\n",
    "    #compile model\n",
    "    model.compile(loss='categorical_crossentropy', optimizer='adam', metrics=['accuracy'])\n",
    "    return model\n",
    "\n",
    "model = KerasClassifier(build_fn=create_model, verbose=0, epochs = 110)\n",
    "\n",
    "parameters = {\n",
    "    #'unit': [45],\n",
    "    'batch_size': [0,2,5,7,10,12,15,17,20]\n",
    "}\n",
    "\n",
    "grid_search = GridSearchCV(estimator = model,\n",
    "                           param_grid = parameters,\n",
    "                           scoring = 'accuracy',\n",
    "                           cv = 10, n_jobs=-1)\n",
    "\n",
    "grid_search = grid_search.fit(X_train_L, y_train_L)\n",
    "\n",
    "print('Best Results with Grid Search:')\n",
    "print(grid_search.best_score_)\n",
    "print(grid_search.best_params_)\n",
    "\n",
    "means = grid_search.cv_results_['mean_test_score']\n",
    "stds = grid_search.cv_results_['std_test_score']"
   ]
  },
  {
   "cell_type": "code",
   "execution_count": 43,
   "metadata": {},
   "outputs": [],
   "source": [
    "xaxis_batch = [0,2,5,7,10,12,15,17,20]"
   ]
  },
  {
   "cell_type": "code",
   "execution_count": 44,
   "metadata": {},
   "outputs": [
    {
     "data": {
      "image/png": "[encoded data removed]",
      "text/plain": [
       "<Figure size 432x288 with 1 Axes>"
      ]
     },
     "metadata": {
      "needs_background": "light"
     },
     "output_type": "display_data"
    }
   ],
   "source": [
    "plt.plot(xaxis_batch,means,'.-')\n",
    "plt.ylabel('Accuracy')\n",
    "plt.xlabel('Number of Batch SIze')\n",
    "plt.grid()\n",
    "\n",
    "plt.savefig(\"GridSearchCV Screenshots/Exp3/No.OfBatch_LSTM.png\")\n",
    "plt.show()"
   ]
  },
  {
   "cell_type": "code",
   "execution_count": 45,
   "metadata": {
    "scrolled": true
   },
   "outputs": [
    {
     "name": "stdout",
     "output_type": "stream",
     "text": [
      "Best Results with Grid Search:\n",
      "0.7714037698412699\n",
      "{'batch_size': 7, 'dropout': 0.2, 'epochs': 110, 'solver': 'Nadam', 'unit': 30}\n",
      "\n",
      "Accuracy Score  on test data: 0.75\n",
      "[[81  6 14]\n",
      " [11 10  0]\n",
      " [ 8  1 29]]\n",
      "              precision    recall  f1-score   support\n",
      "\n",
      "     Average       0.81      0.80      0.81       101\n",
      "         Bad       0.59      0.48      0.53        21\n",
      "        Good       0.67      0.76      0.72        38\n",
      "\n",
      "    accuracy                           0.75       160\n",
      "   macro avg       0.69      0.68      0.68       160\n",
      "weighted avg       0.75      0.75      0.75       160\n",
      "\n"
     ]
    }
   ],
   "source": [
    "#Tuning with Grid Seaerch CV\n",
    "\n",
    "def create_model(unit, solver, dropout):\n",
    "    model = Sequential()\n",
    "    model.add(LSTM(units=unit, input_shape=(1, x1.shape[1]), activation='relu'))\n",
    "    model.add(Dropout(dropout))\n",
    "    model.add(Dense(3, activation='softmax'))\n",
    "    model.compile(loss='categorical_crossentropy', optimizer=solver, metrics=['accuracy'])\n",
    "    return model\n",
    "\n",
    "model = KerasClassifier(build_fn=create_model, verbose=0)\n",
    "\n",
    "parameters = {\n",
    "    'unit': [30,45],\n",
    "    'dropout': [0.1,0.2],\n",
    "    #'activation': ['relu','tanh'], \n",
    "    #'solver': ['adam','sgd'], \n",
    "    'solver': ['adam','Adamax','Nadam'],\n",
    "    'epochs': [110,120],\n",
    "    'batch_size': [7,10]\n",
    "}\n",
    "\n",
    "grid_search = GridSearchCV(estimator = model,\n",
    "                           param_grid = parameters,\n",
    "                           scoring = 'accuracy',\n",
    "                           cv = 10, n_jobs=-1)\n",
    "\n",
    "grid_search = grid_search.fit(X_train_L, y_train_L)\n",
    "\n",
    "print('Best Results with Grid Search:')\n",
    "print(grid_search.best_score_)\n",
    "print(grid_search.best_params_)\n",
    "\n",
    "y_pred = grid_search.predict(X_test_L)\n",
    "\n",
    "print('\\nAccuracy Score  on test data: ' + str(accuracy_score(y_test_L, y_pred)))\n",
    "print(confusion_matrix(y_test_L,y_pred))\n",
    "print(classification_report(y_test_L,y_pred))"
   ]
  },
  {
   "cell_type": "markdown",
   "metadata": {},
   "source": [
    "#### With SMOTE"
   ]
  },
  {
   "cell_type": "code",
   "execution_count": 78,
   "metadata": {},
   "outputs": [
    {
     "name": "stdout",
     "output_type": "stream",
     "text": [
      "Best Results with Grid Search:\n",
      "0.8528756674294431\n",
      "{'batch_size': 10, 'epochs': 100, 'unit': 80}\n"
     ]
    }
   ],
   "source": [
    "#Perceptron Tuning\n",
    "\n",
    "def create_model(unit):\n",
    "    model = Sequential()\n",
    "    model.add(LSTM(units=unit, input_shape=(1, X_S.shape[1]), activation='relu'))\n",
    "    model.add(Dropout(0.2))\n",
    "    model.add(Dense(3, activation='softmax'))\n",
    "    model.compile(loss='categorical_crossentropy', optimizer='adam', metrics=['accuracy'])\n",
    "    return model\n",
    "\n",
    "model = KerasClassifier(build_fn=create_model, verbose=0)\n",
    "\n",
    "parameters = {\n",
    "    'unit': [5,10,15,20,25,30,35,40,45,50,55,60,65,70,75,80,85,90,95,100],\n",
    "    #'activation': ['relu','tanh'], \n",
    "    #'solver': ['adam','sgd'], \n",
    "    #'last_act': ['sigmoid','softmax'],\n",
    "    'epochs': [70,100],\n",
    "    'batch_size': [5,10] \n",
    "}\n",
    "\n",
    "grid_search = GridSearchCV(estimator = model,\n",
    "                           param_grid = parameters,\n",
    "                           scoring = 'accuracy',\n",
    "                           cv = 10, n_jobs=-1)\n",
    "\n",
    "grid_search = grid_search.fit(X_train_S_L, y_train_S_L)\n",
    "\n",
    "print('Best Results with Grid Search:')\n",
    "print(grid_search.best_score_)\n",
    "print(grid_search.best_params_)\n",
    "\n",
    "means = grid_search.cv_results_['mean_test_score']\n",
    "stds = grid_search.cv_results_['std_test_score']"
   ]
  },
  {
   "cell_type": "code",
   "execution_count": 93,
   "metadata": {},
   "outputs": [
    {
     "data": {
      "image/png": "[encoded data removed]",
      "text/plain": [
       "<Figure size 432x288 with 1 Axes>"
      ]
     },
     "metadata": {
      "needs_background": "light"
     },
     "output_type": "display_data"
    }
   ],
   "source": [
    "#Results with 80 accuracies (20*2*2)\n",
    "plt.plot(means,'.-')\n",
    "plt.ylabel('Accuracy')\n",
    "plt.xlabel('Number of Perceptrons')\n",
    "plt.grid()\n",
    "\n",
    "plt.show()"
   ]
  },
  {
   "cell_type": "code",
   "execution_count": 46,
   "metadata": {},
   "outputs": [
    {
     "name": "stdout",
     "output_type": "stream",
     "text": [
      "Best Results with Grid Search:\n",
      "0.8580778032036613\n",
      "{'unit': 100}\n"
     ]
    }
   ],
   "source": [
    "#Perceptron Tuning\n",
    "\n",
    "def create_model(unit):\n",
    "    model = Sequential()\n",
    "    model.add(LSTM(units=unit, input_shape=(1, X_S.shape[1]), activation='relu'))\n",
    "    model.add(Dropout(0.2))\n",
    "    model.add(Dense(3, activation='softmax'))\n",
    "    model.compile(loss='categorical_crossentropy', optimizer='adam', metrics=['accuracy'])\n",
    "    return model\n",
    "\n",
    "model = KerasClassifier(build_fn=create_model, verbose=0, epochs = 100, batch_size = 10)\n",
    "\n",
    "parameters = {\n",
    "    'unit': [5,10,15,20,25,30,35,40,45,50,55,60,65,70,75,80,85,90,95,100],\n",
    "    #'activation': ['relu','tanh'], \n",
    "    #'solver': ['adam','sgd'], \n",
    "    #'last_act': ['sigmoid','softmax'],\n",
    "    #'epochs': [70,100],\n",
    "    #'batch_size': [5,10] \n",
    "}\n",
    "\n",
    "grid_search = GridSearchCV(estimator = model,\n",
    "                           param_grid = parameters,\n",
    "                           scoring = 'accuracy',\n",
    "                           cv = 10, n_jobs=-1)\n",
    "\n",
    "grid_search = grid_search.fit(X_train_S_L, y_train_S_L)\n",
    "\n",
    "print('Best Results with Grid Search:')\n",
    "print(grid_search.best_score_)\n",
    "print(grid_search.best_params_)\n",
    "\n",
    "means = grid_search.cv_results_['mean_test_score']\n",
    "stds = grid_search.cv_results_['std_test_score']"
   ]
  },
  {
   "cell_type": "code",
   "execution_count": 47,
   "metadata": {},
   "outputs": [
    {
     "data": {
      "image/png": "[encoded data removed]",
      "text/plain": [
       "<Figure size 432x288 with 1 Axes>"
      ]
     },
     "metadata": {
      "needs_background": "light"
     },
     "output_type": "display_data"
    }
   ],
   "source": [
    "plt.plot(xaxis_perceptrons,means,'.-')\n",
    "plt.ylabel('Accuracy')\n",
    "plt.xlabel('Number of Perceptrons')\n",
    "plt.grid()\n",
    "\n",
    "plt.savefig(\"GridSearchCV Screenshots/Exp3/No.OfPerceptron_LSTM_S.png\")\n",
    "plt.show()"
   ]
  },
  {
   "cell_type": "code",
   "execution_count": 48,
   "metadata": {},
   "outputs": [
    {
     "name": "stdout",
     "output_type": "stream",
     "text": [
      "Best Results with Grid Search:\n",
      "0.8449580472921433\n",
      "{'No_Of_layers': 1}\n"
     ]
    }
   ],
   "source": [
    "#Layers Tuning for LSTM Layer\n",
    "\n",
    "def create_model(No_Of_layers):\n",
    "    model = Sequential()\n",
    "    \n",
    "    if No_Of_layers == 1:\n",
    "        model.add(LSTM(units=100, input_shape=(1, X_S.shape[1]), activation='relu'))\n",
    "        model.add(Dropout(0.2))\n",
    "    elif No_Of_layers == 2:\n",
    "        model.add(LSTM(units=100, input_shape=(1,X_S.shape[1]), return_sequences = True, activation='relu'))\n",
    "        model.add(Dropout(0.2))\n",
    "        model.add(LSTM(units=100, activation='relu'))\n",
    "        model.add(Dropout(0.2))\n",
    "    elif No_Of_layers == 3:\n",
    "        model.add(LSTM(units=100, input_shape=(1, X_S.shape[1]), return_sequences = True, activation='relu'))\n",
    "        model.add(Dropout(0.2))\n",
    "        model.add(LSTM(units=100,  return_sequences = True, activation='relu'))\n",
    "        model.add(Dropout(0.2))\n",
    "        model.add(LSTM(units=100, activation='relu'))\n",
    "        model.add(Dropout(0.2))\n",
    "    elif No_Of_layers == 4:\n",
    "        model.add(LSTM(units=100, input_shape=(1, X_S.shape[1]), return_sequences = True, activation='relu'))\n",
    "        model.add(Dropout(0.2))\n",
    "        model.add(LSTM(units=100,  return_sequences = True, activation='relu'))\n",
    "        model.add(Dropout(0.2))\n",
    "        model.add(LSTM(units=100,  return_sequences = True, activation='relu'))\n",
    "        model.add(Dropout(0.2))\n",
    "        model.add(LSTM(units=100, activation='relu'))\n",
    "        model.add(Dropout(0.2))\n",
    "    elif No_Of_layers == 5:\n",
    "        model.add(LSTM(units=100, input_shape=(1, X_S.shape[1]), return_sequences = True, activation='relu'))\n",
    "        model.add(Dropout(0.2))\n",
    "        model.add(LSTM(units=100,  return_sequences = True, activation='relu'))\n",
    "        model.add(Dropout(0.2))\n",
    "        model.add(LSTM(units=100,  return_sequences = True, activation='relu'))\n",
    "        model.add(Dropout(0.2))\n",
    "        model.add(LSTM(units=100,  return_sequences = True, activation='relu'))\n",
    "        model.add(Dropout(0.2))\n",
    "        model.add(LSTM(units=100, activation='relu'))\n",
    "        model.add(Dropout(0.2))    \n",
    "    \n",
    "    # Add an output layer \n",
    "    model.add(Dense(3, activation='softmax'))\n",
    "    #compile model\n",
    "    model.compile(loss='categorical_crossentropy', optimizer='adam', metrics=['accuracy'])\n",
    "    return model\n",
    "\n",
    "model = KerasClassifier(build_fn=create_model, verbose=0, epochs = 100, batch_size = 10)\n",
    "\n",
    "parameters = {\n",
    "    #'unit': [100],\n",
    "    'No_Of_layers': [1,2,3,4,5]\n",
    "}\n",
    "\n",
    "grid_search = GridSearchCV(estimator = model,\n",
    "                           param_grid = parameters,\n",
    "                           scoring = 'accuracy',\n",
    "                           cv = 10, n_jobs=-1)\n",
    "\n",
    "grid_search = grid_search.fit(X_train_S_L, y_train_S_L)\n",
    "\n",
    "print('Best Results with Grid Search:')\n",
    "print(grid_search.best_score_)\n",
    "print(grid_search.best_params_)\n",
    "\n",
    "means = grid_search.cv_results_['mean_test_score']\n",
    "stds = grid_search.cv_results_['std_test_score']"
   ]
  },
  {
   "cell_type": "code",
   "execution_count": 49,
   "metadata": {},
   "outputs": [
    {
     "data": {
      "image/png": "[encoded data removed]",
      "text/plain": [
       "<Figure size 432x288 with 1 Axes>"
      ]
     },
     "metadata": {
      "needs_background": "light"
     },
     "output_type": "display_data"
    }
   ],
   "source": [
    "plt.plot(xaxis_LSTM_layers,means,'.-')\n",
    "plt.ylabel('Accuracy')\n",
    "plt.xlabel('Number of LSTM Layers')\n",
    "plt.grid()\n",
    "\n",
    "plt.savefig(\"GridSearchCV Screenshots/Exp3/No.OfLayers_LSTM_S.png\")\n",
    "plt.show()"
   ]
  },
  {
   "cell_type": "code",
   "execution_count": 50,
   "metadata": {},
   "outputs": [
    {
     "name": "stdout",
     "output_type": "stream",
     "text": [
      "Best Results with Grid Search:\n",
      "0.8432723112128147\n",
      "{'No_Of_layers': 3}\n"
     ]
    }
   ],
   "source": [
    "#Layers Tuning for Dense Layer\n",
    "\n",
    "def create_model(No_Of_layers):\n",
    "    model = Sequential()\n",
    "    # Add an input layer\n",
    "    model.add(LSTM(units=100, input_shape=(1, X_S.shape[1]), activation='relu'))\n",
    "    model.add(Dropout(0.2))\n",
    "\n",
    "    for i in range(No_Of_layers):\n",
    "        model.add(Dense(units=100, activation='relu'))\n",
    "        model.add(Dropout(0.2))\n",
    "\n",
    "    # Add an output layer \n",
    "    model.add(Dense(3, activation='softmax'))\n",
    "    #compile model\n",
    "    model.compile(loss='categorical_crossentropy', optimizer='adam', metrics=['accuracy'])\n",
    "    return model\n",
    "\n",
    "model = KerasClassifier(build_fn=create_model, verbose=0, epochs = 100, batch_size = 10)\n",
    "\n",
    "parameters = {\n",
    "    #'unit': [100],\n",
    "    'No_Of_layers': [0,1,2,3,4,5]\n",
    "}\n",
    "\n",
    "grid_search = GridSearchCV(estimator = model,\n",
    "                           param_grid = parameters,\n",
    "                           scoring = 'accuracy',\n",
    "                           cv = 10, n_jobs=-1)\n",
    "\n",
    "grid_search = grid_search.fit(X_train_S_L, y_train_S_L)\n",
    "\n",
    "print('Best Results with Grid Search:')\n",
    "print(grid_search.best_score_)\n",
    "print(grid_search.best_params_)\n",
    "\n",
    "means = grid_search.cv_results_['mean_test_score']\n",
    "stds = grid_search.cv_results_['std_test_score']"
   ]
  },
  {
   "cell_type": "code",
   "execution_count": 51,
   "metadata": {},
   "outputs": [
    {
     "data": {
      "image/png": "[encoded data removed]",
      "text/plain": [
       "<Figure size 432x288 with 1 Axes>"
      ]
     },
     "metadata": {
      "needs_background": "light"
     },
     "output_type": "display_data"
    }
   ],
   "source": [
    "plt.plot(xaxis_layers,means,'.-')\n",
    "plt.ylabel('Accuracy')\n",
    "plt.xlabel('Number of Dense Layers')\n",
    "plt.grid()\n",
    "\n",
    "plt.savefig(\"GridSearchCV Screenshots/Exp3/No.OfLayers_Dense_S.png\")\n",
    "plt.show()"
   ]
  },
  {
   "cell_type": "code",
   "execution_count": 52,
   "metadata": {},
   "outputs": [
    {
     "name": "stdout",
     "output_type": "stream",
     "text": [
      "Best Results with Grid Search:\n",
      "0.8467353165522502\n",
      "{'unit': 65}\n"
     ]
    }
   ],
   "source": [
    "#Perceptron Tuning for Dense Layer\n",
    "\n",
    "def create_model(unit):\n",
    "    model = Sequential()\n",
    "    model.add(LSTM(units=100, input_shape=(1, X_S.shape[1]), activation='relu'))\n",
    "    model.add(Dropout(0.2))\n",
    "    model.add(Dense(units=unit, activation='relu'))\n",
    "    model.add(Dropout(0.2))\n",
    "    model.add(Dense(units=unit, activation='relu'))\n",
    "    model.add(Dropout(0.2))\n",
    "    model.add(Dense(units=unit, activation='relu'))\n",
    "    model.add(Dropout(0.2))\n",
    "    model.add(Dense(3, activation='softmax'))\n",
    "    model.compile(loss='categorical_crossentropy', optimizer='adam', metrics=['accuracy'])\n",
    "    return model\n",
    "\n",
    "model = KerasClassifier(build_fn=create_model, verbose=0, epochs = 100, batch_size = 10)\n",
    "\n",
    "parameters = {\n",
    "    'unit': [5,10,15,20,25,30,35,40,45,50,55,60,65,70,75,80,85,90,95,100],\n",
    "    #'activation': ['relu','tanh'], \n",
    "    #'solver': ['adam','sgd'], \n",
    "    #'last_act': ['sigmoid','softmax'],\n",
    "    #'epochs': [70,100],\n",
    "    #'batch_size': [5,10] \n",
    "}\n",
    "\n",
    "grid_search = GridSearchCV(estimator = model,\n",
    "                           param_grid = parameters,\n",
    "                           scoring = 'accuracy',\n",
    "                           cv = 10, n_jobs=-1)\n",
    "\n",
    "grid_search = grid_search.fit(X_train_S_L, y_train_S_L)\n",
    "\n",
    "print('Best Results with Grid Search:')\n",
    "print(grid_search.best_score_)\n",
    "print(grid_search.best_params_)\n",
    "\n",
    "means = grid_search.cv_results_['mean_test_score']\n",
    "stds = grid_search.cv_results_['std_test_score']"
   ]
  },
  {
   "cell_type": "code",
   "execution_count": 53,
   "metadata": {},
   "outputs": [
    {
     "data": {
      "image/png": "[encoded data removed]",
      "text/plain": [
       "<Figure size 432x288 with 1 Axes>"
      ]
     },
     "metadata": {
      "needs_background": "light"
     },
     "output_type": "display_data"
    }
   ],
   "source": [
    "plt.plot(xaxis_perceptrons,means,'.-')\n",
    "plt.ylabel('Accuracy')\n",
    "plt.xlabel('Number of Perceptrons in Dense layer')\n",
    "plt.grid()\n",
    "\n",
    "plt.savefig(\"GridSearchCV Screenshots/Exp3/No.OfPerceptron_Dense_S.png\")\n",
    "plt.show()"
   ]
  },
  {
   "cell_type": "code",
   "execution_count": 54,
   "metadata": {},
   "outputs": [
    {
     "name": "stdout",
     "output_type": "stream",
     "text": [
      "Best Results with Grid Search:\n",
      "0.8432341723874904\n",
      "{'epochs': 70}\n"
     ]
    }
   ],
   "source": [
    "#Epochs Tuning\n",
    "\n",
    "def create_model():\n",
    "    model = Sequential()\n",
    "    # Add an input layer\n",
    "    model.add(LSTM(units=100, input_shape=(1, X_S.shape[1]), activation='relu'))\n",
    "    model.add(Dropout(0.2))\n",
    "    model.add(Dense(units=65, activation='relu'))\n",
    "    model.add(Dropout(0.2))\n",
    "    model.add(Dense(units=65, activation='relu'))\n",
    "    model.add(Dropout(0.2))\n",
    "    model.add(Dense(units=65, activation='relu'))\n",
    "    model.add(Dropout(0.2))\n",
    "    model.add(Dense(3, activation='softmax'))\n",
    "    #compile model\n",
    "    model.compile(loss='categorical_crossentropy', optimizer='adam', metrics=['accuracy'])\n",
    "    return model\n",
    "\n",
    "model = KerasClassifier(build_fn=create_model, verbose=0, batch_size = 10)\n",
    "\n",
    "parameters = {\n",
    "    #'unit': [100],\n",
    "    'epochs': [30,40,50,60,70,80,90,100,110,120]\n",
    "}\n",
    "\n",
    "grid_search = GridSearchCV(estimator = model,\n",
    "                           param_grid = parameters,\n",
    "                           scoring = 'accuracy',\n",
    "                           cv = 10, n_jobs=-1)\n",
    "\n",
    "grid_search = grid_search.fit(X_train_S_L, y_train_S_L)\n",
    "\n",
    "print('Best Results with Grid Search:')\n",
    "print(grid_search.best_score_)\n",
    "print(grid_search.best_params_)\n",
    "\n",
    "means = grid_search.cv_results_['mean_test_score']\n",
    "stds = grid_search.cv_results_['std_test_score']"
   ]
  },
  {
   "cell_type": "code",
   "execution_count": 55,
   "metadata": {},
   "outputs": [
    {
     "data": {
      "image/png": "[encoded data removed]",
      "text/plain": [
       "<Figure size 432x288 with 1 Axes>"
      ]
     },
     "metadata": {
      "needs_background": "light"
     },
     "output_type": "display_data"
    }
   ],
   "source": [
    "plt.plot(xaxis_epochs,means,'.-')\n",
    "plt.ylabel('Accuracy')\n",
    "plt.xlabel('Number of Epochs')\n",
    "plt.grid()\n",
    "\n",
    "plt.savefig(\"GridSearchCV Screenshots/Exp3/No.OfEpochs_LSTM_S.png\")\n",
    "plt.show()"
   ]
  },
  {
   "cell_type": "code",
   "execution_count": 56,
   "metadata": {},
   "outputs": [
    {
     "name": "stdout",
     "output_type": "stream",
     "text": [
      "Best Results with Grid Search:\n",
      "0.8449885583524027\n",
      "{'batch_size': 5}\n"
     ]
    }
   ],
   "source": [
    "#Batch Size Tuning\n",
    "\n",
    "def create_model():\n",
    "    model = Sequential()\n",
    "    # Add an input layer\n",
    "    model.add(LSTM(units=100, input_shape=(1, X_S.shape[1]), activation='relu'))\n",
    "    model.add(Dropout(0.2))\n",
    "    model.add(Dense(units=65, activation='relu'))\n",
    "    model.add(Dropout(0.2))\n",
    "    model.add(Dense(units=65, activation='relu'))\n",
    "    model.add(Dropout(0.2))\n",
    "    model.add(Dense(units=65, activation='relu'))\n",
    "    model.add(Dropout(0.2))\n",
    "    model.add(Dense(3, activation='softmax'))\n",
    "    #compile model\n",
    "    model.compile(loss='categorical_crossentropy', optimizer='adam', metrics=['accuracy'])\n",
    "    return model\n",
    "\n",
    "model = KerasClassifier(build_fn=create_model, verbose=0, epochs = 70)\n",
    "\n",
    "parameters = {\n",
    "    #'unit': [100],\n",
    "    'batch_size': [0,2,5,7,10,12,15,17,20]\n",
    "}\n",
    "\n",
    "grid_search = GridSearchCV(estimator = model,\n",
    "                           param_grid = parameters,\n",
    "                           scoring = 'accuracy',\n",
    "                           cv = 10, n_jobs=-1)\n",
    "\n",
    "grid_search = grid_search.fit(X_train_S_L, y_train_S_L)\n",
    "\n",
    "print('Best Results with Grid Search:')\n",
    "print(grid_search.best_score_)\n",
    "print(grid_search.best_params_)\n",
    "\n",
    "means = grid_search.cv_results_['mean_test_score']\n",
    "stds = grid_search.cv_results_['std_test_score']"
   ]
  },
  {
   "cell_type": "code",
   "execution_count": 57,
   "metadata": {},
   "outputs": [
    {
     "data": {
      "image/png": "[encoded data removed]",
      "text/plain": [
       "<Figure size 432x288 with 1 Axes>"
      ]
     },
     "metadata": {
      "needs_background": "light"
     },
     "output_type": "display_data"
    }
   ],
   "source": [
    "plt.plot(xaxis_batch,means,'.-')\n",
    "plt.ylabel('Accuracy')\n",
    "plt.xlabel('Number of Batch SIze')\n",
    "plt.grid()\n",
    "\n",
    "plt.savefig(\"GridSearchCV Screenshots/Exp3/No.OfBatch_LSTM_S.png\")\n",
    "plt.show()"
   ]
  },
  {
   "cell_type": "code",
   "execution_count": 58,
   "metadata": {},
   "outputs": [
    {
     "name": "stdout",
     "output_type": "stream",
     "text": [
      "Best Results with Grid Search:\n",
      "0.8564073226544624\n",
      "{'batch_size': 5, 'dropout': 0.2, 'epochs': 100, 'solver': 'adam', 'unit': 100}\n",
      "\n",
      "Accuracy Score  on test data: 0.8741258741258742\n",
      "[[61 20  6]\n",
      " [ 3 91  2]\n",
      " [ 3  2 98]]\n",
      "              precision    recall  f1-score   support\n",
      "\n",
      "     Average       0.91      0.70      0.79        87\n",
      "         Bad       0.81      0.95      0.87        96\n",
      "        Good       0.92      0.95      0.94       103\n",
      "\n",
      "    accuracy                           0.87       286\n",
      "   macro avg       0.88      0.87      0.87       286\n",
      "weighted avg       0.88      0.87      0.87       286\n",
      "\n"
     ]
    }
   ],
   "source": [
    "#Tuning with Grid Seaerch CV\n",
    "\n",
    "def create_model(unit,dropout,solver):\n",
    "    model = Sequential()\n",
    "    model.add(LSTM(units=unit, input_shape=(1, X_S.shape[1]), activation='relu'))\n",
    "    model.add(Dropout(dropout))\n",
    "    model.add(Dense(units=65, activation='relu'))\n",
    "    model.add(Dropout(dropout))\n",
    "    model.add(Dense(units=65, activation='relu'))\n",
    "    model.add(Dropout(dropout))\n",
    "    model.add(Dense(units=65, activation='relu'))\n",
    "    model.add(Dropout(dropout))\n",
    "    model.add(Dense(3, activation='softmax'))\n",
    "    model.compile(loss='categorical_crossentropy', optimizer=solver, metrics=['accuracy'])\n",
    "    return model\n",
    "\n",
    "model = KerasClassifier(build_fn=create_model, verbose=0)\n",
    "\n",
    "parameters = {\n",
    "    'unit': [95,100],\n",
    "    'dropout': [0.1,0.2],\n",
    "    #'activation': ['relu','tanh'], \n",
    "    #'solver': ['adam','sgd'], \n",
    "    'solver': ['adam','Nadam'], \n",
    "    'epochs': [70,100],\n",
    "    'batch_size': [0,5]      \n",
    "}\n",
    "\n",
    "grid_search = GridSearchCV(estimator = model,\n",
    "                           param_grid = parameters,\n",
    "                           scoring = 'accuracy',\n",
    "                           cv = 10, n_jobs=-1)\n",
    "\n",
    "grid_search = grid_search.fit(X_train_S_L, y_train_S_L)\n",
    "\n",
    "print('Best Results with Grid Search:')\n",
    "print(grid_search.best_score_)\n",
    "print(grid_search.best_params_)\n",
    "\n",
    "y_pred_S = grid_search.predict(X_test_S_L)\n",
    "\n",
    "print('\\nAccuracy Score  on test data: ' + str(accuracy_score(y_test_S_L, y_pred_S)))\n",
    "print(confusion_matrix(y_test_S_L,y_pred_S))\n",
    "print(classification_report(y_test_S_L,y_pred_S))"
   ]
  },
  {
   "cell_type": "code",
   "execution_count": 59,
   "metadata": {},
   "outputs": [
    {
     "name": "stdout",
     "output_type": "stream",
     "text": [
      "Test Accuracy with Grid Search CV:\n",
      ">Accuracy Score  without SMOTE: 0.750\n",
      ">Accuracy Score  with SMOTE: 0.874\n"
     ]
    }
   ],
   "source": [
    "print('Test Accuracy with Grid Search CV:')\n",
    "print('>Accuracy Score  without SMOTE: %.3f' % (accuracy_score(y_test, y_pred)))\n",
    "print('>Accuracy Score  with SMOTE: %.3f' % (accuracy_score(y_test_S, y_pred_S)))"
   ]
  },
  {
   "cell_type": "markdown",
   "metadata": {},
   "source": [
    "# Visualization"
   ]
  },
  {
   "cell_type": "code",
   "execution_count": 6,
   "metadata": {},
   "outputs": [],
   "source": [
    "final_names = ['NB', 'DT', 'LSTM', 'MLP', 'RF', 'SVM']\n",
    "final_result = [0.581, 0.725 ,0.750, 0.725, 0.775, 0.781]\n",
    "final_result_S = [0.692, 0.832, 0.874, 0.860, 0.888, 0.885]"
   ]
  },
  {
   "cell_type": "code",
   "execution_count": 7,
   "metadata": {},
   "outputs": [
    {
     "data": {
      "application/vnd.plotly.v1+json": {
       "config": {
        "plotlyServerURL": "https://plot.ly"
       },
       "data": [
        {
         "name": "Without SMOTE",
         "r": [
          0.581,
          0.725,
          0.75,
          0.725,
          0.775,
          0.781
         ],
         "theta": [
          "NB",
          "DT",
          "LSTM",
          "MLP",
          "RF",
          "SVM"
         ],
         "type": "scatterpolar"
        },
        {
         "name": "With SMOTE",
         "r": [
          0.692,
          0.832,
          0.874,
          0.86,
          0.888,
          0.885
         ],
         "theta": [
          "NB",
          "DT",
          "LSTM",
          "MLP",
          "RF",
          "SVM"
         ],
         "type": "scatterpolar"
        }
       ],
       "layout": {
        "polar": {
         "radialaxis": {
          "range": [
           0,
           1
          ],
          "visible": true
         }
        },
        "showlegend": true,
        "template": {
         "data": {
          "bar": [
           {
            "error_x": {
             "color": "#2a3f5f"
            },
            "error_y": {
             "color": "#2a3f5f"
            },
            "marker": {
             "line": {
              "color": "#E5ECF6",
              "width": 0.5
             }
            },
            "type": "bar"
           }
          ],
          "barpolar": [
           {
            "marker": {
             "line": {
              "color": "#E5ECF6",
              "width": 0.5
             }
            },
            "type": "barpolar"
           }
          ],
          "carpet": [
           {
            "aaxis": {
             "endlinecolor": "#2a3f5f",
             "gridcolor": "white",
             "linecolor": "white",
             "minorgridcolor": "white",
             "startlinecolor": "#2a3f5f"
            },
            "baxis": {
             "endlinecolor": "#2a3f5f",
             "gridcolor": "white",
             "linecolor": "white",
             "minorgridcolor": "white",
             "startlinecolor": "#2a3f5f"
            },
            "type": "carpet"
           }
          ],
          "choropleth": [
           {
            "colorbar": {
             "outlinewidth": 0,
             "ticks": ""
            },
            "type": "choropleth"
           }
          ],
          "contour": [
           {
            "colorbar": {
             "outlinewidth": 0,
             "ticks": ""
            },
            "colorscale": [
             [
              0,
              "#0d0887"
             ],
             [
              0.1111111111111111,
              "#46039f"
             ],
             [
              0.2222222222222222,
              "#7201a8"
             ],
             [
              0.3333333333333333,
              "#9c179e"
             ],
             [
              0.4444444444444444,
              "#bd3786"
             ],
             [
              0.5555555555555556,
              "#d8576b"
             ],
             [
              0.6666666666666666,
              "#ed7953"
             ],
             [
              0.7777777777777778,
              "#fb9f3a"
             ],
             [
              0.8888888888888888,
              "#fdca26"
             ],
             [
              1,
              "#f0f921"
             ]
            ],
            "type": "contour"
           }
          ],
          "contourcarpet": [
           {
            "colorbar": {
             "outlinewidth": 0,
             "ticks": ""
            },
            "type": "contourcarpet"
           }
          ],
          "heatmap": [
           {
            "colorbar": {
             "outlinewidth": 0,
             "ticks": ""
            },
            "colorscale": [
             [
              0,
              "#0d0887"
             ],
             [
              0.1111111111111111,
              "#46039f"
             ],
             [
              0.2222222222222222,
              "#7201a8"
             ],
             [
              0.3333333333333333,
              "#9c179e"
             ],
             [
              0.4444444444444444,
              "#bd3786"
             ],
             [
              0.5555555555555556,
              "#d8576b"
             ],
             [
              0.6666666666666666,
              "#ed7953"
             ],
             [
              0.7777777777777778,
              "#fb9f3a"
             ],
             [
              0.8888888888888888,
              "#fdca26"
             ],
             [
              1,
              "#f0f921"
             ]
            ],
            "type": "heatmap"
           }
          ],
          "heatmapgl": [
           {
            "colorbar": {
             "outlinewidth": 0,
             "ticks": ""
            },
            "colorscale": [
             [
              0,
              "#0d0887"
             ],
             [
              0.1111111111111111,
              "#46039f"
             ],
             [
              0.2222222222222222,
              "#7201a8"
             ],
             [
              0.3333333333333333,
              "#9c179e"
             ],
             [
              0.4444444444444444,
              "#bd3786"
             ],
             [
              0.5555555555555556,
              "#d8576b"
             ],
             [
              0.6666666666666666,
              "#ed7953"
             ],
             [
              0.7777777777777778,
              "#fb9f3a"
             ],
             [
              0.8888888888888888,
              "#fdca26"
             ],
             [
              1,
              "#f0f921"
             ]
            ],
            "type": "heatmapgl"
           }
          ],
          "histogram": [
           {
            "marker": {
             "colorbar": {
              "outlinewidth": 0,
              "ticks": ""
             }
            },
            "type": "histogram"
           }
          ],
          "histogram2d": [
           {
            "colorbar": {
             "outlinewidth": 0,
             "ticks": ""
            },
            "colorscale": [
             [
              0,
              "#0d0887"
             ],
             [
              0.1111111111111111,
              "#46039f"
             ],
             [
              0.2222222222222222,
              "#7201a8"
             ],
             [
              0.3333333333333333,
              "#9c179e"
             ],
             [
              0.4444444444444444,
              "#bd3786"
             ],
             [
              0.5555555555555556,
              "#d8576b"
             ],
             [
              0.6666666666666666,
              "#ed7953"
             ],
             [
              0.7777777777777778,
              "#fb9f3a"
             ],
             [
              0.8888888888888888,
              "#fdca26"
             ],
             [
              1,
              "#f0f921"
             ]
            ],
            "type": "histogram2d"
           }
          ],
          "histogram2dcontour": [
           {
            "colorbar": {
             "outlinewidth": 0,
             "ticks": ""
            },
            "colorscale": [
             [
              0,
              "#0d0887"
             ],
             [
              0.1111111111111111,
              "#46039f"
             ],
             [
              0.2222222222222222,
              "#7201a8"
             ],
             [
              0.3333333333333333,
              "#9c179e"
             ],
             [
              0.4444444444444444,
              "#bd3786"
             ],
             [
              0.5555555555555556,
              "#d8576b"
             ],
             [
              0.6666666666666666,
              "#ed7953"
             ],
             [
              0.7777777777777778,
              "#fb9f3a"
             ],
             [
              0.8888888888888888,
              "#fdca26"
             ],
             [
              1,
              "#f0f921"
             ]
            ],
            "type": "histogram2dcontour"
           }
          ],
          "mesh3d": [
           {
            "colorbar": {
             "outlinewidth": 0,
             "ticks": ""
            },
            "type": "mesh3d"
           }
          ],
          "parcoords": [
           {
            "line": {
             "colorbar": {
              "outlinewidth": 0,
              "ticks": ""
             }
            },
            "type": "parcoords"
           }
          ],
          "pie": [
           {
            "automargin": true,
            "type": "pie"
           }
          ],
          "scatter": [
           {
            "marker": {
             "colorbar": {
              "outlinewidth": 0,
              "ticks": ""
             }
            },
            "type": "scatter"
           }
          ],
          "scatter3d": [
           {
            "line": {
             "colorbar": {
              "outlinewidth": 0,
              "ticks": ""
             }
            },
            "marker": {
             "colorbar": {
              "outlinewidth": 0,
              "ticks": ""
             }
            },
            "type": "scatter3d"
           }
          ],
          "scattercarpet": [
           {
            "marker": {
             "colorbar": {
              "outlinewidth": 0,
              "ticks": ""
             }
            },
            "type": "scattercarpet"
           }
          ],
          "scattergeo": [
           {
            "marker": {
             "colorbar": {
              "outlinewidth": 0,
              "ticks": ""
             }
            },
            "type": "scattergeo"
           }
          ],
          "scattergl": [
           {
            "marker": {
             "colorbar": {
              "outlinewidth": 0,
              "ticks": ""
             }
            },
            "type": "scattergl"
           }
          ],
          "scattermapbox": [
           {
            "marker": {
             "colorbar": {
              "outlinewidth": 0,
              "ticks": ""
             }
            },
            "type": "scattermapbox"
           }
          ],
          "scatterpolar": [
           {
            "marker": {
             "colorbar": {
              "outlinewidth": 0,
              "ticks": ""
             }
            },
            "type": "scatterpolar"
           }
          ],
          "scatterpolargl": [
           {
            "marker": {
             "colorbar": {
              "outlinewidth": 0,
              "ticks": ""
             }
            },
            "type": "scatterpolargl"
           }
          ],
          "scatterternary": [
           {
            "marker": {
             "colorbar": {
              "outlinewidth": 0,
              "ticks": ""
             }
            },
            "type": "scatterternary"
           }
          ],
          "surface": [
           {
            "colorbar": {
             "outlinewidth": 0,
             "ticks": ""
            },
            "colorscale": [
             [
              0,
              "#0d0887"
             ],
             [
              0.1111111111111111,
              "#46039f"
             ],
             [
              0.2222222222222222,
              "#7201a8"
             ],
             [
              0.3333333333333333,
              "#9c179e"
             ],
             [
              0.4444444444444444,
              "#bd3786"
             ],
             [
              0.5555555555555556,
              "#d8576b"
             ],
             [
              0.6666666666666666,
              "#ed7953"
             ],
             [
              0.7777777777777778,
              "#fb9f3a"
             ],
             [
              0.8888888888888888,
              "#fdca26"
             ],
             [
              1,
              "#f0f921"
             ]
            ],
            "type": "surface"
           }
          ],
          "table": [
           {
            "cells": {
             "fill": {
              "color": "#EBF0F8"
             },
             "line": {
              "color": "white"
             }
            },
            "header": {
             "fill": {
              "color": "#C8D4E3"
             },
             "line": {
              "color": "white"
             }
            },
            "type": "table"
           }
          ]
         },
         "layout": {
          "annotationdefaults": {
           "arrowcolor": "#2a3f5f",
           "arrowhead": 0,
           "arrowwidth": 1
          },
          "autotypenumbers": "strict",
          "coloraxis": {
           "colorbar": {
            "outlinewidth": 0,
            "ticks": ""
           }
          },
          "colorscale": {
           "diverging": [
            [
             0,
             "#8e0152"
            ],
            [
             0.1,
             "#c51b7d"
            ],
            [
             0.2,
             "#de77ae"
            ],
            [
             0.3,
             "#f1b6da"
            ],
            [
             0.4,
             "#fde0ef"
            ],
            [
             0.5,
             "#f7f7f7"
            ],
            [
             0.6,
             "#e6f5d0"
            ],
            [
             0.7,
             "#b8e186"
            ],
            [
             0.8,
             "#7fbc41"
            ],
            [
             0.9,
             "#4d9221"
            ],
            [
             1,
             "#276419"
            ]
           ],
           "sequential": [
            [
             0,
             "#0d0887"
            ],
            [
             0.1111111111111111,
             "#46039f"
            ],
            [
             0.2222222222222222,
             "#7201a8"
            ],
            [
             0.3333333333333333,
             "#9c179e"
            ],
            [
             0.4444444444444444,
             "#bd3786"
            ],
            [
             0.5555555555555556,
             "#d8576b"
            ],
            [
             0.6666666666666666,
             "#ed7953"
            ],
            [
             0.7777777777777778,
             "#fb9f3a"
            ],
            [
             0.8888888888888888,
             "#fdca26"
            ],
            [
             1,
             "#f0f921"
            ]
           ],
           "sequentialminus": [
            [
             0,
             "#0d0887"
            ],
            [
             0.1111111111111111,
             "#46039f"
            ],
            [
             0.2222222222222222,
             "#7201a8"
            ],
            [
             0.3333333333333333,
             "#9c179e"
            ],
            [
             0.4444444444444444,
             "#bd3786"
            ],
            [
             0.5555555555555556,
             "#d8576b"
            ],
            [
             0.6666666666666666,
             "#ed7953"
            ],
            [
             0.7777777777777778,
             "#fb9f3a"
            ],
            [
             0.8888888888888888,
             "#fdca26"
            ],
            [
             1,
             "#f0f921"
            ]
           ]
          },
          "colorway": [
           "#636efa",
           "#EF553B",
           "#00cc96",
           "#ab63fa",
           "#FFA15A",
           "#19d3f3",
           "#FF6692",
           "#B6E880",
           "#FF97FF",
           "#FECB52"
          ],
          "font": {
           "color": "#2a3f5f"
          },
          "geo": {
           "bgcolor": "white",
           "lakecolor": "white",
           "landcolor": "#E5ECF6",
           "showlakes": true,
           "showland": true,
           "subunitcolor": "white"
          },
          "hoverlabel": {
           "align": "left"
          },
          "hovermode": "closest",
          "mapbox": {
           "style": "light"
          },
          "paper_bgcolor": "white",
          "plot_bgcolor": "#E5ECF6",
          "polar": {
           "angularaxis": {
            "gridcolor": "white",
            "linecolor": "white",
            "ticks": ""
           },
           "bgcolor": "#E5ECF6",
           "radialaxis": {
            "gridcolor": "white",
            "linecolor": "white",
            "ticks": ""
           }
          },
          "scene": {
           "xaxis": {
            "backgroundcolor": "#E5ECF6",
            "gridcolor": "white",
            "gridwidth": 2,
            "linecolor": "white",
            "showbackground": true,
            "ticks": "",
            "zerolinecolor": "white"
           },
           "yaxis": {
            "backgroundcolor": "#E5ECF6",
            "gridcolor": "white",
            "gridwidth": 2,
            "linecolor": "white",
            "showbackground": true,
            "ticks": "",
            "zerolinecolor": "white"
           },
           "zaxis": {
            "backgroundcolor": "#E5ECF6",
            "gridcolor": "white",
            "gridwidth": 2,
            "linecolor": "white",
            "showbackground": true,
            "ticks": "",
            "zerolinecolor": "white"
           }
          },
          "shapedefaults": {
           "line": {
            "color": "#2a3f5f"
           }
          },
          "ternary": {
           "aaxis": {
            "gridcolor": "white",
            "linecolor": "white",
            "ticks": ""
           },
           "baxis": {
            "gridcolor": "white",
            "linecolor": "white",
            "ticks": ""
           },
           "bgcolor": "#E5ECF6",
           "caxis": {
            "gridcolor": "white",
            "linecolor": "white",
            "ticks": ""
           }
          },
          "title": {
           "x": 0.05
          },
          "xaxis": {
           "automargin": true,
           "gridcolor": "white",
           "linecolor": "white",
           "ticks": "",
           "title": {
            "standoff": 15
           },
           "zerolinecolor": "white",
           "zerolinewidth": 2
          },
          "yaxis": {
           "automargin": true,
           "gridcolor": "white",
           "linecolor": "white",
           "ticks": "",
           "title": {
            "standoff": 15
           },
           "zerolinecolor": "white",
           "zerolinewidth": 2
          }
         }
        },
        "title": {
         "text": "Algorithms Comparison",
         "x": 0.5
        }
       }
      },
      "text/html": [
       "<div>                            <div id=\"1b8a7706-3da9-4383-a7d3-7d35fda0d6a0\" class=\"plotly-graph-div\" style=\"height:525px; width:100%;\"></div>            <script type=\"text/javascript\">                require([\"plotly\"], function(Plotly) {                    window.PLOTLYENV=window.PLOTLYENV || {};                                    if (document.getElementById(\"1b8a7706-3da9-4383-a7d3-7d35fda0d6a0\")) {                    Plotly.newPlot(                        \"1b8a7706-3da9-4383-a7d3-7d35fda0d6a0\",                        [{\"name\": \"Without SMOTE\", \"r\": [0.581, 0.725, 0.75, 0.725, 0.775, 0.781], \"theta\": [\"NB\", \"DT\", \"LSTM\", \"MLP\", \"RF\", \"SVM\"], \"type\": \"scatterpolar\"}, {\"name\": \"With SMOTE\", \"r\": [0.692, 0.832, 0.874, 0.86, 0.888, 0.885], \"theta\": [\"NB\", \"DT\", \"LSTM\", \"MLP\", \"RF\", \"SVM\"], \"type\": \"scatterpolar\"}],                        {\"polar\": {\"radialaxis\": {\"range\": [0, 1], \"visible\": true}}, \"showlegend\": true, \"template\": {\"data\": {\"bar\": [{\"error_x\": {\"color\": \"#2a3f5f\"}, \"error_y\": {\"color\": \"#2a3f5f\"}, \"marker\": {\"line\": {\"color\": \"#E5ECF6\", \"width\": 0.5}}, \"type\": \"bar\"}], \"barpolar\": [{\"marker\": {\"line\": {\"color\": \"#E5ECF6\", \"width\": 0.5}}, \"type\": \"barpolar\"}], \"carpet\": [{\"aaxis\": {\"endlinecolor\": \"#2a3f5f\", \"gridcolor\": \"white\", \"linecolor\": \"white\", \"minorgridcolor\": \"white\", \"startlinecolor\": \"#2a3f5f\"}, \"baxis\": {\"endlinecolor\": \"#2a3f5f\", \"gridcolor\": \"white\", \"linecolor\": \"white\", \"minorgridcolor\": \"white\", \"startlinecolor\": \"#2a3f5f\"}, \"type\": \"carpet\"}], \"choropleth\": [{\"colorbar\": {\"outlinewidth\": 0, \"ticks\": \"\"}, \"type\": \"choropleth\"}], \"contour\": [{\"colorbar\": {\"outlinewidth\": 0, \"ticks\": \"\"}, \"colorscale\": [[0.0, \"#0d0887\"], [0.1111111111111111, \"#46039f\"], [0.2222222222222222, \"#7201a8\"], [0.3333333333333333, \"#9c179e\"], [0.4444444444444444, \"#bd3786\"], [0.5555555555555556, \"#d8576b\"], [0.6666666666666666, \"#ed7953\"], [0.7777777777777778, \"#fb9f3a\"], [0.8888888888888888, \"#fdca26\"], [1.0, \"#f0f921\"]], \"type\": \"contour\"}], \"contourcarpet\": [{\"colorbar\": {\"outlinewidth\": 0, \"ticks\": \"\"}, \"type\": \"contourcarpet\"}], \"heatmap\": [{\"colorbar\": {\"outlinewidth\": 0, \"ticks\": \"\"}, \"colorscale\": [[0.0, \"#0d0887\"], [0.1111111111111111, \"#46039f\"], [0.2222222222222222, \"#7201a8\"], [0.3333333333333333, \"#9c179e\"], [0.4444444444444444, \"#bd3786\"], [0.5555555555555556, \"#d8576b\"], [0.6666666666666666, \"#ed7953\"], [0.7777777777777778, \"#fb9f3a\"], [0.8888888888888888, \"#fdca26\"], [1.0, \"#f0f921\"]], \"type\": \"heatmap\"}], \"heatmapgl\": [{\"colorbar\": {\"outlinewidth\": 0, \"ticks\": \"\"}, \"colorscale\": [[0.0, \"#0d0887\"], [0.1111111111111111, \"#46039f\"], [0.2222222222222222, \"#7201a8\"], [0.3333333333333333, \"#9c179e\"], [0.4444444444444444, \"#bd3786\"], [0.5555555555555556, \"#d8576b\"], [0.6666666666666666, \"#ed7953\"], [0.7777777777777778, \"#fb9f3a\"], [0.8888888888888888, \"#fdca26\"], [1.0, \"#f0f921\"]], \"type\": \"heatmapgl\"}], \"histogram\": [{\"marker\": {\"colorbar\": {\"outlinewidth\": 0, \"ticks\": \"\"}}, \"type\": \"histogram\"}], \"histogram2d\": [{\"colorbar\": {\"outlinewidth\": 0, \"ticks\": \"\"}, \"colorscale\": [[0.0, \"#0d0887\"], [0.1111111111111111, \"#46039f\"], [0.2222222222222222, \"#7201a8\"], [0.3333333333333333, \"#9c179e\"], [0.4444444444444444, \"#bd3786\"], [0.5555555555555556, \"#d8576b\"], [0.6666666666666666, \"#ed7953\"], [0.7777777777777778, \"#fb9f3a\"], [0.8888888888888888, \"#fdca26\"], [1.0, \"#f0f921\"]], \"type\": \"histogram2d\"}], \"histogram2dcontour\": [{\"colorbar\": {\"outlinewidth\": 0, \"ticks\": \"\"}, \"colorscale\": [[0.0, \"#0d0887\"], [0.1111111111111111, \"#46039f\"], [0.2222222222222222, \"#7201a8\"], [0.3333333333333333, \"#9c179e\"], [0.4444444444444444, \"#bd3786\"], [0.5555555555555556, \"#d8576b\"], [0.6666666666666666, \"#ed7953\"], [0.7777777777777778, \"#fb9f3a\"], [0.8888888888888888, \"#fdca26\"], [1.0, \"#f0f921\"]], \"type\": \"histogram2dcontour\"}], \"mesh3d\": [{\"colorbar\": {\"outlinewidth\": 0, \"ticks\": \"\"}, \"type\": \"mesh3d\"}], \"parcoords\": [{\"line\": {\"colorbar\": {\"outlinewidth\": 0, \"ticks\": \"\"}}, \"type\": \"parcoords\"}], \"pie\": [{\"automargin\": true, \"type\": \"pie\"}], \"scatter\": [{\"marker\": {\"colorbar\": {\"outlinewidth\": 0, \"ticks\": \"\"}}, \"type\": \"scatter\"}], \"scatter3d\": [{\"line\": {\"colorbar\": {\"outlinewidth\": 0, \"ticks\": \"\"}}, \"marker\": {\"colorbar\": {\"outlinewidth\": 0, \"ticks\": \"\"}}, \"type\": \"scatter3d\"}], \"scattercarpet\": [{\"marker\": {\"colorbar\": {\"outlinewidth\": 0, \"ticks\": \"\"}}, \"type\": \"scattercarpet\"}], \"scattergeo\": [{\"marker\": {\"colorbar\": {\"outlinewidth\": 0, \"ticks\": \"\"}}, \"type\": \"scattergeo\"}], \"scattergl\": [{\"marker\": {\"colorbar\": {\"outlinewidth\": 0, \"ticks\": \"\"}}, \"type\": \"scattergl\"}], \"scattermapbox\": [{\"marker\": {\"colorbar\": {\"outlinewidth\": 0, \"ticks\": \"\"}}, \"type\": \"scattermapbox\"}], \"scatterpolar\": [{\"marker\": {\"colorbar\": {\"outlinewidth\": 0, \"ticks\": \"\"}}, \"type\": \"scatterpolar\"}], \"scatterpolargl\": [{\"marker\": {\"colorbar\": {\"outlinewidth\": 0, \"ticks\": \"\"}}, \"type\": \"scatterpolargl\"}], \"scatterternary\": [{\"marker\": {\"colorbar\": {\"outlinewidth\": 0, \"ticks\": \"\"}}, \"type\": \"scatterternary\"}], \"surface\": [{\"colorbar\": {\"outlinewidth\": 0, \"ticks\": \"\"}, \"colorscale\": [[0.0, \"#0d0887\"], [0.1111111111111111, \"#46039f\"], [0.2222222222222222, \"#7201a8\"], [0.3333333333333333, \"#9c179e\"], [0.4444444444444444, \"#bd3786\"], [0.5555555555555556, \"#d8576b\"], [0.6666666666666666, \"#ed7953\"], [0.7777777777777778, \"#fb9f3a\"], [0.8888888888888888, \"#fdca26\"], [1.0, \"#f0f921\"]], \"type\": \"surface\"}], \"table\": [{\"cells\": {\"fill\": {\"color\": \"#EBF0F8\"}, \"line\": {\"color\": \"white\"}}, \"header\": {\"fill\": {\"color\": \"#C8D4E3\"}, \"line\": {\"color\": \"white\"}}, \"type\": \"table\"}]}, \"layout\": {\"annotationdefaults\": {\"arrowcolor\": \"#2a3f5f\", \"arrowhead\": 0, \"arrowwidth\": 1}, \"autotypenumbers\": \"strict\", \"coloraxis\": {\"colorbar\": {\"outlinewidth\": 0, \"ticks\": \"\"}}, \"colorscale\": {\"diverging\": [[0, \"#8e0152\"], [0.1, \"#c51b7d\"], [0.2, \"#de77ae\"], [0.3, \"#f1b6da\"], [0.4, \"#fde0ef\"], [0.5, \"#f7f7f7\"], [0.6, \"#e6f5d0\"], [0.7, \"#b8e186\"], [0.8, \"#7fbc41\"], [0.9, \"#4d9221\"], [1, \"#276419\"]], \"sequential\": [[0.0, \"#0d0887\"], [0.1111111111111111, \"#46039f\"], [0.2222222222222222, \"#7201a8\"], [0.3333333333333333, \"#9c179e\"], [0.4444444444444444, \"#bd3786\"], [0.5555555555555556, \"#d8576b\"], [0.6666666666666666, \"#ed7953\"], [0.7777777777777778, \"#fb9f3a\"], [0.8888888888888888, \"#fdca26\"], [1.0, \"#f0f921\"]], \"sequentialminus\": [[0.0, \"#0d0887\"], [0.1111111111111111, \"#46039f\"], [0.2222222222222222, \"#7201a8\"], [0.3333333333333333, \"#9c179e\"], [0.4444444444444444, \"#bd3786\"], [0.5555555555555556, \"#d8576b\"], [0.6666666666666666, \"#ed7953\"], [0.7777777777777778, \"#fb9f3a\"], [0.8888888888888888, \"#fdca26\"], [1.0, \"#f0f921\"]]}, \"colorway\": [\"#636efa\", \"#EF553B\", \"#00cc96\", \"#ab63fa\", \"#FFA15A\", \"#19d3f3\", \"#FF6692\", \"#B6E880\", \"#FF97FF\", \"#FECB52\"], \"font\": {\"color\": \"#2a3f5f\"}, \"geo\": {\"bgcolor\": \"white\", \"lakecolor\": \"white\", \"landcolor\": \"#E5ECF6\", \"showlakes\": true, \"showland\": true, \"subunitcolor\": \"white\"}, \"hoverlabel\": {\"align\": \"left\"}, \"hovermode\": \"closest\", \"mapbox\": {\"style\": \"light\"}, \"paper_bgcolor\": \"white\", \"plot_bgcolor\": \"#E5ECF6\", \"polar\": {\"angularaxis\": {\"gridcolor\": \"white\", \"linecolor\": \"white\", \"ticks\": \"\"}, \"bgcolor\": \"#E5ECF6\", \"radialaxis\": {\"gridcolor\": \"white\", \"linecolor\": \"white\", \"ticks\": \"\"}}, \"scene\": {\"xaxis\": {\"backgroundcolor\": \"#E5ECF6\", \"gridcolor\": \"white\", \"gridwidth\": 2, \"linecolor\": \"white\", \"showbackground\": true, \"ticks\": \"\", \"zerolinecolor\": \"white\"}, \"yaxis\": {\"backgroundcolor\": \"#E5ECF6\", \"gridcolor\": \"white\", \"gridwidth\": 2, \"linecolor\": \"white\", \"showbackground\": true, \"ticks\": \"\", \"zerolinecolor\": \"white\"}, \"zaxis\": {\"backgroundcolor\": \"#E5ECF6\", \"gridcolor\": \"white\", \"gridwidth\": 2, \"linecolor\": \"white\", \"showbackground\": true, \"ticks\": \"\", \"zerolinecolor\": \"white\"}}, \"shapedefaults\": {\"line\": {\"color\": \"#2a3f5f\"}}, \"ternary\": {\"aaxis\": {\"gridcolor\": \"white\", \"linecolor\": \"white\", \"ticks\": \"\"}, \"baxis\": {\"gridcolor\": \"white\", \"linecolor\": \"white\", \"ticks\": \"\"}, \"bgcolor\": \"#E5ECF6\", \"caxis\": {\"gridcolor\": \"white\", \"linecolor\": \"white\", \"ticks\": \"\"}}, \"title\": {\"x\": 0.05}, \"xaxis\": {\"automargin\": true, \"gridcolor\": \"white\", \"linecolor\": \"white\", \"ticks\": \"\", \"title\": {\"standoff\": 15}, \"zerolinecolor\": \"white\", \"zerolinewidth\": 2}, \"yaxis\": {\"automargin\": true, \"gridcolor\": \"white\", \"linecolor\": \"white\", \"ticks\": \"\", \"title\": {\"standoff\": 15}, \"zerolinecolor\": \"white\", \"zerolinewidth\": 2}}}, \"title\": {\"text\": \"Algorithms Comparison\", \"x\": 0.5}},                        {\"responsive\": true}                    ).then(function(){\n",
       "                            \n",
       "var gd = document.getElementById('1b8a7706-3da9-4383-a7d3-7d35fda0d6a0');\n",
       "var x = new MutationObserver(function (mutations, observer) {{\n",
       "        var display = window.getComputedStyle(gd).display;\n",
       "        if (!display || display === 'none') {{\n",
       "            console.log([gd, 'removed!']);\n",
       "            Plotly.purge(gd);\n",
       "            observer.disconnect();\n",
       "        }}\n",
       "}});\n",
       "\n",
       "// Listen for the removal of the full notebook cells\n",
       "var notebookContainer = gd.closest('#notebook-container');\n",
       "if (notebookContainer) {{\n",
       "    x.observe(notebookContainer, {childList: true});\n",
       "}}\n",
       "\n",
       "// Listen for the clearing of the current output cell\n",
       "var outputEl = gd.closest('.output');\n",
       "if (outputEl) {{\n",
       "    x.observe(outputEl, {childList: true});\n",
       "}}\n",
       "\n",
       "                        })                };                });            </script>        </div>"
      ]
     },
     "metadata": {},
     "output_type": "display_data"
    }
   ],
   "source": [
    "#Ridar Chart\n",
    "categories = final_names\n",
    "\n",
    "fig = go.Figure()\n",
    "\n",
    "fig.add_trace(go.Scatterpolar(\n",
    "      r=final_result,\n",
    "      theta=categories,\n",
    "      name = 'Without SMOTE'\n",
    "      \n",
    "))\n",
    "\n",
    "fig.add_trace(go.Scatterpolar(\n",
    "      r=final_result_S,\n",
    "      theta=categories,\n",
    "      name = 'With SMOTE'\n",
    "    \n",
    "))\n",
    "\n",
    "fig.update_layout(\n",
    "  polar=dict(\n",
    "    radialaxis=dict(\n",
    "      visible=True,\n",
    "      range=[0, 1]\n",
    "    )),\n",
    "  title='Algorithms Comparison',title_x=0.5,\n",
    "  showlegend=True\n",
    ")\n",
    "fig.write_image(\"GridSearchCV Screenshots/Exp3/Algorithm_Comparison_R.png\")\n",
    "fig.show()"
   ]
  },
  {
   "cell_type": "code",
   "execution_count": null,
   "metadata": {},
   "outputs": [],
   "source": []
  }
 ],
 "metadata": {
  "kernelspec": {
   "display_name": "Python 3",
   "language": "python",
   "name": "python3"
  },
  "language_info": {
   "codemirror_mode": {
    "name": "ipython",
    "version": 3
   },
   "file_extension": ".py",
   "mimetype": "text/x-python",
   "name": "python",
   "nbconvert_exporter": "python",
   "pygments_lexer": "ipython3",
   "version": "3.8.5"
  }
 },
 "nbformat": 4,
 "nbformat_minor": 2
}
