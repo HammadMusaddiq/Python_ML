{
 "cells": [
  {
   "cell_type": "code",
   "execution_count": 1,
   "metadata": {},
   "outputs": [],
   "source": [
    "import numpy as np\n",
    "import pandas as pd\n",
    "import re"
   ]
  },
  {
   "cell_type": "code",
   "execution_count": 2,
   "metadata": {},
   "outputs": [],
   "source": [
    "import seaborn as sns\n",
    "import matplotlib.pyplot as plt"
   ]
  },
  {
   "cell_type": "code",
   "execution_count": 3,
   "metadata": {},
   "outputs": [],
   "source": [
    "#importing dataset\n",
    "data = pd.read_csv('StudentData.csv')"
   ]
  },
  {
   "cell_type": "code",
   "execution_count": 4,
   "metadata": {},
   "outputs": [
    {
     "data": {
      "text/html": [
       "<div>\n",
       "<style scoped>\n",
       "    .dataframe tbody tr th:only-of-type {\n",
       "        vertical-align: middle;\n",
       "    }\n",
       "\n",
       "    .dataframe tbody tr th {\n",
       "        vertical-align: top;\n",
       "    }\n",
       "\n",
       "    .dataframe thead th {\n",
       "        text-align: right;\n",
       "    }\n",
       "</style>\n",
       "<table border=\"1\" class=\"dataframe\">\n",
       "  <thead>\n",
       "    <tr style=\"text-align: right;\">\n",
       "      <th></th>\n",
       "      <th>RollNo</th>\n",
       "      <th>Batch</th>\n",
       "      <th>Student_Degree</th>\n",
       "      <th>Student_Department</th>\n",
       "      <th>Student_Program</th>\n",
       "      <th>Timestamp</th>\n",
       "      <th>SM</th>\n",
       "      <th>MS</th>\n",
       "      <th>ES</th>\n",
       "      <th>EC</th>\n",
       "      <th>...</th>\n",
       "      <th>SQ4</th>\n",
       "      <th>MA4</th>\n",
       "      <th>BL4</th>\n",
       "      <th>BU4</th>\n",
       "      <th>IF4</th>\n",
       "      <th>Student_Campus</th>\n",
       "      <th>Sudent_District</th>\n",
       "      <th>Student_Lat</th>\n",
       "      <th>Std_Long</th>\n",
       "      <th>Student_Home_Uni_Distance(km)</th>\n",
       "    </tr>\n",
       "  </thead>\n",
       "  <tbody>\n",
       "    <tr>\n",
       "      <th>0</th>\n",
       "      <td>f138157</td>\n",
       "      <td>f13</td>\n",
       "      <td>NaN</td>\n",
       "      <td>NaN</td>\n",
       "      <td>NaN</td>\n",
       "      <td>26-12-20 22:47</td>\n",
       "      <td>Yes</td>\n",
       "      <td>Single</td>\n",
       "      <td>Average</td>\n",
       "      <td>Average</td>\n",
       "      <td>...</td>\n",
       "      <td>Yes</td>\n",
       "      <td>Yes</td>\n",
       "      <td>Yes</td>\n",
       "      <td>No</td>\n",
       "      <td>Yes</td>\n",
       "      <td>NaN</td>\n",
       "      <td>NaN</td>\n",
       "      <td>NaN</td>\n",
       "      <td>NaN</td>\n",
       "      <td>NaN</td>\n",
       "    </tr>\n",
       "    <tr>\n",
       "      <th>1</th>\n",
       "      <td>f138225</td>\n",
       "      <td>f13</td>\n",
       "      <td>NaN</td>\n",
       "      <td>NaN</td>\n",
       "      <td>NaN</td>\n",
       "      <td>26-12-20 12:20</td>\n",
       "      <td>Yes</td>\n",
       "      <td>Single</td>\n",
       "      <td>Good</td>\n",
       "      <td>Good</td>\n",
       "      <td>...</td>\n",
       "      <td>Yes</td>\n",
       "      <td>Yes</td>\n",
       "      <td>Yes</td>\n",
       "      <td>No</td>\n",
       "      <td>Yes</td>\n",
       "      <td>NaN</td>\n",
       "      <td>NaN</td>\n",
       "      <td>NaN</td>\n",
       "      <td>NaN</td>\n",
       "      <td>NaN</td>\n",
       "    </tr>\n",
       "    <tr>\n",
       "      <th>2</th>\n",
       "      <td>f138302</td>\n",
       "      <td>f13</td>\n",
       "      <td>Bachelors</td>\n",
       "      <td>Computer Science</td>\n",
       "      <td>BS(CS)</td>\n",
       "      <td>24-12-20 9:38</td>\n",
       "      <td>Yes</td>\n",
       "      <td>Single</td>\n",
       "      <td>Good</td>\n",
       "      <td>Average</td>\n",
       "      <td>...</td>\n",
       "      <td>Yes</td>\n",
       "      <td>Yes</td>\n",
       "      <td>Yes</td>\n",
       "      <td>Yes</td>\n",
       "      <td>No</td>\n",
       "      <td>Chiniot_Faisalabad</td>\n",
       "      <td>Narowal</td>\n",
       "      <td>32.257239</td>\n",
       "      <td>75.160375</td>\n",
       "      <td>213.362009</td>\n",
       "    </tr>\n",
       "  </tbody>\n",
       "</table>\n",
       "<p>3 rows × 125 columns</p>\n",
       "</div>"
      ],
      "text/plain": [
       "    RollNo Batch Student_Degree Student_Department Student_Program  \\\n",
       "0  f138157   f13            NaN                NaN             NaN   \n",
       "1  f138225   f13            NaN                NaN             NaN   \n",
       "2  f138302   f13      Bachelors   Computer Science      BS(CS)       \n",
       "\n",
       "        Timestamp   SM      MS       ES       EC  ...  SQ4  MA4  BL4  BU4  \\\n",
       "0  26-12-20 22:47  Yes  Single  Average  Average  ...  Yes  Yes  Yes   No   \n",
       "1  26-12-20 12:20  Yes  Single     Good     Good  ...  Yes  Yes  Yes   No   \n",
       "2   24-12-20 9:38  Yes  Single     Good  Average  ...  Yes  Yes  Yes  Yes   \n",
       "\n",
       "   IF4      Student_Campus Sudent_District Student_Lat   Std_Long  \\\n",
       "0  Yes                 NaN             NaN         NaN        NaN   \n",
       "1  Yes                 NaN             NaN         NaN        NaN   \n",
       "2   No  Chiniot_Faisalabad         Narowal   32.257239  75.160375   \n",
       "\n",
       "  Student_Home_Uni_Distance(km)  \n",
       "0                           NaN  \n",
       "1                           NaN  \n",
       "2                    213.362009  \n",
       "\n",
       "[3 rows x 125 columns]"
      ]
     },
     "execution_count": 4,
     "metadata": {},
     "output_type": "execute_result"
    }
   ],
   "source": [
    "data.head(3)"
   ]
  },
  {
   "cell_type": "code",
   "execution_count": 5,
   "metadata": {
    "scrolled": true
   },
   "outputs": [
    {
     "name": "stdout",
     "output_type": "stream",
     "text": [
      "<class 'pandas.core.frame.DataFrame'>\n",
      "RangeIndex: 200 entries, 0 to 199\n",
      "Columns: 125 entries, RollNo to Student_Home_Uni_Distance(km)\n",
      "dtypes: float64(3), int64(1), object(121)\n",
      "memory usage: 195.4+ KB\n"
     ]
    }
   ],
   "source": [
    "data.info()"
   ]
  },
  {
   "cell_type": "code",
   "execution_count": 6,
   "metadata": {},
   "outputs": [
    {
     "data": {
      "text/plain": [
       "array(['RollNo', 'Batch', 'Student_Degree', 'Student_Department',\n",
       "       'Student_Program', 'Timestamp', 'SM', 'MS', 'ES', 'EC', 'TS', 'TC',\n",
       "       'GS', 'GC', 'GU', 'EG', 'OG', 'GH', 'SS', 'H/D', 'Hostelite1',\n",
       "       'SM1', 'MS1', 'OnBus1', 'OnCar1', 'OnBike1', 'OnLocalBus1', 'PI1',\n",
       "       'HI1', 'SG1', 'MF1', 'HF1', 'RA1', 'SSField1', 'SInE1', 'TS1',\n",
       "       'TE1', 'HS1', 'SD1', 'SW1', 'SQ1', 'MA1', 'BL1', 'BU1', 'IF1',\n",
       "       'Hostelite2', 'SM2', 'MS2', 'OnBus2', 'OnCar2', 'OnBike2',\n",
       "       'OnLocalBus2', 'PI2', 'HI2', 'SG2', 'MF2', 'HF2', 'RA2',\n",
       "       'SSField2', 'SInE2', 'TS2', 'TE2', 'HS2', 'SD2', 'SW2', 'SQ2',\n",
       "       'MA2', 'BL2', 'BU2', 'IF2', 'Hostelite3', 'SM3', 'MS3', 'OnBus3',\n",
       "       'OnCar3', 'OnBike3', 'OnLocalBus3', 'PI3', 'HI3', 'SG3', 'MF3',\n",
       "       'HF3', 'RA3', 'SSField3', 'SInE3', 'TS3', 'TE3', 'HS3', 'SD3',\n",
       "       'SW3', 'SQ3', 'MA3', 'BL3', 'BU3', 'IF3', 'Hostelite4', 'SM4',\n",
       "       'MS4', 'OnBus4', 'OnCar4', 'OnBike4', 'OnLocalBus4', 'PI4', 'HI4',\n",
       "       'SG4', 'MF4', 'HF4', 'RA4', 'SSField4', 'SInE4', 'TS4', 'TE4',\n",
       "       'HS4', 'SD4', 'SW4', 'SQ4', 'MA4', 'BL4', 'BU4', 'IF4',\n",
       "       'Student_Campus', 'Sudent_District', 'Student_Lat', 'Std_Long',\n",
       "       'Student_Home_Uni_Distance(km)'], dtype=object)"
      ]
     },
     "execution_count": 6,
     "metadata": {},
     "output_type": "execute_result"
    }
   ],
   "source": [
    "data.columns.values"
   ]
  },
  {
   "cell_type": "code",
   "execution_count": 7,
   "metadata": {},
   "outputs": [
    {
     "data": {
      "text/html": [
       "<div>\n",
       "<style scoped>\n",
       "    .dataframe tbody tr th:only-of-type {\n",
       "        vertical-align: middle;\n",
       "    }\n",
       "\n",
       "    .dataframe tbody tr th {\n",
       "        vertical-align: top;\n",
       "    }\n",
       "\n",
       "    .dataframe thead th {\n",
       "        text-align: right;\n",
       "    }\n",
       "</style>\n",
       "<table border=\"1\" class=\"dataframe\">\n",
       "  <thead>\n",
       "    <tr style=\"text-align: right;\">\n",
       "      <th></th>\n",
       "      <th>Batch</th>\n",
       "      <th>SM</th>\n",
       "      <th>MS</th>\n",
       "      <th>ES</th>\n",
       "      <th>EC</th>\n",
       "      <th>TS</th>\n",
       "      <th>TC</th>\n",
       "      <th>GS</th>\n",
       "      <th>GC</th>\n",
       "      <th>GU</th>\n",
       "      <th>...</th>\n",
       "      <th>SW4</th>\n",
       "      <th>SQ4</th>\n",
       "      <th>MA4</th>\n",
       "      <th>BL4</th>\n",
       "      <th>BU4</th>\n",
       "      <th>IF4</th>\n",
       "      <th>Sudent_District</th>\n",
       "      <th>Student_Lat</th>\n",
       "      <th>Std_Long</th>\n",
       "      <th>Student_Home_Uni_Distance(km)</th>\n",
       "    </tr>\n",
       "  </thead>\n",
       "  <tbody>\n",
       "    <tr>\n",
       "      <th>0</th>\n",
       "      <td>f13</td>\n",
       "      <td>Yes</td>\n",
       "      <td>Single</td>\n",
       "      <td>Average</td>\n",
       "      <td>Average</td>\n",
       "      <td>Private</td>\n",
       "      <td>Private</td>\n",
       "      <td>Urban</td>\n",
       "      <td>Urban</td>\n",
       "      <td>Father</td>\n",
       "      <td>...</td>\n",
       "      <td>Yes</td>\n",
       "      <td>Yes</td>\n",
       "      <td>Yes</td>\n",
       "      <td>Yes</td>\n",
       "      <td>No</td>\n",
       "      <td>Yes</td>\n",
       "      <td>NaN</td>\n",
       "      <td>NaN</td>\n",
       "      <td>NaN</td>\n",
       "      <td>NaN</td>\n",
       "    </tr>\n",
       "    <tr>\n",
       "      <th>1</th>\n",
       "      <td>f13</td>\n",
       "      <td>Yes</td>\n",
       "      <td>Single</td>\n",
       "      <td>Good</td>\n",
       "      <td>Good</td>\n",
       "      <td>Private</td>\n",
       "      <td>Private</td>\n",
       "      <td>Urban</td>\n",
       "      <td>Urban</td>\n",
       "      <td>Father</td>\n",
       "      <td>...</td>\n",
       "      <td>Yes</td>\n",
       "      <td>Yes</td>\n",
       "      <td>Yes</td>\n",
       "      <td>Yes</td>\n",
       "      <td>No</td>\n",
       "      <td>Yes</td>\n",
       "      <td>NaN</td>\n",
       "      <td>NaN</td>\n",
       "      <td>NaN</td>\n",
       "      <td>NaN</td>\n",
       "    </tr>\n",
       "    <tr>\n",
       "      <th>2</th>\n",
       "      <td>f13</td>\n",
       "      <td>Yes</td>\n",
       "      <td>Single</td>\n",
       "      <td>Good</td>\n",
       "      <td>Average</td>\n",
       "      <td>Private</td>\n",
       "      <td>Public</td>\n",
       "      <td>Rural</td>\n",
       "      <td>Rural</td>\n",
       "      <td>Father</td>\n",
       "      <td>...</td>\n",
       "      <td>Yes</td>\n",
       "      <td>Yes</td>\n",
       "      <td>Yes</td>\n",
       "      <td>Yes</td>\n",
       "      <td>Yes</td>\n",
       "      <td>No</td>\n",
       "      <td>Narowal</td>\n",
       "      <td>32.257239</td>\n",
       "      <td>75.160375</td>\n",
       "      <td>213.362009</td>\n",
       "    </tr>\n",
       "    <tr>\n",
       "      <th>3</th>\n",
       "      <td>f14</td>\n",
       "      <td>No</td>\n",
       "      <td>Single</td>\n",
       "      <td>Average</td>\n",
       "      <td>Average</td>\n",
       "      <td>Private</td>\n",
       "      <td>Private</td>\n",
       "      <td>Urban</td>\n",
       "      <td>Urban</td>\n",
       "      <td>Mother</td>\n",
       "      <td>...</td>\n",
       "      <td>No</td>\n",
       "      <td>Yes</td>\n",
       "      <td>Yes</td>\n",
       "      <td>Yes</td>\n",
       "      <td>Yes</td>\n",
       "      <td>No</td>\n",
       "      <td>Hafizabad</td>\n",
       "      <td>32.071186</td>\n",
       "      <td>73.689472</td>\n",
       "      <td>80.894563</td>\n",
       "    </tr>\n",
       "    <tr>\n",
       "      <th>4</th>\n",
       "      <td>f15</td>\n",
       "      <td>No</td>\n",
       "      <td>Single</td>\n",
       "      <td>Good</td>\n",
       "      <td>Good</td>\n",
       "      <td>Private</td>\n",
       "      <td>Private</td>\n",
       "      <td>Urban</td>\n",
       "      <td>Urban</td>\n",
       "      <td>Father</td>\n",
       "      <td>...</td>\n",
       "      <td>Yes</td>\n",
       "      <td>Yes</td>\n",
       "      <td>Yes</td>\n",
       "      <td>Yes</td>\n",
       "      <td>No</td>\n",
       "      <td>Yes</td>\n",
       "      <td>Nankana Sahib</td>\n",
       "      <td>31.411625</td>\n",
       "      <td>73.122790</td>\n",
       "      <td>22.673181</td>\n",
       "    </tr>\n",
       "    <tr>\n",
       "      <th>...</th>\n",
       "      <td>...</td>\n",
       "      <td>...</td>\n",
       "      <td>...</td>\n",
       "      <td>...</td>\n",
       "      <td>...</td>\n",
       "      <td>...</td>\n",
       "      <td>...</td>\n",
       "      <td>...</td>\n",
       "      <td>...</td>\n",
       "      <td>...</td>\n",
       "      <td>...</td>\n",
       "      <td>...</td>\n",
       "      <td>...</td>\n",
       "      <td>...</td>\n",
       "      <td>...</td>\n",
       "      <td>...</td>\n",
       "      <td>...</td>\n",
       "      <td>...</td>\n",
       "      <td>...</td>\n",
       "      <td>...</td>\n",
       "      <td>...</td>\n",
       "    </tr>\n",
       "    <tr>\n",
       "      <th>195</th>\n",
       "      <td>f18</td>\n",
       "      <td>No</td>\n",
       "      <td>Single</td>\n",
       "      <td>Excellent</td>\n",
       "      <td>Excellent</td>\n",
       "      <td>Private</td>\n",
       "      <td>Private</td>\n",
       "      <td>Urban</td>\n",
       "      <td>Urban</td>\n",
       "      <td>Father</td>\n",
       "      <td>...</td>\n",
       "      <td>Yes</td>\n",
       "      <td>Yes</td>\n",
       "      <td>Yes</td>\n",
       "      <td>No</td>\n",
       "      <td>No</td>\n",
       "      <td>Yes</td>\n",
       "      <td>Lahore</td>\n",
       "      <td>31.314307</td>\n",
       "      <td>74.203258</td>\n",
       "      <td>115.270388</td>\n",
       "    </tr>\n",
       "    <tr>\n",
       "      <th>196</th>\n",
       "      <td>f18</td>\n",
       "      <td>No</td>\n",
       "      <td>Single</td>\n",
       "      <td>Excellent</td>\n",
       "      <td>Good</td>\n",
       "      <td>Private</td>\n",
       "      <td>Private</td>\n",
       "      <td>Rural</td>\n",
       "      <td>Rural</td>\n",
       "      <td>Father</td>\n",
       "      <td>...</td>\n",
       "      <td>Yes</td>\n",
       "      <td>Yes</td>\n",
       "      <td>Yes</td>\n",
       "      <td>No</td>\n",
       "      <td>No</td>\n",
       "      <td>Yes</td>\n",
       "      <td>Lahore</td>\n",
       "      <td>31.579094</td>\n",
       "      <td>74.369224</td>\n",
       "      <td>126.346816</td>\n",
       "    </tr>\n",
       "    <tr>\n",
       "      <th>197</th>\n",
       "      <td>f18</td>\n",
       "      <td>No</td>\n",
       "      <td>Single</td>\n",
       "      <td>Excellent</td>\n",
       "      <td>Excellent</td>\n",
       "      <td>Private</td>\n",
       "      <td>Public</td>\n",
       "      <td>Urban</td>\n",
       "      <td>Urban</td>\n",
       "      <td>Father</td>\n",
       "      <td>...</td>\n",
       "      <td>No</td>\n",
       "      <td>Yes</td>\n",
       "      <td>Yes</td>\n",
       "      <td>No</td>\n",
       "      <td>No</td>\n",
       "      <td>No</td>\n",
       "      <td>Lahore</td>\n",
       "      <td>31.613573</td>\n",
       "      <td>74.293455</td>\n",
       "      <td>119.131487</td>\n",
       "    </tr>\n",
       "    <tr>\n",
       "      <th>198</th>\n",
       "      <td>f18</td>\n",
       "      <td>No</td>\n",
       "      <td>Single</td>\n",
       "      <td>Good</td>\n",
       "      <td>Good</td>\n",
       "      <td>Public</td>\n",
       "      <td>Private</td>\n",
       "      <td>Urban</td>\n",
       "      <td>Urban</td>\n",
       "      <td>Father</td>\n",
       "      <td>...</td>\n",
       "      <td>Yes</td>\n",
       "      <td>Yes</td>\n",
       "      <td>Yes</td>\n",
       "      <td>No</td>\n",
       "      <td>No</td>\n",
       "      <td>No</td>\n",
       "      <td>Chiniot/Faisalabad</td>\n",
       "      <td>31.343659</td>\n",
       "      <td>73.422632</td>\n",
       "      <td>46.578652</td>\n",
       "    </tr>\n",
       "    <tr>\n",
       "      <th>199</th>\n",
       "      <td>f18</td>\n",
       "      <td>Yes</td>\n",
       "      <td>Single</td>\n",
       "      <td>Good</td>\n",
       "      <td>Good</td>\n",
       "      <td>Private</td>\n",
       "      <td>Private</td>\n",
       "      <td>Urban</td>\n",
       "      <td>Urban</td>\n",
       "      <td>Father</td>\n",
       "      <td>...</td>\n",
       "      <td>Yes</td>\n",
       "      <td>Yes</td>\n",
       "      <td>Yes</td>\n",
       "      <td>No</td>\n",
       "      <td>No</td>\n",
       "      <td>Yes</td>\n",
       "      <td>Attock</td>\n",
       "      <td>33.857953</td>\n",
       "      <td>72.413979</td>\n",
       "      <td>257.547186</td>\n",
       "    </tr>\n",
       "  </tbody>\n",
       "</table>\n",
       "<p>200 rows × 119 columns</p>\n",
       "</div>"
      ],
      "text/plain": [
       "    Batch   SM      MS         ES         EC       TS       TC     GS     GC  \\\n",
       "0     f13  Yes  Single    Average    Average  Private  Private  Urban  Urban   \n",
       "1     f13  Yes  Single       Good       Good  Private  Private  Urban  Urban   \n",
       "2     f13  Yes  Single       Good    Average  Private   Public  Rural  Rural   \n",
       "3     f14   No  Single    Average    Average  Private  Private  Urban  Urban   \n",
       "4     f15   No  Single       Good       Good  Private  Private  Urban  Urban   \n",
       "..    ...  ...     ...        ...        ...      ...      ...    ...    ...   \n",
       "195   f18   No  Single  Excellent  Excellent  Private  Private  Urban  Urban   \n",
       "196   f18   No  Single  Excellent       Good  Private  Private  Rural  Rural   \n",
       "197   f18   No  Single  Excellent  Excellent  Private   Public  Urban  Urban   \n",
       "198   f18   No  Single       Good       Good   Public  Private  Urban  Urban   \n",
       "199   f18  Yes  Single       Good       Good  Private  Private  Urban  Urban   \n",
       "\n",
       "         GU  ...  SW4  SQ4  MA4  BL4  BU4  IF4     Sudent_District  \\\n",
       "0    Father  ...  Yes  Yes  Yes  Yes   No  Yes                 NaN   \n",
       "1    Father  ...  Yes  Yes  Yes  Yes   No  Yes                 NaN   \n",
       "2    Father  ...  Yes  Yes  Yes  Yes  Yes   No             Narowal   \n",
       "3    Mother  ...   No  Yes  Yes  Yes  Yes   No           Hafizabad   \n",
       "4    Father  ...  Yes  Yes  Yes  Yes   No  Yes       Nankana Sahib   \n",
       "..      ...  ...  ...  ...  ...  ...  ...  ...                 ...   \n",
       "195  Father  ...  Yes  Yes  Yes   No   No  Yes              Lahore   \n",
       "196  Father  ...  Yes  Yes  Yes   No   No  Yes              Lahore   \n",
       "197  Father  ...   No  Yes  Yes   No   No   No              Lahore   \n",
       "198  Father  ...  Yes  Yes  Yes   No   No   No  Chiniot/Faisalabad   \n",
       "199  Father  ...  Yes  Yes  Yes   No   No  Yes              Attock   \n",
       "\n",
       "    Student_Lat   Std_Long Student_Home_Uni_Distance(km)  \n",
       "0           NaN        NaN                           NaN  \n",
       "1           NaN        NaN                           NaN  \n",
       "2     32.257239  75.160375                    213.362009  \n",
       "3     32.071186  73.689472                     80.894563  \n",
       "4     31.411625  73.122790                     22.673181  \n",
       "..          ...        ...                           ...  \n",
       "195   31.314307  74.203258                    115.270388  \n",
       "196   31.579094  74.369224                    126.346816  \n",
       "197   31.613573  74.293455                    119.131487  \n",
       "198   31.343659  73.422632                     46.578652  \n",
       "199   33.857953  72.413979                    257.547186  \n",
       "\n",
       "[200 rows x 119 columns]"
      ]
     },
     "execution_count": 7,
     "metadata": {},
     "output_type": "execute_result"
    }
   ],
   "source": [
    "data = data.drop(['RollNo', 'Student_Degree', 'Student_Department', 'Student_Program','Timestamp','Student_Campus'], axis=1)\n",
    "data"
   ]
  },
  {
   "cell_type": "code",
   "execution_count": 8,
   "metadata": {},
   "outputs": [
    {
     "data": {
      "text/plain": [
       "True"
      ]
     },
     "execution_count": 8,
     "metadata": {},
     "output_type": "execute_result"
    }
   ],
   "source": [
    "#Null values in the data\n",
    "data.isnull().values.any()"
   ]
  },
  {
   "cell_type": "code",
   "execution_count": 9,
   "metadata": {},
   "outputs": [
    {
     "data": {
      "text/plain": [
       "<AxesSubplot:>"
      ]
     },
     "execution_count": 9,
     "metadata": {},
     "output_type": "execute_result"
    },
    {
     "data": {
      "image/png": "[encoded data removed]",
      "text/plain": [
       "<Figure size 1440x720 with 1 Axes>"
      ]
     },
     "metadata": {
      "needs_background": "light"
     },
     "output_type": "display_data"
    }
   ],
   "source": [
    "plt.figure(figsize=(20,10))\n",
    "sns.heatmap(data.isnull(), cbar=False)"
   ]
  },
  {
   "cell_type": "code",
   "execution_count": 10,
   "metadata": {},
   "outputs": [
    {
     "name": "stdout",
     "output_type": "stream",
     "text": [
      "(array([], dtype=int64), array([], dtype=int64))\n"
     ]
    }
   ],
   "source": [
    "#Empty cells in the data\n",
    "empty = np.where(data.applymap(lambda x: x == 'NaN'))\n",
    "print(empty)"
   ]
  },
  {
   "cell_type": "code",
   "execution_count": 11,
   "metadata": {},
   "outputs": [
    {
     "data": {
      "text/plain": [
       "['Sudent_District', 'Student_Lat', 'Std_Long', 'Student_Home_Uni_Distance(km)']"
      ]
     },
     "execution_count": 11,
     "metadata": {},
     "output_type": "execute_result"
    }
   ],
   "source": [
    "#NaN cells in the data\n",
    "nan = data.columns[data.isna().any()].tolist()\n",
    "nan"
   ]
  },
  {
   "cell_type": "code",
   "execution_count": 12,
   "metadata": {},
   "outputs": [
    {
     "data": {
      "text/plain": [
       "4"
      ]
     },
     "execution_count": 12,
     "metadata": {},
     "output_type": "execute_result"
    }
   ],
   "source": [
    "#count NaN cells\n",
    "len(nan)"
   ]
  },
  {
   "cell_type": "code",
   "execution_count": 13,
   "metadata": {},
   "outputs": [
    {
     "data": {
      "text/plain": [
       "0"
      ]
     },
     "execution_count": 13,
     "metadata": {},
     "output_type": "execute_result"
    }
   ],
   "source": [
    "#Empty cells in location column\n",
    "#Count value show that all empty cells are of location column because of same count value\n",
    "cou = data.loc[data['Sudent_District'] == '']\n",
    "len(cou)"
   ]
  },
  {
   "cell_type": "code",
   "execution_count": 14,
   "metadata": {},
   "outputs": [
    {
     "name": "stdout",
     "output_type": "stream",
     "text": [
      "28\n"
     ]
    }
   ],
   "source": [
    "#Empty cells in location column\n",
    "#Count value show that all empty cells are of location column because of same count value\n",
    "cou1 = data.loc[data['Sudent_District'].isna()]\n",
    "print(len(cou1))"
   ]
  },
  {
   "cell_type": "code",
   "execution_count": 15,
   "metadata": {},
   "outputs": [],
   "source": [
    "#Replacing empty cells of location value to 'Unknown'\n",
    "#data['location'] = data[\"location\"].replace({\"\": \"Unknown\"})\n",
    "#data.head(5)"
   ]
  },
  {
   "cell_type": "code",
   "execution_count": 16,
   "metadata": {},
   "outputs": [],
   "source": [
    "#Data bining of 'created_at' column in times\n",
    "#bins = [-1, 6, 12, 18, 24]\n",
    "#labels = ['0-6', '7-12', '13-18', '19-23']\n",
    "#data['time_bins'] = pd.cut(data['time'], bins=bins, labels=labels)\n",
    "#data.head(3)"
   ]
  },
  {
   "cell_type": "code",
   "execution_count": 20,
   "metadata": {},
   "outputs": [
    {
     "data": {
      "text/plain": [
       "Chiniot/Faisalabad      74\n",
       "Lahore                  34\n",
       "Sargodha                 8\n",
       "Toba Tek Singh           5\n",
       "Gujranwala               5\n",
       "Multan                   5\n",
       "Sahiwal                  5\n",
       "Sheikhupura              4\n",
       "Nankana Sahib            3\n",
       "Hafizabad                2\n",
       "Bahawalpur               2\n",
       "Gujrat                   2\n",
       "Okara                    2\n",
       "Rahim Yar Khan           2\n",
       "Sialkot                  2\n",
       "Mandi Bahauddin          2\n",
       "Attock                   2\n",
       "Bahawalnagar             2\n",
       "Islamabad/Rawalpindi     1\n",
       "Kasur                    1\n",
       "Vehari                   1\n",
       "Dera Ghazi Khan          1\n",
       "Muzaffargarh             1\n",
       "Chakwal                  1\n",
       "Baltistan                1\n",
       "Rajanpur                 1\n",
       "Narowal                  1\n",
       "Bagh, Azad Kashmir       1\n",
       "Pakpattan                1\n",
       "Name: Sudent_District, dtype: int64"
      ]
     },
     "execution_count": 20,
     "metadata": {},
     "output_type": "execute_result"
    }
   ],
   "source": [
    "#Top 10 locations \n",
    "top_location = data.Sudent_District.value_counts().sort_values(ascending=False)\n",
    "#Convert data to dataframe\n",
    "#Remove Unknown location\n",
    "top_location"
   ]
  },
  {
   "cell_type": "code",
   "execution_count": 18,
   "metadata": {},
   "outputs": [
    {
     "data": {
      "text/plain": [
       "29"
      ]
     },
     "execution_count": 18,
     "metadata": {},
     "output_type": "execute_result"
    }
   ],
   "source": [
    "len(top_location)"
   ]
  },
  {
   "cell_type": "code",
   "execution_count": 19,
   "metadata": {},
   "outputs": [
    {
     "data": {
      "text/plain": [
       "29"
      ]
     },
     "execution_count": 19,
     "metadata": {},
     "output_type": "execute_result"
    }
   ],
   "source": []
  },
  {
   "cell_type": "code",
   "execution_count": null,
   "metadata": {},
   "outputs": [],
   "source": []
  }
 ],
 "metadata": {
  "kernelspec": {
   "display_name": "Python 3",
   "language": "python",
   "name": "python3"
  },
  "language_info": {
   "codemirror_mode": {
    "name": "ipython",
    "version": 3
   },
   "file_extension": ".py",
   "mimetype": "text/x-python",
   "name": "python",
   "nbconvert_exporter": "python",
   "pygments_lexer": "ipython3",
   "version": "3.7.9"
  }
 },
 "nbformat": 4,
 "nbformat_minor": 2
}
