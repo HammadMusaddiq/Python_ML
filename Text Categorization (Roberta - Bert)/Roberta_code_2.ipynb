{
  "cells": [
    {
      "cell_type": "markdown",
      "metadata": {
        "id": "dKYdh1JhNx5b"
      },
      "source": [
        "# **this code with help from :**"
      ]
    },
    {
      "cell_type": "markdown",
      "metadata": {
        "id": "78_TN1WbYpO1"
      },
      "source": [
        "https://colab.research.google.com/github/NielsRogge/Transformers-Tutorials/blob/master/BERT/Fine_tuning_BERT_(and_friends)_for_multi_label_text_classification.ipynb#scrollTo=4wxY3x-ZZz8h"
      ]
    },
    {
      "cell_type": "code",
      "execution_count": null,
      "metadata": {},
      "outputs": [],
      "source": [
        "!C:\\Users\\Hammad\\Documents\\Python_Envs\\bert_trans_env\\Scripts\\activate.bat\n",
        "!pip install ipykernel\n",
        "!python -m ipykernel install --user --name=bert_trans"
      ]
    },
    {
      "cell_type": "code",
      "execution_count": 1,
      "metadata": {
        "colab": {
          "base_uri": "https://localhost:8080/"
        },
        "id": "g_r3RRFwfQCB",
        "outputId": "49dda95b-804f-4c4e-f35e-dfdd14e4787b"
      },
      "outputs": [
        {
          "name": "stdout",
          "output_type": "stream",
          "text": [
            "Collecting transformers\n",
            "  Downloading transformers-4.26.1-py3-none-any.whl (6.3 MB)\n",
            "     ---------------------------------------- 6.3/6.3 MB 2.8 MB/s eta 0:00:00\n",
            "Collecting tqdm>=4.27\n",
            "  Downloading tqdm-4.64.1-py2.py3-none-any.whl (78 kB)\n",
            "     -------------------------------------- 78.5/78.5 kB 874.7 kB/s eta 0:00:00\n",
            "Collecting filelock\n",
            "  Downloading filelock-3.9.0-py3-none-any.whl (9.7 kB)\n",
            "Collecting regex!=2019.12.17\n",
            "  Downloading regex-2022.10.31-cp310-cp310-win_amd64.whl (267 kB)\n",
            "     ------------------------------------ 267.7/267.7 kB 916.2 kB/s eta 0:00:00\n",
            "Requirement already satisfied: packaging>=20.0 in c:\\users\\hammad\\documents\\python_envs\\bert_trans_env\\lib\\site-packages (from transformers) (23.0)\n",
            "Collecting huggingface-hub<1.0,>=0.11.0\n",
            "  Downloading huggingface_hub-0.12.1-py3-none-any.whl (190 kB)\n",
            "     -------------------------------------- 190.3/190.3 kB 1.2 MB/s eta 0:00:00\n",
            "Collecting pyyaml>=5.1\n",
            "  Downloading PyYAML-6.0-cp310-cp310-win_amd64.whl (151 kB)\n",
            "     ------------------------------------ 151.7/151.7 kB 822.2 kB/s eta 0:00:00\n",
            "Collecting tokenizers!=0.11.3,<0.14,>=0.11.1\n",
            "  Downloading tokenizers-0.13.2-cp310-cp310-win_amd64.whl (3.3 MB)\n",
            "     ---------------------------------------- 3.3/3.3 MB 1.3 MB/s eta 0:00:00\n",
            "Collecting requests\n",
            "  Downloading requests-2.28.2-py3-none-any.whl (62 kB)\n",
            "     -------------------------------------- 62.8/62.8 kB 848.1 kB/s eta 0:00:00\n",
            "Collecting numpy>=1.17\n",
            "  Downloading numpy-1.24.2-cp310-cp310-win_amd64.whl (14.8 MB)\n",
            "     ---------------------------------------- 14.8/14.8 MB 1.5 MB/s eta 0:00:00\n",
            "Collecting typing-extensions>=3.7.4.3\n",
            "  Downloading typing_extensions-4.5.0-py3-none-any.whl (27 kB)\n",
            "Requirement already satisfied: colorama in c:\\users\\hammad\\documents\\python_envs\\bert_trans_env\\lib\\site-packages (from tqdm>=4.27->transformers) (0.4.6)\n",
            "Collecting certifi>=2017.4.17\n",
            "  Downloading certifi-2022.12.7-py3-none-any.whl (155 kB)\n",
            "     -------------------------------------- 155.3/155.3 kB 1.3 MB/s eta 0:00:00\n",
            "Collecting urllib3<1.27,>=1.21.1\n",
            "  Downloading urllib3-1.26.14-py2.py3-none-any.whl (140 kB)\n",
            "     -------------------------------------- 140.6/140.6 kB 1.7 MB/s eta 0:00:00\n",
            "Collecting charset-normalizer<4,>=2\n",
            "  Downloading charset_normalizer-3.0.1-cp310-cp310-win_amd64.whl (96 kB)\n",
            "     ---------------------------------------- 96.5/96.5 kB 1.8 MB/s eta 0:00:00\n",
            "Collecting idna<4,>=2.5\n",
            "  Downloading idna-3.4-py3-none-any.whl (61 kB)\n",
            "     ---------------------------------------- 61.5/61.5 kB 1.7 MB/s eta 0:00:00\n",
            "Installing collected packages: tokenizers, charset-normalizer, urllib3, typing-extensions, tqdm, regex, pyyaml, numpy, idna, filelock, certifi, requests, huggingface-hub, transformers\n",
            "Successfully installed certifi-2022.12.7 charset-normalizer-3.0.1 filelock-3.9.0 huggingface-hub-0.12.1 idna-3.4 numpy-1.24.2 pyyaml-6.0 regex-2022.10.31 requests-2.28.2 tokenizers-0.13.2 tqdm-4.64.1 transformers-4.26.1 typing-extensions-4.5.0 urllib3-1.26.14\n"
          ]
        },
        {
          "name": "stderr",
          "output_type": "stream",
          "text": [
            "\n",
            "[notice] A new release of pip available: 22.3.1 -> 23.0.1\n",
            "[notice] To update, run: python.exe -m pip install --upgrade pip\n"
          ]
        }
      ],
      "source": [
        "!pip install transformers"
      ]
    },
    {
      "cell_type": "code",
      "execution_count": 2,
      "metadata": {},
      "outputs": [
        {
          "name": "stdout",
          "output_type": "stream",
          "text": [
            "Looking in indexes: https://pypi.org/simple, https://download.pytorch.org/whl/cpu\n",
            "Collecting torch\n",
            "  Downloading https://download.pytorch.org/whl/cpu/torch-1.13.1%2Bcpu-cp310-cp310-win_amd64.whl (164.2 MB)\n",
            "     -------------------------------------- 164.2/164.2 MB 1.7 MB/s eta 0:00:00\n",
            "Collecting torchvision\n",
            "  Downloading https://download.pytorch.org/whl/cpu/torchvision-0.14.1%2Bcpu-cp310-cp310-win_amd64.whl (1.1 MB)\n",
            "     ---------------------------------------- 1.1/1.1 MB 1.2 MB/s eta 0:00:00\n",
            "Collecting torchaudio\n",
            "  Downloading https://download.pytorch.org/whl/cpu/torchaudio-0.13.1%2Bcpu-cp310-cp310-win_amd64.whl (2.0 MB)\n",
            "     ---------------------------------------- 2.0/2.0 MB 921.5 kB/s eta 0:00:00\n",
            "Requirement already satisfied: typing-extensions in c:\\users\\hammad\\documents\\python_envs\\bert_trans_env\\lib\\site-packages (from torch) (4.5.0)\n",
            "Collecting pillow!=8.3.*,>=5.3.0\n",
            "  Downloading Pillow-9.4.0-cp310-cp310-win_amd64.whl (2.5 MB)\n",
            "     ---------------------------------------- 2.5/2.5 MB 3.9 MB/s eta 0:00:00\n",
            "Requirement already satisfied: numpy in c:\\users\\hammad\\documents\\python_envs\\bert_trans_env\\lib\\site-packages (from torchvision) (1.24.2)\n",
            "Requirement already satisfied: requests in c:\\users\\hammad\\documents\\python_envs\\bert_trans_env\\lib\\site-packages (from torchvision) (2.28.2)\n",
            "Requirement already satisfied: certifi>=2017.4.17 in c:\\users\\hammad\\documents\\python_envs\\bert_trans_env\\lib\\site-packages (from requests->torchvision) (2022.12.7)\n",
            "Requirement already satisfied: charset-normalizer<4,>=2 in c:\\users\\hammad\\documents\\python_envs\\bert_trans_env\\lib\\site-packages (from requests->torchvision) (3.0.1)\n",
            "Requirement already satisfied: urllib3<1.27,>=1.21.1 in c:\\users\\hammad\\documents\\python_envs\\bert_trans_env\\lib\\site-packages (from requests->torchvision) (1.26.14)\n",
            "Requirement already satisfied: idna<4,>=2.5 in c:\\users\\hammad\\documents\\python_envs\\bert_trans_env\\lib\\site-packages (from requests->torchvision) (3.4)\n",
            "Installing collected packages: torch, pillow, torchvision, torchaudio\n",
            "Successfully installed pillow-9.4.0 torch-1.13.1+cpu torchaudio-0.13.1+cpu torchvision-0.14.1+cpu\n"
          ]
        },
        {
          "name": "stderr",
          "output_type": "stream",
          "text": [
            "\n",
            "[notice] A new release of pip available: 22.3.1 -> 23.0.1\n",
            "[notice] To update, run: python.exe -m pip install --upgrade pip\n"
          ]
        }
      ],
      "source": [
        "!pip3 install torch torchvision torchaudio --extra-index-url https://download.pytorch.org/whl/cpu"
      ]
    },
    {
      "cell_type": "code",
      "execution_count": 15,
      "metadata": {},
      "outputs": [
        {
          "name": "stdout",
          "output_type": "stream",
          "text": [
            "Requirement already satisfied: scikit-learn in c:\\users\\hammad\\documents\\python_envs\\bert_trans_env\\lib\\site-packages (1.2.1)\n",
            "Requirement already satisfied: nltk in c:\\users\\hammad\\documents\\python_envs\\bert_trans_env\\lib\\site-packages (3.8.1)\n",
            "Requirement already satisfied: tensorflow in c:\\users\\hammad\\documents\\python_envs\\bert_trans_env\\lib\\site-packages (2.11.0)\n",
            "Requirement already satisfied: pandas in c:\\users\\hammad\\documents\\python_envs\\bert_trans_env\\lib\\site-packages (1.5.3)\n",
            "Collecting matplotlib\n",
            "  Downloading matplotlib-3.7.0-cp310-cp310-win_amd64.whl (7.6 MB)\n",
            "     ---------------------------------------- 7.6/7.6 MB 2.3 MB/s eta 0:00:00\n",
            "Requirement already satisfied: threadpoolctl>=2.0.0 in c:\\users\\hammad\\documents\\python_envs\\bert_trans_env\\lib\\site-packages (from scikit-learn) (3.1.0)\n",
            "Requirement already satisfied: scipy>=1.3.2 in c:\\users\\hammad\\documents\\python_envs\\bert_trans_env\\lib\\site-packages (from scikit-learn) (1.10.0)\n",
            "Requirement already satisfied: joblib>=1.1.1 in c:\\users\\hammad\\documents\\python_envs\\bert_trans_env\\lib\\site-packages (from scikit-learn) (1.2.0)\n",
            "Requirement already satisfied: numpy>=1.17.3 in c:\\users\\hammad\\documents\\python_envs\\bert_trans_env\\lib\\site-packages (from scikit-learn) (1.24.2)\n",
            "Requirement already satisfied: click in c:\\users\\hammad\\documents\\python_envs\\bert_trans_env\\lib\\site-packages (from nltk) (8.1.3)\n",
            "Requirement already satisfied: regex>=2021.8.3 in c:\\users\\hammad\\documents\\python_envs\\bert_trans_env\\lib\\site-packages (from nltk) (2022.10.31)\n",
            "Requirement already satisfied: tqdm in c:\\users\\hammad\\documents\\python_envs\\bert_trans_env\\lib\\site-packages (from nltk) (4.64.1)\n",
            "Requirement already satisfied: tensorflow-intel==2.11.0 in c:\\users\\hammad\\documents\\python_envs\\bert_trans_env\\lib\\site-packages (from tensorflow) (2.11.0)\n",
            "Requirement already satisfied: setuptools in c:\\users\\hammad\\documents\\python_envs\\bert_trans_env\\lib\\site-packages (from tensorflow-intel==2.11.0->tensorflow) (65.5.0)\n",
            "Requirement already satisfied: termcolor>=1.1.0 in c:\\users\\hammad\\documents\\python_envs\\bert_trans_env\\lib\\site-packages (from tensorflow-intel==2.11.0->tensorflow) (2.2.0)\n",
            "Requirement already satisfied: libclang>=13.0.0 in c:\\users\\hammad\\documents\\python_envs\\bert_trans_env\\lib\\site-packages (from tensorflow-intel==2.11.0->tensorflow) (15.0.6.1)\n",
            "Requirement already satisfied: google-pasta>=0.1.1 in c:\\users\\hammad\\documents\\python_envs\\bert_trans_env\\lib\\site-packages (from tensorflow-intel==2.11.0->tensorflow) (0.2.0)\n",
            "Requirement already satisfied: astunparse>=1.6.0 in c:\\users\\hammad\\documents\\python_envs\\bert_trans_env\\lib\\site-packages (from tensorflow-intel==2.11.0->tensorflow) (1.6.3)\n",
            "Requirement already satisfied: packaging in c:\\users\\hammad\\documents\\python_envs\\bert_trans_env\\lib\\site-packages (from tensorflow-intel==2.11.0->tensorflow) (23.0)\n",
            "Requirement already satisfied: keras<2.12,>=2.11.0 in c:\\users\\hammad\\documents\\python_envs\\bert_trans_env\\lib\\site-packages (from tensorflow-intel==2.11.0->tensorflow) (2.11.0)\n",
            "Requirement already satisfied: tensorflow-io-gcs-filesystem>=0.23.1 in c:\\users\\hammad\\documents\\python_envs\\bert_trans_env\\lib\\site-packages (from tensorflow-intel==2.11.0->tensorflow) (0.30.0)\n",
            "Requirement already satisfied: protobuf<3.20,>=3.9.2 in c:\\users\\hammad\\documents\\python_envs\\bert_trans_env\\lib\\site-packages (from tensorflow-intel==2.11.0->tensorflow) (3.19.6)\n",
            "Requirement already satisfied: six>=1.12.0 in c:\\users\\hammad\\documents\\python_envs\\bert_trans_env\\lib\\site-packages (from tensorflow-intel==2.11.0->tensorflow) (1.16.0)\n",
            "Requirement already satisfied: absl-py>=1.0.0 in c:\\users\\hammad\\documents\\python_envs\\bert_trans_env\\lib\\site-packages (from tensorflow-intel==2.11.0->tensorflow) (1.4.0)\n",
            "Requirement already satisfied: typing-extensions>=3.6.6 in c:\\users\\hammad\\documents\\python_envs\\bert_trans_env\\lib\\site-packages (from tensorflow-intel==2.11.0->tensorflow) (4.5.0)\n",
            "Requirement already satisfied: tensorboard<2.12,>=2.11 in c:\\users\\hammad\\documents\\python_envs\\bert_trans_env\\lib\\site-packages (from tensorflow-intel==2.11.0->tensorflow) (2.11.2)\n",
            "Requirement already satisfied: wrapt>=1.11.0 in c:\\users\\hammad\\documents\\python_envs\\bert_trans_env\\lib\\site-packages (from tensorflow-intel==2.11.0->tensorflow) (1.14.1)\n",
            "Requirement already satisfied: opt-einsum>=2.3.2 in c:\\users\\hammad\\documents\\python_envs\\bert_trans_env\\lib\\site-packages (from tensorflow-intel==2.11.0->tensorflow) (3.3.0)\n",
            "Requirement already satisfied: flatbuffers>=2.0 in c:\\users\\hammad\\documents\\python_envs\\bert_trans_env\\lib\\site-packages (from tensorflow-intel==2.11.0->tensorflow) (23.1.21)\n",
            "Requirement already satisfied: grpcio<2.0,>=1.24.3 in c:\\users\\hammad\\documents\\python_envs\\bert_trans_env\\lib\\site-packages (from tensorflow-intel==2.11.0->tensorflow) (1.51.1)\n",
            "Requirement already satisfied: h5py>=2.9.0 in c:\\users\\hammad\\documents\\python_envs\\bert_trans_env\\lib\\site-packages (from tensorflow-intel==2.11.0->tensorflow) (3.8.0)\n",
            "Requirement already satisfied: tensorflow-estimator<2.12,>=2.11.0 in c:\\users\\hammad\\documents\\python_envs\\bert_trans_env\\lib\\site-packages (from tensorflow-intel==2.11.0->tensorflow) (2.11.0)\n",
            "Requirement already satisfied: gast<=0.4.0,>=0.2.1 in c:\\users\\hammad\\documents\\python_envs\\bert_trans_env\\lib\\site-packages (from tensorflow-intel==2.11.0->tensorflow) (0.4.0)\n",
            "Requirement already satisfied: python-dateutil>=2.8.1 in c:\\users\\hammad\\documents\\python_envs\\bert_trans_env\\lib\\site-packages (from pandas) (2.8.2)\n",
            "Requirement already satisfied: pytz>=2020.1 in c:\\users\\hammad\\documents\\python_envs\\bert_trans_env\\lib\\site-packages (from pandas) (2022.7.1)\n",
            "Collecting contourpy>=1.0.1\n",
            "  Downloading contourpy-1.0.7-cp310-cp310-win_amd64.whl (162 kB)\n",
            "     -------------------------------------- 163.0/163.0 kB 1.1 MB/s eta 0:00:00\n",
            "Collecting fonttools>=4.22.0\n",
            "  Downloading fonttools-4.38.0-py3-none-any.whl (965 kB)\n",
            "     -------------------------------------- 965.4/965.4 kB 1.3 MB/s eta 0:00:00\n",
            "Collecting pyparsing>=2.3.1\n",
            "  Downloading pyparsing-3.0.9-py3-none-any.whl (98 kB)\n",
            "     ---------------------------------------- 98.3/98.3 kB 1.1 MB/s eta 0:00:00\n",
            "Collecting cycler>=0.10\n",
            "  Downloading cycler-0.11.0-py3-none-any.whl (6.4 kB)\n",
            "Collecting kiwisolver>=1.0.1\n",
            "  Downloading kiwisolver-1.4.4-cp310-cp310-win_amd64.whl (55 kB)\n",
            "     -------------------------------------- 55.3/55.3 kB 957.9 kB/s eta 0:00:00\n",
            "Requirement already satisfied: pillow>=6.2.0 in c:\\users\\hammad\\documents\\python_envs\\bert_trans_env\\lib\\site-packages (from matplotlib) (9.4.0)\n",
            "Requirement already satisfied: colorama in c:\\users\\hammad\\documents\\python_envs\\bert_trans_env\\lib\\site-packages (from click->nltk) (0.4.6)\n",
            "Requirement already satisfied: wheel<1.0,>=0.23.0 in c:\\users\\hammad\\documents\\python_envs\\bert_trans_env\\lib\\site-packages (from astunparse>=1.6.0->tensorflow-intel==2.11.0->tensorflow) (0.38.4)\n",
            "Requirement already satisfied: markdown>=2.6.8 in c:\\users\\hammad\\documents\\python_envs\\bert_trans_env\\lib\\site-packages (from tensorboard<2.12,>=2.11->tensorflow-intel==2.11.0->tensorflow) (3.4.1)\n",
            "Requirement already satisfied: requests<3,>=2.21.0 in c:\\users\\hammad\\documents\\python_envs\\bert_trans_env\\lib\\site-packages (from tensorboard<2.12,>=2.11->tensorflow-intel==2.11.0->tensorflow) (2.28.2)\n",
            "Requirement already satisfied: tensorboard-data-server<0.7.0,>=0.6.0 in c:\\users\\hammad\\documents\\python_envs\\bert_trans_env\\lib\\site-packages (from tensorboard<2.12,>=2.11->tensorflow-intel==2.11.0->tensorflow) (0.6.1)\n",
            "Requirement already satisfied: tensorboard-plugin-wit>=1.6.0 in c:\\users\\hammad\\documents\\python_envs\\bert_trans_env\\lib\\site-packages (from tensorboard<2.12,>=2.11->tensorflow-intel==2.11.0->tensorflow) (1.8.1)\n",
            "Requirement already satisfied: werkzeug>=1.0.1 in c:\\users\\hammad\\documents\\python_envs\\bert_trans_env\\lib\\site-packages (from tensorboard<2.12,>=2.11->tensorflow-intel==2.11.0->tensorflow) (2.2.3)\n",
            "Requirement already satisfied: google-auth<3,>=1.6.3 in c:\\users\\hammad\\documents\\python_envs\\bert_trans_env\\lib\\site-packages (from tensorboard<2.12,>=2.11->tensorflow-intel==2.11.0->tensorflow) (2.16.0)\n",
            "Requirement already satisfied: google-auth-oauthlib<0.5,>=0.4.1 in c:\\users\\hammad\\documents\\python_envs\\bert_trans_env\\lib\\site-packages (from tensorboard<2.12,>=2.11->tensorflow-intel==2.11.0->tensorflow) (0.4.6)\n",
            "Requirement already satisfied: rsa<5,>=3.1.4 in c:\\users\\hammad\\documents\\python_envs\\bert_trans_env\\lib\\site-packages (from google-auth<3,>=1.6.3->tensorboard<2.12,>=2.11->tensorflow-intel==2.11.0->tensorflow) (4.9)\n",
            "Requirement already satisfied: cachetools<6.0,>=2.0.0 in c:\\users\\hammad\\documents\\python_envs\\bert_trans_env\\lib\\site-packages (from google-auth<3,>=1.6.3->tensorboard<2.12,>=2.11->tensorflow-intel==2.11.0->tensorflow) (5.3.0)\n",
            "Requirement already satisfied: pyasn1-modules>=0.2.1 in c:\\users\\hammad\\documents\\python_envs\\bert_trans_env\\lib\\site-packages (from google-auth<3,>=1.6.3->tensorboard<2.12,>=2.11->tensorflow-intel==2.11.0->tensorflow) (0.2.8)\n",
            "Requirement already satisfied: requests-oauthlib>=0.7.0 in c:\\users\\hammad\\documents\\python_envs\\bert_trans_env\\lib\\site-packages (from google-auth-oauthlib<0.5,>=0.4.1->tensorboard<2.12,>=2.11->tensorflow-intel==2.11.0->tensorflow) (1.3.1)\n",
            "Requirement already satisfied: urllib3<1.27,>=1.21.1 in c:\\users\\hammad\\documents\\python_envs\\bert_trans_env\\lib\\site-packages (from requests<3,>=2.21.0->tensorboard<2.12,>=2.11->tensorflow-intel==2.11.0->tensorflow) (1.26.14)\n",
            "Requirement already satisfied: certifi>=2017.4.17 in c:\\users\\hammad\\documents\\python_envs\\bert_trans_env\\lib\\site-packages (from requests<3,>=2.21.0->tensorboard<2.12,>=2.11->tensorflow-intel==2.11.0->tensorflow) (2022.12.7)\n",
            "Requirement already satisfied: charset-normalizer<4,>=2 in c:\\users\\hammad\\documents\\python_envs\\bert_trans_env\\lib\\site-packages (from requests<3,>=2.21.0->tensorboard<2.12,>=2.11->tensorflow-intel==2.11.0->tensorflow) (3.0.1)\n",
            "Requirement already satisfied: idna<4,>=2.5 in c:\\users\\hammad\\documents\\python_envs\\bert_trans_env\\lib\\site-packages (from requests<3,>=2.21.0->tensorboard<2.12,>=2.11->tensorflow-intel==2.11.0->tensorflow) (3.4)\n",
            "Requirement already satisfied: MarkupSafe>=2.1.1 in c:\\users\\hammad\\documents\\python_envs\\bert_trans_env\\lib\\site-packages (from werkzeug>=1.0.1->tensorboard<2.12,>=2.11->tensorflow-intel==2.11.0->tensorflow) (2.1.2)\n",
            "Requirement already satisfied: pyasn1<0.5.0,>=0.4.6 in c:\\users\\hammad\\documents\\python_envs\\bert_trans_env\\lib\\site-packages (from pyasn1-modules>=0.2.1->google-auth<3,>=1.6.3->tensorboard<2.12,>=2.11->tensorflow-intel==2.11.0->tensorflow) (0.4.8)\n",
            "Requirement already satisfied: oauthlib>=3.0.0 in c:\\users\\hammad\\documents\\python_envs\\bert_trans_env\\lib\\site-packages (from requests-oauthlib>=0.7.0->google-auth-oauthlib<0.5,>=0.4.1->tensorboard<2.12,>=2.11->tensorflow-intel==2.11.0->tensorflow) (3.2.2)\n",
            "Installing collected packages: pyparsing, kiwisolver, fonttools, cycler, contourpy, matplotlib\n",
            "Successfully installed contourpy-1.0.7 cycler-0.11.0 fonttools-4.38.0 kiwisolver-1.4.4 matplotlib-3.7.0 pyparsing-3.0.9\n"
          ]
        },
        {
          "name": "stderr",
          "output_type": "stream",
          "text": [
            "\n",
            "[notice] A new release of pip available: 22.3.1 -> 23.0.1\n",
            "[notice] To update, run: python.exe -m pip install --upgrade pip\n"
          ]
        }
      ],
      "source": [
        "!pip install scikit-learn nltk tensorflow pandas matplotlib"
      ]
    },
    {
      "cell_type": "code",
      "execution_count": 16,
      "metadata": {
        "id": "HtXYi65qc2hP"
      },
      "outputs": [],
      "source": [
        "import torch\n",
        "import torch.nn as nn\n",
        "import torch.optim as optim\n",
        "import torch.nn.functional as F\n",
        "from torch.autograd import Variable\n",
        "from torch.utils.data import Dataset, DataLoader\n",
        "\n",
        "import tensorflow as tf\n",
        "\n",
        "from transformers import BertForSequenceClassification, BertTokenizer, RobertaForSequenceClassification, RobertaTokenizer, AdamW, RobertaModel\n",
        "\n",
        "\n",
        "from sklearn.model_selection import train_test_split\n",
        "from sklearn.metrics import precision_recall_fscore_support, accuracy_score, precision_score, recall_score\n",
        "\n",
        "from tqdm.notebook import trange, tqdm\n",
        "from tqdm import tqdm_notebook\n",
        "\n",
        "import numpy as np\n",
        "import pandas as pd\n",
        "import re\n",
        "\n",
        "import nltk\n",
        "from nltk.corpus import stopwords\n",
        "from nltk.tokenize import word_tokenize\n",
        "from nltk.stem import PorterStemmer\n",
        "\n",
        "import json\n",
        "from uuid import uuid4\n",
        "\n",
        "import matplotlib.pyplot as plt"
      ]
    },
    {
      "cell_type": "code",
      "execution_count": 9,
      "metadata": {
        "id": "2IdOYYeNeFGs"
      },
      "outputs": [],
      "source": [
        "df=pd.read_csv(\"Africa_1997-2020_Jan08.csv\",sep=';')"
      ]
    },
    {
      "cell_type": "code",
      "execution_count": 10,
      "metadata": {
        "colab": {
          "base_uri": "https://localhost:8080/",
          "height": 1000
        },
        "id": "YTBgHMxPeFBU",
        "outputId": "6cb9c351-ef16-4c4d-8375-c2e204359acc"
      },
      "outputs": [
        {
          "data": {
            "text/html": [
              "<div>\n",
              "<style scoped>\n",
              "    .dataframe tbody tr th:only-of-type {\n",
              "        vertical-align: middle;\n",
              "    }\n",
              "\n",
              "    .dataframe tbody tr th {\n",
              "        vertical-align: top;\n",
              "    }\n",
              "\n",
              "    .dataframe thead th {\n",
              "        text-align: right;\n",
              "    }\n",
              "</style>\n",
              "<table border=\"1\" class=\"dataframe\">\n",
              "  <thead>\n",
              "    <tr style=\"text-align: right;\">\n",
              "      <th></th>\n",
              "      <th>ISO</th>\n",
              "      <th>EVENT_ID_CNTY</th>\n",
              "      <th>EVENT_ID_NO_CNTY</th>\n",
              "      <th>EVENT_DATE</th>\n",
              "      <th>YEAR</th>\n",
              "      <th>TIME_PRECISION</th>\n",
              "      <th>EVENT_TYPE</th>\n",
              "      <th>SUB_EVENT_TYPE</th>\n",
              "      <th>ACTOR1</th>\n",
              "      <th>ASSOC_ACTOR_1</th>\n",
              "      <th>...</th>\n",
              "      <th>ADMIN3</th>\n",
              "      <th>LOCATION</th>\n",
              "      <th>LATITUDE</th>\n",
              "      <th>LONGITUDE</th>\n",
              "      <th>GEO_PRECISION</th>\n",
              "      <th>SOURCE</th>\n",
              "      <th>SOURCE_SCALE</th>\n",
              "      <th>NOTES</th>\n",
              "      <th>FATALITIES</th>\n",
              "      <th>TIMESTAMP</th>\n",
              "    </tr>\n",
              "  </thead>\n",
              "  <tbody>\n",
              "    <tr>\n",
              "      <th>0</th>\n",
              "      <td>12</td>\n",
              "      <td>ALG1</td>\n",
              "      <td>1</td>\n",
              "      <td>01-janvier-1997</td>\n",
              "      <td>1997</td>\n",
              "      <td>1</td>\n",
              "      <td>Violence against civilians</td>\n",
              "      <td>Attack</td>\n",
              "      <td>GIA: Armed Islamic Group</td>\n",
              "      <td>NaN</td>\n",
              "      <td>...</td>\n",
              "      <td>NaN</td>\n",
              "      <td>Douaouda</td>\n",
              "      <td>36672</td>\n",
              "      <td>2789</td>\n",
              "      <td>1</td>\n",
              "      <td>Algeria Watch</td>\n",
              "      <td>Other</td>\n",
              "      <td>5 January: Beheading of 5 citizens in Douaouda...</td>\n",
              "      <td>5</td>\n",
              "      <td>1582579226</td>\n",
              "    </tr>\n",
              "    <tr>\n",
              "      <th>1</th>\n",
              "      <td>12</td>\n",
              "      <td>ALG2</td>\n",
              "      <td>2</td>\n",
              "      <td>02-janvier-1997</td>\n",
              "      <td>1997</td>\n",
              "      <td>1</td>\n",
              "      <td>Violence against civilians</td>\n",
              "      <td>Attack</td>\n",
              "      <td>GIA: Armed Islamic Group</td>\n",
              "      <td>NaN</td>\n",
              "      <td>...</td>\n",
              "      <td>NaN</td>\n",
              "      <td>Hassasna</td>\n",
              "      <td>36133</td>\n",
              "      <td>883</td>\n",
              "      <td>1</td>\n",
              "      <td>Algeria Watch</td>\n",
              "      <td>Other</td>\n",
              "      <td>Two citizens were beheaded in Hassasna.</td>\n",
              "      <td>2</td>\n",
              "      <td>1582579226</td>\n",
              "    </tr>\n",
              "    <tr>\n",
              "      <th>2</th>\n",
              "      <td>12</td>\n",
              "      <td>ALG3</td>\n",
              "      <td>3</td>\n",
              "      <td>03-janvier-1997</td>\n",
              "      <td>1997</td>\n",
              "      <td>1</td>\n",
              "      <td>Violence against civilians</td>\n",
              "      <td>Attack</td>\n",
              "      <td>GIA: Armed Islamic Group</td>\n",
              "      <td>NaN</td>\n",
              "      <td>...</td>\n",
              "      <td>NaN</td>\n",
              "      <td>Hassi El Abed</td>\n",
              "      <td>34966</td>\n",
              "      <td>-0,29</td>\n",
              "      <td>1</td>\n",
              "      <td>Algeria Watch</td>\n",
              "      <td>Other</td>\n",
              "      <td>Two citizens were killed in a raid on the vill...</td>\n",
              "      <td>2</td>\n",
              "      <td>1582579226</td>\n",
              "    </tr>\n",
              "    <tr>\n",
              "      <th>3</th>\n",
              "      <td>12</td>\n",
              "      <td>ALG4</td>\n",
              "      <td>4</td>\n",
              "      <td>04-janvier-1997</td>\n",
              "      <td>1997</td>\n",
              "      <td>1</td>\n",
              "      <td>Violence against civilians</td>\n",
              "      <td>Attack</td>\n",
              "      <td>GIA: Armed Islamic Group</td>\n",
              "      <td>NaN</td>\n",
              "      <td>...</td>\n",
              "      <td>NaN</td>\n",
              "      <td>Blida</td>\n",
              "      <td>36469</td>\n",
              "      <td>2829</td>\n",
              "      <td>1</td>\n",
              "      <td>Algeria Watch</td>\n",
              "      <td>Other</td>\n",
              "      <td>4 January: 16 citizens were murdered in the vi...</td>\n",
              "      <td>16</td>\n",
              "      <td>1582579226</td>\n",
              "    </tr>\n",
              "    <tr>\n",
              "      <th>4</th>\n",
              "      <td>12</td>\n",
              "      <td>ALG5</td>\n",
              "      <td>5</td>\n",
              "      <td>05-janvier-1997</td>\n",
              "      <td>1997</td>\n",
              "      <td>1</td>\n",
              "      <td>Violence against civilians</td>\n",
              "      <td>Attack</td>\n",
              "      <td>GIA: Armed Islamic Group</td>\n",
              "      <td>NaN</td>\n",
              "      <td>...</td>\n",
              "      <td>NaN</td>\n",
              "      <td>Douaouda</td>\n",
              "      <td>36672</td>\n",
              "      <td>2789</td>\n",
              "      <td>1</td>\n",
              "      <td>Algeria Watch</td>\n",
              "      <td>Other</td>\n",
              "      <td>5 January: Killing of 18 citizens in the Olivi...</td>\n",
              "      <td>18</td>\n",
              "      <td>1582579226</td>\n",
              "    </tr>\n",
              "    <tr>\n",
              "      <th>...</th>\n",
              "      <td>...</td>\n",
              "      <td>...</td>\n",
              "      <td>...</td>\n",
              "      <td>...</td>\n",
              "      <td>...</td>\n",
              "      <td>...</td>\n",
              "      <td>...</td>\n",
              "      <td>...</td>\n",
              "      <td>...</td>\n",
              "      <td>...</td>\n",
              "      <td>...</td>\n",
              "      <td>...</td>\n",
              "      <td>...</td>\n",
              "      <td>...</td>\n",
              "      <td>...</td>\n",
              "      <td>...</td>\n",
              "      <td>...</td>\n",
              "      <td>...</td>\n",
              "      <td>...</td>\n",
              "      <td>...</td>\n",
              "      <td>...</td>\n",
              "    </tr>\n",
              "    <tr>\n",
              "      <th>65530</th>\n",
              "      <td>404</td>\n",
              "      <td>KEN318</td>\n",
              "      <td>318</td>\n",
              "      <td>25-octobre-1998</td>\n",
              "      <td>1998</td>\n",
              "      <td>1</td>\n",
              "      <td>Violence against civilians</td>\n",
              "      <td>Attack</td>\n",
              "      <td>OLF: Oromo Liberation Front</td>\n",
              "      <td>Borana Ethnic Militia (Kenya)</td>\n",
              "      <td>...</td>\n",
              "      <td>Township</td>\n",
              "      <td>Tuli</td>\n",
              "      <td>1643</td>\n",
              "      <td>40343</td>\n",
              "      <td>1</td>\n",
              "      <td>All Africa</td>\n",
              "      <td>Regional</td>\n",
              "      <td>OLF and Borana ethnic militia attack civilians...</td>\n",
              "      <td>28</td>\n",
              "      <td>1553544833</td>\n",
              "    </tr>\n",
              "    <tr>\n",
              "      <th>65531</th>\n",
              "      <td>404</td>\n",
              "      <td>KEN319</td>\n",
              "      <td>319</td>\n",
              "      <td>02-novembre-1998</td>\n",
              "      <td>1998</td>\n",
              "      <td>1</td>\n",
              "      <td>Protests</td>\n",
              "      <td>Peaceful protest</td>\n",
              "      <td>Protesters (Kenya)</td>\n",
              "      <td>Students (Kenya)</td>\n",
              "      <td>...</td>\n",
              "      <td>Nairobi Central</td>\n",
              "      <td>Nairobi</td>\n",
              "      <td>-1283</td>\n",
              "      <td>36817</td>\n",
              "      <td>1</td>\n",
              "      <td>All Africa</td>\n",
              "      <td>Regional</td>\n",
              "      <td>University students protest over killing in Wa...</td>\n",
              "      <td>0</td>\n",
              "      <td>1567465412</td>\n",
              "    </tr>\n",
              "    <tr>\n",
              "      <th>65532</th>\n",
              "      <td>404</td>\n",
              "      <td>KEN320</td>\n",
              "      <td>320</td>\n",
              "      <td>10-novembre-1998</td>\n",
              "      <td>1998</td>\n",
              "      <td>1</td>\n",
              "      <td>Battles</td>\n",
              "      <td>Armed clash</td>\n",
              "      <td>SPLM/A: Sudan People's Liberation Movement/Army</td>\n",
              "      <td>NaN</td>\n",
              "      <td>...</td>\n",
              "      <td>Nairobi Central</td>\n",
              "      <td>Nairobi</td>\n",
              "      <td>-1283</td>\n",
              "      <td>36817</td>\n",
              "      <td>1</td>\n",
              "      <td>All Africa</td>\n",
              "      <td>Regional</td>\n",
              "      <td>Garangs SPLA security men raid home of Kerubin...</td>\n",
              "      <td>0</td>\n",
              "      <td>1604344065</td>\n",
              "    </tr>\n",
              "    <tr>\n",
              "      <th>65533</th>\n",
              "      <td>404</td>\n",
              "      <td>KEN323</td>\n",
              "      <td>323</td>\n",
              "      <td>14-novembre-1998</td>\n",
              "      <td>1998</td>\n",
              "      <td>1</td>\n",
              "      <td>Battles</td>\n",
              "      <td>Armed clash</td>\n",
              "      <td>SPLM/A: Sudan People's Liberation Movement/Army</td>\n",
              "      <td>NaN</td>\n",
              "      <td>...</td>\n",
              "      <td>Nairobi Central</td>\n",
              "      <td>Nairobi</td>\n",
              "      <td>-1283</td>\n",
              "      <td>36817</td>\n",
              "      <td>1</td>\n",
              "      <td>All Africa</td>\n",
              "      <td>Regional</td>\n",
              "      <td>Rival SPLA factions battle at police station</td>\n",
              "      <td>0</td>\n",
              "      <td>1583194169</td>\n",
              "    </tr>\n",
              "    <tr>\n",
              "      <th>65534</th>\n",
              "      <td>404</td>\n",
              "      <td>KEN322</td>\n",
              "      <td>322</td>\n",
              "      <td>14-novembre-1998</td>\n",
              "      <td>1998</td>\n",
              "      <td>1</td>\n",
              "      <td>Battles</td>\n",
              "      <td>Armed clash</td>\n",
              "      <td>SPLM/A: Sudan People's Liberation Movement/Army</td>\n",
              "      <td>NaN</td>\n",
              "      <td>...</td>\n",
              "      <td>Nairobi Central</td>\n",
              "      <td>Nairobi</td>\n",
              "      <td>-1283</td>\n",
              "      <td>36817</td>\n",
              "      <td>1</td>\n",
              "      <td>All Africa</td>\n",
              "      <td>Regional</td>\n",
              "      <td>Gang of youth loyal to Kerubinos SPLA faction ...</td>\n",
              "      <td>0</td>\n",
              "      <td>1583194169</td>\n",
              "    </tr>\n",
              "  </tbody>\n",
              "</table>\n",
              "<p>65535 rows × 29 columns</p>\n",
              "</div>"
            ],
            "text/plain": [
              "       ISO EVENT_ID_CNTY  EVENT_ID_NO_CNTY        EVENT_DATE  YEAR  \\\n",
              "0       12          ALG1                 1   01-janvier-1997  1997   \n",
              "1       12          ALG2                 2   02-janvier-1997  1997   \n",
              "2       12          ALG3                 3   03-janvier-1997  1997   \n",
              "3       12          ALG4                 4   04-janvier-1997  1997   \n",
              "4       12          ALG5                 5   05-janvier-1997  1997   \n",
              "...    ...           ...               ...               ...   ...   \n",
              "65530  404        KEN318               318   25-octobre-1998  1998   \n",
              "65531  404        KEN319               319  02-novembre-1998  1998   \n",
              "65532  404        KEN320               320  10-novembre-1998  1998   \n",
              "65533  404        KEN323               323  14-novembre-1998  1998   \n",
              "65534  404        KEN322               322  14-novembre-1998  1998   \n",
              "\n",
              "       TIME_PRECISION                  EVENT_TYPE    SUB_EVENT_TYPE  \\\n",
              "0                   1  Violence against civilians            Attack   \n",
              "1                   1  Violence against civilians            Attack   \n",
              "2                   1  Violence against civilians            Attack   \n",
              "3                   1  Violence against civilians            Attack   \n",
              "4                   1  Violence against civilians            Attack   \n",
              "...               ...                         ...               ...   \n",
              "65530               1  Violence against civilians            Attack   \n",
              "65531               1                    Protests  Peaceful protest   \n",
              "65532               1                     Battles       Armed clash   \n",
              "65533               1                     Battles       Armed clash   \n",
              "65534               1                     Battles       Armed clash   \n",
              "\n",
              "                                                ACTOR1  \\\n",
              "0                             GIA: Armed Islamic Group   \n",
              "1                             GIA: Armed Islamic Group   \n",
              "2                             GIA: Armed Islamic Group   \n",
              "3                             GIA: Armed Islamic Group   \n",
              "4                             GIA: Armed Islamic Group   \n",
              "...                                                ...   \n",
              "65530                      OLF: Oromo Liberation Front   \n",
              "65531                               Protesters (Kenya)   \n",
              "65532  SPLM/A: Sudan People's Liberation Movement/Army   \n",
              "65533  SPLM/A: Sudan People's Liberation Movement/Army   \n",
              "65534  SPLM/A: Sudan People's Liberation Movement/Army   \n",
              "\n",
              "                       ASSOC_ACTOR_1  ...           ADMIN3       LOCATION  \\\n",
              "0                                NaN  ...              NaN       Douaouda   \n",
              "1                                NaN  ...              NaN       Hassasna   \n",
              "2                                NaN  ...              NaN  Hassi El Abed   \n",
              "3                                NaN  ...              NaN          Blida   \n",
              "4                                NaN  ...              NaN       Douaouda   \n",
              "...                              ...  ...              ...            ...   \n",
              "65530  Borana Ethnic Militia (Kenya)  ...         Township           Tuli   \n",
              "65531               Students (Kenya)  ...  Nairobi Central        Nairobi   \n",
              "65532                            NaN  ...  Nairobi Central        Nairobi   \n",
              "65533                            NaN  ...  Nairobi Central        Nairobi   \n",
              "65534                            NaN  ...  Nairobi Central        Nairobi   \n",
              "\n",
              "      LATITUDE  LONGITUDE  GEO_PRECISION         SOURCE SOURCE_SCALE  \\\n",
              "0        36672       2789              1  Algeria Watch        Other   \n",
              "1        36133        883              1  Algeria Watch        Other   \n",
              "2        34966      -0,29              1  Algeria Watch        Other   \n",
              "3        36469       2829              1  Algeria Watch        Other   \n",
              "4        36672       2789              1  Algeria Watch        Other   \n",
              "...        ...        ...            ...            ...          ...   \n",
              "65530     1643      40343              1     All Africa     Regional   \n",
              "65531    -1283      36817              1     All Africa     Regional   \n",
              "65532    -1283      36817              1     All Africa     Regional   \n",
              "65533    -1283      36817              1     All Africa     Regional   \n",
              "65534    -1283      36817              1     All Africa     Regional   \n",
              "\n",
              "                                                   NOTES FATALITIES  \\\n",
              "0      5 January: Beheading of 5 citizens in Douaouda...          5   \n",
              "1                Two citizens were beheaded in Hassasna.          2   \n",
              "2      Two citizens were killed in a raid on the vill...          2   \n",
              "3      4 January: 16 citizens were murdered in the vi...         16   \n",
              "4      5 January: Killing of 18 citizens in the Olivi...         18   \n",
              "...                                                  ...        ...   \n",
              "65530  OLF and Borana ethnic militia attack civilians...         28   \n",
              "65531  University students protest over killing in Wa...          0   \n",
              "65532  Garangs SPLA security men raid home of Kerubin...          0   \n",
              "65533       Rival SPLA factions battle at police station          0   \n",
              "65534  Gang of youth loyal to Kerubinos SPLA faction ...          0   \n",
              "\n",
              "        TIMESTAMP  \n",
              "0      1582579226  \n",
              "1      1582579226  \n",
              "2      1582579226  \n",
              "3      1582579226  \n",
              "4      1582579226  \n",
              "...           ...  \n",
              "65530  1553544833  \n",
              "65531  1567465412  \n",
              "65532  1604344065  \n",
              "65533  1583194169  \n",
              "65534  1583194169  \n",
              "\n",
              "[65535 rows x 29 columns]"
            ]
          },
          "execution_count": 10,
          "metadata": {},
          "output_type": "execute_result"
        }
      ],
      "source": [
        "df"
      ]
    },
    {
      "cell_type": "code",
      "execution_count": 11,
      "metadata": {
        "id": "yvbxZRxleE3k"
      },
      "outputs": [],
      "source": [
        "# chose the columns  ( Notes and Event type)\n",
        "df=df[['NOTES','EVENT_TYPE']]"
      ]
    },
    {
      "cell_type": "code",
      "execution_count": 12,
      "metadata": {
        "colab": {
          "base_uri": "https://localhost:8080/",
          "height": 423
        },
        "id": "JMq2I9XIhwKg",
        "outputId": "7898735f-8ebd-4893-db7d-1b4aa4ca20ee"
      },
      "outputs": [
        {
          "data": {
            "text/html": [
              "<div>\n",
              "<style scoped>\n",
              "    .dataframe tbody tr th:only-of-type {\n",
              "        vertical-align: middle;\n",
              "    }\n",
              "\n",
              "    .dataframe tbody tr th {\n",
              "        vertical-align: top;\n",
              "    }\n",
              "\n",
              "    .dataframe thead th {\n",
              "        text-align: right;\n",
              "    }\n",
              "</style>\n",
              "<table border=\"1\" class=\"dataframe\">\n",
              "  <thead>\n",
              "    <tr style=\"text-align: right;\">\n",
              "      <th></th>\n",
              "      <th>NOTES</th>\n",
              "      <th>EVENT_TYPE</th>\n",
              "    </tr>\n",
              "  </thead>\n",
              "  <tbody>\n",
              "    <tr>\n",
              "      <th>0</th>\n",
              "      <td>5 January: Beheading of 5 citizens in Douaouda...</td>\n",
              "      <td>Violence against civilians</td>\n",
              "    </tr>\n",
              "    <tr>\n",
              "      <th>1</th>\n",
              "      <td>Two citizens were beheaded in Hassasna.</td>\n",
              "      <td>Violence against civilians</td>\n",
              "    </tr>\n",
              "    <tr>\n",
              "      <th>2</th>\n",
              "      <td>Two citizens were killed in a raid on the vill...</td>\n",
              "      <td>Violence against civilians</td>\n",
              "    </tr>\n",
              "    <tr>\n",
              "      <th>3</th>\n",
              "      <td>4 January: 16 citizens were murdered in the vi...</td>\n",
              "      <td>Violence against civilians</td>\n",
              "    </tr>\n",
              "    <tr>\n",
              "      <th>4</th>\n",
              "      <td>5 January: Killing of 18 citizens in the Olivi...</td>\n",
              "      <td>Violence against civilians</td>\n",
              "    </tr>\n",
              "    <tr>\n",
              "      <th>...</th>\n",
              "      <td>...</td>\n",
              "      <td>...</td>\n",
              "    </tr>\n",
              "    <tr>\n",
              "      <th>65530</th>\n",
              "      <td>OLF and Borana ethnic militia attack civilians...</td>\n",
              "      <td>Violence against civilians</td>\n",
              "    </tr>\n",
              "    <tr>\n",
              "      <th>65531</th>\n",
              "      <td>University students protest over killing in Wa...</td>\n",
              "      <td>Protests</td>\n",
              "    </tr>\n",
              "    <tr>\n",
              "      <th>65532</th>\n",
              "      <td>Garangs SPLA security men raid home of Kerubin...</td>\n",
              "      <td>Battles</td>\n",
              "    </tr>\n",
              "    <tr>\n",
              "      <th>65533</th>\n",
              "      <td>Rival SPLA factions battle at police station</td>\n",
              "      <td>Battles</td>\n",
              "    </tr>\n",
              "    <tr>\n",
              "      <th>65534</th>\n",
              "      <td>Gang of youth loyal to Kerubinos SPLA faction ...</td>\n",
              "      <td>Battles</td>\n",
              "    </tr>\n",
              "  </tbody>\n",
              "</table>\n",
              "<p>65535 rows × 2 columns</p>\n",
              "</div>"
            ],
            "text/plain": [
              "                                                   NOTES  \\\n",
              "0      5 January: Beheading of 5 citizens in Douaouda...   \n",
              "1                Two citizens were beheaded in Hassasna.   \n",
              "2      Two citizens were killed in a raid on the vill...   \n",
              "3      4 January: 16 citizens were murdered in the vi...   \n",
              "4      5 January: Killing of 18 citizens in the Olivi...   \n",
              "...                                                  ...   \n",
              "65530  OLF and Borana ethnic militia attack civilians...   \n",
              "65531  University students protest over killing in Wa...   \n",
              "65532  Garangs SPLA security men raid home of Kerubin...   \n",
              "65533       Rival SPLA factions battle at police station   \n",
              "65534  Gang of youth loyal to Kerubinos SPLA faction ...   \n",
              "\n",
              "                       EVENT_TYPE  \n",
              "0      Violence against civilians  \n",
              "1      Violence against civilians  \n",
              "2      Violence against civilians  \n",
              "3      Violence against civilians  \n",
              "4      Violence against civilians  \n",
              "...                           ...  \n",
              "65530  Violence against civilians  \n",
              "65531                    Protests  \n",
              "65532                     Battles  \n",
              "65533                     Battles  \n",
              "65534                     Battles  \n",
              "\n",
              "[65535 rows x 2 columns]"
            ]
          },
          "execution_count": 12,
          "metadata": {},
          "output_type": "execute_result"
        }
      ],
      "source": [
        "df"
      ]
    },
    {
      "cell_type": "code",
      "execution_count": 13,
      "metadata": {
        "colab": {
          "base_uri": "https://localhost:8080/"
        },
        "id": "qoLI7gY0hwN1",
        "outputId": "94e8ab64-7918-4ae3-dab8-82678f555694"
      },
      "outputs": [
        {
          "data": {
            "text/plain": [
              "Battles                       20148\n",
              "Violence against civilians    18449\n",
              "Protests                      13719\n",
              "Riots                          5768\n",
              "Strategic developments         5258\n",
              "Explosions/Remote violence     2193\n",
              "Name: EVENT_TYPE, dtype: int64"
            ]
          },
          "execution_count": 13,
          "metadata": {},
          "output_type": "execute_result"
        }
      ],
      "source": [
        "df['EVENT_TYPE'].value_counts()"
      ]
    },
    {
      "cell_type": "code",
      "execution_count": 17,
      "metadata": {
        "colab": {
          "base_uri": "https://localhost:8080/",
          "height": 427
        },
        "id": "eTLZVA6Qt05d",
        "outputId": "552c89aa-83a5-4d80-b2c8-9224dc2534cb"
      },
      "outputs": [
        {
          "data": {
            "text/plain": [
              "<Axes: xlabel='EVENT_TYPE'>"
            ]
          },
          "execution_count": 17,
          "metadata": {},
          "output_type": "execute_result"
        },
        {
          "data": {
            "image/png": "[encoded data removed]",
            "text/plain": [
              "<Figure size 640x480 with 1 Axes>"
            ]
          },
          "metadata": {},
          "output_type": "display_data"
        }
      ],
      "source": [
        "df.groupby(['EVENT_TYPE']).size().plot.bar()"
      ]
    },
    {
      "cell_type": "markdown",
      "metadata": {
        "id": "Cwu1Swk0tzeO"
      },
      "source": [
        "# **Data Preprocessing**"
      ]
    },
    {
      "cell_type": "code",
      "execution_count": 18,
      "metadata": {
        "colab": {
          "base_uri": "https://localhost:8080/"
        },
        "id": "k7P9tDLOhwQ-",
        "outputId": "c202d0d0-9822-4520-fe37-7fa45b4928e9"
      },
      "outputs": [
        {
          "name": "stderr",
          "output_type": "stream",
          "text": [
            "C:\\Users\\Hammad\\AppData\\Local\\Temp\\ipykernel_13720\\2053346679.py:5: SettingWithCopyWarning: \n",
            "A value is trying to be set on a copy of a slice from a DataFrame.\n",
            "Try using .loc[row_indexer,col_indexer] = value instead\n",
            "\n",
            "See the caveats in the documentation: https://pandas.pydata.org/pandas-docs/stable/user_guide/indexing.html#returning-a-view-versus-a-copy\n",
            "  df[\"NOTES\"] = df[\"NOTES\"].str.lower()\n",
            "C:\\Users\\Hammad\\AppData\\Local\\Temp\\ipykernel_13720\\2053346679.py:8: SettingWithCopyWarning: \n",
            "A value is trying to be set on a copy of a slice from a DataFrame.\n",
            "Try using .loc[row_indexer,col_indexer] = value instead\n",
            "\n",
            "See the caveats in the documentation: https://pandas.pydata.org/pandas-docs/stable/user_guide/indexing.html#returning-a-view-versus-a-copy\n",
            "  df[\"NOTES\"] = df[\"NOTES\"].apply(lambda x: re.sub(r'[^\\w\\s]', '', str(x)) if isinstance(x, str) else '')\n",
            "[nltk_data] Downloading package stopwords to\n",
            "[nltk_data]     C:\\Users\\Hammad\\AppData\\Roaming\\nltk_data...\n",
            "[nltk_data]   Unzipping corpora\\stopwords.zip.\n",
            "C:\\Users\\Hammad\\AppData\\Local\\Temp\\ipykernel_13720\\2053346679.py:14: SettingWithCopyWarning: \n",
            "A value is trying to be set on a copy of a slice from a DataFrame.\n",
            "Try using .loc[row_indexer,col_indexer] = value instead\n",
            "\n",
            "See the caveats in the documentation: https://pandas.pydata.org/pandas-docs/stable/user_guide/indexing.html#returning-a-view-versus-a-copy\n",
            "  df[\"NOTES\"] = df[\"NOTES\"].apply(lambda x: \" \".join([word for word in x.split() if word not in stop_words]))\n",
            "C:\\Users\\Hammad\\AppData\\Local\\Temp\\ipykernel_13720\\2053346679.py:17: SettingWithCopyWarning: \n",
            "A value is trying to be set on a copy of a slice from a DataFrame.\n",
            "Try using .loc[row_indexer,col_indexer] = value instead\n",
            "\n",
            "See the caveats in the documentation: https://pandas.pydata.org/pandas-docs/stable/user_guide/indexing.html#returning-a-view-versus-a-copy\n",
            "  df[\"NOTES\"] = df[\"NOTES\"].apply(lambda x: re.sub(r'\\d', '', str(x)))\n"
          ]
        }
      ],
      "source": [
        "#Text Preprocessing:\n",
        "\n",
        "\n",
        "# Lowercase text\n",
        "df[\"NOTES\"] = df[\"NOTES\"].str.lower()\n",
        "\n",
        "# Remove punctuation\n",
        "df[\"NOTES\"] = df[\"NOTES\"].apply(lambda x: re.sub(r'[^\\w\\s]', '', str(x)) if isinstance(x, str) else '')\n",
        "\n",
        "\n",
        "# Remove stop words\n",
        "nltk.download(\"stopwords\")\n",
        "stop_words = set(stopwords.words(\"english\"))\n",
        "df[\"NOTES\"] = df[\"NOTES\"].apply(lambda x: \" \".join([word for word in x.split() if word not in stop_words]))\n",
        "\n",
        "# Remove numbers\n",
        "df[\"NOTES\"] = df[\"NOTES\"].apply(lambda x: re.sub(r'\\d', '', str(x)))"
      ]
    },
    {
      "cell_type": "code",
      "execution_count": 19,
      "metadata": {
        "colab": {
          "base_uri": "https://localhost:8080/",
          "height": 423
        },
        "id": "FXSbp6oyt0Bd",
        "outputId": "16ef7210-e6b2-46f4-eca2-ac34c6d2ab03"
      },
      "outputs": [
        {
          "data": {
            "text/html": [
              "<div>\n",
              "<style scoped>\n",
              "    .dataframe tbody tr th:only-of-type {\n",
              "        vertical-align: middle;\n",
              "    }\n",
              "\n",
              "    .dataframe tbody tr th {\n",
              "        vertical-align: top;\n",
              "    }\n",
              "\n",
              "    .dataframe thead th {\n",
              "        text-align: right;\n",
              "    }\n",
              "</style>\n",
              "<table border=\"1\" class=\"dataframe\">\n",
              "  <thead>\n",
              "    <tr style=\"text-align: right;\">\n",
              "      <th></th>\n",
              "      <th>NOTES</th>\n",
              "      <th>EVENT_TYPE</th>\n",
              "    </tr>\n",
              "  </thead>\n",
              "  <tbody>\n",
              "    <tr>\n",
              "      <th>0</th>\n",
              "      <td>january beheading  citizens douaouda tipaza</td>\n",
              "      <td>Violence against civilians</td>\n",
              "    </tr>\n",
              "    <tr>\n",
              "      <th>1</th>\n",
              "      <td>two citizens beheaded hassasna</td>\n",
              "      <td>Violence against civilians</td>\n",
              "    </tr>\n",
              "    <tr>\n",
              "      <th>2</th>\n",
              "      <td>two citizens killed raid village hassi el abd ...</td>\n",
              "      <td>Violence against civilians</td>\n",
              "    </tr>\n",
              "    <tr>\n",
              "      <th>3</th>\n",
              "      <td>january  citizens murdered village benachour ...</td>\n",
              "      <td>Violence against civilians</td>\n",
              "    </tr>\n",
              "    <tr>\n",
              "      <th>4</th>\n",
              "      <td>january killing  citizens oliviers district d...</td>\n",
              "      <td>Violence against civilians</td>\n",
              "    </tr>\n",
              "    <tr>\n",
              "      <th>...</th>\n",
              "      <td>...</td>\n",
              "      <td>...</td>\n",
              "    </tr>\n",
              "    <tr>\n",
              "      <th>65530</th>\n",
              "      <td>olf borana ethnic militia attack civilians mas...</td>\n",
              "      <td>Violence against civilians</td>\n",
              "    </tr>\n",
              "    <tr>\n",
              "      <th>65531</th>\n",
              "      <td>university students protest killing wajir dist...</td>\n",
              "      <td>Protests</td>\n",
              "    </tr>\n",
              "    <tr>\n",
              "      <th>65532</th>\n",
              "      <td>garangs spla security men raid home kerubino s...</td>\n",
              "      <td>Battles</td>\n",
              "    </tr>\n",
              "    <tr>\n",
              "      <th>65533</th>\n",
              "      <td>rival spla factions battle police station</td>\n",
              "      <td>Battles</td>\n",
              "    </tr>\n",
              "    <tr>\n",
              "      <th>65534</th>\n",
              "      <td>gang youth loyal kerubinos spla faction attack...</td>\n",
              "      <td>Battles</td>\n",
              "    </tr>\n",
              "  </tbody>\n",
              "</table>\n",
              "<p>65535 rows × 2 columns</p>\n",
              "</div>"
            ],
            "text/plain": [
              "                                                   NOTES  \\\n",
              "0            january beheading  citizens douaouda tipaza   \n",
              "1                         two citizens beheaded hassasna   \n",
              "2      two citizens killed raid village hassi el abd ...   \n",
              "3       january  citizens murdered village benachour ...   \n",
              "4       january killing  citizens oliviers district d...   \n",
              "...                                                  ...   \n",
              "65530  olf borana ethnic militia attack civilians mas...   \n",
              "65531  university students protest killing wajir dist...   \n",
              "65532  garangs spla security men raid home kerubino s...   \n",
              "65533          rival spla factions battle police station   \n",
              "65534  gang youth loyal kerubinos spla faction attack...   \n",
              "\n",
              "                       EVENT_TYPE  \n",
              "0      Violence against civilians  \n",
              "1      Violence against civilians  \n",
              "2      Violence against civilians  \n",
              "3      Violence against civilians  \n",
              "4      Violence against civilians  \n",
              "...                           ...  \n",
              "65530  Violence against civilians  \n",
              "65531                    Protests  \n",
              "65532                     Battles  \n",
              "65533                     Battles  \n",
              "65534                     Battles  \n",
              "\n",
              "[65535 rows x 2 columns]"
            ]
          },
          "execution_count": 19,
          "metadata": {},
          "output_type": "execute_result"
        }
      ],
      "source": [
        "df"
      ]
    },
    {
      "cell_type": "code",
      "execution_count": 20,
      "metadata": {
        "colab": {
          "base_uri": "https://localhost:8080/"
        },
        "id": "sd1LiXGjZ420",
        "outputId": "b8403ce5-9d1a-4f85-c7ee-2641226edc1b"
      },
      "outputs": [
        {
          "data": {
            "text/plain": [
              "NOTES         0\n",
              "EVENT_TYPE    0\n",
              "dtype: int64"
            ]
          },
          "execution_count": 20,
          "metadata": {},
          "output_type": "execute_result"
        }
      ],
      "source": [
        "df.isnull().sum()"
      ]
    },
    {
      "cell_type": "code",
      "execution_count": 23,
      "metadata": {
        "colab": {
          "base_uri": "https://localhost:8080/"
        },
        "id": "4IKaDPikuV0A",
        "outputId": "dda4045f-1892-4f04-fdd3-b75971d1bb99"
      },
      "outputs": [],
      "source": [
        "# df.dropna(axis=0, how=\"any\", thresh=None, subset=None, inplace=False).shape"
      ]
    },
    {
      "cell_type": "code",
      "execution_count": 24,
      "metadata": {
        "colab": {
          "base_uri": "https://localhost:8080/"
        },
        "id": "yoA6lNxhuV8G",
        "outputId": "cc345b0c-3a43-43a9-f2fa-3f1dec4511e8"
      },
      "outputs": [
        {
          "name": "stderr",
          "output_type": "stream",
          "text": [
            "C:\\Users\\Hammad\\AppData\\Local\\Temp\\ipykernel_13720\\691721456.py:3: SettingWithCopyWarning: \n",
            "A value is trying to be set on a copy of a slice from a DataFrame.\n",
            "Try using .loc[row_indexer,col_indexer] = value instead\n",
            "\n",
            "See the caveats in the documentation: https://pandas.pydata.org/pandas-docs/stable/user_guide/indexing.html#returning-a-view-versus-a-copy\n",
            "  df.replace({'EVENT_TYPE': {'Battles': 1,\n"
          ]
        }
      ],
      "source": [
        "#Replace all labbel with number\n",
        "\n",
        "df.replace({'EVENT_TYPE': {'Battles': 1,\n",
        "                           'Violence against civilians': 2,\n",
        "                           'Protests':3,\n",
        "                           'Riots':4,\n",
        "                           'Strategic developments':5,\n",
        "                           'Explosions/Remote violence':6}}, inplace=True)"
      ]
    },
    {
      "cell_type": "code",
      "execution_count": 25,
      "metadata": {
        "colab": {
          "base_uri": "https://localhost:8080/"
        },
        "id": "QZQgKRcdd_XU",
        "outputId": "37918cbd-5cf3-4041-f75d-6e63479504b0"
      },
      "outputs": [
        {
          "name": "stdout",
          "output_type": "stream",
          "text": [
            "(45874, 2)\n",
            "(9830, 2)\n",
            "(9831, 2)\n"
          ]
        }
      ],
      "source": [
        "# Split the data into training, validation, and test sets\n",
        "train_df, test_val_df = train_test_split(df, test_size=0.3, random_state=42)\n",
        "val_df, test_df = train_test_split(test_val_df, test_size=0.5, random_state=42)\n",
        "\n",
        "print(train_df.shape)\n",
        "print(val_df.shape)\n",
        "print(test_df.shape)\n"
      ]
    },
    {
      "cell_type": "code",
      "execution_count": 26,
      "metadata": {
        "id": "9Kc7ENynd_T8"
      },
      "outputs": [],
      "source": [
        "df.to_csv(\"train_df.csv\", index=False)"
      ]
    },
    {
      "cell_type": "code",
      "execution_count": 27,
      "metadata": {
        "id": "W0dYt3RLm8xf"
      },
      "outputs": [],
      "source": [
        "df=train_df"
      ]
    },
    {
      "cell_type": "code",
      "execution_count": 28,
      "metadata": {
        "colab": {
          "base_uri": "https://localhost:8080/"
        },
        "id": "Eem8-6fYm80W",
        "outputId": "99709041-887d-441d-d2a1-c59bc25506d7"
      },
      "outputs": [
        {
          "data": {
            "text/plain": [
              "(45874, 2)"
            ]
          },
          "execution_count": 28,
          "metadata": {},
          "output_type": "execute_result"
        }
      ],
      "source": [
        "train_df.shape"
      ]
    },
    {
      "cell_type": "code",
      "execution_count": 29,
      "metadata": {
        "colab": {
          "base_uri": "https://localhost:8080/"
        },
        "id": "RJ2EgzDbm83Z",
        "outputId": "fbd515f0-9908-46b7-a834-3a84c82ef367"
      },
      "outputs": [
        {
          "data": {
            "text/plain": [
              "(9830, 2)"
            ]
          },
          "execution_count": 29,
          "metadata": {},
          "output_type": "execute_result"
        }
      ],
      "source": [
        "df.to_csv(\"val_df.csv\", index=False)\n",
        "df=val_df\n",
        "val_df.shape"
      ]
    },
    {
      "cell_type": "code",
      "execution_count": 30,
      "metadata": {
        "colab": {
          "base_uri": "https://localhost:8080/"
        },
        "id": "reUNX6Xhd_Pk",
        "outputId": "deede507-134d-4843-e235-d3e56a75af9a"
      },
      "outputs": [
        {
          "data": {
            "text/plain": [
              "(9831, 2)"
            ]
          },
          "execution_count": 30,
          "metadata": {},
          "output_type": "execute_result"
        }
      ],
      "source": [
        "df.to_csv(\"test_df.csv\", index=False)\n",
        "df=test_df\n",
        "test_df.shape"
      ]
    },
    {
      "cell_type": "code",
      "execution_count": 31,
      "metadata": {
        "colab": {
          "base_uri": "https://localhost:8080/",
          "height": 423
        },
        "id": "uPxIYEtLvhNk",
        "outputId": "a69f5025-0c7d-4cb7-de33-ef2fc4fc9ecd"
      },
      "outputs": [
        {
          "data": {
            "text/html": [
              "<div>\n",
              "<style scoped>\n",
              "    .dataframe tbody tr th:only-of-type {\n",
              "        vertical-align: middle;\n",
              "    }\n",
              "\n",
              "    .dataframe tbody tr th {\n",
              "        vertical-align: top;\n",
              "    }\n",
              "\n",
              "    .dataframe thead th {\n",
              "        text-align: right;\n",
              "    }\n",
              "</style>\n",
              "<table border=\"1\" class=\"dataframe\">\n",
              "  <thead>\n",
              "    <tr style=\"text-align: right;\">\n",
              "      <th></th>\n",
              "      <th>NOTES</th>\n",
              "      <th>EVENT_TYPE</th>\n",
              "    </tr>\n",
              "  </thead>\n",
              "  <tbody>\n",
              "    <tr>\n",
              "      <th>13853</th>\n",
              "      <td>hutu national liberation front rebels burundi ...</td>\n",
              "      <td>2</td>\n",
              "    </tr>\n",
              "    <tr>\n",
              "      <th>37702</th>\n",
              "      <td>killed km pont weru mogoloko</td>\n",
              "      <td>2</td>\n",
              "    </tr>\n",
              "    <tr>\n",
              "      <th>13239</th>\n",
              "      <td>march  two soldiers assaulted street vendor b...</td>\n",
              "      <td>2</td>\n",
              "    </tr>\n",
              "    <tr>\n",
              "      <th>51440</th>\n",
              "      <td>september  local militia called assailants gu...</td>\n",
              "      <td>5</td>\n",
              "    </tr>\n",
              "    <tr>\n",
              "      <th>53779</th>\n",
              "      <td>onlf attacks ethiopian soldiers</td>\n",
              "      <td>1</td>\n",
              "    </tr>\n",
              "    <tr>\n",
              "      <th>...</th>\n",
              "      <td>...</td>\n",
              "      <td>...</td>\n",
              "    </tr>\n",
              "    <tr>\n",
              "      <th>62570</th>\n",
              "      <td>may  residents demonstrated clashed police fo...</td>\n",
              "      <td>4</td>\n",
              "    </tr>\n",
              "    <tr>\n",
              "      <th>38158</th>\n",
              "      <td>numerous rapes carried  january nakatete bwala...</td>\n",
              "      <td>2</td>\n",
              "    </tr>\n",
              "    <tr>\n",
              "      <th>860</th>\n",
              "      <td>armed extremists slit throats two young men wo...</td>\n",
              "      <td>2</td>\n",
              "    </tr>\n",
              "    <tr>\n",
              "      <th>15795</th>\n",
              "      <td>suspected fdd shot killed old couple rural buj...</td>\n",
              "      <td>2</td>\n",
              "    </tr>\n",
              "    <tr>\n",
              "      <th>56422</th>\n",
              "      <td>people burayu protested government agenda foll...</td>\n",
              "      <td>3</td>\n",
              "    </tr>\n",
              "  </tbody>\n",
              "</table>\n",
              "<p>45874 rows × 2 columns</p>\n",
              "</div>"
            ],
            "text/plain": [
              "                                                   NOTES  EVENT_TYPE\n",
              "13853  hutu national liberation front rebels burundi ...           2\n",
              "37702                       killed km pont weru mogoloko           2\n",
              "13239   march  two soldiers assaulted street vendor b...           2\n",
              "51440   september  local militia called assailants gu...           5\n",
              "53779                    onlf attacks ethiopian soldiers           1\n",
              "...                                                  ...         ...\n",
              "62570   may  residents demonstrated clashed police fo...           4\n",
              "38158  numerous rapes carried  january nakatete bwala...           2\n",
              "860    armed extremists slit throats two young men wo...           2\n",
              "15795  suspected fdd shot killed old couple rural buj...           2\n",
              "56422  people burayu protested government agenda foll...           3\n",
              "\n",
              "[45874 rows x 2 columns]"
            ]
          },
          "execution_count": 31,
          "metadata": {},
          "output_type": "execute_result"
        }
      ],
      "source": [
        "data_train=train_df\n",
        "data_train"
      ]
    },
    {
      "cell_type": "code",
      "execution_count": 32,
      "metadata": {
        "colab": {
          "base_uri": "https://localhost:8080/",
          "height": 423
        },
        "id": "lZe6mN8vvhLK",
        "outputId": "50728e1c-daff-41b2-e746-254da8182224"
      },
      "outputs": [
        {
          "data": {
            "text/html": [
              "<div>\n",
              "<style scoped>\n",
              "    .dataframe tbody tr th:only-of-type {\n",
              "        vertical-align: middle;\n",
              "    }\n",
              "\n",
              "    .dataframe tbody tr th {\n",
              "        vertical-align: top;\n",
              "    }\n",
              "\n",
              "    .dataframe thead th {\n",
              "        text-align: right;\n",
              "    }\n",
              "</style>\n",
              "<table border=\"1\" class=\"dataframe\">\n",
              "  <thead>\n",
              "    <tr style=\"text-align: right;\">\n",
              "      <th></th>\n",
              "      <th>NOTES</th>\n",
              "      <th>EVENT_TYPE</th>\n",
              "    </tr>\n",
              "  </thead>\n",
              "  <tbody>\n",
              "    <tr>\n",
              "      <th>2467</th>\n",
              "      <td>people demonstrated remote part algeria monda...</td>\n",
              "      <td>3</td>\n",
              "    </tr>\n",
              "    <tr>\n",
              "      <th>1314</th>\n",
              "      <td>nine gspc militants slain security forces past...</td>\n",
              "      <td>1</td>\n",
              "    </tr>\n",
              "    <tr>\n",
              "      <th>38236</th>\n",
              "      <td>lra attack town djabir faradje  civilian kille...</td>\n",
              "      <td>2</td>\n",
              "    </tr>\n",
              "    <tr>\n",
              "      <th>30230</th>\n",
              "      <td>clashes armed groups noufou</td>\n",
              "      <td>1</td>\n",
              "    </tr>\n",
              "    <tr>\n",
              "      <th>59967</th>\n",
              "      <td>governing national democratic congress support...</td>\n",
              "      <td>3</td>\n",
              "    </tr>\n",
              "    <tr>\n",
              "      <th>...</th>\n",
              "      <td>...</td>\n",
              "      <td>...</td>\n",
              "    </tr>\n",
              "    <tr>\n",
              "      <th>53614</th>\n",
              "      <td>onlf attacks ethiopian soldiers</td>\n",
              "      <td>1</td>\n",
              "    </tr>\n",
              "    <tr>\n",
              "      <th>36926</th>\n",
              "      <td>lra attacking abducting killing civilians itur...</td>\n",
              "      <td>2</td>\n",
              "    </tr>\n",
              "    <tr>\n",
              "      <th>42121</th>\n",
              "      <td>adf rebels killed least  civilians including p...</td>\n",
              "      <td>2</td>\n",
              "    </tr>\n",
              "    <tr>\n",
              "      <th>58748</th>\n",
              "      <td>eritreans round ethiopians assault torture detain</td>\n",
              "      <td>2</td>\n",
              "    </tr>\n",
              "    <tr>\n",
              "      <th>37540</th>\n",
              "      <td>abducted bayuledisolo path</td>\n",
              "      <td>2</td>\n",
              "    </tr>\n",
              "  </tbody>\n",
              "</table>\n",
              "<p>9830 rows × 2 columns</p>\n",
              "</div>"
            ],
            "text/plain": [
              "                                                   NOTES  EVENT_TYPE\n",
              "2467    people demonstrated remote part algeria monda...           3\n",
              "1314   nine gspc militants slain security forces past...           1\n",
              "38236  lra attack town djabir faradje  civilian kille...           2\n",
              "30230                        clashes armed groups noufou           1\n",
              "59967  governing national democratic congress support...           3\n",
              "...                                                  ...         ...\n",
              "53614                    onlf attacks ethiopian soldiers           1\n",
              "36926  lra attacking abducting killing civilians itur...           2\n",
              "42121  adf rebels killed least  civilians including p...           2\n",
              "58748  eritreans round ethiopians assault torture detain           2\n",
              "37540                         abducted bayuledisolo path           2\n",
              "\n",
              "[9830 rows x 2 columns]"
            ]
          },
          "execution_count": 32,
          "metadata": {},
          "output_type": "execute_result"
        }
      ],
      "source": [
        "data_valid = val_df\n",
        "data_valid "
      ]
    },
    {
      "cell_type": "code",
      "execution_count": 33,
      "metadata": {
        "colab": {
          "base_uri": "https://localhost:8080/",
          "height": 423
        },
        "id": "vezopz9_vpcF",
        "outputId": "4d930bb0-740b-4c3e-8b5e-120ab2631dee"
      },
      "outputs": [
        {
          "data": {
            "text/html": [
              "<div>\n",
              "<style scoped>\n",
              "    .dataframe tbody tr th:only-of-type {\n",
              "        vertical-align: middle;\n",
              "    }\n",
              "\n",
              "    .dataframe tbody tr th {\n",
              "        vertical-align: top;\n",
              "    }\n",
              "\n",
              "    .dataframe thead th {\n",
              "        text-align: right;\n",
              "    }\n",
              "</style>\n",
              "<table border=\"1\" class=\"dataframe\">\n",
              "  <thead>\n",
              "    <tr style=\"text-align: right;\">\n",
              "      <th></th>\n",
              "      <th>NOTES</th>\n",
              "      <th>EVENT_TYPE</th>\n",
              "    </tr>\n",
              "  </thead>\n",
              "  <tbody>\n",
              "    <tr>\n",
              "      <th>28717</th>\n",
              "      <td>exseleka killed  people boningi village</td>\n",
              "      <td>2</td>\n",
              "    </tr>\n",
              "    <tr>\n",
              "      <th>25572</th>\n",
              "      <td>april  unidentified individuals killed tradit...</td>\n",
              "      <td>2</td>\n",
              "    </tr>\n",
              "    <tr>\n",
              "      <th>9405</th>\n",
              "      <td>october  residents village agouaj closed muni...</td>\n",
              "      <td>3</td>\n",
              "    </tr>\n",
              "    <tr>\n",
              "      <th>49931</th>\n",
              "      <td>april  rwandan military forces violated neutr...</td>\n",
              "      <td>5</td>\n",
              "    </tr>\n",
              "    <tr>\n",
              "      <th>15719</th>\n",
              "      <td>fnl fighters killed military operations soldi...</td>\n",
              "      <td>1</td>\n",
              "    </tr>\n",
              "    <tr>\n",
              "      <th>...</th>\n",
              "      <td>...</td>\n",
              "      <td>...</td>\n",
              "    </tr>\n",
              "    <tr>\n",
              "      <th>49607</th>\n",
              "      <td>february  raia mutombokibutachibera militiame...</td>\n",
              "      <td>2</td>\n",
              "    </tr>\n",
              "    <tr>\n",
              "      <th>57260</th>\n",
              "      <td>around week  march boke town west hararge zone...</td>\n",
              "      <td>2</td>\n",
              "    </tr>\n",
              "    <tr>\n",
              "      <th>54364</th>\n",
              "      <td>onlf claim victory ethiopian military battle</td>\n",
              "      <td>1</td>\n",
              "    </tr>\n",
              "    <tr>\n",
              "      <th>53586</th>\n",
              "      <td>onlf attacks ethiopian soldiers</td>\n",
              "      <td>1</td>\n",
              "    </tr>\n",
              "    <tr>\n",
              "      <th>56229</th>\n",
              "      <td>soldiers allegedly shot killed  protesters vil...</td>\n",
              "      <td>3</td>\n",
              "    </tr>\n",
              "  </tbody>\n",
              "</table>\n",
              "<p>9831 rows × 2 columns</p>\n",
              "</div>"
            ],
            "text/plain": [
              "                                                   NOTES  EVENT_TYPE\n",
              "28717            exseleka killed  people boningi village           2\n",
              "25572   april  unidentified individuals killed tradit...           2\n",
              "9405    october  residents village agouaj closed muni...           3\n",
              "49931   april  rwandan military forces violated neutr...           5\n",
              "15719   fnl fighters killed military operations soldi...           1\n",
              "...                                                  ...         ...\n",
              "49607   february  raia mutombokibutachibera militiame...           2\n",
              "57260  around week  march boke town west hararge zone...           2\n",
              "54364       onlf claim victory ethiopian military battle           1\n",
              "53586                    onlf attacks ethiopian soldiers           1\n",
              "56229  soldiers allegedly shot killed  protesters vil...           3\n",
              "\n",
              "[9831 rows x 2 columns]"
            ]
          },
          "execution_count": 33,
          "metadata": {},
          "output_type": "execute_result"
        }
      ],
      "source": [
        "data_test =test_df\n",
        "data_test"
      ]
    },
    {
      "cell_type": "code",
      "execution_count": 34,
      "metadata": {
        "colab": {
          "base_uri": "https://localhost:8080/"
        },
        "id": "P1RTfmdIvpZF",
        "outputId": "95f7f377-fb28-425c-ebc0-15702e8625d0"
      },
      "outputs": [
        {
          "data": {
            "text/plain": [
              "1    14077\n",
              "2    12929\n",
              "3     9636\n",
              "4     4051\n",
              "5     3685\n",
              "6     1496\n",
              "Name: EVENT_TYPE, dtype: int64"
            ]
          },
          "execution_count": 34,
          "metadata": {},
          "output_type": "execute_result"
        }
      ],
      "source": [
        "#Analyzing the distribtuion of labels in each dataset\n",
        "\n",
        "data_train['EVENT_TYPE'].value_counts()\n"
      ]
    },
    {
      "cell_type": "code",
      "execution_count": 35,
      "metadata": {
        "colab": {
          "base_uri": "https://localhost:8080/",
          "height": 294
        },
        "id": "UUgw-Z14xSwd",
        "outputId": "319f10d4-35dc-414a-9512-545268ca3bd5"
      },
      "outputs": [
        {
          "data": {
            "text/plain": [
              "<Axes: xlabel='EVENT_TYPE'>"
            ]
          },
          "execution_count": 35,
          "metadata": {},
          "output_type": "execute_result"
        },
        {
          "data": {
            "image/png": "[encoded data removed]",
            "text/plain": [
              "<Figure size 640x480 with 1 Axes>"
            ]
          },
          "metadata": {},
          "output_type": "display_data"
        }
      ],
      "source": [
        "data_train.groupby(['EVENT_TYPE']).size().plot.bar()"
      ]
    },
    {
      "cell_type": "code",
      "execution_count": 36,
      "metadata": {
        "colab": {
          "base_uri": "https://localhost:8080/"
        },
        "id": "k2uMDRTmxB5p",
        "outputId": "fcb37a22-10e6-4158-9162-e1e747d2c262"
      },
      "outputs": [
        {
          "data": {
            "text/plain": [
              "1    3004\n",
              "2    2798\n",
              "3    2023\n",
              "4     890\n",
              "5     764\n",
              "6     351\n",
              "Name: EVENT_TYPE, dtype: int64"
            ]
          },
          "execution_count": 36,
          "metadata": {},
          "output_type": "execute_result"
        }
      ],
      "source": [
        "data_valid['EVENT_TYPE'].value_counts()\n"
      ]
    },
    {
      "cell_type": "code",
      "execution_count": 37,
      "metadata": {
        "colab": {
          "base_uri": "https://localhost:8080/",
          "height": 294
        },
        "id": "vo6nBrFwxfo2",
        "outputId": "d01e401d-4a20-4d28-d5d7-a3d5ff392b5a"
      },
      "outputs": [
        {
          "data": {
            "text/plain": [
              "<Axes: xlabel='EVENT_TYPE'>"
            ]
          },
          "execution_count": 37,
          "metadata": {},
          "output_type": "execute_result"
        },
        {
          "data": {
            "image/png": "[encoded data removed]",
            "text/plain": [
              "<Figure size 640x480 with 1 Axes>"
            ]
          },
          "metadata": {},
          "output_type": "display_data"
        }
      ],
      "source": [
        "data_valid.groupby(['EVENT_TYPE']).size().plot.bar()"
      ]
    },
    {
      "cell_type": "code",
      "execution_count": 38,
      "metadata": {
        "colab": {
          "base_uri": "https://localhost:8080/"
        },
        "id": "oOKJsauBwhvw",
        "outputId": "5d37eded-b34d-474c-f7aa-3ad86e819867"
      },
      "outputs": [
        {
          "data": {
            "text/plain": [
              "1    3067\n",
              "2    2722\n",
              "3    2060\n",
              "4     827\n",
              "5     809\n",
              "6     346\n",
              "Name: EVENT_TYPE, dtype: int64"
            ]
          },
          "execution_count": 38,
          "metadata": {},
          "output_type": "execute_result"
        }
      ],
      "source": [
        "data_test['EVENT_TYPE'].value_counts()"
      ]
    },
    {
      "cell_type": "code",
      "execution_count": 39,
      "metadata": {
        "colab": {
          "base_uri": "https://localhost:8080/",
          "height": 294
        },
        "id": "EW-Fo2Fzwhy_",
        "outputId": "9aa4b7ad-01ad-468f-8ace-f82a3a7a0686"
      },
      "outputs": [
        {
          "data": {
            "text/plain": [
              "<Axes: xlabel='EVENT_TYPE'>"
            ]
          },
          "execution_count": 39,
          "metadata": {},
          "output_type": "execute_result"
        },
        {
          "data": {
            "image/png": "[encoded data removed]",
            "text/plain": [
              "<Figure size 640x480 with 1 Axes>"
            ]
          },
          "metadata": {},
          "output_type": "display_data"
        }
      ],
      "source": [
        "data_test.groupby(['EVENT_TYPE']).size().plot.bar()"
      ]
    },
    {
      "cell_type": "code",
      "execution_count": 40,
      "metadata": {
        "colab": {
          "base_uri": "https://localhost:8080/",
          "height": 839
        },
        "id": "RyOrXX_Fwh1u",
        "outputId": "f87eedfa-b62d-4095-eae7-ecb80b8b6591"
      },
      "outputs": [
        {
          "data": {
            "image/png": "[encoded data removed]",
            "text/plain": [
              "<Figure size 1000x700 with 1 Axes>"
            ]
          },
          "metadata": {},
          "output_type": "display_data"
        },
        {
          "data": {
            "image/png": "[encoded data removed]",
            "text/plain": [
              "<Figure size 1000x700 with 1 Axes>"
            ]
          },
          "metadata": {},
          "output_type": "display_data"
        }
      ],
      "source": [
        "#Analyzing length of sentences in training data to decide on MAX_LENGTH variable, which is required for BERT and RoBERTa\n",
        "\n",
        "sent_len = []\n",
        "for sent in data_train['NOTES']:\n",
        "  sent_len.append(len(sent))\n",
        "\n",
        "fig = plt.figure(figsize =(10, 7))\n",
        "plt.boxplot(sent_len)\n",
        "plt.show()\n",
        "\n",
        "sent_len = [i for i in sent_len if i<=500] #Excluding the outliers\n",
        "fig2 = plt.figure(figsize =(10, 7))\n",
        "plt.hist(sent_len, 5)\n",
        "plt.show()"
      ]
    },
    {
      "cell_type": "markdown",
      "metadata": {
        "id": "-YCXicvUyqMX"
      },
      "source": [
        "From the above histogram, we can see that, majority of the sentences are in the range of 200. "
      ]
    },
    {
      "cell_type": "code",
      "execution_count": 41,
      "metadata": {
        "id": "nKtlujAPQxQI"
      },
      "outputs": [
        {
          "name": "stdout",
          "output_type": "stream",
          "text": [
            "GPU device not found\n"
          ]
        }
      ],
      "source": [
        "# Get the GPU device name.\n",
        "device_name = tf.test.gpu_device_name()\n",
        "\n",
        "# The device name should look like the following:\n",
        "if device_name == '/device:GPU:0':\n",
        "    print('Found GPU at: {}'.format(device_name))\n",
        "else:\n",
        "    print('GPU device not found')"
      ]
    },
    {
      "cell_type": "markdown",
      "metadata": {
        "id": "IBx5EqbhV7lw"
      },
      "source": [
        "In order for torch to use the GPU, we need to identify and specify the GPU as the device. Later, in our training loop, we will load data onto the device."
      ]
    },
    {
      "cell_type": "code",
      "execution_count": 42,
      "metadata": {
        "id": "fkx6cDjAV8mA"
      },
      "outputs": [
        {
          "name": "stdout",
          "output_type": "stream",
          "text": [
            "No GPU available, using the CPU instead.\n"
          ]
        }
      ],
      "source": [
        "# If there's a GPU available...\n",
        "if torch.cuda.is_available():    \n",
        "\n",
        "    # Tell PyTorch to use the GPU.    \n",
        "    device = torch.device(\"cuda\")\n",
        "\n",
        "    print('There are %d GPU(s) available.' % torch.cuda.device_count())\n",
        "\n",
        "    print('We will use the GPU:', torch.cuda.get_device_name(0))\n",
        "\n",
        "# If not...\n",
        "else:\n",
        "    print('No GPU available, using the CPU instead.')\n",
        "    device = torch.device(\"cpu\")"
      ]
    },
    {
      "cell_type": "code",
      "execution_count": 43,
      "metadata": {
        "colab": {
          "base_uri": "https://localhost:8080/"
        },
        "id": "K0uAbHIKQxNQ",
        "outputId": "68468ae3-f70f-4125-f857-93d3f4888b51"
      },
      "outputs": [
        {
          "data": {
            "text/plain": [
              "False"
            ]
          },
          "execution_count": 43,
          "metadata": {},
          "output_type": "execute_result"
        }
      ],
      "source": [
        "torch.version.cuda # 10.2\n",
        "torch.cuda.is_available()"
      ]
    },
    {
      "cell_type": "markdown",
      "metadata": {
        "id": "WfEL8X3WWQpw"
      },
      "source": [
        "# **Installing the Hugging Face Library**"
      ]
    },
    {
      "cell_type": "markdown",
      "metadata": {
        "id": "RkXQKTBvWyWo"
      },
      "source": []
    },
    {
      "cell_type": "code",
      "execution_count": 44,
      "metadata": {},
      "outputs": [
        {
          "name": "stderr",
          "output_type": "stream",
          "text": [
            "Downloading (…)lve/main/config.json: 100%|██████████| 570/570 [00:00<00:00, 180kB/s]\n",
            "c:\\Users\\Hammad\\Documents\\Python_Envs\\bert_trans_env\\lib\\site-packages\\huggingface_hub\\file_download.py:129: UserWarning: `huggingface_hub` cache-system uses symlinks by default to efficiently store duplicated files but your machine does not support them in C:\\Users\\Hammad\\.cache\\huggingface\\hub. Caching files will still work but in a degraded version that might require more space on your disk. This warning can be disabled by setting the `HF_HUB_DISABLE_SYMLINKS_WARNING` environment variable. For more details, see https://huggingface.co/docs/huggingface_hub/how-to-cache#limitations.\n",
            "To support symlinks on Windows, you either need to activate Developer Mode or to run Python as an administrator. In order to see activate developer mode, see this article: https://docs.microsoft.com/en-us/windows/apps/get-started/enable-your-device-for-development\n",
            "  warnings.warn(message)\n",
            "Downloading (…)\"pytorch_model.bin\";: 100%|██████████| 440M/440M [04:46<00:00, 1.54MB/s] \n",
            "Some weights of the model checkpoint at bert-base-uncased were not used when initializing BertForSequenceClassification: ['cls.predictions.transform.dense.weight', 'cls.predictions.decoder.weight', 'cls.seq_relationship.bias', 'cls.seq_relationship.weight', 'cls.predictions.transform.dense.bias', 'cls.predictions.transform.LayerNorm.bias', 'cls.predictions.bias', 'cls.predictions.transform.LayerNorm.weight']\n",
            "- This IS expected if you are initializing BertForSequenceClassification from the checkpoint of a model trained on another task or with another architecture (e.g. initializing a BertForSequenceClassification model from a BertForPreTraining model).\n",
            "- This IS NOT expected if you are initializing BertForSequenceClassification from the checkpoint of a model that you expect to be exactly identical (initializing a BertForSequenceClassification model from a BertForSequenceClassification model).\n",
            "Some weights of BertForSequenceClassification were not initialized from the model checkpoint at bert-base-uncased and are newly initialized: ['classifier.weight', 'classifier.bias']\n",
            "You should probably TRAIN this model on a down-stream task to be able to use it for predictions and inference.\n",
            "Downloading (…)solve/main/vocab.txt: 100%|██████████| 232k/232k [00:01<00:00, 121kB/s]\n",
            "Downloading (…)okenizer_config.json: 100%|██████████| 28.0/28.0 [00:00<?, ?B/s]\n"
          ]
        }
      ],
      "source": [
        "\n",
        "bert_model = BertForSequenceClassification.from_pretrained(\"bert-base-uncased\", # Use the 12-layer BERT model, with an uncased vocab.\n",
        "                                                                num_labels = 6, # The number of output labels  \n",
        "                                                                output_attentions = False, # Whether the model returns attentions weights.\n",
        "                                                                output_hidden_states = False # Whether the model returns all hidden-states.\n",
        "                                                          )\n",
        "bert_tokenizer = BertTokenizer.from_pretrained(\"bert-base-uncased\")\n",
        "# Tell pytorch to run this model on the GPU.\n",
        "# bert_model.cuda()"
      ]
    },
    {
      "cell_type": "code",
      "execution_count": 45,
      "metadata": {
        "id": "FFcmmkUmzXb6"
      },
      "outputs": [
        {
          "name": "stderr",
          "output_type": "stream",
          "text": [
            "Downloading (…)lve/main/config.json: 100%|██████████| 481/481 [00:00<00:00, 316kB/s]\n",
            "Downloading (…)\"pytorch_model.bin\";: 100%|██████████| 501M/501M [05:28<00:00, 1.53MB/s] \n",
            "Some weights of the model checkpoint at roberta-base were not used when initializing RobertaForSequenceClassification: ['lm_head.bias', 'lm_head.dense.bias', 'roberta.pooler.dense.weight', 'lm_head.layer_norm.bias', 'lm_head.dense.weight', 'lm_head.layer_norm.weight', 'roberta.pooler.dense.bias', 'lm_head.decoder.weight']\n",
            "- This IS expected if you are initializing RobertaForSequenceClassification from the checkpoint of a model trained on another task or with another architecture (e.g. initializing a BertForSequenceClassification model from a BertForPreTraining model).\n",
            "- This IS NOT expected if you are initializing RobertaForSequenceClassification from the checkpoint of a model that you expect to be exactly identical (initializing a BertForSequenceClassification model from a BertForSequenceClassification model).\n",
            "Some weights of RobertaForSequenceClassification were not initialized from the model checkpoint at roberta-base and are newly initialized: ['classifier.dense.weight', 'classifier.out_proj.weight', 'classifier.dense.bias', 'classifier.out_proj.bias']\n",
            "You should probably TRAIN this model on a down-stream task to be able to use it for predictions and inference.\n",
            "Downloading (…)olve/main/vocab.json: 100%|██████████| 899k/899k [00:02<00:00, 405kB/s]\n",
            "Downloading (…)olve/main/merges.txt: 100%|██████████| 456k/456k [00:01<00:00, 300kB/s]\n"
          ]
        },
        {
          "name": "stdout",
          "output_type": "stream",
          "text": [
            " Base models loaded\n"
          ]
        }
      ],
      "source": [
        "# Loading RoBERTa base model\n",
        "roberta_model = RobertaForSequenceClassification.from_pretrained(\"roberta-base\", #RoBERTa base model\n",
        "                                                                    num_labels = 6,  #number of output labels - 0,1 (//binary// multy classification)\n",
        "                                                                    output_attentions = False,  #model doesnt return attention weights\n",
        "                                                                    output_hidden_states = False #model doesnt return hidden states\n",
        "                                                                )\n",
        "#RoBERTa tokenizer\n",
        "roberta_tokenizer = RobertaTokenizer.from_pretrained(\"roberta-base\", do_lower_case=True)\n",
        "\n",
        "# Tell pytorch to run this model on the GPU.\n",
        "# roberta_model.cuda()\n",
        "\n",
        "print(' Base models loaded') "
      ]
    },
    {
      "cell_type": "markdown",
      "metadata": {
        "id": "b2QyzM9m1oGe"
      },
      "source": [
        "Demonstrating how  RoBERTa tokenizers work on a sample sentence"
      ]
    },
    {
      "cell_type": "code",
      "execution_count": 46,
      "metadata": {
        "colab": {
          "base_uri": "https://localhost:8080/"
        },
        "id": "v244_WxmzXfG",
        "outputId": "8659a75c-7aa2-4952-e93e-02df78716e3a"
      },
      "outputs": [
        {
          "name": "stdout",
          "output_type": "stream",
          "text": [
            " Original:   january beheading  citizens douaouda tipaza\n",
            "Tokenized BERT:  ['january', 'be', '##head', '##ing', 'citizens', 'do', '##ua', '##oud', '##a', 'tip', '##az', '##a']\n",
            "Token IDs BERT:  [2254, 2022, 4974, 2075, 4480, 2079, 6692, 19224, 2050, 5955, 10936, 2050]\n",
            "Tokenized RoBERT:  ['Ġjan', 'uary', 'Ġbe', 'heading', 'Ġ', 'Ġcitizens', 'Ġdou', 'a', 'oud', 'a', 'Ġtip', 'aza']\n",
            "Token IDs RoBERTa:  [10408, 16705, 28, 29086, 1437, 2286, 25605, 102, 6998, 102, 4767, 11868]\n"
          ]
        }
      ],
      "source": [
        "# Print the original sentence.\n",
        "print(' Original: ', data_train[\"NOTES\"][0])\n",
        "\n",
        "# Print the tweet split into tokens.\n",
        "print('Tokenized BERT: ', bert_tokenizer.tokenize(data_train[\"NOTES\"][0]))\n",
        "\n",
        "# Print the tweet mapped to token ids.\n",
        "print('Token IDs BERT: ', bert_tokenizer.convert_tokens_to_ids(bert_tokenizer.tokenize(data_train[\"NOTES\"][0])))\n",
        "\n",
        "# Split the sentence into tokens -RoBERTa\n",
        "print('Tokenized RoBERT: ', roberta_tokenizer.tokenize(data_train[\"NOTES\"][0]))\n",
        "\n",
        "# Mapping tokens to token IDs - RoBERTa\n",
        "print('Token IDs RoBERTa: ', roberta_tokenizer.convert_tokens_to_ids(roberta_tokenizer.tokenize(data_train[\"NOTES\"][0])))"
      ]
    },
    {
      "attachments": {},
      "cell_type": "markdown",
      "metadata": {},
      "source": [
        "BERT Tokenizer\n",
        "\n",
        "Here, the BERT tokenizer splits the string into multiple substrings. If the substrings are in its vocabulary, they will stay as is: this is the case for Cities, Taking and List. However, if a resulting string is not in its vocabulary, it will be split again until every string is represented by its vocabulary. For example, Transplanted is split multiple times until every token is represented in the BERT vocabulary: it is split into three tokens. The BERT tokenizer is lacking when it comes to complex characters spread over multiple bytes, as can be seen with emojis. In the sequence used, an emoji of a Cityscape was added. As the BERT tokenizer cannot interpret this emoji on a byte-level, it replaces it by the unknown token [UNK].\n",
        "\n",
        "RoBERTa Tokenizer\n",
        "\n",
        "On the other hand, the RoBERTa tokenizer has a slightly different approach. Here too, the string is split into multiple substrings, which are themselves split into multiple substrings until every substring can be represented by the vocabulary. However, the RoBERTa tokenizer has a byte-level approach. This tokenizer can represent every sequence as a combination of bytes, which makes it shine in the case of complex characters spread over multiple bytes, as with the Cityscape emoji. Instead of using the unknown token, this tokenizer can correctly encode the Cityscape emoji as the combination of multiple bytes. This tokenizer therefore does not require an unknown token, as it can handle every byte separately.\n",
        "\n",
        "The transformers library provides a helpful encode function which will handle most of the parsing and data prep steps for us.\n",
        "\n",
        "Before we are ready to encode our text, though, we need to decide on a maximum sentence length for padding / truncating to.\n",
        "\n",
        "The below cell will perform one tokenization pass of the dataset in order to measure the maximum sentence length."
      ]
    },
    {
      "cell_type": "code",
      "execution_count": 47,
      "metadata": {},
      "outputs": [
        {
          "name": "stdout",
          "output_type": "stream",
          "text": [
            "Max sentence length BERT:  132\n",
            "Max sentence length RoBERTa:  133\n"
          ]
        }
      ],
      "source": [
        "max_len_bert = 0\n",
        "max_len_roberta = 0\n",
        "\n",
        "# For every sentence...\n",
        "for sent in data_train[\"NOTES\"]:\n",
        "\n",
        "    # Tokenize the text and add `[CLS]` and `[SEP]` tokens.\n",
        "    input_ids_bert = bert_tokenizer.encode(sent, add_special_tokens=True)\n",
        "    input_ids_roberta = roberta_tokenizer.encode(sent, add_special_tokens=True)\n",
        "\n",
        "    # Update the maximum sentence length.\n",
        "    max_len_bert = max(max_len_bert, len(input_ids_bert))\n",
        "    max_len_roberta = max(max_len_roberta, len(input_ids_roberta))\n",
        "\n",
        "    \n",
        "print('Max sentence length BERT: ', max_len_bert)\n",
        "print('Max sentence length RoBERTa: ', max_len_roberta)"
      ]
    },
    {
      "attachments": {},
      "cell_type": "markdown",
      "metadata": {},
      "source": [
        "The special tokens have specific meanings: [SEP] is a separator token and [CLS] is a token that will be used to predict whether or not Part B is a sentence that directly follows Part A. To train the language model, 15% of the words in Part A and Part B are masked with the [MASK] token."
      ]
    },
    {
      "cell_type": "code",
      "execution_count": 50,
      "metadata": {},
      "outputs": [
        {
          "name": "stderr",
          "output_type": "stream",
          "text": [
            "c:\\Users\\Hammad\\Documents\\Python_Envs\\bert_trans_env\\lib\\site-packages\\transformers\\tokenization_utils_base.py:2339: FutureWarning: The `pad_to_max_length` argument is deprecated and will be removed in a future version, use `padding=True` or `padding='longest'` to pad to the longest sequence in the batch, or use `padding='max_length'` to pad to a max length. In this case, you can give a specific length with `max_length` (e.g. `max_length=45`) or leave max_length to None to pad to the maximal input size of the model (e.g. 512 for Bert).\n",
            "  warnings.warn(\n"
          ]
        },
        {
          "name": "stdout",
          "output_type": "stream",
          "text": [
            "Original:  two citizens beheaded hassasna\n",
            "Token IDs BERT: tensor([  101,  2730,  2463, 21179,  2057,  6820,  9587, 24141, 16366,   102,\n",
            "            0,     0,     0,     0,     0,     0,     0,     0,     0,     0,\n",
            "            0,     0,     0,     0,     0,     0,     0,     0,     0,     0,\n",
            "            0,     0,     0,     0,     0,     0,     0,     0,     0,     0,\n",
            "            0,     0,     0,     0,     0,     0,     0,     0,     0,     0,\n",
            "            0,     0,     0,     0,     0,     0,     0,     0,     0,     0,\n",
            "            0,     0,     0,     0,     0,     0,     0,     0,     0,     0,\n",
            "            0,     0,     0,     0,     0,     0,     0,     0,     0,     0,\n",
            "            0,     0,     0,     0,     0,     0,     0,     0,     0,     0,\n",
            "            0,     0,     0,     0,     0,     0,     0,     0,     0,     0,\n",
            "            0,     0,     0,     0,     0,     0,     0,     0,     0,     0,\n",
            "            0,     0,     0,     0,     0,     0,     0,     0,     0,     0])\n",
            "Token IDs RoBERTa: tensor([    0,   848,  6301, 29476,   885,   254,   257, 23327,  1168, 11136,\n",
            "            2,     1,     1,     1,     1,     1,     1,     1,     1,     1,\n",
            "            1,     1,     1,     1,     1,     1,     1,     1,     1,     1,\n",
            "            1,     1,     1,     1,     1,     1,     1,     1,     1,     1,\n",
            "            1,     1,     1,     1,     1,     1,     1,     1,     1,     1,\n",
            "            1,     1,     1,     1,     1,     1,     1,     1,     1,     1,\n",
            "            1,     1,     1,     1,     1,     1,     1,     1,     1,     1,\n",
            "            1,     1,     1,     1,     1,     1,     1,     1,     1,     1,\n",
            "            1,     1,     1,     1,     1,     1,     1,     1,     1,     1,\n",
            "            1,     1,     1,     1,     1,     1,     1,     1,     1,     1,\n",
            "            1,     1,     1,     1,     1,     1,     1,     1,     1,     1,\n",
            "            1,     1,     1,     1,     1,     1,     1,     1,     1,     1])\n"
          ]
        }
      ],
      "source": [
        "# Tokenize all of the sentences and map the tokens to thier word IDs.\n",
        "bert_input_ids = []\n",
        "bert_attention_masks = []\n",
        "roberta_input_ids = []\n",
        "roberta_attention_masks = []\n",
        "sentence_ids = []\n",
        "counter = 0\n",
        "\n",
        "# For every sentence...\n",
        "for sent in data_train[\"NOTES\"]:\n",
        "    # `encode_plus` will:\n",
        "    #   (1) Tokenize the sentence.\n",
        "    #   (2) Prepend the `[CLS]` token to the start. (classification level sentence - bert)\n",
        "    #   (3) Append the `[SEP]` token to the end.\n",
        "    #   (4) Map tokens to their IDs.\n",
        "    #   (5) Pad or truncate the sentence to `max_length`\n",
        "    #   (6) Create attention masks for [PAD] tokens.\n",
        "    bert_encoded_dict = bert_tokenizer.encode_plus(\n",
        "                        sent,                      # Sentence to encode.\n",
        "                        add_special_tokens = True, # Add '[CLS]' and '[SEP]'\n",
        "                        max_length = 120,           # Pad & truncate all sentences.\n",
        "                        pad_to_max_length = True,\n",
        "                        return_attention_mask = True,   # Construct attn. masks.\n",
        "                        return_tensors = 'pt',     # Return pytorch tensors.\n",
        "                        truncation=True\n",
        "                   )\n",
        "    \n",
        "    \n",
        "    roberta_encoded_dict = roberta_tokenizer.encode_plus(\n",
        "                        sent,                      # Sentence to encode.\n",
        "                        add_special_tokens = True, # Add '[CLS]' and '[SEP]'\n",
        "                        max_length = 120,           # Pad & truncate all sentences.\n",
        "                        pad_to_max_length = True,\n",
        "                        return_attention_mask = True,   # Construct attn. masks.\n",
        "                        return_tensors = 'pt',     # Return pytorch tensors.\n",
        "                        truncation=True\n",
        "                   )\n",
        "    # Add the encoded sentence to the list.    \n",
        "    bert_input_ids.append(bert_encoded_dict['input_ids'])\n",
        "    roberta_input_ids.append(roberta_encoded_dict['input_ids'])\n",
        "    \n",
        "    # And its attention mask (simply differentiates padding from non-padding).\n",
        "    bert_attention_masks.append(bert_encoded_dict['attention_mask'])\n",
        "    roberta_attention_masks.append(roberta_encoded_dict['attention_mask'])\n",
        "    \n",
        "    # collecting sentence_ids\n",
        "    sentence_ids.append(counter)\n",
        "    counter  = counter + 1\n",
        "    \n",
        "    \n",
        "    \n",
        "# Convert the lists into tensors.\n",
        "bert_input_ids = torch.cat(bert_input_ids, dim=0)\n",
        "bert_attention_masks = torch.cat(bert_attention_masks, dim=0)\n",
        "\n",
        "roberta_input_ids = torch.cat(roberta_input_ids, dim=0)\n",
        "roberta_attention_masks = torch.cat(roberta_attention_masks, dim=0)\n",
        "\n",
        "\n",
        "# Print sentence 0, now as a list of IDs.\n",
        "print('Original: ', data_train[\"NOTES\"][1])\n",
        "print('Token IDs BERT:', bert_input_ids[1])\n",
        "print('Token IDs RoBERTa:', roberta_input_ids[1])"
      ]
    },
    {
      "cell_type": "code",
      "execution_count": null,
      "metadata": {},
      "outputs": [],
      "source": [
        "labels = torch.tensor(data_train['EVENT_TYPE'])\n",
        "sentence_ids = torch.tensor(sentence_ids)"
      ]
    },
    {
      "cell_type": "code",
      "execution_count": null,
      "metadata": {},
      "outputs": [],
      "source": []
    },
    {
      "cell_type": "code",
      "execution_count": null,
      "metadata": {},
      "outputs": [],
      "source": []
    },
    {
      "cell_type": "code",
      "execution_count": 42,
      "metadata": {
        "id": "opqEmZC8zXhf"
      },
      "outputs": [],
      "source": [
        "#assigning sentences and labels to separate variables\n",
        "sentences = data_train[\"NOTES\"].values\n",
        "labels = data_train[\"EVENT_TYPE\"].values"
      ]
    },
    {
      "cell_type": "code",
      "execution_count": 43,
      "metadata": {
        "colab": {
          "base_uri": "https://localhost:8080/",
          "height": 36
        },
        "id": "s6ip7PYwXCDn",
        "outputId": "913e6105-de10-4c64-ad6a-41c916adc27b"
      },
      "outputs": [
        {
          "data": {
            "text/plain": [
              "'clashes military militants region douade tipaza'"
            ]
          },
          "execution_count": 43,
          "metadata": {},
          "output_type": "execute_result"
        }
      ],
      "source": [
        "data_train['NOTES'][10]"
      ]
    },
    {
      "cell_type": "code",
      "execution_count": 44,
      "metadata": {
        "colab": {
          "base_uri": "https://localhost:8080/"
        },
        "id": "o94bKkU7ZCzR",
        "outputId": "466eb231-b335-4191-b543-d2bafaa895c8"
      },
      "outputs": [
        {
          "name": "stdout",
          "output_type": "stream",
          "text": [
            "Max sentence length RoBERTa:  133\n"
          ]
        }
      ],
      "source": [
        "max_len_bert = 0\n",
        "max_len_roberta = 0\n",
        "\n",
        "# For every sentence...\n",
        "for sent in sentences:\n",
        "\n",
        "    # Tokenize the text and add `[CLS]` and `[SEP]` tokens.\n",
        "    \n",
        "    input_ids_roberta = roberta_tokenizer.encode(sent, add_special_tokens=True)\n",
        "\n",
        "    # Update the maximum sentence length.\n",
        "   \n",
        "    max_len_roberta = max(max_len_roberta, len(input_ids_roberta))\n",
        "\n",
        "    \n",
        "\n",
        "print('Max sentence length RoBERTa: ', max_len_roberta)"
      ]
    },
    {
      "cell_type": "code",
      "execution_count": 45,
      "metadata": {
        "id": "tA526FBE3yZw"
      },
      "outputs": [],
      "source": [
        "# Below function performs tokenization process as required by bert and roberta models, for a given dataset\n",
        "def bert_robert_tokenization(dataset):\n",
        "  sentences  = dataset[\"NOTES\"].values\n",
        "  labels  = dataset[\"EVENT_TYPE\"].values\n",
        "  max_length = 200\n",
        "\n",
        "  # Tokenize all of the sentences and map the tokens to thier word IDs.\n",
        " \n",
        "  roberta_input_ids = []\n",
        "  roberta_attention_masks = []\n",
        "\n",
        "  sentence_ids = []\n",
        "  counter = 0\n",
        "\n",
        "  # For every sentence...\n",
        "  for sent in sentences:\n",
        "      #encode_plus function will encode the sentences as required by model, \n",
        "      #including tokenization process and mapping token ids\n",
        "      \n",
        "      \n",
        "      roberta_encoded_dict = roberta_tokenizer.encode_plus(\n",
        "                          str(sent),        #sentence\n",
        "                          add_special_tokens = True, # Add '[CLS]' and '[SEP]' tokens \n",
        "                          max_length = 130,        #Since we have seen from our analysis that majority of sentences have length less than 300.   \n",
        "                          pad_to_max_length = True,     # Pad sentences to 256 length  if the length of sentence is less than max_length\n",
        "                          return_attention_mask = True,   # Create attention mask\n",
        "                          truncation = True,   # truncate sentences to 256 length  if the length of sentence is greater than max_length\n",
        "                          return_tensors = 'pt',     # Return pytorch tensors.\n",
        "                    )\n",
        "      \n",
        "    \n",
        "      # Add the encoded sentence to the list.    \n",
        "    \n",
        "      roberta_input_ids.append(roberta_encoded_dict['input_ids'])\n",
        "      \n",
        "      \n",
        "      # Add attention mask to the list \n",
        "      \n",
        "      roberta_attention_masks.append(roberta_encoded_dict['attention_mask'])\n",
        "      \n",
        "      \n",
        "      # collecting sentence_ids\n",
        "      sentence_ids.append(counter)\n",
        "      counter  = counter + 1\n",
        "      \n",
        "      \n",
        "      \n",
        "  # Convert the lists into tensors.\n",
        "  \n",
        "\n",
        "  roberta_input_ids = torch.cat(roberta_input_ids, dim=0)\n",
        "  roberta_attention_masks = torch.cat(roberta_attention_masks, dim=0)\n",
        "\n",
        "\n",
        "  labels = torch.tensor(labels)\n",
        "  sentence_ids = torch.tensor(sentence_ids)\n",
        "\n",
        "  return { \"Roberta\":[roberta_input_ids, roberta_attention_masks, labels]}"
      ]
    },
    {
      "cell_type": "code",
      "execution_count": 46,
      "metadata": {
        "id": "E8EEajtlbmBv"
      },
      "outputs": [
        {
          "name": "stdout",
          "output_type": "stream",
          "text": [
            "Original:   killed km pont weru mogoloko\n"
          ]
        },
        {
          "ename": "NameError",
          "evalue": "name 'bert_input_ids' is not defined",
          "output_type": "error",
          "traceback": [
            "\u001b[0;31m---------------------------------------------------------------------------\u001b[0m",
            "\u001b[0;31mNameError\u001b[0m                                 Traceback (most recent call last)",
            "Cell \u001b[0;32mIn [46], line 3\u001b[0m\n\u001b[1;32m      1\u001b[0m \u001b[39m# Print sentence 0, now as a list of IDs.\u001b[39;00m\n\u001b[1;32m      2\u001b[0m \u001b[39mprint\u001b[39m(\u001b[39m'\u001b[39m\u001b[39mOriginal: \u001b[39m\u001b[39m'\u001b[39m, sentences[\u001b[39m1\u001b[39m])\n\u001b[0;32m----> 3\u001b[0m \u001b[39mprint\u001b[39m(\u001b[39m'\u001b[39m\u001b[39mToken IDs BERT:\u001b[39m\u001b[39m'\u001b[39m, bert_input_ids[\u001b[39m1\u001b[39m])\n\u001b[1;32m      4\u001b[0m \u001b[39mprint\u001b[39m(\u001b[39m'\u001b[39m\u001b[39mToken IDs RoBERTa:\u001b[39m\u001b[39m'\u001b[39m, roberta_input_ids[\u001b[39m1\u001b[39m])\n",
            "\u001b[0;31mNameError\u001b[0m: name 'bert_input_ids' is not defined"
          ]
        }
      ],
      "source": [
        "# Print sentence 0, now as a list of IDs.\n",
        "print('Original: ', sentences[1])\n",
        "print('Token IDs BERT:', bert_input_ids[1])\n",
        "print('Token IDs RoBERTa:', roberta_input_ids[1])"
      ]
    },
    {
      "cell_type": "code",
      "execution_count": null,
      "metadata": {
        "id": "XLP8vV3xbneZ"
      },
      "outputs": [],
      "source": []
    },
    {
      "cell_type": "code",
      "execution_count": 47,
      "metadata": {
        "id": "SMGSSVd14uQg"
      },
      "outputs": [
        {
          "name": "stderr",
          "output_type": "stream",
          "text": [
            "/home/hammad/.local/lib/python3.8/site-packages/transformers/tokenization_utils_base.py:2339: FutureWarning: The `pad_to_max_length` argument is deprecated and will be removed in a future version, use `padding=True` or `padding='longest'` to pad to the longest sequence in the batch, or use `padding='max_length'` to pad to a max length. In this case, you can give a specific length with `max_length` (e.g. `max_length=45`) or leave max_length to None to pad to the maximal input size of the model (e.g. 512 for Bert).\n",
            "  warnings.warn(\n"
          ]
        }
      ],
      "source": [
        "from torch.utils.data import TensorDataset, random_split\n",
        "# function to seed the script globally\n",
        "torch.manual_seed(0)\n",
        "\n",
        "#tokenizing train set\n",
        "token_dict_train = bert_robert_tokenization(data_train)\n",
        "roberta_input_ids, roberta_attention_masks, labels = token_dict_train[\"Roberta\"]\n",
        "\n",
        "#tokenizing validation set\n",
        "token_dict_valid = bert_robert_tokenization(data_valid)\n",
        "roberta_input_ids_valid, roberta_attention_masks_valid, labels_valid = token_dict_valid[\"Roberta\"]\n",
        "\n",
        "#tokenizing test set\n",
        "token_dict_test = bert_robert_tokenization(data_test)\n",
        "roberta_input_ids_test, roberta_attention_masks_test, labels_test = token_dict_test[\"Roberta\"]"
      ]
    },
    {
      "cell_type": "code",
      "execution_count": 48,
      "metadata": {
        "id": "cibCmksM4uTx"
      },
      "outputs": [],
      "source": [
        "# Combine the training inputs into a TensorDataset.\n",
        "roberta_train_dataset = TensorDataset(roberta_input_ids, roberta_attention_masks, labels)\n",
        "\n",
        "# Combine the validation inputs into a TensorDataset.\n",
        "roberta_val_dataset = TensorDataset(roberta_input_ids_valid, roberta_attention_masks_valid, labels_valid)"
      ]
    },
    {
      "cell_type": "code",
      "execution_count": 49,
      "metadata": {
        "id": "s76HSnJH4uWY"
      },
      "outputs": [],
      "source": [
        "# Combine the test inputs into a TensorDataset.\n",
        "roberta_test_dataset = TensorDataset(roberta_input_ids_test, roberta_attention_masks_test, labels_test)"
      ]
    },
    {
      "cell_type": "markdown",
      "metadata": {
        "id": "N8pBWUMhdQQZ"
      },
      "source": [
        " The DataLoader needs to know our batch size for training, so we specify it \n",
        " here. For fine-tuning BERT on a specific task, the authors recommend a \n",
        " **batch size of 16 or 32**."
      ]
    },
    {
      "cell_type": "code",
      "execution_count": 50,
      "metadata": {
        "id": "NrXvUo5f4uZZ"
      },
      "outputs": [],
      "source": [
        "from torch.utils.data import DataLoader, RandomSampler, SequentialSampler\n",
        "\n",
        "batch_size = 32\n",
        "\n",
        "# Create the DataLoaders for our training - Loads the data randomly in batches of size 32\n",
        "\n",
        "roberta_train_dataloader = DataLoader(\n",
        "            roberta_train_dataset,  # The training samples.\n",
        "            sampler = RandomSampler(roberta_train_dataset), # Select batches randomly\n",
        "            batch_size = batch_size # Trains with this batch size.\n",
        "        )\n",
        "\n",
        "# Create the DataLoaders for our validation - Loads the data in batches of size 32\n",
        "\n",
        "roberta_validation_dataloader = DataLoader(\n",
        "            roberta_val_dataset, # The validation samples.\n",
        "            sampler = SequentialSampler(roberta_val_dataset), # Pull out batches sequentially.\n",
        "            batch_size = batch_size # Evaluate with this batch size.\n",
        "        )"
      ]
    },
    {
      "cell_type": "markdown",
      "metadata": {
        "id": "YdbL_xqdejqg"
      },
      "source": [
        "For the purposes of fine-tuning, the authors recommend choosing from the following values :\n",
        "\n",
        "Batch size: 16, 32 Learning rate (Adam): 5e-5, 3e-5, 2e-5 Number of epochs: 2, 3, 4 We chose:\n",
        "\n",
        "Batch size: 32 (set when creating our DataLoaders) Learning rate: 2e-5 Epochs: 4 (we'll see that this is probably too many...) The epsilon parameter eps = 1e-8 is \"a very small number to prevent any division by zero in the implementation\""
      ]
    },
    {
      "cell_type": "code",
      "execution_count": 51,
      "metadata": {
        "colab": {
          "base_uri": "https://localhost:8080/"
        },
        "id": "ozcN7MdH7MhI",
        "outputId": "83d7c63e-401e-46cc-b15b-c7aeac6e44c5"
      },
      "outputs": [
        {
          "name": "stderr",
          "output_type": "stream",
          "text": [
            "/home/hammad/.local/lib/python3.8/site-packages/transformers/optimization.py:306: FutureWarning: This implementation of AdamW is deprecated and will be removed in a future version. Use the PyTorch implementation torch.optim.AdamW instead, or set `no_deprecation_warning=True` to disable this warning\n",
            "  warnings.warn(\n"
          ]
        }
      ],
      "source": [
        "# optimizers - AdamW\n",
        "# here, i have used default learning rate and epsilon values for RoBERTa\n",
        "\n",
        "\n",
        "roberta_optimizer = AdamW(roberta_model.parameters(),\n",
        "                  lr = 5e-5, # args.learning_rate - default is 5e-5\n",
        "                  eps = 1e-8, # args.adam_epsilon  - default is 1e-8. \n",
        "                )"
      ]
    },
    {
      "cell_type": "code",
      "execution_count": 52,
      "metadata": {
        "id": "OYnkXzX67MkH"
      },
      "outputs": [],
      "source": [
        "from transformers import get_linear_schedule_with_warmup\n",
        "\n",
        "# Number of training epochs\n",
        "epochs = 2\n",
        "\n",
        "# Total number of training steps is [number of batches] x [number of epochs]\n",
        "#total_steps = len(bert_train_dataloader) * epochs\n",
        "total_steps = len( roberta_train_dataloader) * epochs\n",
        "# Create the learning rate scheduler.\n",
        "roberta_scheduler = get_linear_schedule_with_warmup(roberta_optimizer, \n",
        "                                            num_warmup_steps = 0,# Default value in run_glue.py\n",
        "                                            num_training_steps = total_steps)\n",
        "\n"
      ]
    },
    {
      "cell_type": "code",
      "execution_count": 53,
      "metadata": {
        "id": "b8BYhRT07Mmk"
      },
      "outputs": [],
      "source": [
        "import numpy as np\n",
        "\n",
        "# Function to calculate the accuracy of our predictions vs labels\n",
        "def flat_accuracy(preds, labels):\n",
        "    pred_flat = np.argmax(preds, axis=1).flatten()\n",
        "    labels_flat = labels.flatten()\n",
        "    return np.sum(pred_flat == labels_flat) / len(labels_flat)"
      ]
    },
    {
      "cell_type": "code",
      "execution_count": 54,
      "metadata": {
        "id": "ps_JbVQ37VJH"
      },
      "outputs": [],
      "source": [
        "import time\n",
        "import datetime\n",
        "\n",
        "def format_time(elapsed):\n",
        "    '''\n",
        "    Takes a time in seconds and returns a string hh:mm:ss\n",
        "    '''\n",
        "    # Round to the nearest second.\n",
        "    elapsed_rounded = int(round((elapsed)))\n",
        "    \n",
        "    # Format as hh:mm:ss\n",
        "    return str(datetime.timedelta(seconds=elapsed_rounded))\n"
      ]
    },
    {
      "cell_type": "code",
      "execution_count": 55,
      "metadata": {
        "colab": {
          "base_uri": "https://localhost:8080/"
        },
        "id": "ILoe5hJS7VMO",
        "outputId": "6db5bff4-9147-4567-eb01-5d8ce0241edc"
      },
      "outputs": [
        {
          "name": "stdout",
          "output_type": "stream",
          "text": [
            "No GPU available, using the CPU instead.\n"
          ]
        }
      ],
      "source": [
        "import torch\n",
        "\n",
        "# tell pytorch to use the gpu if available\n",
        "if torch.cuda.is_available():    \n",
        "      \n",
        "    device = torch.device(\"cuda\")\n",
        "\n",
        "    print('There are %d GPU(s) available.' % torch.cuda.device_count())\n",
        "\n",
        "    print('We will use the GPU:', torch.cuda.get_device_name(0))\n",
        "\n",
        "# If not...\n",
        "else:\n",
        "    print('No GPU available, using the CPU instead.')\n",
        "    device = torch.device(\"cpu\")"
      ]
    },
    {
      "cell_type": "markdown",
      "metadata": {
        "id": "VW_q-myr7oFP"
      },
      "source": [
        "**BERT - Training and Validation**"
      ]
    },
    {
      "cell_type": "code",
      "execution_count": null,
      "metadata": {
        "id": "J1NvtPfF7VOw"
      },
      "outputs": [],
      "source": [
        "'''\n",
        "import random\n",
        "# This training code is based on the `run_glue.py` script here:\n",
        "# https://github.com/huggingface/transformers/blob/5bfcd0485ece086ebcbed2d008813037968a9e58/examples/run_glue.py#L128\n",
        "# Set the seed value all over the place to make this reproducible.\n",
        "seed_val = 112\n",
        "random.seed(seed_val)\n",
        "np.random.seed(seed_val)\n",
        "torch.manual_seed(seed_val)\n",
        "torch.cuda.manual_seed_all(seed_val)\n",
        "loss_values = []\n",
        "for epoch_i in range(0, epochs):\n",
        "    #Training \n",
        "    print(\"\")\n",
        "    print('======== Epoch {:} / {:} ========'.format(epoch_i + 1, epochs))\n",
        "    print('Training...')\n",
        "    # Measure how long the training epoch takes.\n",
        "    t0 = time.time()\n",
        "    # Reset the total loss for this epoch.\n",
        "    total_loss = 0\n",
        "    bert_model.train()\n",
        "    # For each batch of training data...\n",
        "    for step, batch in enumerate(bert_train_dataloader):\n",
        "      #Report progress after every 40 epochs\n",
        "        if step % 40 == 0 and not step == 0: \n",
        "            # Calculate elapsed time in minutes.\n",
        "            elapsed = format_time(time.time() - t0)\n",
        "            \n",
        "            # print current training batch and elapsed time\n",
        "            print('  Batch {:>5,}  of  {:>5,}.    Elapsed: {:}.'.format(step, len(bert_train_dataloader), elapsed))\n",
        "        \n",
        "        b_input_ids = batch[0].to(device)\n",
        "        b_input_mask = batch[1].to(device)\n",
        "        b_labels = batch[2].to(device)\n",
        "        \n",
        "        bert_model.zero_grad()        \n",
        "        \n",
        "        outputs = bert_model(b_input_ids, \n",
        "                    token_type_ids=None, \n",
        "                    attention_mask=b_input_mask, \n",
        "                    labels=b_labels)\n",
        "        \n",
        "        # model returns a tuple, extract loss value from that tuple\n",
        "        loss = outputs[0]\n",
        "        total_loss += loss.item()\n",
        "        loss.backward()\n",
        "        torch.nn.utils.clip_grad_norm_(bert_model.parameters(), 1.0)\n",
        "        bert_optimizer.step()\n",
        "        \n",
        "        bert_scheduler.step()\n",
        "    # Calculate the average loss over the training data.\n",
        "    avg_train_loss = total_loss / len(bert_train_dataloader)            \n",
        "    \n",
        "    # Store the loss value for plotting the learning curve.\n",
        "    loss_values.append(avg_train_loss)\n",
        "    print(\"\")\n",
        "    print(\"  Average training loss: {0:.2f}\".format(avg_train_loss))\n",
        "    print(\"  Training epcoh took: {:}\".format(format_time(time.time() - t0)))\n",
        "        \n",
        "    #Validation Part\n",
        "\n",
        "    \n",
        "    print(\"\")\n",
        "    print(\"Running Validation...\")\n",
        "    t0 = time.time()\n",
        "    # Put the model in evaluation mode    \n",
        "    bert_model.eval()\n",
        "    # Tracking variables \n",
        "    eval_loss, eval_accuracy = 0, 0\n",
        "    nb_eval_steps, nb_eval_examples = 0, 0\n",
        "    # Evaluate data for one epoch\n",
        "    for batch in bert_validation_dataloader:\n",
        "        \n",
        "        # Add batch to GPU\n",
        "        batch = tuple(t.to(device) for t in batch)\n",
        "        \n",
        "        # Unpack the inputs from our dataloader\n",
        "        b_input_ids, b_input_mask, b_labels = batch\n",
        "        \n",
        "        with torch.no_grad():        \n",
        "           outputs = bert_model(b_input_ids, \n",
        "                            token_type_ids=None, \n",
        "                            attention_mask=b_input_mask)\n",
        "        \n",
        "        logits = outputs[0]\n",
        "        # Move logits and labels to CPU\n",
        "        logits = logits.detach().cpu().numpy()\n",
        "        label_ids = b_labels.to('cpu').numpy()\n",
        "        \n",
        "        # Calculate the accuracy for this batch of test sentences.\n",
        "        tmp_eval_accuracy = flat_accuracy(logits, label_ids)\n",
        "        \n",
        "        # Accumulate the total accuracy.\n",
        "        eval_accuracy += tmp_eval_accuracy\n",
        "        # Track the number of batches\n",
        "        nb_eval_steps += 1\n",
        "    # Report the final accuracy for this validation run.\n",
        "    print(\"  Accuracy: {0:.2f}\".format(eval_accuracy/nb_eval_steps))\n",
        "    print(\"  Validation took: {:}\".format(format_time(time.time() - t0)))\n",
        "print(\"\")\n",
        "print(\"Training complete!\")\n",
        "\n",
        "'''"
      ]
    },
    {
      "cell_type": "code",
      "execution_count": null,
      "metadata": {
        "id": "nbKoPrfz72rJ"
      },
      "outputs": [],
      "source": [
        "'''\n",
        "\n",
        "#Plotting the training loss over epochs\n",
        "import plotly.express as px\n",
        "f = pd.DataFrame(loss_values)\n",
        "f.columns=['Loss']\n",
        "fig = px.line(f, x=f.index, y=f.Loss)\n",
        "fig.update_layout(title='Training loss of the Model',\n",
        "                   xaxis_title='Epoch',\n",
        "                   yaxis_title='Loss')\n",
        "fig.show()\n",
        "\n",
        "'''"
      ]
    },
    {
      "cell_type": "markdown",
      "metadata": {
        "id": "N_8ewsCMCsve"
      },
      "source": [
        "\n",
        "# **Testing Part**"
      ]
    },
    {
      "cell_type": "code",
      "execution_count": null,
      "metadata": {
        "id": "SR09gIap720o"
      },
      "outputs": [],
      "source": [
        "'''\n",
        "bert_prediction_sampler = SequentialSampler(bert_test_dataset)\n",
        "bert_prediction_dataloader = DataLoader(bert_test_dataset, sampler=bert_prediction_sampler, batch_size=batch_size)\n",
        "'''"
      ]
    },
    {
      "cell_type": "code",
      "execution_count": null,
      "metadata": {
        "id": "DFg0AMG87244"
      },
      "outputs": [],
      "source": [
        "'''\n",
        "# Prediction on test set\n",
        "\n",
        "print('Predicting labels for {:,} test sentences...'.format(len(bert_input_ids_test)))\n",
        "\n",
        "# Put model in evaluation mode\n",
        "bert_model.eval()\n",
        "\n",
        "# Tracking variables \n",
        "predictions , true_labels = [], []\n",
        "\n",
        "'''"
      ]
    },
    {
      "cell_type": "code",
      "execution_count": null,
      "metadata": {
        "id": "VW7Bj5fwC4xS"
      },
      "outputs": [],
      "source": [
        "'''\n",
        "# Predict \n",
        "for batch in bert_prediction_dataloader:\n",
        "  # Add batch to GPU\n",
        "  batch = tuple(t.to(device) for t in batch)\n",
        "  \n",
        "  # Unpack the inputs from our dataloader\n",
        "  b_input_ids, b_input_mask, b_labels = batch\n",
        "  \n",
        " \n",
        "  with torch.no_grad():\n",
        "      # Forward pass, calculate logit predictions\n",
        "      outputs = bert_model(b_input_ids, token_type_ids=None, \n",
        "                      attention_mask=b_input_mask)\n",
        "\n",
        "  logits = outputs[0]\n",
        "\n",
        "  # Move logits and labels to CPU\n",
        "  logits = logits.detach().cpu().numpy()\n",
        "  label_ids = b_labels.to('cpu').numpy()\n",
        "  \n",
        "  # Store predictions and true labels\n",
        "  predictions.append(logits)\n",
        "  true_labels.append(label_ids)\n",
        "print('    DONE.')\n",
        "'''"
      ]
    },
    {
      "cell_type": "markdown",
      "metadata": {
        "id": "0A2qtelODEV-"
      },
      "source": [
        "\n",
        "DONE.\n",
        "Classsification Report and Confusion Matrix for Test set\n"
      ]
    },
    {
      "cell_type": "code",
      "execution_count": null,
      "metadata": {
        "id": "x1w9C2EgDHua"
      },
      "outputs": [],
      "source": [
        "'''\n",
        "predictions_labels = [item for subitem in predictions for item in subitem]\n",
        "\n",
        "predictions_labels = np.argmax(predictions_labels, axis=1).flatten()\n",
        "\n",
        "# Combine the correct labels for each batch into a single list.\n",
        "flat_true_labels = [item for sublist in true_labels for item in sublist]\n",
        "\n",
        "from sklearn.metrics import classification_report, confusion_matrix\n",
        "\n",
        "print (classification_report(predictions_labels, flat_true_labels))\n",
        "print(confusion_matrix(flat_true_labels, predictions_labels))\n",
        "\n",
        "'''"
      ]
    },
    {
      "cell_type": "markdown",
      "metadata": {
        "id": "RCiJ7xa3DLam"
      },
      "source": [
        "# **ROBERTA - Training and Validation**"
      ]
    },
    {
      "cell_type": "code",
      "execution_count": 56,
      "metadata": {
        "colab": {
          "base_uri": "https://localhost:8080/",
          "height": 380
        },
        "id": "_XfcWLnjDHxQ",
        "outputId": "556cab37-32d9-4340-b8a5-2961099e4d51"
      },
      "outputs": [
        {
          "name": "stdout",
          "output_type": "stream",
          "text": [
            "\n",
            "======== Epoch 1 / 2 ========\n",
            "Training...\n"
          ]
        },
        {
          "ename": "IndexError",
          "evalue": "Target 6 is out of bounds.",
          "output_type": "error",
          "traceback": [
            "\u001b[0;31m---------------------------------------------------------------------------\u001b[0m",
            "\u001b[0;31mIndexError\u001b[0m                                Traceback (most recent call last)",
            "Cell \u001b[0;32mIn [56], line 64\u001b[0m\n\u001b[1;32m     48\u001b[0m roberta_model\u001b[39m.\u001b[39mzero_grad()  \u001b[39m# Always clear any previously calculated\u001b[39;00m\n\u001b[1;32m     49\u001b[0m                            \u001b[39m# gradients before performing a backward pass.\u001b[39;00m\n\u001b[1;32m     50\u001b[0m                            \u001b[39m# PyTorch doesn't do this automatically because \u001b[39;00m\n\u001b[1;32m     51\u001b[0m                            \u001b[39m# accumulating the gradients is \"convenient \u001b[39;00m\n\u001b[0;32m   (...)\u001b[0m\n\u001b[1;32m     62\u001b[0m \u001b[39m# the loss (because we provided labels) and the \"logits\"--the roberta_model\u001b[39;00m\n\u001b[1;32m     63\u001b[0m \u001b[39m# outputs prior to activation.\u001b[39;00m\n\u001b[0;32m---> 64\u001b[0m outputs \u001b[39m=\u001b[39m roberta_model(b_input_ids, \n\u001b[1;32m     65\u001b[0m             token_type_ids\u001b[39m=\u001b[39;49m\u001b[39mNone\u001b[39;49;00m, \n\u001b[1;32m     66\u001b[0m             attention_mask\u001b[39m=\u001b[39;49mb_input_mask, \n\u001b[1;32m     67\u001b[0m             labels\u001b[39m=\u001b[39;49mb_labels)\n\u001b[1;32m     69\u001b[0m \u001b[39m# Model returns tuple, extract loss value from that tuple\u001b[39;00m\n\u001b[1;32m     70\u001b[0m loss \u001b[39m=\u001b[39m outputs[\u001b[39m0\u001b[39m]\n",
            "File \u001b[0;32m~/.local/lib/python3.8/site-packages/torch/nn/modules/module.py:1194\u001b[0m, in \u001b[0;36mModule._call_impl\u001b[0;34m(self, *input, **kwargs)\u001b[0m\n\u001b[1;32m   1190\u001b[0m \u001b[39m# If we don't have any hooks, we want to skip the rest of the logic in\u001b[39;00m\n\u001b[1;32m   1191\u001b[0m \u001b[39m# this function, and just call forward.\u001b[39;00m\n\u001b[1;32m   1192\u001b[0m \u001b[39mif\u001b[39;00m \u001b[39mnot\u001b[39;00m (\u001b[39mself\u001b[39m\u001b[39m.\u001b[39m_backward_hooks \u001b[39mor\u001b[39;00m \u001b[39mself\u001b[39m\u001b[39m.\u001b[39m_forward_hooks \u001b[39mor\u001b[39;00m \u001b[39mself\u001b[39m\u001b[39m.\u001b[39m_forward_pre_hooks \u001b[39mor\u001b[39;00m _global_backward_hooks\n\u001b[1;32m   1193\u001b[0m         \u001b[39mor\u001b[39;00m _global_forward_hooks \u001b[39mor\u001b[39;00m _global_forward_pre_hooks):\n\u001b[0;32m-> 1194\u001b[0m     \u001b[39mreturn\u001b[39;00m forward_call(\u001b[39m*\u001b[39;49m\u001b[39minput\u001b[39;49m, \u001b[39m*\u001b[39;49m\u001b[39m*\u001b[39;49mkwargs)\n\u001b[1;32m   1195\u001b[0m \u001b[39m# Do not call functions when jit is used\u001b[39;00m\n\u001b[1;32m   1196\u001b[0m full_backward_hooks, non_full_backward_hooks \u001b[39m=\u001b[39m [], []\n",
            "File \u001b[0;32m~/.local/lib/python3.8/site-packages/transformers/models/roberta/modeling_roberta.py:1243\u001b[0m, in \u001b[0;36mRobertaForSequenceClassification.forward\u001b[0;34m(self, input_ids, attention_mask, token_type_ids, position_ids, head_mask, inputs_embeds, labels, output_attentions, output_hidden_states, return_dict)\u001b[0m\n\u001b[1;32m   1241\u001b[0m \u001b[39melif\u001b[39;00m \u001b[39mself\u001b[39m\u001b[39m.\u001b[39mconfig\u001b[39m.\u001b[39mproblem_type \u001b[39m==\u001b[39m \u001b[39m\"\u001b[39m\u001b[39msingle_label_classification\u001b[39m\u001b[39m\"\u001b[39m:\n\u001b[1;32m   1242\u001b[0m     loss_fct \u001b[39m=\u001b[39m CrossEntropyLoss()\n\u001b[0;32m-> 1243\u001b[0m     loss \u001b[39m=\u001b[39m loss_fct(logits\u001b[39m.\u001b[39;49mview(\u001b[39m-\u001b[39;49m\u001b[39m1\u001b[39;49m, \u001b[39mself\u001b[39;49m\u001b[39m.\u001b[39;49mnum_labels), labels\u001b[39m.\u001b[39;49mview(\u001b[39m-\u001b[39;49m\u001b[39m1\u001b[39;49m))\n\u001b[1;32m   1244\u001b[0m \u001b[39melif\u001b[39;00m \u001b[39mself\u001b[39m\u001b[39m.\u001b[39mconfig\u001b[39m.\u001b[39mproblem_type \u001b[39m==\u001b[39m \u001b[39m\"\u001b[39m\u001b[39mmulti_label_classification\u001b[39m\u001b[39m\"\u001b[39m:\n\u001b[1;32m   1245\u001b[0m     loss_fct \u001b[39m=\u001b[39m BCEWithLogitsLoss()\n",
            "File \u001b[0;32m~/.local/lib/python3.8/site-packages/torch/nn/modules/module.py:1194\u001b[0m, in \u001b[0;36mModule._call_impl\u001b[0;34m(self, *input, **kwargs)\u001b[0m\n\u001b[1;32m   1190\u001b[0m \u001b[39m# If we don't have any hooks, we want to skip the rest of the logic in\u001b[39;00m\n\u001b[1;32m   1191\u001b[0m \u001b[39m# this function, and just call forward.\u001b[39;00m\n\u001b[1;32m   1192\u001b[0m \u001b[39mif\u001b[39;00m \u001b[39mnot\u001b[39;00m (\u001b[39mself\u001b[39m\u001b[39m.\u001b[39m_backward_hooks \u001b[39mor\u001b[39;00m \u001b[39mself\u001b[39m\u001b[39m.\u001b[39m_forward_hooks \u001b[39mor\u001b[39;00m \u001b[39mself\u001b[39m\u001b[39m.\u001b[39m_forward_pre_hooks \u001b[39mor\u001b[39;00m _global_backward_hooks\n\u001b[1;32m   1193\u001b[0m         \u001b[39mor\u001b[39;00m _global_forward_hooks \u001b[39mor\u001b[39;00m _global_forward_pre_hooks):\n\u001b[0;32m-> 1194\u001b[0m     \u001b[39mreturn\u001b[39;00m forward_call(\u001b[39m*\u001b[39;49m\u001b[39minput\u001b[39;49m, \u001b[39m*\u001b[39;49m\u001b[39m*\u001b[39;49mkwargs)\n\u001b[1;32m   1195\u001b[0m \u001b[39m# Do not call functions when jit is used\u001b[39;00m\n\u001b[1;32m   1196\u001b[0m full_backward_hooks, non_full_backward_hooks \u001b[39m=\u001b[39m [], []\n",
            "File \u001b[0;32m~/.local/lib/python3.8/site-packages/torch/nn/modules/loss.py:1174\u001b[0m, in \u001b[0;36mCrossEntropyLoss.forward\u001b[0;34m(self, input, target)\u001b[0m\n\u001b[1;32m   1173\u001b[0m \u001b[39mdef\u001b[39;00m \u001b[39mforward\u001b[39m(\u001b[39mself\u001b[39m, \u001b[39minput\u001b[39m: Tensor, target: Tensor) \u001b[39m-\u001b[39m\u001b[39m>\u001b[39m Tensor:\n\u001b[0;32m-> 1174\u001b[0m     \u001b[39mreturn\u001b[39;00m F\u001b[39m.\u001b[39;49mcross_entropy(\u001b[39minput\u001b[39;49m, target, weight\u001b[39m=\u001b[39;49m\u001b[39mself\u001b[39;49m\u001b[39m.\u001b[39;49mweight,\n\u001b[1;32m   1175\u001b[0m                            ignore_index\u001b[39m=\u001b[39;49m\u001b[39mself\u001b[39;49m\u001b[39m.\u001b[39;49mignore_index, reduction\u001b[39m=\u001b[39;49m\u001b[39mself\u001b[39;49m\u001b[39m.\u001b[39;49mreduction,\n\u001b[1;32m   1176\u001b[0m                            label_smoothing\u001b[39m=\u001b[39;49m\u001b[39mself\u001b[39;49m\u001b[39m.\u001b[39;49mlabel_smoothing)\n",
            "File \u001b[0;32m~/.local/lib/python3.8/site-packages/torch/nn/functional.py:3026\u001b[0m, in \u001b[0;36mcross_entropy\u001b[0;34m(input, target, weight, size_average, ignore_index, reduce, reduction, label_smoothing)\u001b[0m\n\u001b[1;32m   3024\u001b[0m \u001b[39mif\u001b[39;00m size_average \u001b[39mis\u001b[39;00m \u001b[39mnot\u001b[39;00m \u001b[39mNone\u001b[39;00m \u001b[39mor\u001b[39;00m reduce \u001b[39mis\u001b[39;00m \u001b[39mnot\u001b[39;00m \u001b[39mNone\u001b[39;00m:\n\u001b[1;32m   3025\u001b[0m     reduction \u001b[39m=\u001b[39m _Reduction\u001b[39m.\u001b[39mlegacy_get_string(size_average, reduce)\n\u001b[0;32m-> 3026\u001b[0m \u001b[39mreturn\u001b[39;00m torch\u001b[39m.\u001b[39;49m_C\u001b[39m.\u001b[39;49m_nn\u001b[39m.\u001b[39;49mcross_entropy_loss(\u001b[39minput\u001b[39;49m, target, weight, _Reduction\u001b[39m.\u001b[39;49mget_enum(reduction), ignore_index, label_smoothing)\n",
            "\u001b[0;31mIndexError\u001b[0m: Target 6 is out of bounds."
          ]
        }
      ],
      "source": [
        "import random\n",
        "# This training code is based on the `run_glue.py` script here:\n",
        "# https://github.com/huggingface/transformers/blob/5bfcd0485ece086ebcbed2d008813037968a9e58/examples/run_glue.py#L128\n",
        "# Set the seed value all over the place to make this reproducible.\n",
        "seed_val = 200\n",
        "random.seed(seed_val)\n",
        "np.random.seed(seed_val)\n",
        "torch.manual_seed(seed_val)\n",
        "torch.cuda.manual_seed_all(seed_val)\n",
        "loss_values = []\n",
        "# For each epoch...\n",
        "for epoch_i in range(0, epochs):\n",
        "    \n",
        "    # Training\n",
        "\n",
        "    print(\"\")\n",
        "    print('======== Epoch {:} / {:} ========'.format(epoch_i + 1, epochs))\n",
        "    print('Training...')\n",
        "    # Measure how long the training epoch takes.\n",
        "    t0 = time.time()\n",
        "    # Reset the total loss for this epoch.\n",
        "    total_loss = 0\n",
        "    roberta_model.train()\n",
        "    # For each batch of training data...\n",
        "    for step, batch in enumerate(roberta_train_dataloader):\n",
        "        # Report progress after every 40 epochs\n",
        "        if step % 40 == 0 and not step == 0:\n",
        "            # Calculate elapsed time in minutes.\n",
        "            elapsed = format_time(time.time() - t0)\n",
        "            \n",
        "            #Printing current batch and elapsed time\n",
        "            print('  Batch {:>5,}  of  {:>5,}.    Elapsed: {:}.'.format(step, len(roberta_train_dataloader), elapsed))\n",
        "        \n",
        "# Unpack this training batch from our dataloader. \n",
        "        #\n",
        "        # As we unpack the batch, we'll also copy each tensor to the GPU using the \n",
        "        # `to` method.\n",
        "        #\n",
        "        # `batch` contains three pytorch tensors:\n",
        "        #   [0]: input ids \n",
        "        #   [1]: attention masks\n",
        "        #   [2]: labels \n",
        "\n",
        "        b_input_ids = batch[0].to(device)\n",
        "        b_input_mask = batch[1].to(device)\n",
        "        b_labels = batch[2].to(device)\n",
        "        \n",
        "        roberta_model.zero_grad()  # Always clear any previously calculated\n",
        "                                   # gradients before performing a backward pass.\n",
        "                                   # PyTorch doesn't do this automatically because \n",
        "                                   # accumulating the gradients is \"convenient \n",
        "                                   #while training RNNs\". \n",
        "        # (source: https://stackoverflow.com/questions/48001598/why-do-we-need-to-call-zero-grad-in-pytorch)      \n",
        "        \n",
        "\n",
        "\n",
        "        # Perform a forward pass (evaluate the roberta_model on this training batch).\n",
        "        # The documentation for this `roberta_model` function is here: \n",
        "        # https://huggingface.co/transformers/v2.2.0/roberta_model_doc/bert.html#transformers.BertForSequenceClassification\n",
        "        # It returns different numbers of parameters depending on what arguments\n",
        "        # are given and what flags are set. For our usage here, it returns\n",
        "        # the loss (because we provided labels) and the \"logits\"--the roberta_model\n",
        "        # outputs prior to activation.\n",
        "        outputs = roberta_model(b_input_ids, \n",
        "                    token_type_ids=None, \n",
        "                    attention_mask=b_input_mask, \n",
        "                    labels=b_labels)\n",
        "        \n",
        "        # Model returns tuple, extract loss value from that tuple\n",
        "        loss = outputs[0]\n",
        "        \n",
        "        total_loss += loss.item()\n",
        "        loss.backward() # Perform a backward pass to calculate the gradients.\n",
        "        # Clip the norm of the gradients to 1.0.\n",
        "        # This is to help prevent the \"exploding gradients\" problem.\n",
        "        torch.nn.utils.clip_grad_norm_(roberta_model.parameters(), 1.0)\n",
        "        roberta_optimizer.step()\n",
        "        \n",
        "        roberta_scheduler.step()\n",
        "    # Calculate the average loss over the training data.\n",
        "    avg_train_loss = total_loss / len(roberta_train_dataloader)            \n",
        "    \n",
        "    # Store the loss value for plotting the learning curve.\n",
        "    loss_values.append(avg_train_loss)\n",
        "    print(\"\")\n",
        "    print(\"  Average training loss: {0:.2f}\".format(avg_train_loss))\n",
        "    print(\"  Training epcoh took: {:}\".format(format_time(time.time() - t0)))\n",
        "        \n",
        "    # Validation\n",
        "    \n",
        "    print(\"\")\n",
        "    print(\"Running Validation...\")\n",
        "    t0 = time.time()\n",
        "    # Put the model in evaluation mode    \n",
        "    roberta_model.eval()   # Put the roberta_model in evaluation\n",
        "                           # mode--the dropout layers behave differently\n",
        "    \n",
        "    \n",
        "    # during evaluation. # Tracking variables \n",
        "     \n",
        "    eval_loss, eval_accuracy = 0, 0\n",
        "    nb_eval_steps, nb_eval_examples = 0, 0\n",
        "\n",
        "    # Evaluate data for one epoch\n",
        "    for batch in roberta_validation_dataloader:\n",
        "        # Unpack this training batch from our dataloader. \n",
        "        #\n",
        "        # As we unpack the batch, we'll also copy each tensor to the GPU using \n",
        "        # the `to` method.\n",
        "        #\n",
        "        # `batch` contains three pytorch tensors:\n",
        "        #   [0]: input ids \n",
        "        #   [1]: attention masks\n",
        "        #   [2]: labels \n",
        "        \n",
        "        # Add batch to GPU\n",
        "        batch = tuple(t.to(device) for t in batch)\n",
        "        \n",
        "        # Unpack the inputs from our dataloader\n",
        "        b_input_ids, b_input_mask, b_labels = batch\n",
        "        \n",
        "        with torch.no_grad():        \n",
        "           \n",
        "            outputs = roberta_model(b_input_ids, \n",
        "                            token_type_ids=None, \n",
        "                            attention_mask=b_input_mask)\n",
        "        \n",
        "        \n",
        "        logits = outputs[0]\n",
        "        # Move logits and labels to CPU\n",
        "        logits = logits.detach().cpu().numpy()\n",
        "        label_ids = b_labels.to('cpu').numpy()\n",
        "        \n",
        "        # Calculate the accuracy for this batch of test sentences.\n",
        "        tmp_eval_accuracy = flat_accuracy(logits, label_ids)\n",
        "        \n",
        "        # Accumulate the total accuracy.\n",
        "        eval_accuracy += tmp_eval_accuracy\n",
        "        # Track the number of batches\n",
        "        nb_eval_steps += 1\n",
        "    # Report the final accuracy for this validation run.\n",
        "    print(\"  Accuracy: {0:.2f}\".format(eval_accuracy/nb_eval_steps))\n",
        "    print(\"  Validation took: {:}\".format(format_time(time.time() - t0)))\n",
        "print(\"\")\n",
        "print(\"Training complete!\")"
      ]
    },
    {
      "cell_type": "markdown",
      "metadata": {
        "id": "lYt1BW28Ecp-"
      },
      "source": [
        "Testing Part"
      ]
    },
    {
      "cell_type": "code",
      "execution_count": null,
      "metadata": {
        "id": "x50j6Q8eDHz4"
      },
      "outputs": [],
      "source": [
        "                                          \n",
        "roberta_prediction_sampler = SequentialSampler(roberta_test_dataset)\n",
        "roberta_prediction_dataloader = DataLoader(roberta_test_dataset, sampler=roberta_prediction_sampler, batch_size=batch_size)                                           "
      ]
    },
    {
      "cell_type": "code",
      "execution_count": null,
      "metadata": {
        "id": "jTS_csuPC41o"
      },
      "outputs": [],
      "source": [
        "# Prediction on test set\n",
        "\n",
        "print('Predicting labels for {:,} test sentences...'.format(len(bert_input_ids_test)))\n",
        "\n",
        "# Put model in evaluation mode\n",
        "roberta_model.eval()\n",
        "\n",
        "# Tracking variables \n",
        "predictions , true_labels = [], []"
      ]
    },
    {
      "cell_type": "code",
      "execution_count": null,
      "metadata": {
        "id": "Jtl2ClTtEj4q"
      },
      "outputs": [],
      "source": [
        "# Predict \n",
        "for batch in roberta_prediction_dataloader:\n",
        "  # Add batch to GPU\n",
        "  batch = tuple(t.to(device) for t in batch)\n",
        "  \n",
        "  # Unpack the inputs from our dataloader\n",
        "  b_input_ids, b_input_mask, b_labels = batch\n",
        "\n",
        "  with torch.no_grad():\n",
        "      \n",
        "      outputs = roberta_model(b_input_ids, token_type_ids=None, \n",
        "                      attention_mask=b_input_mask)\n",
        "\n",
        "  logits = outputs[0]\n",
        "\n",
        "  \n",
        "  logits = logits.detach().cpu().numpy()\n",
        "  label_ids = b_labels.to('cpu').numpy()\n",
        "  \n",
        "  # Store predictions and true labels\n",
        "  predictions.append(logits)\n",
        "  true_labels.append(label_ids)\n",
        "print('    DONE.')"
      ]
    },
    {
      "cell_type": "markdown",
      "metadata": {
        "id": "siktLOliEnUw"
      },
      "source": [
        "DONE.\n",
        "\n",
        "Classification report and Confusion Matrix for test set"
      ]
    },
    {
      "cell_type": "code",
      "execution_count": null,
      "metadata": {
        "id": "BkhV2GTNEj78"
      },
      "outputs": [],
      "source": [
        "predictions_labels = [item for subitem in predictions for item in subitem]\n",
        "\n",
        "predictions_labels = np.argmax(predictions_labels, axis=1).flatten()\n",
        "\n",
        "# Combine the correct labels for each batch into a single list.\n",
        "flat_true_labels = [item for sublist in true_labels for item in sublist]\n",
        "\n",
        "from sklearn.metrics import classification_report, confusion_matrix\n",
        "\n",
        "print (classification_report(predictions_labels, flat_true_labels))\n",
        "print(confusion_matrix(flat_true_labels, predictions_labels))"
      ]
    },
    {
      "cell_type": "markdown",
      "metadata": {
        "id": "g7E64SwBo81I"
      },
      "source": [
        "References: https://www.kaggle.com/jaskaransingh/fake-news-classification-bert-roberta"
      ]
    },
    {
      "cell_type": "code",
      "execution_count": null,
      "metadata": {
        "id": "a2tAv3q0Ej-y"
      },
      "outputs": [],
      "source": []
    },
    {
      "cell_type": "code",
      "execution_count": null,
      "metadata": {
        "id": "nQUuC7afEkB_"
      },
      "outputs": [],
      "source": []
    }
  ],
  "metadata": {
    "accelerator": "GPU",
    "colab": {
      "provenance": []
    },
    "gpuClass": "standard",
    "kernelspec": {
      "display_name": "bert_trans",
      "language": "python",
      "name": "bert_trans"
    },
    "language_info": {
      "codemirror_mode": {
        "name": "ipython",
        "version": 3
      },
      "file_extension": ".py",
      "mimetype": "text/x-python",
      "name": "python",
      "nbconvert_exporter": "python",
      "pygments_lexer": "ipython3",
      "version": "3.10.10"
    },
    "vscode": {
      "interpreter": {
        "hash": "25136a427b63902c2a5cbfc08c04d8c8a88dced1e14031af2698e845a2fcba51"
      }
    }
  },
  "nbformat": 4,
  "nbformat_minor": 0
}
