{
  "cells": [
    {
      "cell_type": "code",
      "source": [
        "import tensorflow as tf\n",
        "import numpy as np"
      ],
      "metadata": {
        "id": "AJuD58egZh2I"
      },
      "execution_count": 3,
      "outputs": []
    },
    {
      "cell_type": "code",
      "source": [
        "from tensorflow.keras.models import Sequential\n",
        "from tensorflow.keras.layers import Conv2D, MaxPooling2D, Dense, Flatten, Dropout, GlobalAveragePooling2D\n",
        "from tensorflow.keras.optimizers import SGD"
      ],
      "metadata": {
        "id": "bNebkE4fWkTp"
      },
      "execution_count": 4,
      "outputs": []
    },
    {
      "cell_type": "code",
      "source": [
        "from tensorflow.keras.datasets import cifar10\n",
        "from tensorflow.keras.utils import to_categorical\n",
        "from tensorflow.keras.preprocessing.image import img_to_array, array_to_img"
      ],
      "metadata": {
        "id": "PV8bYOYYWnGm"
      },
      "execution_count": 5,
      "outputs": []
    },
    {
      "cell_type": "code",
      "execution_count": 6,
      "metadata": {
        "id": "cPtSAy4Dx5b2"
      },
      "outputs": [],
      "source": [
        "from tensorflow.keras.applications import VGG19"
      ]
    },
    {
      "cell_type": "code",
      "source": [
        "from sklearn.model_selection import train_test_split"
      ],
      "metadata": {
        "id": "_0AiQ4LeWtB-"
      },
      "execution_count": 7,
      "outputs": []
    },
    {
      "cell_type": "code",
      "source": [
        "import matplotlib.pyplot as plt"
      ],
      "metadata": {
        "id": "SeIcpesagY3i"
      },
      "execution_count": 8,
      "outputs": []
    },
    {
      "cell_type": "markdown",
      "source": [
        "### Data Loading"
      ],
      "metadata": {
        "id": "uVWBlk2GHyJW"
      }
    },
    {
      "cell_type": "code",
      "execution_count": 30,
      "metadata": {
        "id": "mhCVXfoSx5b5"
      },
      "outputs": [],
      "source": [
        "# Load CIFAR-10 dataset from Keras\n",
        "(X_train, y_train), (X_test, y_test) = cifar10.load_data()"
      ]
    },
    {
      "cell_type": "markdown",
      "source": [
        "### Preprocessing"
      ],
      "metadata": {
        "id": "qId78tQkH4XZ"
      }
    },
    {
      "cell_type": "code",
      "source": [
        "# Data spliting in Train, Val, Test\n",
        "X_train, X_val, y_train, y_val = train_test_split(X_train, y_train, test_size=0.25)"
      ],
      "metadata": {
        "id": "_zDX9jkWgFWT"
      },
      "execution_count": 31,
      "outputs": []
    },
    {
      "cell_type": "code",
      "source": [
        "# Converting labels to one-hot encoder format\n",
        "X_train = X_train.astype('float32') / 255.0\n",
        "X_val = X_val.astype('float32') / 255.0\n",
        "X_test = X_test.astype('float32') / 255.0\n",
        "\n",
        "y_train = to_categorical(y_train)\n",
        "y_val = to_categorical(y_val)\n",
        "y_test = to_categorical(y_test)"
      ],
      "metadata": {
        "id": "TAg8LsSCgoTC"
      },
      "execution_count": 32,
      "outputs": []
    },
    {
      "cell_type": "code",
      "source": [
        "print(\"Train: \", (X_train.shape, y_train.shape))\n",
        "print(\"Val: \", (X_val.shape, y_val.shape))\n",
        "print(\"Test: \", (X_test.shape, y_test.shape))"
      ],
      "metadata": {
        "colab": {
          "base_uri": "https://localhost:8080/"
        },
        "id": "vAKPTP38grc0",
        "outputId": "b9c895ad-ea40-421b-e11c-e2713bdc40b2"
      },
      "execution_count": 33,
      "outputs": [
        {
          "output_type": "stream",
          "name": "stdout",
          "text": [
            "Train:  ((37500, 32, 32, 3), (37500, 10))\n",
            "Val:  ((12500, 32, 32, 3), (12500, 10))\n",
            "Test:  ((10000, 32, 32, 3), (10000, 10))\n"
          ]
        }
      ]
    },
    {
      "cell_type": "markdown",
      "source": [
        "### Model Definition"
      ],
      "metadata": {
        "id": "DAvjwgJ1IrSX"
      }
    },
    {
      "cell_type": "code",
      "source": [
        "model_vgg = VGG19(weights='imagenet', classes=y_train.shape[1], input_shape=(32,32,3), include_top=False)"
      ],
      "metadata": {
        "id": "Tk-joRF5hxfP"
      },
      "execution_count": 54,
      "outputs": []
    },
    {
      "cell_type": "markdown",
      "source": [
        "### Trainig with Freeze Layers"
      ],
      "metadata": {
        "id": "TNVl7xbCjGgG"
      }
    },
    {
      "cell_type": "code",
      "source": [
        "model_vgg.trainable = False\n",
        "model_vgg.summary()"
      ],
      "metadata": {
        "colab": {
          "base_uri": "https://localhost:8080/"
        },
        "id": "j6urmFmiZQ6V",
        "outputId": "8a13a158-9fb8-4bd4-ad0b-e2633bd94cf8"
      },
      "execution_count": 55,
      "outputs": [
        {
          "output_type": "stream",
          "name": "stdout",
          "text": [
            "Model: \"vgg19\"\n",
            "_________________________________________________________________\n",
            " Layer (type)                Output Shape              Param #   \n",
            "=================================================================\n",
            " input_3 (InputLayer)        [(None, 32, 32, 3)]       0         \n",
            "                                                                 \n",
            " block1_conv1 (Conv2D)       (None, 32, 32, 64)        1792      \n",
            "                                                                 \n",
            " block1_conv2 (Conv2D)       (None, 32, 32, 64)        36928     \n",
            "                                                                 \n",
            " block1_pool (MaxPooling2D)  (None, 16, 16, 64)        0         \n",
            "                                                                 \n",
            " block2_conv1 (Conv2D)       (None, 16, 16, 128)       73856     \n",
            "                                                                 \n",
            " block2_conv2 (Conv2D)       (None, 16, 16, 128)       147584    \n",
            "                                                                 \n",
            " block2_pool (MaxPooling2D)  (None, 8, 8, 128)         0         \n",
            "                                                                 \n",
            " block3_conv1 (Conv2D)       (None, 8, 8, 256)         295168    \n",
            "                                                                 \n",
            " block3_conv2 (Conv2D)       (None, 8, 8, 256)         590080    \n",
            "                                                                 \n",
            " block3_conv3 (Conv2D)       (None, 8, 8, 256)         590080    \n",
            "                                                                 \n",
            " block3_conv4 (Conv2D)       (None, 8, 8, 256)         590080    \n",
            "                                                                 \n",
            " block3_pool (MaxPooling2D)  (None, 4, 4, 256)         0         \n",
            "                                                                 \n",
            " block4_conv1 (Conv2D)       (None, 4, 4, 512)         1180160   \n",
            "                                                                 \n",
            " block4_conv2 (Conv2D)       (None, 4, 4, 512)         2359808   \n",
            "                                                                 \n",
            " block4_conv3 (Conv2D)       (None, 4, 4, 512)         2359808   \n",
            "                                                                 \n",
            " block4_conv4 (Conv2D)       (None, 4, 4, 512)         2359808   \n",
            "                                                                 \n",
            " block4_pool (MaxPooling2D)  (None, 2, 2, 512)         0         \n",
            "                                                                 \n",
            " block5_conv1 (Conv2D)       (None, 2, 2, 512)         2359808   \n",
            "                                                                 \n",
            " block5_conv2 (Conv2D)       (None, 2, 2, 512)         2359808   \n",
            "                                                                 \n",
            " block5_conv3 (Conv2D)       (None, 2, 2, 512)         2359808   \n",
            "                                                                 \n",
            " block5_conv4 (Conv2D)       (None, 2, 2, 512)         2359808   \n",
            "                                                                 \n",
            " block5_pool (MaxPooling2D)  (None, 1, 1, 512)         0         \n",
            "                                                                 \n",
            "=================================================================\n",
            "Total params: 20024384 (76.39 MB)\n",
            "Trainable params: 0 (0.00 Byte)\n",
            "Non-trainable params: 20024384 (76.39 MB)\n",
            "_________________________________________________________________\n"
          ]
        }
      ]
    },
    {
      "cell_type": "code",
      "source": [
        "# Sequential Model\n",
        "# Adding the pre-trained (vgg19 model) as the first layer\n",
        "# Add a Global Average Pooling layer to reduce spatial dimensions and provide a global summary of the features\n",
        "# The input dimension is set to 512 in the first Dense Layer, the pre-trained model has 512 output features\n",
        "\n",
        "model = Sequential()\n",
        "model.add(model_vgg)\n",
        "model.add(GlobalAveragePooling2D())\n",
        "model.add(Dense(1024,activation=('relu'),input_dim=512))\n",
        "model.add(Dense(512,activation=('relu')))\n",
        "model.add(Dropout(0.2))\n",
        "model.add(Dense(256,activation=('relu')))\n",
        "model.add(Dropout(0.2))\n",
        "model.add(Dense(128,activation=('relu')))\n",
        "model.add(Dense(10,activation=('softmax')))\n",
        "\n",
        "print(\"Trainable Variables: \", len(model_vgg.trainable_variables))"
      ],
      "metadata": {
        "colab": {
          "base_uri": "https://localhost:8080/"
        },
        "id": "JFpq4mozZcSm",
        "outputId": "8e8e19e5-b4a9-497c-91f5-16e8818246f1"
      },
      "execution_count": 56,
      "outputs": [
        {
          "output_type": "stream",
          "name": "stdout",
          "text": [
            "Trainable Variables:  0\n"
          ]
        }
      ]
    },
    {
      "cell_type": "code",
      "source": [
        "model.compile(optimizer=tf.keras.optimizers.Adam(learning_rate=0.0001), loss='categorical_crossentropy', metrics=['accuracy'])"
      ],
      "metadata": {
        "id": "sqW4FkrraGZu"
      },
      "execution_count": 57,
      "outputs": []
    },
    {
      "cell_type": "code",
      "source": [
        "model.summary()"
      ],
      "metadata": {
        "colab": {
          "base_uri": "https://localhost:8080/"
        },
        "id": "_LoRKBKFawfj",
        "outputId": "9752d819-d808-4278-ead6-b43411ae3cf4"
      },
      "execution_count": 58,
      "outputs": [
        {
          "output_type": "stream",
          "name": "stdout",
          "text": [
            "Model: \"sequential_6\"\n",
            "_________________________________________________________________\n",
            " Layer (type)                Output Shape              Param #   \n",
            "=================================================================\n",
            " vgg19 (Functional)          (None, 1, 1, 512)         20024384  \n",
            "                                                                 \n",
            " global_average_pooling2d_3  (None, 512)               0         \n",
            "  (GlobalAveragePooling2D)                                       \n",
            "                                                                 \n",
            " dense_30 (Dense)            (None, 1024)              525312    \n",
            "                                                                 \n",
            " dense_31 (Dense)            (None, 512)               524800    \n",
            "                                                                 \n",
            " dropout_12 (Dropout)        (None, 512)               0         \n",
            "                                                                 \n",
            " dense_32 (Dense)            (None, 256)               131328    \n",
            "                                                                 \n",
            " dropout_13 (Dropout)        (None, 256)               0         \n",
            "                                                                 \n",
            " dense_33 (Dense)            (None, 128)               32896     \n",
            "                                                                 \n",
            " dense_34 (Dense)            (None, 10)                1290      \n",
            "                                                                 \n",
            "=================================================================\n",
            "Total params: 21240010 (81.02 MB)\n",
            "Trainable params: 1215626 (4.64 MB)\n",
            "Non-trainable params: 20024384 (76.39 MB)\n",
            "_________________________________________________________________\n"
          ]
        }
      ]
    },
    {
      "cell_type": "markdown",
      "source": [
        "#### Model Training (Freeze Layers)"
      ],
      "metadata": {
        "id": "1FYNmhqWm4Q5"
      }
    },
    {
      "cell_type": "code",
      "source": [
        "initial_epochs = 10\n",
        "history = model.fit(X_train, y_train, epochs=initial_epochs, batch_size=64, validation_data=(X_val, y_val))"
      ],
      "metadata": {
        "colab": {
          "base_uri": "https://localhost:8080/"
        },
        "id": "H89mCPwdbJIE",
        "outputId": "14d0510b-6192-4d9d-b9e0-1621431f63ad"
      },
      "execution_count": 59,
      "outputs": [
        {
          "output_type": "stream",
          "name": "stdout",
          "text": [
            "Epoch 1/10\n",
            "586/586 [==============================] - 14s 20ms/step - loss: 1.6746 - accuracy: 0.4018 - val_loss: 1.3789 - val_accuracy: 0.5146\n",
            "Epoch 2/10\n",
            "586/586 [==============================] - 11s 18ms/step - loss: 1.3730 - accuracy: 0.5125 - val_loss: 1.2703 - val_accuracy: 0.5522\n",
            "Epoch 3/10\n",
            "586/586 [==============================] - 11s 18ms/step - loss: 1.2851 - accuracy: 0.5475 - val_loss: 1.2348 - val_accuracy: 0.5691\n",
            "Epoch 4/10\n",
            "586/586 [==============================] - 11s 18ms/step - loss: 1.2213 - accuracy: 0.5697 - val_loss: 1.2027 - val_accuracy: 0.5776\n",
            "Epoch 5/10\n",
            "586/586 [==============================] - 11s 18ms/step - loss: 1.1731 - accuracy: 0.5880 - val_loss: 1.1833 - val_accuracy: 0.5845\n",
            "Epoch 6/10\n",
            "586/586 [==============================] - 14s 25ms/step - loss: 1.1349 - accuracy: 0.5999 - val_loss: 1.1529 - val_accuracy: 0.5953\n",
            "Epoch 7/10\n",
            "586/586 [==============================] - 11s 18ms/step - loss: 1.0950 - accuracy: 0.6160 - val_loss: 1.1489 - val_accuracy: 0.5999\n",
            "Epoch 8/10\n",
            "586/586 [==============================] - 11s 18ms/step - loss: 1.0587 - accuracy: 0.6275 - val_loss: 1.1563 - val_accuracy: 0.5947\n",
            "Epoch 9/10\n",
            "586/586 [==============================] - 11s 19ms/step - loss: 1.0274 - accuracy: 0.6379 - val_loss: 1.1390 - val_accuracy: 0.6038\n",
            "Epoch 10/10\n",
            "586/586 [==============================] - 11s 18ms/step - loss: 0.9934 - accuracy: 0.6498 - val_loss: 1.1190 - val_accuracy: 0.6082\n"
          ]
        }
      ]
    },
    {
      "cell_type": "markdown",
      "source": [
        "#### Model Prediction (Freeze Layers)"
      ],
      "metadata": {
        "id": "wcyWiyg40_gI"
      }
    },
    {
      "cell_type": "code",
      "source": [
        "loss0, accuracy0 = model.evaluate(X_test, y_test)"
      ],
      "metadata": {
        "colab": {
          "base_uri": "https://localhost:8080/"
        },
        "id": "NSO6N1OEdX1B",
        "outputId": "a0b78e81-a1f4-4eeb-feef-ffc0d850e4d9"
      },
      "execution_count": 60,
      "outputs": [
        {
          "output_type": "stream",
          "name": "stdout",
          "text": [
            "313/313 [==============================] - 4s 12ms/step - loss: 1.1323 - accuracy: 0.6028\n"
          ]
        }
      ]
    },
    {
      "cell_type": "markdown",
      "source": [
        "### Next Training with  Some unfreeze Layers"
      ],
      "metadata": {
        "id": "LuevvkmVk9mN"
      }
    },
    {
      "cell_type": "code",
      "source": [
        "# Model Fine Tuning True\n",
        "model_vgg.trainable = True\n",
        "print(\"Number of layers in the base model: \", len(model_vgg.layers))\n",
        "\n",
        "# Fine-tune from this layer onwards\n",
        "fine_tune_at = 15\n",
        "\n",
        "# Freeze all the layers before the `fine_tune_at` layer\n",
        "for layer in model_vgg.layers[:fine_tune_at]:\n",
        "    layer.trainable = False\n",
        "\n",
        "print(\"Trainable Variables: \", len(model_vgg.trainable_variables))"
      ],
      "metadata": {
        "colab": {
          "base_uri": "https://localhost:8080/"
        },
        "id": "oQkktcxXcTgl",
        "outputId": "7d6ae5f1-9a29-4e0c-bdbc-b2f17959904a"
      },
      "execution_count": 61,
      "outputs": [
        {
          "output_type": "stream",
          "name": "stdout",
          "text": [
            "Number of layers in the base model:  22\n",
            "Trainable Variables:  10\n"
          ]
        }
      ]
    },
    {
      "cell_type": "code",
      "source": [
        "model.summary()"
      ],
      "metadata": {
        "colab": {
          "base_uri": "https://localhost:8080/"
        },
        "id": "2WykGc_2eexj",
        "outputId": "bf6a306c-1685-452c-888c-87124f7bf6af"
      },
      "execution_count": 62,
      "outputs": [
        {
          "output_type": "stream",
          "name": "stdout",
          "text": [
            "Model: \"sequential_6\"\n",
            "_________________________________________________________________\n",
            " Layer (type)                Output Shape              Param #   \n",
            "=================================================================\n",
            " vgg19 (Functional)          (None, 1, 1, 512)         20024384  \n",
            "                                                                 \n",
            " global_average_pooling2d_3  (None, 512)               0         \n",
            "  (GlobalAveragePooling2D)                                       \n",
            "                                                                 \n",
            " dense_30 (Dense)            (None, 1024)              525312    \n",
            "                                                                 \n",
            " dense_31 (Dense)            (None, 512)               524800    \n",
            "                                                                 \n",
            " dropout_12 (Dropout)        (None, 512)               0         \n",
            "                                                                 \n",
            " dense_32 (Dense)            (None, 256)               131328    \n",
            "                                                                 \n",
            " dropout_13 (Dropout)        (None, 256)               0         \n",
            "                                                                 \n",
            " dense_33 (Dense)            (None, 128)               32896     \n",
            "                                                                 \n",
            " dense_34 (Dense)            (None, 10)                1290      \n",
            "                                                                 \n",
            "=================================================================\n",
            "Total params: 21240010 (81.02 MB)\n",
            "Trainable params: 13014666 (49.65 MB)\n",
            "Non-trainable params: 8225344 (31.38 MB)\n",
            "_________________________________________________________________\n"
          ]
        }
      ]
    },
    {
      "cell_type": "markdown",
      "source": [
        "#### Model Training (Some Unfreeze Layers)"
      ],
      "metadata": {
        "id": "MRiY_tIMnDWT"
      }
    },
    {
      "cell_type": "code",
      "source": [
        "fine_tune_epochs = 20\n",
        "total_epochs =  initial_epochs + fine_tune_epochs\n",
        "\n",
        "history_fine = model.fit(X_train, y_train,\n",
        "                         epochs = total_epochs,\n",
        "                         batch_size = 64,\n",
        "                         initial_epoch = history.epoch[-1]+1,\n",
        "                         validation_data=(X_val, y_val))"
      ],
      "metadata": {
        "colab": {
          "base_uri": "https://localhost:8080/"
        },
        "id": "O4fCmumUcTd9",
        "outputId": "44c00879-c35d-47d8-839b-4442a05dac7b"
      },
      "execution_count": 64,
      "outputs": [
        {
          "output_type": "stream",
          "name": "stdout",
          "text": [
            "Epoch 11/30\n",
            "586/586 [==============================] - 11s 18ms/step - loss: 0.7962 - accuracy: 0.7208 - val_loss: 1.1622 - val_accuracy: 0.6130\n",
            "Epoch 12/30\n",
            "586/586 [==============================] - 11s 18ms/step - loss: 0.7665 - accuracy: 0.7317 - val_loss: 1.1536 - val_accuracy: 0.6161\n",
            "Epoch 13/30\n",
            "586/586 [==============================] - 11s 18ms/step - loss: 0.7337 - accuracy: 0.7401 - val_loss: 1.2082 - val_accuracy: 0.6130\n",
            "Epoch 14/30\n",
            "586/586 [==============================] - 11s 19ms/step - loss: 0.7003 - accuracy: 0.7529 - val_loss: 1.1720 - val_accuracy: 0.6199\n",
            "Epoch 15/30\n",
            "586/586 [==============================] - 11s 18ms/step - loss: 0.6671 - accuracy: 0.7648 - val_loss: 1.2138 - val_accuracy: 0.6170\n",
            "Epoch 16/30\n",
            "586/586 [==============================] - 11s 19ms/step - loss: 0.6392 - accuracy: 0.7755 - val_loss: 1.2609 - val_accuracy: 0.6132\n",
            "Epoch 17/30\n",
            "586/586 [==============================] - 11s 19ms/step - loss: 0.6075 - accuracy: 0.7866 - val_loss: 1.2421 - val_accuracy: 0.6160\n",
            "Epoch 18/30\n",
            "586/586 [==============================] - 11s 19ms/step - loss: 0.5756 - accuracy: 0.7987 - val_loss: 1.2641 - val_accuracy: 0.6165\n",
            "Epoch 19/30\n",
            "586/586 [==============================] - 11s 18ms/step - loss: 0.5493 - accuracy: 0.8070 - val_loss: 1.3013 - val_accuracy: 0.6124\n",
            "Epoch 20/30\n",
            "586/586 [==============================] - 11s 19ms/step - loss: 0.5191 - accuracy: 0.8189 - val_loss: 1.3480 - val_accuracy: 0.6088\n",
            "Epoch 21/30\n",
            "586/586 [==============================] - 11s 18ms/step - loss: 0.4913 - accuracy: 0.8285 - val_loss: 1.3756 - val_accuracy: 0.6093\n",
            "Epoch 22/30\n",
            "586/586 [==============================] - 11s 19ms/step - loss: 0.4639 - accuracy: 0.8377 - val_loss: 1.4308 - val_accuracy: 0.6089\n",
            "Epoch 23/30\n",
            "586/586 [==============================] - 12s 20ms/step - loss: 0.4419 - accuracy: 0.8454 - val_loss: 1.4945 - val_accuracy: 0.6014\n",
            "Epoch 24/30\n",
            "586/586 [==============================] - 11s 19ms/step - loss: 0.4118 - accuracy: 0.8558 - val_loss: 1.4770 - val_accuracy: 0.6078\n",
            "Epoch 25/30\n",
            "586/586 [==============================] - 11s 19ms/step - loss: 0.3841 - accuracy: 0.8635 - val_loss: 1.5030 - val_accuracy: 0.6072\n",
            "Epoch 26/30\n",
            "586/586 [==============================] - 11s 18ms/step - loss: 0.3679 - accuracy: 0.8717 - val_loss: 1.5465 - val_accuracy: 0.6113\n",
            "Epoch 27/30\n",
            "586/586 [==============================] - 11s 18ms/step - loss: 0.3419 - accuracy: 0.8805 - val_loss: 1.6033 - val_accuracy: 0.6102\n",
            "Epoch 28/30\n",
            "586/586 [==============================] - 11s 18ms/step - loss: 0.3200 - accuracy: 0.8890 - val_loss: 1.6823 - val_accuracy: 0.6050\n",
            "Epoch 29/30\n",
            "586/586 [==============================] - 11s 18ms/step - loss: 0.2994 - accuracy: 0.8948 - val_loss: 1.7033 - val_accuracy: 0.6074\n",
            "Epoch 30/30\n",
            "586/586 [==============================] - 11s 19ms/step - loss: 0.2801 - accuracy: 0.9033 - val_loss: 1.7450 - val_accuracy: 0.6107\n"
          ]
        }
      ]
    },
    {
      "cell_type": "markdown",
      "source": [
        "#### Model Prediction (Some Unfreeze Layers)"
      ],
      "metadata": {
        "id": "1wo2AKt71NnN"
      }
    },
    {
      "cell_type": "code",
      "source": [
        "loss1, accuracy1 = model.evaluate(X_test, y_test)"
      ],
      "metadata": {
        "colab": {
          "base_uri": "https://localhost:8080/"
        },
        "id": "nUzAq2j3cTbQ",
        "outputId": "2925f093-cc49-49bc-fa17-ebf3cd477c1b"
      },
      "execution_count": 65,
      "outputs": [
        {
          "output_type": "stream",
          "name": "stdout",
          "text": [
            "313/313 [==============================] - 3s 11ms/step - loss: 1.7534 - accuracy: 0.6027\n"
          ]
        }
      ]
    },
    {
      "cell_type": "markdown",
      "source": [
        "### Trainig with Some Unfreeze Layers from begineering"
      ],
      "metadata": {
        "id": "xhpumfZI1kT6"
      }
    },
    {
      "cell_type": "code",
      "source": [
        "# Model Fine Tuning True\n",
        "model_vgg.trainable = True\n",
        "print(\"Number of layers in the base model: \", len(model_vgg.layers))\n",
        "\n",
        "# Fine-tune from this layer onwards\n",
        "fine_tune_at = 15\n",
        "\n",
        "# Freeze all the layers before the `fine_tune_at` layer\n",
        "for layer in model_vgg.layers[:fine_tune_at]:\n",
        "    layer.trainable = False\n",
        "\n",
        "print(\"Trainable Variables: \", len(model_vgg.trainable_variables))"
      ],
      "metadata": {
        "colab": {
          "base_uri": "https://localhost:8080/"
        },
        "id": "EUNjGvqqcTYd",
        "outputId": "29ade751-52c1-4582-9da7-d3710afc3782"
      },
      "execution_count": 66,
      "outputs": [
        {
          "output_type": "stream",
          "name": "stdout",
          "text": [
            "Number of layers in the base model:  22\n",
            "Trainable Variables:  10\n"
          ]
        }
      ]
    },
    {
      "cell_type": "code",
      "source": [
        "# Sequential Model\n",
        "# Adding the pre-trained (vgg19 model) as the first layer\n",
        "# Add a Global Average Pooling layer to reduce spatial dimensions and provide a global summary of the features\n",
        "# The input dimension is set to 512 in the first Dense Layer, the pre-trained model has 512 output features\n",
        "\n",
        "model_new = Sequential()\n",
        "model_new.add(model_vgg)\n",
        "model_new.add(GlobalAveragePooling2D())\n",
        "model_new.add(Dense(1024,activation=('relu'),input_dim=512))\n",
        "model_new.add(Dense(512,activation=('relu')))\n",
        "model_new.add(Dropout(0.2))\n",
        "model_new.add(Dense(256,activation=('relu')))\n",
        "model_new.add(Dropout(0.2))\n",
        "model_new.add(Dense(128,activation=('relu')))\n",
        "model_new.add(Dense(10,activation=('softmax')))\n",
        "\n",
        "print(\"Trainable Variables: \", len(model_vgg.trainable_variables))"
      ],
      "metadata": {
        "colab": {
          "base_uri": "https://localhost:8080/"
        },
        "id": "9EpV3el-15uV",
        "outputId": "7778af21-533b-439f-fcb6-881dba24d9af"
      },
      "execution_count": 67,
      "outputs": [
        {
          "output_type": "stream",
          "name": "stdout",
          "text": [
            "Trainable Variables:  10\n"
          ]
        }
      ]
    },
    {
      "cell_type": "code",
      "source": [
        "model_new.compile(optimizer=tf.keras.optimizers.Adam(learning_rate=0.0001), loss='categorical_crossentropy', metrics=['accuracy'])"
      ],
      "metadata": {
        "id": "-ayRvOl3iPI8"
      },
      "execution_count": 68,
      "outputs": []
    },
    {
      "cell_type": "code",
      "source": [
        "model_new.summary()"
      ],
      "metadata": {
        "colab": {
          "base_uri": "https://localhost:8080/"
        },
        "id": "n1ajgcAP2Uam",
        "outputId": "43a18d71-3d76-40c0-c38d-c5fddc5655cc"
      },
      "execution_count": 71,
      "outputs": [
        {
          "output_type": "stream",
          "name": "stdout",
          "text": [
            "Model: \"sequential_7\"\n",
            "_________________________________________________________________\n",
            " Layer (type)                Output Shape              Param #   \n",
            "=================================================================\n",
            " vgg19 (Functional)          (None, 1, 1, 512)         20024384  \n",
            "                                                                 \n",
            " global_average_pooling2d_4  (None, 512)               0         \n",
            "  (GlobalAveragePooling2D)                                       \n",
            "                                                                 \n",
            " dense_35 (Dense)            (None, 1024)              525312    \n",
            "                                                                 \n",
            " dense_36 (Dense)            (None, 512)               524800    \n",
            "                                                                 \n",
            " dropout_14 (Dropout)        (None, 512)               0         \n",
            "                                                                 \n",
            " dense_37 (Dense)            (None, 256)               131328    \n",
            "                                                                 \n",
            " dropout_15 (Dropout)        (None, 256)               0         \n",
            "                                                                 \n",
            " dense_38 (Dense)            (None, 128)               32896     \n",
            "                                                                 \n",
            " dense_39 (Dense)            (None, 10)                1290      \n",
            "                                                                 \n",
            "=================================================================\n",
            "Total params: 21240010 (81.02 MB)\n",
            "Trainable params: 13014666 (49.65 MB)\n",
            "Non-trainable params: 8225344 (31.38 MB)\n",
            "_________________________________________________________________\n"
          ]
        }
      ]
    },
    {
      "cell_type": "markdown",
      "source": [
        "#### Model Training"
      ],
      "metadata": {
        "id": "dhyE84nS2y8p"
      }
    },
    {
      "cell_type": "code",
      "source": [
        "history_new = model_new.fit(X_train, y_train, epochs=20, batch_size=64, validation_data=(X_val, y_val))"
      ],
      "metadata": {
        "colab": {
          "base_uri": "https://localhost:8080/"
        },
        "id": "6gvom9n02UPt",
        "outputId": "015bb591-6363-42b0-ce65-088549a81563"
      },
      "execution_count": 72,
      "outputs": [
        {
          "output_type": "stream",
          "name": "stdout",
          "text": [
            "Epoch 1/20\n",
            "586/586 [==============================] - 23s 34ms/step - loss: 1.1812 - accuracy: 0.5919 - val_loss: 0.9102 - val_accuracy: 0.6842\n",
            "Epoch 2/20\n",
            "586/586 [==============================] - 19s 32ms/step - loss: 0.8364 - accuracy: 0.7211 - val_loss: 0.8396 - val_accuracy: 0.7203\n",
            "Epoch 3/20\n",
            "586/586 [==============================] - 20s 35ms/step - loss: 0.7050 - accuracy: 0.7635 - val_loss: 0.7809 - val_accuracy: 0.7368\n",
            "Epoch 4/20\n",
            "586/586 [==============================] - 20s 33ms/step - loss: 0.5796 - accuracy: 0.8058 - val_loss: 0.7754 - val_accuracy: 0.7498\n",
            "Epoch 5/20\n",
            "586/586 [==============================] - 19s 33ms/step - loss: 0.4798 - accuracy: 0.8391 - val_loss: 0.7608 - val_accuracy: 0.7559\n",
            "Epoch 6/20\n",
            "586/586 [==============================] - 19s 33ms/step - loss: 0.3880 - accuracy: 0.8691 - val_loss: 0.7961 - val_accuracy: 0.7654\n",
            "Epoch 7/20\n",
            "586/586 [==============================] - 20s 35ms/step - loss: 0.3017 - accuracy: 0.9001 - val_loss: 0.8713 - val_accuracy: 0.7527\n",
            "Epoch 8/20\n",
            "586/586 [==============================] - 19s 33ms/step - loss: 0.2401 - accuracy: 0.9206 - val_loss: 0.9598 - val_accuracy: 0.7538\n",
            "Epoch 9/20\n",
            "586/586 [==============================] - 22s 38ms/step - loss: 0.1884 - accuracy: 0.9382 - val_loss: 1.0227 - val_accuracy: 0.7546\n",
            "Epoch 10/20\n",
            "586/586 [==============================] - 22s 37ms/step - loss: 0.1520 - accuracy: 0.9503 - val_loss: 1.1069 - val_accuracy: 0.7558\n",
            "Epoch 11/20\n",
            "586/586 [==============================] - 20s 35ms/step - loss: 0.1312 - accuracy: 0.9577 - val_loss: 1.0712 - val_accuracy: 0.7590\n",
            "Epoch 12/20\n",
            "586/586 [==============================] - 19s 33ms/step - loss: 0.1137 - accuracy: 0.9629 - val_loss: 1.1361 - val_accuracy: 0.7571\n",
            "Epoch 13/20\n",
            "586/586 [==============================] - 19s 32ms/step - loss: 0.0995 - accuracy: 0.9671 - val_loss: 1.1488 - val_accuracy: 0.7554\n",
            "Epoch 14/20\n",
            "586/586 [==============================] - 19s 32ms/step - loss: 0.0871 - accuracy: 0.9724 - val_loss: 1.2055 - val_accuracy: 0.7592\n",
            "Epoch 15/20\n",
            "586/586 [==============================] - 20s 34ms/step - loss: 0.0778 - accuracy: 0.9758 - val_loss: 1.1984 - val_accuracy: 0.7613\n",
            "Epoch 16/20\n",
            "586/586 [==============================] - 22s 37ms/step - loss: 0.0744 - accuracy: 0.9777 - val_loss: 1.2496 - val_accuracy: 0.7630\n",
            "Epoch 17/20\n",
            "586/586 [==============================] - 19s 33ms/step - loss: 0.0726 - accuracy: 0.9776 - val_loss: 1.1303 - val_accuracy: 0.7586\n",
            "Epoch 18/20\n",
            "586/586 [==============================] - 19s 33ms/step - loss: 0.0596 - accuracy: 0.9817 - val_loss: 1.2951 - val_accuracy: 0.7560\n",
            "Epoch 19/20\n",
            "586/586 [==============================] - 23s 39ms/step - loss: 0.0642 - accuracy: 0.9794 - val_loss: 1.3659 - val_accuracy: 0.7419\n",
            "Epoch 20/20\n",
            "586/586 [==============================] - 19s 33ms/step - loss: 0.0621 - accuracy: 0.9802 - val_loss: 1.2475 - val_accuracy: 0.7582\n"
          ]
        }
      ]
    },
    {
      "cell_type": "markdown",
      "source": [
        "#### Model Prediction"
      ],
      "metadata": {
        "id": "FaKiDNCl22SF"
      }
    },
    {
      "cell_type": "code",
      "source": [
        "loss, accuracy = model_new.evaluate(X_test, y_test)"
      ],
      "metadata": {
        "colab": {
          "base_uri": "https://localhost:8080/"
        },
        "id": "XXiuNxMCiWBx",
        "outputId": "a2fc525b-476e-4f96-dce6-ca1f0c317e57"
      },
      "execution_count": 73,
      "outputs": [
        {
          "output_type": "stream",
          "name": "stdout",
          "text": [
            "313/313 [==============================] - 3s 11ms/step - loss: 1.2929 - accuracy: 0.7508\n"
          ]
        }
      ]
    },
    {
      "cell_type": "markdown",
      "source": [
        "### Model Evaluation"
      ],
      "metadata": {
        "id": "tfAjWgCnUDul"
      }
    },
    {
      "cell_type": "code",
      "source": [
        "# Ploting Accuracy and Loss (Training and Validation)\n",
        "\n",
        "acc = history_new.history['accuracy']\n",
        "val_acc = history_new.history['val_accuracy']\n",
        "loss = history_new.history['loss']\n",
        "val_loss = history_new.history['val_loss']\n",
        "\n",
        "plt.style.use('ggplot')\n",
        "plt.figure(figsize=(8, 8))\n",
        "\n",
        "plt.subplot(2, 1, 1)\n",
        "plt.plot(loss, label='Training Loss')\n",
        "plt.plot(val_loss, label='Validation Loss')\n",
        "plt.legend(loc='upper right')\n",
        "plt.ylabel('Loss')\n",
        "plt.ylim([0,5.0])\n",
        "plt.title('Training and Validation Loss')\n",
        "plt.xlabel('Epochs')\n",
        "\n",
        "plt.subplot(2, 1, 2)\n",
        "plt.plot(acc, label='Training Accuracy')\n",
        "plt.plot(val_acc, label='Validation Accuracy')\n",
        "plt.legend(loc='lower right')\n",
        "plt.ylabel('Accuracy')\n",
        "plt.xlabel('Epochs')\n",
        "plt.ylim([min(plt.ylim()),1])\n",
        "plt.title('Training and Validation Accuracy')\n",
        "\n",
        "plt.subplots_adjust(hspace=0.3) # Gap between suplots\n",
        "plt.show()"
      ],
      "metadata": {
        "colab": {
          "base_uri": "https://localhost:8080/",
          "height": 723
        },
        "id": "HbkR0KQ-Q2VS",
        "outputId": "03a11fba-7a05-42ba-c6f1-42a48e5260ef"
      },
      "execution_count": 75,
      "outputs": [
        {
          "output_type": "display_data",
          "data": {
            "text/plain": [
              "<Figure size 800x800 with 2 Axes>"
            ],
            "image/png": "[encoded data removed]"
          },
          "metadata": {}
        }
      ]
    },
    {
      "cell_type": "code",
      "source": [
        "#All in one Graph (loss and accuracy)\n",
        "plt.style.use('ggplot')\n",
        "plt.figure(figsize=(7, 3))\n",
        "plt.plot(history_new.history[\"accuracy\"])\n",
        "plt.plot(history_new.history[\"val_accuracy\"])\n",
        "plt.plot(history_new.history[\"loss\"])\n",
        "plt.plot(history_new.history[\"val_loss\"])\n",
        "plt.title(\"Model Evaluation\")\n",
        "plt.ylabel(\"Accuracy/Loss\")\n",
        "plt.xlabel(\"No. of Epochs\")\n",
        "plt.legend([\"Training Accuracy\",\"Validation Accuracy\",\"Training loss\",\"Validation loss\"], loc='center')\n",
        "plt.show()"
      ],
      "metadata": {
        "colab": {
          "base_uri": "https://localhost:8080/",
          "height": 338
        },
        "id": "sBCKwVqDQPnK",
        "outputId": "85459f55-a946-430a-d2f5-d33258badf48"
      },
      "execution_count": 79,
      "outputs": [
        {
          "output_type": "display_data",
          "data": {
            "text/plain": [
              "<Figure size 700x300 with 1 Axes>"
            ],
            "image/png": "[encoded data removed]"
          },
          "metadata": {}
        }
      ]
    },
    {
      "cell_type": "markdown",
      "source": [
        "### Model from Scratch"
      ],
      "metadata": {
        "id": "XS5qgrRmVA8r"
      }
    },
    {
      "cell_type": "code",
      "source": [
        "model = Sequential()\n",
        "\n",
        "model.add(Conv2D(256, (3, 3), activation='relu', input_shape=(32, 32, 3)))\n",
        "model.add(MaxPooling2D(pool_size=(2, 2)))\n",
        "model.add(Conv2D(512, (3, 3), activation='relu'))\n",
        "model.add(MaxPooling2D(pool_size=(2, 2)))\n",
        "model.add(Flatten())\n",
        "model.add(Dense(256, activation='relu'))\n",
        "model.add(Dropout(0.2))\n",
        "model.add(Dense(10, activation='softmax'))"
      ],
      "metadata": {
        "id": "UalvdTQVGB-j"
      },
      "execution_count": 92,
      "outputs": []
    },
    {
      "cell_type": "code",
      "source": [
        "# Compile the model\n",
        "model.compile(optimizer='adam', loss='categorical_crossentropy', metrics=['accuracy'])\n",
        "\n",
        "# Train the model\n",
        "hitory = model.fit(X_train, y_train, epochs=10, batch_size=64, validation_data=(X_val, y_val))"
      ],
      "metadata": {
        "colab": {
          "base_uri": "https://localhost:8080/"
        },
        "id": "rxT1lhMDGOKz",
        "outputId": "11df5483-1161-41f5-afa0-90a90e72f902"
      },
      "execution_count": 93,
      "outputs": [
        {
          "output_type": "stream",
          "name": "stdout",
          "text": [
            "Epoch 1/10\n",
            "586/586 [==============================] - 13s 21ms/step - loss: 1.4908 - accuracy: 0.4637 - val_loss: 1.1918 - val_accuracy: 0.5816\n",
            "Epoch 2/10\n",
            "586/586 [==============================] - 12s 20ms/step - loss: 1.1048 - accuracy: 0.6135 - val_loss: 1.0355 - val_accuracy: 0.6446\n",
            "Epoch 3/10\n",
            "586/586 [==============================] - 12s 20ms/step - loss: 0.9289 - accuracy: 0.6754 - val_loss: 0.9289 - val_accuracy: 0.6774\n",
            "Epoch 4/10\n",
            "586/586 [==============================] - 12s 20ms/step - loss: 0.8137 - accuracy: 0.7158 - val_loss: 0.8734 - val_accuracy: 0.7035\n",
            "Epoch 5/10\n",
            "586/586 [==============================] - 12s 20ms/step - loss: 0.7006 - accuracy: 0.7541 - val_loss: 0.8594 - val_accuracy: 0.7090\n",
            "Epoch 6/10\n",
            "586/586 [==============================] - 11s 20ms/step - loss: 0.6034 - accuracy: 0.7883 - val_loss: 0.8652 - val_accuracy: 0.7114\n",
            "Epoch 7/10\n",
            "586/586 [==============================] - 11s 19ms/step - loss: 0.5161 - accuracy: 0.8181 - val_loss: 0.8818 - val_accuracy: 0.7146\n",
            "Epoch 8/10\n",
            "586/586 [==============================] - 12s 20ms/step - loss: 0.4319 - accuracy: 0.8466 - val_loss: 0.9249 - val_accuracy: 0.7173\n",
            "Epoch 9/10\n",
            "586/586 [==============================] - 12s 20ms/step - loss: 0.3752 - accuracy: 0.8669 - val_loss: 0.9892 - val_accuracy: 0.7066\n",
            "Epoch 10/10\n",
            "586/586 [==============================] - 12s 20ms/step - loss: 0.3095 - accuracy: 0.8898 - val_loss: 1.0497 - val_accuracy: 0.7035\n"
          ]
        }
      ]
    },
    {
      "cell_type": "code",
      "source": [
        "# Evaluate the model\n",
        "score = model.evaluate(X_test, y_test)\n",
        "print(f'Test loss: {score[0]}')\n",
        "print(f'Test accuracy: {score[1]}')"
      ],
      "metadata": {
        "colab": {
          "base_uri": "https://localhost:8080/"
        },
        "id": "YZ1DWuJQGSm0",
        "outputId": "184a9b3d-de08-4b7b-e0bf-0dee58f455a0"
      },
      "execution_count": 94,
      "outputs": [
        {
          "output_type": "stream",
          "name": "stdout",
          "text": [
            "313/313 [==============================] - 2s 5ms/step - loss: 1.0624 - accuracy: 0.7001\n",
            "Test loss: 1.0624085664749146\n",
            "Test accuracy: 0.7001000046730042\n"
          ]
        }
      ]
    },
    {
      "cell_type": "code",
      "source": [
        "#All in one Graph (loss and accuracy)\n",
        "plt.style.use('ggplot')\n",
        "plt.figure(figsize=(7, 3))\n",
        "plt.plot(history.history[\"accuracy\"])\n",
        "plt.plot(history.history[\"val_accuracy\"])\n",
        "plt.plot(history.history[\"loss\"])\n",
        "plt.plot(history.history[\"val_loss\"])\n",
        "plt.title(\"Model Evaluation\")\n",
        "plt.ylabel(\"Accuracy/Loss\")\n",
        "plt.xlabel(\"No. of Epochs\")\n",
        "plt.legend([\"Training Accuracy\",\"Validation Accuracy\",\"Training loss\",\"Validation loss\"], loc='center')\n",
        "plt.show()"
      ],
      "metadata": {
        "colab": {
          "base_uri": "https://localhost:8080/",
          "height": 338
        },
        "id": "KzQ5_Nqa5tcV",
        "outputId": "907508d8-a12f-4b5c-9975-521b0987f430"
      },
      "execution_count": 95,
      "outputs": [
        {
          "output_type": "display_data",
          "data": {
            "text/plain": [
              "<Figure size 700x300 with 1 Axes>"
            ],
            "image/png": "[encoded data removed]"
          },
          "metadata": {}
        }
      ]
    },
    {
      "cell_type": "code",
      "source": [],
      "metadata": {
        "id": "QxN-8nuD65vF"
      },
      "execution_count": null,
      "outputs": []
    }
  ],
  "metadata": {
    "kernelspec": {
      "display_name": "Python 3",
      "name": "python3"
    },
    "language_info": {
      "name": "python"
    },
    "colab": {
      "provenance": [],
      "gpuType": "T4"
    },
    "accelerator": "GPU"
  },
  "nbformat": 4,
  "nbformat_minor": 0
}