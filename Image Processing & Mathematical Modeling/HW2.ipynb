{
 "cells": [
  {
   "cell_type": "markdown",
   "id": "4ec7fe0d-b2c3-47f8-a3c0-e2f807f60990",
   "metadata": {},
   "source": [
    "# Bishop’s University\n",
    "## Department of Computer Science\n",
    "### CS462-CS562 – Image Processing & Mathematical Modeling of Image\n",
    "### Winter 2024 – HW2\n"
   ]
  },
  {
   "cell_type": "markdown",
   "id": "a048dcdb-dbfa-4978-9634-25424e161bff",
   "metadata": {},
   "source": [
    "### Notes: \n",
    "1. Please provide your answer within the designated cells in the notebook. Do not create new cells.\n",
    "2. Ensure that you create the functions as specified. Failure to adhere to the requirements may result in a score of zero. Also, make sure to maintain the numbering of the questions as listed in the homework document."
   ]
  },
  {
   "cell_type": "code",
   "execution_count": null,
   "id": "63f9cb52-f8b1-4791-bd94-1d99bacccc6e",
   "metadata": {},
   "outputs": [],
   "source": [
    "# 1. load_image()\n"
   ]
  },
  {
   "cell_type": "code",
   "execution_count": null,
   "id": "6dfa14ce-1e85-4932-908b-6e6ac76ce92e",
   "metadata": {},
   "outputs": [],
   "source": [
    "# 2. add Gnnoise() # to add Gaussian noise\n",
    "        "
   ]
  },
  {
   "cell_type": "code",
   "execution_count": null,
   "id": "63f7e01a-8401-4e6a-98b0-acccae3dd1b0",
   "metadata": {},
   "outputs": [],
   "source": [
    "# 3. add_SPnoise() # to add SP noise"
   ]
  },
  {
   "cell_type": "code",
   "execution_count": null,
   "id": "99d563fc-bc10-42b7-b649-b3ddab7b206e",
   "metadata": {},
   "outputs": [],
   "source": [
    "# 4. filter_image()"
   ]
  },
  {
   "cell_type": "code",
   "execution_count": null,
   "id": "9488907f-2045-4724-88ea-5ee7d842d178",
   "metadata": {},
   "outputs": [],
   "source": [
    "# 5. psnr()"
   ]
  },
  {
   "cell_type": "code",
   "execution_count": null,
   "id": "22153e83-377e-48b9-a9f8-afcd0d291165",
   "metadata": {},
   "outputs": [],
   "source": [
    "# 6. laod_image()"
   ]
  },
  {
   "cell_type": "code",
   "execution_count": null,
   "id": "64318ee5-a370-4cf0-b861-268c9b1500d7",
   "metadata": {},
   "outputs": [],
   "source": [
    "# 7. add_Gnoise()  # add a noise"
   ]
  },
  {
   "cell_type": "code",
   "execution_count": null,
   "id": "e351f410-fe66-4ecd-9024-18da39905201",
   "metadata": {},
   "outputs": [],
   "source": [
    "# 8. Display the original images and their corresponding noisy images. "
   ]
  },
  {
   "cell_type": "code",
   "execution_count": null,
   "id": "ee2c34d2-885b-45c1-96f0-c1285d92f915",
   "metadata": {},
   "outputs": [],
   "source": [
    "# 9. filter_image() # to filter an image. Use the three filters."
   ]
  },
  {
   "cell_type": "code",
   "execution_count": null,
   "id": "f7901af2-6978-4955-8925-e49990a592a3",
   "metadata": {},
   "outputs": [],
   "source": [
    "# 10.  Display the Boat noisy image with different levels of noise, and the filtered images"
   ]
  },
  {
   "cell_type": "code",
   "execution_count": null,
   "id": "5e55ac7e-f25b-4ed6-ac38-fbf624316f09",
   "metadata": {},
   "outputs": [],
   "source": [
    "# 11.  a) Display Lena noisy image with different levels of noise, and the filtered images"
   ]
  },
  {
   "cell_type": "code",
   "execution_count": null,
   "id": "8d443f8e-6ff9-4791-8160-e08881a3217d",
   "metadata": {},
   "outputs": [],
   "source": [
    "# 11.  b) Display Madrill noisy image with different levels of noise, and the filtered images"
   ]
  },
  {
   "cell_type": "code",
   "execution_count": null,
   "id": "be397a9b-f94d-4518-90e4-1dde92aa559f",
   "metadata": {},
   "outputs": [],
   "source": [
    "# 12. add_SPnoise() # to add SP noise"
   ]
  },
  {
   "cell_type": "code",
   "execution_count": null,
   "id": "8e5e8b7f-8ce5-4ef8-995f-504c2f055b9a",
   "metadata": {},
   "outputs": [],
   "source": [
    "# 13. a) Display the original images and their corresponding noisy images. "
   ]
  },
  {
   "cell_type": "code",
   "execution_count": null,
   "id": "c22d20d8-6442-4039-97bd-1d775ea32ee7",
   "metadata": {},
   "outputs": [],
   "source": [
    "# 13. b)  filter_image() # to filter an image. Use the three filters."
   ]
  },
  {
   "cell_type": "code",
   "execution_count": null,
   "id": "51e6473c-1d5a-4166-8f2e-066ab43fd71b",
   "metadata": {},
   "outputs": [],
   "source": [
    "# 13. c) Display the Boat noisy image with different levels of noise, and the filtered images"
   ]
  },
  {
   "cell_type": "code",
   "execution_count": null,
   "id": "7dc94c36-d4de-4989-adae-45f918e50aa3",
   "metadata": {},
   "outputs": [],
   "source": [
    "# 13. d) Display Lena noisy image with different levels of noise, and the filtered images"
   ]
  },
  {
   "cell_type": "code",
   "execution_count": null,
   "id": "e50b3222-39ec-4524-8f57-4b0f0b23162e",
   "metadata": {},
   "outputs": [],
   "source": [
    "# 13. e) Display Madrill noisy image with different levels of noise, and the filtered images"
   ]
  },
  {
   "cell_type": "code",
   "execution_count": null,
   "id": "dece0553-e5e7-4e4a-be70-6481395aaece",
   "metadata": {},
   "outputs": [],
   "source": [
    "# 14. smooth_image() # to smooth Mandrill image"
   ]
  },
  {
   "cell_type": "code",
   "execution_count": null,
   "id": "1c10c6f1-adc3-48e7-a482-b4afd830fabd",
   "metadata": {},
   "outputs": [],
   "source": [
    "# 15. Laplace_sharpening() # to sharpen the image"
   ]
  },
  {
   "cell_type": "code",
   "execution_count": null,
   "id": "43fb8cdd-c5fa-436c-a0f6-7fbdde102dad",
   "metadata": {},
   "outputs": [],
   "source": [
    "# 16. Present various smoothed and sharpened images, showcasing different parameter values."
   ]
  }
 ],
 "metadata": {
  "kernelspec": {
   "display_name": "Python 3 (ipykernel)",
   "language": "python",
   "name": "python3"
  },
  "language_info": {
   "codemirror_mode": {
    "name": "ipython",
    "version": 3
   },
   "file_extension": ".py",
   "mimetype": "text/x-python",
   "name": "python",
   "nbconvert_exporter": "python",
   "pygments_lexer": "ipython3",
   "version": "3.11.5"
  }
 },
 "nbformat": 4,
 "nbformat_minor": 5
}
